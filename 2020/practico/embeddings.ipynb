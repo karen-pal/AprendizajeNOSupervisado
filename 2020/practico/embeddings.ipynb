{
 "cells": [
  {
   "cell_type": "markdown",
   "metadata": {},
   "source": [
    "> \" Let’s start by demystifying one thing: players are no more than numbers. Although EA Works hard to make us believe the players have unique identities, here’s the truth: they’re mere numbers and should be analysed as such. We do know this isn’t quite easy to accept for people who have experienced unique moments that once connected them emotionally to the players. Deep down it’s good to believe they’re something more than numbers, but doing that is just avoiding the truth, sadly. \" - [Source](https://www.fifauteam.com/choose-players-fifa-20-ultimate-team/#Attributes)"
   ]
  },
  {
   "cell_type": "markdown",
   "metadata": {},
   "source": [
    "<img src=\"imgs/attrs.png\"/>"
   ]
  },
  {
   "cell_type": "markdown",
   "metadata": {},
   "source": [
    "# Dataset\n",
    "\n",
    "-    Every player available in FIFA 20\n",
    "-    100+ attributes\n",
    "-    URL of the scraped player\n",
    "-    Player positions, with the role in the club and in the national team\n",
    "-    Player attributes with statistics as Attacking, Skills, Defense, Mentality, GK Skills, etc.\n",
    "-    Player personal data like Nationality, Club, DateOfBirth, Wage, Salary, etc.\n"
   ]
  },
  {
   "cell_type": "markdown",
   "metadata": {},
   "source": [
    "# Links\n",
    "\n",
    "- [FIFA 20 Player attributes](https://www.fifauteam.com/fifa-20-attributes-guide/)\n",
    "- [Slides](https://sites.google.com/view/aprendizaje-no-supervisado/)\n",
    "- [Data source - sofifa page](https://sofifa.com/)\n",
    "- [Some cool explorations on the FIFA18 dataset. No code](https://github.com/4m4n5/fifa18-all-player-statistics)\n",
    "- [Cool exploration FIFA18 WITH CODE](https://github.com/YarkoKhamar/DAProject/blob/master/ExploratoryAnalysis.ipynb)"
   ]
  },
  {
   "cell_type": "code",
   "execution_count": 2,
   "metadata": {},
   "outputs": [],
   "source": [
    "import numpy as np\n",
    "import pandas as pd\n",
    "pd.set_option('display.max_columns',100)\n",
    "pd.set_option('display.max_rows',1000)\n",
    "import itertools\n",
    "import warnings\n",
    "warnings.filterwarnings(\"ignore\")\n",
    "import io"
   ]
  },
  {
   "cell_type": "code",
   "execution_count": 1,
   "metadata": {},
   "outputs": [
    {
     "data": {
      "text/html": [
       "        <script type=\"text/javascript\">\n",
       "        window.PlotlyConfig = {MathJaxConfig: 'local'};\n",
       "        if (window.MathJax) {MathJax.Hub.Config({SVG: {font: \"STIX-Web\"}});}\n",
       "        if (typeof require !== 'undefined') {\n",
       "        require.undef(\"plotly\");\n",
       "        requirejs.config({\n",
       "            paths: {\n",
       "                'plotly': ['https://cdn.plot.ly/plotly-latest.min']\n",
       "            }\n",
       "        });\n",
       "        require(['plotly'], function(Plotly) {\n",
       "            window._Plotly = Plotly;\n",
       "        });\n",
       "        }\n",
       "        </script>\n",
       "        "
      ]
     },
     "metadata": {},
     "output_type": "display_data"
    }
   ],
   "source": [
    "from plotly.offline import init_notebook_mode, plot,iplot\n",
    "import plotly.graph_objs as go\n",
    "init_notebook_mode(connected=True)\n",
    "import matplotlib.pyplot as plt\n",
    "import plotly.tools as tls#visualization\n",
    "import plotly.figure_factory as ff#visualization\n",
    "import seaborn as sns"
   ]
  },
  {
   "cell_type": "code",
   "execution_count": 215,
   "metadata": {},
   "outputs": [
    {
     "data": {
      "text/html": [
       "<div>\n",
       "<style scoped>\n",
       "    .dataframe tbody tr th:only-of-type {\n",
       "        vertical-align: middle;\n",
       "    }\n",
       "\n",
       "    .dataframe tbody tr th {\n",
       "        vertical-align: top;\n",
       "    }\n",
       "\n",
       "    .dataframe thead th {\n",
       "        text-align: right;\n",
       "    }\n",
       "</style>\n",
       "<table border=\"1\" class=\"dataframe\">\n",
       "  <thead>\n",
       "    <tr style=\"text-align: right;\">\n",
       "      <th></th>\n",
       "      <th>sofifa_id</th>\n",
       "      <th>age</th>\n",
       "      <th>height_cm</th>\n",
       "      <th>weight_kg</th>\n",
       "      <th>overall</th>\n",
       "      <th>potential</th>\n",
       "      <th>value_eur</th>\n",
       "      <th>wage_eur</th>\n",
       "      <th>international_reputation</th>\n",
       "      <th>weak_foot</th>\n",
       "      <th>skill_moves</th>\n",
       "      <th>release_clause_eur</th>\n",
       "      <th>team_jersey_number</th>\n",
       "      <th>contract_valid_until</th>\n",
       "      <th>nation_jersey_number</th>\n",
       "      <th>pace</th>\n",
       "      <th>shooting</th>\n",
       "      <th>passing</th>\n",
       "      <th>dribbling</th>\n",
       "      <th>defending</th>\n",
       "      <th>physic</th>\n",
       "      <th>gk_diving</th>\n",
       "      <th>gk_handling</th>\n",
       "      <th>gk_kicking</th>\n",
       "      <th>gk_reflexes</th>\n",
       "      <th>gk_speed</th>\n",
       "      <th>gk_positioning</th>\n",
       "      <th>attacking_crossing</th>\n",
       "      <th>attacking_finishing</th>\n",
       "      <th>attacking_heading_accuracy</th>\n",
       "      <th>attacking_short_passing</th>\n",
       "      <th>attacking_volleys</th>\n",
       "      <th>skill_dribbling</th>\n",
       "      <th>skill_curve</th>\n",
       "      <th>skill_fk_accuracy</th>\n",
       "      <th>skill_long_passing</th>\n",
       "      <th>skill_ball_control</th>\n",
       "      <th>movement_acceleration</th>\n",
       "      <th>movement_sprint_speed</th>\n",
       "      <th>movement_agility</th>\n",
       "      <th>movement_reactions</th>\n",
       "      <th>movement_balance</th>\n",
       "      <th>power_shot_power</th>\n",
       "      <th>power_jumping</th>\n",
       "      <th>power_stamina</th>\n",
       "      <th>power_strength</th>\n",
       "      <th>power_long_shots</th>\n",
       "      <th>mentality_aggression</th>\n",
       "      <th>mentality_interceptions</th>\n",
       "      <th>mentality_positioning</th>\n",
       "      <th>mentality_vision</th>\n",
       "      <th>mentality_penalties</th>\n",
       "      <th>mentality_composure</th>\n",
       "      <th>defending_marking</th>\n",
       "      <th>defending_standing_tackle</th>\n",
       "      <th>defending_sliding_tackle</th>\n",
       "      <th>goalkeeping_diving</th>\n",
       "      <th>goalkeeping_handling</th>\n",
       "      <th>goalkeeping_kicking</th>\n",
       "      <th>goalkeeping_positioning</th>\n",
       "      <th>goalkeeping_reflexes</th>\n",
       "    </tr>\n",
       "  </thead>\n",
       "  <tbody>\n",
       "    <tr>\n",
       "      <th>count</th>\n",
       "      <td>18278.000000</td>\n",
       "      <td>18278.000000</td>\n",
       "      <td>18278.000000</td>\n",
       "      <td>18278.000000</td>\n",
       "      <td>18278.000000</td>\n",
       "      <td>18278.000000</td>\n",
       "      <td>1.827800e+04</td>\n",
       "      <td>18278.000000</td>\n",
       "      <td>18278.000000</td>\n",
       "      <td>18278.000000</td>\n",
       "      <td>18278.000000</td>\n",
       "      <td>1.698000e+04</td>\n",
       "      <td>18038.000000</td>\n",
       "      <td>18038.000000</td>\n",
       "      <td>1126.000000</td>\n",
       "      <td>16242.000000</td>\n",
       "      <td>16242.000000</td>\n",
       "      <td>16242.000000</td>\n",
       "      <td>16242.000000</td>\n",
       "      <td>16242.000000</td>\n",
       "      <td>16242.000000</td>\n",
       "      <td>2036.000000</td>\n",
       "      <td>2036.000000</td>\n",
       "      <td>2036.000000</td>\n",
       "      <td>2036.000000</td>\n",
       "      <td>2036.000000</td>\n",
       "      <td>2036.000000</td>\n",
       "      <td>18278.000000</td>\n",
       "      <td>18278.000000</td>\n",
       "      <td>18278.000000</td>\n",
       "      <td>18278.000000</td>\n",
       "      <td>18278.000000</td>\n",
       "      <td>18278.000000</td>\n",
       "      <td>18278.000000</td>\n",
       "      <td>18278.000000</td>\n",
       "      <td>18278.000000</td>\n",
       "      <td>18278.000000</td>\n",
       "      <td>18278.000000</td>\n",
       "      <td>18278.000000</td>\n",
       "      <td>18278.000000</td>\n",
       "      <td>18278.000000</td>\n",
       "      <td>18278.000000</td>\n",
       "      <td>18278.000000</td>\n",
       "      <td>18278.000000</td>\n",
       "      <td>18278.000000</td>\n",
       "      <td>18278.000000</td>\n",
       "      <td>18278.000000</td>\n",
       "      <td>18278.000000</td>\n",
       "      <td>18278.000000</td>\n",
       "      <td>18278.000000</td>\n",
       "      <td>18278.000000</td>\n",
       "      <td>18278.000000</td>\n",
       "      <td>18278.000000</td>\n",
       "      <td>18278.000000</td>\n",
       "      <td>18278.000000</td>\n",
       "      <td>18278.000000</td>\n",
       "      <td>18278.000000</td>\n",
       "      <td>18278.000000</td>\n",
       "      <td>18278.000000</td>\n",
       "      <td>18278.000000</td>\n",
       "      <td>18278.000000</td>\n",
       "    </tr>\n",
       "    <tr>\n",
       "      <th>mean</th>\n",
       "      <td>219738.864482</td>\n",
       "      <td>25.283291</td>\n",
       "      <td>181.362184</td>\n",
       "      <td>75.276343</td>\n",
       "      <td>66.244994</td>\n",
       "      <td>71.546887</td>\n",
       "      <td>2.484038e+06</td>\n",
       "      <td>9456.942773</td>\n",
       "      <td>1.103184</td>\n",
       "      <td>2.944250</td>\n",
       "      <td>2.368038</td>\n",
       "      <td>4.740717e+06</td>\n",
       "      <td>20.103892</td>\n",
       "      <td>2021.114591</td>\n",
       "      <td>12.114565</td>\n",
       "      <td>67.700899</td>\n",
       "      <td>52.298301</td>\n",
       "      <td>57.233777</td>\n",
       "      <td>62.531585</td>\n",
       "      <td>51.553503</td>\n",
       "      <td>64.876678</td>\n",
       "      <td>65.422397</td>\n",
       "      <td>63.146365</td>\n",
       "      <td>61.832515</td>\n",
       "      <td>66.390472</td>\n",
       "      <td>37.798625</td>\n",
       "      <td>63.374754</td>\n",
       "      <td>49.718405</td>\n",
       "      <td>45.590218</td>\n",
       "      <td>52.221468</td>\n",
       "      <td>58.748003</td>\n",
       "      <td>42.809388</td>\n",
       "      <td>55.596509</td>\n",
       "      <td>47.325692</td>\n",
       "      <td>42.708885</td>\n",
       "      <td>52.768848</td>\n",
       "      <td>58.461976</td>\n",
       "      <td>64.299923</td>\n",
       "      <td>64.415746</td>\n",
       "      <td>63.504924</td>\n",
       "      <td>61.752544</td>\n",
       "      <td>63.856439</td>\n",
       "      <td>58.181694</td>\n",
       "      <td>64.928165</td>\n",
       "      <td>62.889485</td>\n",
       "      <td>65.234763</td>\n",
       "      <td>46.812945</td>\n",
       "      <td>55.742149</td>\n",
       "      <td>46.380239</td>\n",
       "      <td>50.072163</td>\n",
       "      <td>53.609749</td>\n",
       "      <td>48.383357</td>\n",
       "      <td>58.528778</td>\n",
       "      <td>46.848889</td>\n",
       "      <td>47.640333</td>\n",
       "      <td>45.606631</td>\n",
       "      <td>16.572765</td>\n",
       "      <td>16.354853</td>\n",
       "      <td>16.212934</td>\n",
       "      <td>16.368038</td>\n",
       "      <td>16.709924</td>\n",
       "    </tr>\n",
       "    <tr>\n",
       "      <th>std</th>\n",
       "      <td>27960.200461</td>\n",
       "      <td>4.656964</td>\n",
       "      <td>6.756961</td>\n",
       "      <td>7.047744</td>\n",
       "      <td>6.949953</td>\n",
       "      <td>6.139669</td>\n",
       "      <td>5.585481e+06</td>\n",
       "      <td>21351.714095</td>\n",
       "      <td>0.378861</td>\n",
       "      <td>0.664656</td>\n",
       "      <td>0.765038</td>\n",
       "      <td>1.103002e+07</td>\n",
       "      <td>16.603639</td>\n",
       "      <td>1.289888</td>\n",
       "      <td>6.735922</td>\n",
       "      <td>11.297656</td>\n",
       "      <td>14.029418</td>\n",
       "      <td>10.407844</td>\n",
       "      <td>10.284950</td>\n",
       "      <td>16.419528</td>\n",
       "      <td>9.760162</td>\n",
       "      <td>7.736278</td>\n",
       "      <td>7.244023</td>\n",
       "      <td>7.510709</td>\n",
       "      <td>8.154062</td>\n",
       "      <td>10.634038</td>\n",
       "      <td>8.447876</td>\n",
       "      <td>18.325403</td>\n",
       "      <td>19.594609</td>\n",
       "      <td>17.428429</td>\n",
       "      <td>14.679653</td>\n",
       "      <td>17.701815</td>\n",
       "      <td>18.929118</td>\n",
       "      <td>18.422991</td>\n",
       "      <td>17.433612</td>\n",
       "      <td>15.246454</td>\n",
       "      <td>16.741878</td>\n",
       "      <td>15.042232</td>\n",
       "      <td>14.847763</td>\n",
       "      <td>14.808380</td>\n",
       "      <td>9.135613</td>\n",
       "      <td>14.201559</td>\n",
       "      <td>13.326083</td>\n",
       "      <td>11.934059</td>\n",
       "      <td>16.017954</td>\n",
       "      <td>12.534811</td>\n",
       "      <td>19.322343</td>\n",
       "      <td>17.318157</td>\n",
       "      <td>20.775812</td>\n",
       "      <td>19.594022</td>\n",
       "      <td>13.955626</td>\n",
       "      <td>15.708099</td>\n",
       "      <td>11.880840</td>\n",
       "      <td>20.091287</td>\n",
       "      <td>21.585641</td>\n",
       "      <td>21.217734</td>\n",
       "      <td>17.738069</td>\n",
       "      <td>16.996925</td>\n",
       "      <td>16.613665</td>\n",
       "      <td>17.136497</td>\n",
       "      <td>18.038125</td>\n",
       "    </tr>\n",
       "    <tr>\n",
       "      <th>min</th>\n",
       "      <td>768.000000</td>\n",
       "      <td>16.000000</td>\n",
       "      <td>156.000000</td>\n",
       "      <td>50.000000</td>\n",
       "      <td>48.000000</td>\n",
       "      <td>49.000000</td>\n",
       "      <td>0.000000e+00</td>\n",
       "      <td>0.000000</td>\n",
       "      <td>1.000000</td>\n",
       "      <td>1.000000</td>\n",
       "      <td>1.000000</td>\n",
       "      <td>1.300000e+04</td>\n",
       "      <td>1.000000</td>\n",
       "      <td>2019.000000</td>\n",
       "      <td>1.000000</td>\n",
       "      <td>24.000000</td>\n",
       "      <td>15.000000</td>\n",
       "      <td>24.000000</td>\n",
       "      <td>23.000000</td>\n",
       "      <td>15.000000</td>\n",
       "      <td>27.000000</td>\n",
       "      <td>44.000000</td>\n",
       "      <td>42.000000</td>\n",
       "      <td>35.000000</td>\n",
       "      <td>45.000000</td>\n",
       "      <td>12.000000</td>\n",
       "      <td>41.000000</td>\n",
       "      <td>5.000000</td>\n",
       "      <td>2.000000</td>\n",
       "      <td>5.000000</td>\n",
       "      <td>7.000000</td>\n",
       "      <td>3.000000</td>\n",
       "      <td>4.000000</td>\n",
       "      <td>6.000000</td>\n",
       "      <td>4.000000</td>\n",
       "      <td>8.000000</td>\n",
       "      <td>5.000000</td>\n",
       "      <td>12.000000</td>\n",
       "      <td>11.000000</td>\n",
       "      <td>11.000000</td>\n",
       "      <td>21.000000</td>\n",
       "      <td>12.000000</td>\n",
       "      <td>14.000000</td>\n",
       "      <td>19.000000</td>\n",
       "      <td>12.000000</td>\n",
       "      <td>20.000000</td>\n",
       "      <td>4.000000</td>\n",
       "      <td>9.000000</td>\n",
       "      <td>3.000000</td>\n",
       "      <td>2.000000</td>\n",
       "      <td>9.000000</td>\n",
       "      <td>7.000000</td>\n",
       "      <td>12.000000</td>\n",
       "      <td>1.000000</td>\n",
       "      <td>5.000000</td>\n",
       "      <td>3.000000</td>\n",
       "      <td>1.000000</td>\n",
       "      <td>1.000000</td>\n",
       "      <td>1.000000</td>\n",
       "      <td>1.000000</td>\n",
       "      <td>1.000000</td>\n",
       "    </tr>\n",
       "    <tr>\n",
       "      <th>25%</th>\n",
       "      <td>204445.500000</td>\n",
       "      <td>22.000000</td>\n",
       "      <td>177.000000</td>\n",
       "      <td>70.000000</td>\n",
       "      <td>62.000000</td>\n",
       "      <td>67.000000</td>\n",
       "      <td>3.250000e+05</td>\n",
       "      <td>1000.000000</td>\n",
       "      <td>1.000000</td>\n",
       "      <td>3.000000</td>\n",
       "      <td>2.000000</td>\n",
       "      <td>5.630000e+05</td>\n",
       "      <td>9.000000</td>\n",
       "      <td>2020.000000</td>\n",
       "      <td>6.000000</td>\n",
       "      <td>61.000000</td>\n",
       "      <td>42.000000</td>\n",
       "      <td>50.000000</td>\n",
       "      <td>57.000000</td>\n",
       "      <td>36.000000</td>\n",
       "      <td>59.000000</td>\n",
       "      <td>60.000000</td>\n",
       "      <td>58.000000</td>\n",
       "      <td>57.000000</td>\n",
       "      <td>60.750000</td>\n",
       "      <td>29.000000</td>\n",
       "      <td>58.000000</td>\n",
       "      <td>38.000000</td>\n",
       "      <td>30.000000</td>\n",
       "      <td>44.000000</td>\n",
       "      <td>54.000000</td>\n",
       "      <td>30.000000</td>\n",
       "      <td>50.000000</td>\n",
       "      <td>34.000000</td>\n",
       "      <td>31.000000</td>\n",
       "      <td>43.000000</td>\n",
       "      <td>54.000000</td>\n",
       "      <td>56.000000</td>\n",
       "      <td>57.000000</td>\n",
       "      <td>55.000000</td>\n",
       "      <td>56.000000</td>\n",
       "      <td>56.000000</td>\n",
       "      <td>48.000000</td>\n",
       "      <td>58.000000</td>\n",
       "      <td>56.000000</td>\n",
       "      <td>58.000000</td>\n",
       "      <td>32.000000</td>\n",
       "      <td>44.000000</td>\n",
       "      <td>25.000000</td>\n",
       "      <td>39.000000</td>\n",
       "      <td>44.000000</td>\n",
       "      <td>39.000000</td>\n",
       "      <td>51.000000</td>\n",
       "      <td>29.000000</td>\n",
       "      <td>27.000000</td>\n",
       "      <td>24.000000</td>\n",
       "      <td>8.000000</td>\n",
       "      <td>8.000000</td>\n",
       "      <td>8.000000</td>\n",
       "      <td>8.000000</td>\n",
       "      <td>8.000000</td>\n",
       "    </tr>\n",
       "    <tr>\n",
       "      <th>50%</th>\n",
       "      <td>226165.000000</td>\n",
       "      <td>25.000000</td>\n",
       "      <td>181.000000</td>\n",
       "      <td>75.000000</td>\n",
       "      <td>66.000000</td>\n",
       "      <td>71.000000</td>\n",
       "      <td>7.000000e+05</td>\n",
       "      <td>3000.000000</td>\n",
       "      <td>1.000000</td>\n",
       "      <td>3.000000</td>\n",
       "      <td>2.000000</td>\n",
       "      <td>1.200000e+06</td>\n",
       "      <td>17.000000</td>\n",
       "      <td>2021.000000</td>\n",
       "      <td>12.000000</td>\n",
       "      <td>69.000000</td>\n",
       "      <td>54.000000</td>\n",
       "      <td>58.000000</td>\n",
       "      <td>64.000000</td>\n",
       "      <td>56.000000</td>\n",
       "      <td>66.000000</td>\n",
       "      <td>65.000000</td>\n",
       "      <td>63.000000</td>\n",
       "      <td>61.000000</td>\n",
       "      <td>66.000000</td>\n",
       "      <td>39.000000</td>\n",
       "      <td>64.000000</td>\n",
       "      <td>54.000000</td>\n",
       "      <td>49.000000</td>\n",
       "      <td>56.000000</td>\n",
       "      <td>62.000000</td>\n",
       "      <td>44.000000</td>\n",
       "      <td>61.000000</td>\n",
       "      <td>49.000000</td>\n",
       "      <td>41.000000</td>\n",
       "      <td>56.000000</td>\n",
       "      <td>63.000000</td>\n",
       "      <td>67.000000</td>\n",
       "      <td>67.000000</td>\n",
       "      <td>66.000000</td>\n",
       "      <td>62.000000</td>\n",
       "      <td>66.000000</td>\n",
       "      <td>59.000000</td>\n",
       "      <td>66.000000</td>\n",
       "      <td>66.000000</td>\n",
       "      <td>66.000000</td>\n",
       "      <td>51.000000</td>\n",
       "      <td>58.000000</td>\n",
       "      <td>52.000000</td>\n",
       "      <td>55.000000</td>\n",
       "      <td>55.000000</td>\n",
       "      <td>49.000000</td>\n",
       "      <td>60.000000</td>\n",
       "      <td>52.000000</td>\n",
       "      <td>55.000000</td>\n",
       "      <td>52.000000</td>\n",
       "      <td>11.000000</td>\n",
       "      <td>11.000000</td>\n",
       "      <td>11.000000</td>\n",
       "      <td>11.000000</td>\n",
       "      <td>11.000000</td>\n",
       "    </tr>\n",
       "    <tr>\n",
       "      <th>75%</th>\n",
       "      <td>240795.750000</td>\n",
       "      <td>29.000000</td>\n",
       "      <td>186.000000</td>\n",
       "      <td>80.000000</td>\n",
       "      <td>71.000000</td>\n",
       "      <td>75.000000</td>\n",
       "      <td>2.100000e+06</td>\n",
       "      <td>8000.000000</td>\n",
       "      <td>1.000000</td>\n",
       "      <td>3.000000</td>\n",
       "      <td>3.000000</td>\n",
       "      <td>3.700000e+06</td>\n",
       "      <td>27.000000</td>\n",
       "      <td>2022.000000</td>\n",
       "      <td>18.000000</td>\n",
       "      <td>75.000000</td>\n",
       "      <td>63.000000</td>\n",
       "      <td>64.000000</td>\n",
       "      <td>69.000000</td>\n",
       "      <td>65.000000</td>\n",
       "      <td>72.000000</td>\n",
       "      <td>70.000000</td>\n",
       "      <td>68.000000</td>\n",
       "      <td>66.000000</td>\n",
       "      <td>72.000000</td>\n",
       "      <td>46.000000</td>\n",
       "      <td>69.000000</td>\n",
       "      <td>64.000000</td>\n",
       "      <td>62.000000</td>\n",
       "      <td>64.000000</td>\n",
       "      <td>68.000000</td>\n",
       "      <td>56.000000</td>\n",
       "      <td>68.000000</td>\n",
       "      <td>62.000000</td>\n",
       "      <td>56.000000</td>\n",
       "      <td>64.000000</td>\n",
       "      <td>69.000000</td>\n",
       "      <td>75.000000</td>\n",
       "      <td>75.000000</td>\n",
       "      <td>74.000000</td>\n",
       "      <td>68.000000</td>\n",
       "      <td>74.000000</td>\n",
       "      <td>68.000000</td>\n",
       "      <td>73.000000</td>\n",
       "      <td>74.000000</td>\n",
       "      <td>74.000000</td>\n",
       "      <td>62.000000</td>\n",
       "      <td>69.000000</td>\n",
       "      <td>64.000000</td>\n",
       "      <td>64.000000</td>\n",
       "      <td>64.000000</td>\n",
       "      <td>60.000000</td>\n",
       "      <td>67.000000</td>\n",
       "      <td>64.000000</td>\n",
       "      <td>66.000000</td>\n",
       "      <td>64.000000</td>\n",
       "      <td>14.000000</td>\n",
       "      <td>14.000000</td>\n",
       "      <td>14.000000</td>\n",
       "      <td>14.000000</td>\n",
       "      <td>14.000000</td>\n",
       "    </tr>\n",
       "    <tr>\n",
       "      <th>max</th>\n",
       "      <td>252905.000000</td>\n",
       "      <td>42.000000</td>\n",
       "      <td>205.000000</td>\n",
       "      <td>110.000000</td>\n",
       "      <td>94.000000</td>\n",
       "      <td>95.000000</td>\n",
       "      <td>1.055000e+08</td>\n",
       "      <td>565000.000000</td>\n",
       "      <td>5.000000</td>\n",
       "      <td>5.000000</td>\n",
       "      <td>5.000000</td>\n",
       "      <td>1.958000e+08</td>\n",
       "      <td>99.000000</td>\n",
       "      <td>2026.000000</td>\n",
       "      <td>30.000000</td>\n",
       "      <td>96.000000</td>\n",
       "      <td>93.000000</td>\n",
       "      <td>92.000000</td>\n",
       "      <td>96.000000</td>\n",
       "      <td>90.000000</td>\n",
       "      <td>90.000000</td>\n",
       "      <td>90.000000</td>\n",
       "      <td>92.000000</td>\n",
       "      <td>93.000000</td>\n",
       "      <td>92.000000</td>\n",
       "      <td>65.000000</td>\n",
       "      <td>91.000000</td>\n",
       "      <td>93.000000</td>\n",
       "      <td>95.000000</td>\n",
       "      <td>93.000000</td>\n",
       "      <td>92.000000</td>\n",
       "      <td>90.000000</td>\n",
       "      <td>97.000000</td>\n",
       "      <td>94.000000</td>\n",
       "      <td>94.000000</td>\n",
       "      <td>92.000000</td>\n",
       "      <td>96.000000</td>\n",
       "      <td>97.000000</td>\n",
       "      <td>96.000000</td>\n",
       "      <td>96.000000</td>\n",
       "      <td>96.000000</td>\n",
       "      <td>97.000000</td>\n",
       "      <td>95.000000</td>\n",
       "      <td>95.000000</td>\n",
       "      <td>97.000000</td>\n",
       "      <td>97.000000</td>\n",
       "      <td>94.000000</td>\n",
       "      <td>95.000000</td>\n",
       "      <td>92.000000</td>\n",
       "      <td>95.000000</td>\n",
       "      <td>94.000000</td>\n",
       "      <td>92.000000</td>\n",
       "      <td>96.000000</td>\n",
       "      <td>94.000000</td>\n",
       "      <td>92.000000</td>\n",
       "      <td>90.000000</td>\n",
       "      <td>90.000000</td>\n",
       "      <td>92.000000</td>\n",
       "      <td>93.000000</td>\n",
       "      <td>91.000000</td>\n",
       "      <td>92.000000</td>\n",
       "    </tr>\n",
       "  </tbody>\n",
       "</table>\n",
       "</div>"
      ],
      "text/plain": [
       "           sofifa_id           age     height_cm     weight_kg       overall  \\\n",
       "count   18278.000000  18278.000000  18278.000000  18278.000000  18278.000000   \n",
       "mean   219738.864482     25.283291    181.362184     75.276343     66.244994   \n",
       "std     27960.200461      4.656964      6.756961      7.047744      6.949953   \n",
       "min       768.000000     16.000000    156.000000     50.000000     48.000000   \n",
       "25%    204445.500000     22.000000    177.000000     70.000000     62.000000   \n",
       "50%    226165.000000     25.000000    181.000000     75.000000     66.000000   \n",
       "75%    240795.750000     29.000000    186.000000     80.000000     71.000000   \n",
       "max    252905.000000     42.000000    205.000000    110.000000     94.000000   \n",
       "\n",
       "          potential     value_eur       wage_eur  international_reputation  \\\n",
       "count  18278.000000  1.827800e+04   18278.000000              18278.000000   \n",
       "mean      71.546887  2.484038e+06    9456.942773                  1.103184   \n",
       "std        6.139669  5.585481e+06   21351.714095                  0.378861   \n",
       "min       49.000000  0.000000e+00       0.000000                  1.000000   \n",
       "25%       67.000000  3.250000e+05    1000.000000                  1.000000   \n",
       "50%       71.000000  7.000000e+05    3000.000000                  1.000000   \n",
       "75%       75.000000  2.100000e+06    8000.000000                  1.000000   \n",
       "max       95.000000  1.055000e+08  565000.000000                  5.000000   \n",
       "\n",
       "          weak_foot   skill_moves  release_clause_eur  team_jersey_number  \\\n",
       "count  18278.000000  18278.000000        1.698000e+04        18038.000000   \n",
       "mean       2.944250      2.368038        4.740717e+06           20.103892   \n",
       "std        0.664656      0.765038        1.103002e+07           16.603639   \n",
       "min        1.000000      1.000000        1.300000e+04            1.000000   \n",
       "25%        3.000000      2.000000        5.630000e+05            9.000000   \n",
       "50%        3.000000      2.000000        1.200000e+06           17.000000   \n",
       "75%        3.000000      3.000000        3.700000e+06           27.000000   \n",
       "max        5.000000      5.000000        1.958000e+08           99.000000   \n",
       "\n",
       "       contract_valid_until  nation_jersey_number          pace      shooting  \\\n",
       "count          18038.000000           1126.000000  16242.000000  16242.000000   \n",
       "mean            2021.114591             12.114565     67.700899     52.298301   \n",
       "std                1.289888              6.735922     11.297656     14.029418   \n",
       "min             2019.000000              1.000000     24.000000     15.000000   \n",
       "25%             2020.000000              6.000000     61.000000     42.000000   \n",
       "50%             2021.000000             12.000000     69.000000     54.000000   \n",
       "75%             2022.000000             18.000000     75.000000     63.000000   \n",
       "max             2026.000000             30.000000     96.000000     93.000000   \n",
       "\n",
       "            passing     dribbling     defending        physic    gk_diving  \\\n",
       "count  16242.000000  16242.000000  16242.000000  16242.000000  2036.000000   \n",
       "mean      57.233777     62.531585     51.553503     64.876678    65.422397   \n",
       "std       10.407844     10.284950     16.419528      9.760162     7.736278   \n",
       "min       24.000000     23.000000     15.000000     27.000000    44.000000   \n",
       "25%       50.000000     57.000000     36.000000     59.000000    60.000000   \n",
       "50%       58.000000     64.000000     56.000000     66.000000    65.000000   \n",
       "75%       64.000000     69.000000     65.000000     72.000000    70.000000   \n",
       "max       92.000000     96.000000     90.000000     90.000000    90.000000   \n",
       "\n",
       "       gk_handling   gk_kicking  gk_reflexes     gk_speed  gk_positioning  \\\n",
       "count  2036.000000  2036.000000  2036.000000  2036.000000     2036.000000   \n",
       "mean     63.146365    61.832515    66.390472    37.798625       63.374754   \n",
       "std       7.244023     7.510709     8.154062    10.634038        8.447876   \n",
       "min      42.000000    35.000000    45.000000    12.000000       41.000000   \n",
       "25%      58.000000    57.000000    60.750000    29.000000       58.000000   \n",
       "50%      63.000000    61.000000    66.000000    39.000000       64.000000   \n",
       "75%      68.000000    66.000000    72.000000    46.000000       69.000000   \n",
       "max      92.000000    93.000000    92.000000    65.000000       91.000000   \n",
       "\n",
       "       attacking_crossing  attacking_finishing  attacking_heading_accuracy  \\\n",
       "count        18278.000000         18278.000000                18278.000000   \n",
       "mean            49.718405            45.590218                   52.221468   \n",
       "std             18.325403            19.594609                   17.428429   \n",
       "min              5.000000             2.000000                    5.000000   \n",
       "25%             38.000000            30.000000                   44.000000   \n",
       "50%             54.000000            49.000000                   56.000000   \n",
       "75%             64.000000            62.000000                   64.000000   \n",
       "max             93.000000            95.000000                   93.000000   \n",
       "\n",
       "       attacking_short_passing  attacking_volleys  skill_dribbling  \\\n",
       "count             18278.000000       18278.000000     18278.000000   \n",
       "mean                 58.748003          42.809388        55.596509   \n",
       "std                  14.679653          17.701815        18.929118   \n",
       "min                   7.000000           3.000000         4.000000   \n",
       "25%                  54.000000          30.000000        50.000000   \n",
       "50%                  62.000000          44.000000        61.000000   \n",
       "75%                  68.000000          56.000000        68.000000   \n",
       "max                  92.000000          90.000000        97.000000   \n",
       "\n",
       "        skill_curve  skill_fk_accuracy  skill_long_passing  \\\n",
       "count  18278.000000       18278.000000        18278.000000   \n",
       "mean      47.325692          42.708885           52.768848   \n",
       "std       18.422991          17.433612           15.246454   \n",
       "min        6.000000           4.000000            8.000000   \n",
       "25%       34.000000          31.000000           43.000000   \n",
       "50%       49.000000          41.000000           56.000000   \n",
       "75%       62.000000          56.000000           64.000000   \n",
       "max       94.000000          94.000000           92.000000   \n",
       "\n",
       "       skill_ball_control  movement_acceleration  movement_sprint_speed  \\\n",
       "count        18278.000000           18278.000000           18278.000000   \n",
       "mean            58.461976              64.299923              64.415746   \n",
       "std             16.741878              15.042232              14.847763   \n",
       "min              5.000000              12.000000              11.000000   \n",
       "25%             54.000000              56.000000              57.000000   \n",
       "50%             63.000000              67.000000              67.000000   \n",
       "75%             69.000000              75.000000              75.000000   \n",
       "max             96.000000              97.000000              96.000000   \n",
       "\n",
       "       movement_agility  movement_reactions  movement_balance  \\\n",
       "count      18278.000000        18278.000000      18278.000000   \n",
       "mean          63.504924           61.752544         63.856439   \n",
       "std           14.808380            9.135613         14.201559   \n",
       "min           11.000000           21.000000         12.000000   \n",
       "25%           55.000000           56.000000         56.000000   \n",
       "50%           66.000000           62.000000         66.000000   \n",
       "75%           74.000000           68.000000         74.000000   \n",
       "max           96.000000           96.000000         97.000000   \n",
       "\n",
       "       power_shot_power  power_jumping  power_stamina  power_strength  \\\n",
       "count      18278.000000   18278.000000   18278.000000    18278.000000   \n",
       "mean          58.181694      64.928165      62.889485       65.234763   \n",
       "std           13.326083      11.934059      16.017954       12.534811   \n",
       "min           14.000000      19.000000      12.000000       20.000000   \n",
       "25%           48.000000      58.000000      56.000000       58.000000   \n",
       "50%           59.000000      66.000000      66.000000       66.000000   \n",
       "75%           68.000000      73.000000      74.000000       74.000000   \n",
       "max           95.000000      95.000000      97.000000       97.000000   \n",
       "\n",
       "       power_long_shots  mentality_aggression  mentality_interceptions  \\\n",
       "count      18278.000000          18278.000000             18278.000000   \n",
       "mean          46.812945             55.742149                46.380239   \n",
       "std           19.322343             17.318157                20.775812   \n",
       "min            4.000000              9.000000                 3.000000   \n",
       "25%           32.000000             44.000000                25.000000   \n",
       "50%           51.000000             58.000000                52.000000   \n",
       "75%           62.000000             69.000000                64.000000   \n",
       "max           94.000000             95.000000                92.000000   \n",
       "\n",
       "       mentality_positioning  mentality_vision  mentality_penalties  \\\n",
       "count           18278.000000      18278.000000         18278.000000   \n",
       "mean               50.072163         53.609749            48.383357   \n",
       "std                19.594022         13.955626            15.708099   \n",
       "min                 2.000000          9.000000             7.000000   \n",
       "25%                39.000000         44.000000            39.000000   \n",
       "50%                55.000000         55.000000            49.000000   \n",
       "75%                64.000000         64.000000            60.000000   \n",
       "max                95.000000         94.000000            92.000000   \n",
       "\n",
       "       mentality_composure  defending_marking  defending_standing_tackle  \\\n",
       "count         18278.000000       18278.000000               18278.000000   \n",
       "mean             58.528778          46.848889                  47.640333   \n",
       "std              11.880840          20.091287                  21.585641   \n",
       "min              12.000000           1.000000                   5.000000   \n",
       "25%              51.000000          29.000000                  27.000000   \n",
       "50%              60.000000          52.000000                  55.000000   \n",
       "75%              67.000000          64.000000                  66.000000   \n",
       "max              96.000000          94.000000                  92.000000   \n",
       "\n",
       "       defending_sliding_tackle  goalkeeping_diving  goalkeeping_handling  \\\n",
       "count              18278.000000        18278.000000          18278.000000   \n",
       "mean                  45.606631           16.572765             16.354853   \n",
       "std                   21.217734           17.738069             16.996925   \n",
       "min                    3.000000            1.000000              1.000000   \n",
       "25%                   24.000000            8.000000              8.000000   \n",
       "50%                   52.000000           11.000000             11.000000   \n",
       "75%                   64.000000           14.000000             14.000000   \n",
       "max                   90.000000           90.000000             92.000000   \n",
       "\n",
       "       goalkeeping_kicking  goalkeeping_positioning  goalkeeping_reflexes  \n",
       "count         18278.000000             18278.000000          18278.000000  \n",
       "mean             16.212934                16.368038             16.709924  \n",
       "std              16.613665                17.136497             18.038125  \n",
       "min               1.000000                 1.000000              1.000000  \n",
       "25%               8.000000                 8.000000              8.000000  \n",
       "50%              11.000000                11.000000             11.000000  \n",
       "75%              14.000000                14.000000             14.000000  \n",
       "max              93.000000                91.000000             92.000000  "
      ]
     },
     "execution_count": 215,
     "metadata": {},
     "output_type": "execute_result"
    }
   ],
   "source": [
    "df=pd.read_csv(\"players_20.csv\")\n",
    "df.describe()"
   ]
  },
  {
   "cell_type": "code",
   "execution_count": 216,
   "metadata": {},
   "outputs": [
    {
     "name": "stdout",
     "output_type": "stream",
     "text": [
      "dimensión del espacio de los datos:  14\n"
     ]
    }
   ],
   "source": [
    "n_sne=2000 #elegir numero pequeño para agilidad en el cálculo luego\n",
    "df_sne=df.loc[:n_sne]\n",
    "skills_ratings = [\"mentality_interceptions\",\"mentality_penalties\",\"mentality_positioning\",\"overall\",\n",
    "                  \"potential\",\"age\",\"defending_marking\",\"power_stamina\",\"mentality_aggression\",\"attacking_finishing\",\n",
    "                  \"movement_acceleration\",\"movement_sprint_speed\",\"movement_agility\",\"skill_curve\"]\n",
    "X=df_sne[skills_ratings]\n",
    "print('dimensión del espacio de los datos: ', len(skills_ratings))"
   ]
  },
  {
   "cell_type": "code",
   "execution_count": 217,
   "metadata": {},
   "outputs": [
    {
     "name": "stdout",
     "output_type": "stream",
     "text": [
      "[t-SNE] Computing 91 nearest neighbors...\n",
      "[t-SNE] Indexed 2001 samples in 0.006s...\n",
      "[t-SNE] Computed neighbors for 2001 samples in 0.123s...\n",
      "[t-SNE] Computed conditional probabilities for sample 1000 / 2001\n",
      "[t-SNE] Computed conditional probabilities for sample 2000 / 2001\n",
      "[t-SNE] Computed conditional probabilities for sample 2001 / 2001\n",
      "[t-SNE] Mean sigma: 8.854333\n",
      "[t-SNE] KL divergence after 250 iterations with early exaggeration: 67.730171\n",
      "[t-SNE] KL divergence after 1000 iterations: 1.253098\n",
      "t-SNE done! Time elapsed: 7.497923135757446 seconds\n"
     ]
    }
   ],
   "source": [
    "from sklearn import (manifold, decomposition)\n",
    "\n",
    "import time\n",
    "time_start = time.time()\n",
    "\n",
    "tsne = manifold.TSNE(n_components=2, verbose=1,perplexity=30, n_iter=1000)\n",
    "X_tsne = tsne.fit_transform(X)\n",
    "\n",
    "print ('t-SNE done! Time elapsed: {} seconds'.format(time.time()-time_start))"
   ]
  },
  {
   "cell_type": "code",
   "execution_count": 223,
   "metadata": {},
   "outputs": [
    {
     "data": {
      "application/vnd.plotly.v1+json": {
       "config": {
        "linkText": "Export to plot.ly",
        "plotlyServerURL": "https://plot.ly",
        "showLink": false
       },
       "data": [
        {
         "marker": {
          "size": 5
         },
         "mode": "markers",
         "text": [
          [
           "RW",
           " CF",
           " ST"
          ],
          [
           "ST",
           " LW"
          ],
          [
           "LW",
           " CAM"
          ],
          [
           "GK"
          ],
          [
           "LW",
           " CF"
          ],
          [
           "CAM",
           " CM"
          ],
          [
           "GK"
          ],
          [
           "CB"
          ],
          [
           "CM"
          ],
          [
           "RW",
           " ST"
          ],
          [
           "ST",
           " RW"
          ],
          [
           "CB"
          ],
          [
           "ST"
          ],
          [
           "GK"
          ],
          [
           "GK"
          ],
          [
           "CDM",
           " CM"
          ],
          [
           "CB"
          ],
          [
           "ST"
          ],
          [
           "CB"
          ],
          [
           "ST"
          ],
          [
           "ST"
          ],
          [
           "CDM",
           " CM"
          ],
          [
           "CF",
           " ST",
           " LW"
          ],
          [
           "CAM",
           " RW"
          ],
          [
           "CM",
           " CDM"
          ],
          [
           "GK"
          ],
          [
           "RW",
           " LW"
          ],
          [
           "CAM",
           " CM"
          ],
          [
           "GK"
          ],
          [
           "CB"
          ],
          [
           "GK"
          ],
          [
           "GK"
          ],
          [
           "GK"
          ],
          [
           "CAM",
           " CM"
          ],
          [
           "ST"
          ],
          [
           "CB"
          ],
          [
           "CM"
          ],
          [
           "CAM",
           " LM",
           " ST"
          ],
          [
           "ST",
           " LM"
          ],
          [
           "LW",
           " LM"
          ],
          [
           "CB",
           " LB"
          ],
          [
           "RW",
           " CAM",
           " CM"
          ],
          [
           "CDM"
          ],
          [
           "CF",
           " LM"
          ],
          [
           "CDM"
          ],
          [
           "CB"
          ],
          [
           "CF",
           " ST"
          ],
          [
           "CB"
          ],
          [
           "CF",
           " ST"
          ],
          [
           "CB"
          ],
          [
           "CB"
          ],
          [
           "LB"
          ],
          [
           "CM",
           " CAM",
           " CDM"
          ],
          [
           "GK"
          ],
          [
           "CF",
           " LW",
           " ST"
          ],
          [
           "LW"
          ],
          [
           "CB",
           " CDM"
          ],
          [
           "CB"
          ],
          [
           "CM",
           " CDM"
          ],
          [
           "CB"
          ],
          [
           "GK"
          ],
          [
           "RB",
           " CM",
           " CDM"
          ],
          [
           "CAM",
           " CM",
           " LW"
          ],
          [
           "CF",
           " ST",
           " CAM"
          ],
          [
           "CM",
           " CDM"
          ],
          [
           "CM",
           " CDM"
          ],
          [
           "RW",
           " LW"
          ],
          [
           "CB"
          ],
          [
           "LW",
           " CM"
          ],
          [
           "CM"
          ],
          [
           "CAM",
           " RM",
           " RW"
          ],
          [
           "ST"
          ],
          [
           "ST"
          ],
          [
           "CB"
          ],
          [
           "GK"
          ],
          [
           "CM",
           " CDM"
          ],
          [
           "CB"
          ],
          [
           "CB"
          ],
          [
           "CM",
           " CAM"
          ],
          [
           "CDM",
           " CM"
          ],
          [
           "CM",
           " LM",
           " RM"
          ],
          [
           "CDM"
          ],
          [
           "LB"
          ],
          [
           "CB"
          ],
          [
           "CB"
          ],
          [
           "CAM",
           " CM"
          ],
          [
           "GK"
          ],
          [
           "GK"
          ],
          [
           "GK"
          ],
          [
           "ST"
          ],
          [
           "CB"
          ],
          [
           "GK"
          ],
          [
           "LB",
           " CB"
          ],
          [
           "ST"
          ],
          [
           "RB"
          ],
          [
           "CAM",
           " RW"
          ],
          [
           "ST"
          ],
          [
           "CAM",
           " CF",
           " ST"
          ],
          [
           "ST"
          ],
          [
           "CDM",
           " CM"
          ],
          [
           "RW",
           " LW",
           " ST"
          ],
          [
           "LB"
          ],
          [
           "CDM",
           " CM"
          ],
          [
           "LB",
           " LM"
          ],
          [
           "ST",
           " RW"
          ],
          [
           "RM",
           " LM",
           " CM"
          ],
          [
           "CAM",
           " CM",
           " RM"
          ],
          [
           "CM"
          ],
          [
           "RM",
           " LM"
          ],
          [
           "CAM",
           " RM"
          ],
          [
           "RW",
           " LW"
          ],
          [
           "GK"
          ],
          [
           "RB"
          ],
          [
           "CAM",
           " CM"
          ],
          [
           "CB",
           " LB"
          ],
          [
           "CM"
          ],
          [
           "CF",
           " LW",
           " CAM"
          ],
          [
           "CM",
           " CAM",
           " CDM"
          ],
          [
           "CAM",
           " LM",
           " RM"
          ],
          [
           "LM",
           " RM",
           " LW"
          ],
          [
           "RM",
           " LM",
           " LW"
          ],
          [
           "CAM"
          ],
          [
           "GK"
          ],
          [
           "CAM",
           " CM",
           " CF"
          ],
          [
           "LB"
          ],
          [
           "GK"
          ],
          [
           "CB"
          ],
          [
           "LM"
          ],
          [
           "CB"
          ],
          [
           "CM"
          ],
          [
           "GK"
          ],
          [
           "GK"
          ],
          [
           "CM"
          ],
          [
           "CB"
          ],
          [
           "CDM"
          ],
          [
           "CAM",
           " RW"
          ],
          [
           "CDM",
           " CB"
          ],
          [
           "GK"
          ],
          [
           "ST"
          ],
          [
           "CM",
           " CDM"
          ],
          [
           "LM"
          ],
          [
           "ST",
           " LW"
          ],
          [
           "CM",
           " CDM"
          ],
          [
           "CB"
          ],
          [
           "RB",
           " CB"
          ],
          [
           "RM",
           " RW"
          ],
          [
           "CM",
           " CDM"
          ],
          [
           "CM",
           " CAM",
           " CDM"
          ],
          [
           "RB"
          ],
          [
           "CAM",
           " CM",
           " CF"
          ],
          [
           "LM",
           " RW",
           " LW"
          ],
          [
           "RM",
           " CM"
          ],
          [
           "CAM",
           " LW",
           " ST"
          ],
          [
           "CF",
           " ST"
          ],
          [
           "RW",
           " RM"
          ],
          [
           "RM",
           " RW"
          ],
          [
           "CB"
          ],
          [
           "CM",
           " CDM",
           " CAM"
          ],
          [
           "CB"
          ],
          [
           "CM",
           " CAM",
           " CF"
          ],
          [
           "RB"
          ],
          [
           "ST"
          ],
          [
           "ST"
          ],
          [
           "LW",
           " ST",
           " LM"
          ],
          [
           "CAM",
           " RW"
          ],
          [
           "CB"
          ],
          [
           "CM",
           " CDM"
          ],
          [
           "GK"
          ],
          [
           "LM",
           " ST"
          ],
          [
           "RM",
           " RW",
           " ST"
          ],
          [
           "CB"
          ],
          [
           "ST",
           " LM"
          ],
          [
           "CB"
          ],
          [
           "CM",
           " CDM"
          ],
          [
           "LB"
          ],
          [
           "ST"
          ],
          [
           "LM",
           " CAM",
           " RM"
          ],
          [
           "CB"
          ],
          [
           "LW",
           " RW"
          ],
          [
           "LB"
          ],
          [
           "CAM",
           " CM",
           " LW"
          ],
          [
           "GK"
          ],
          [
           "LM"
          ],
          [
           "ST"
          ],
          [
           "GK"
          ],
          [
           "CF",
           " LM",
           " LW"
          ],
          [
           "ST"
          ],
          [
           "ST"
          ],
          [
           "ST"
          ],
          [
           "CDM",
           " CM"
          ],
          [
           "RM",
           " CAM"
          ],
          [
           "CB"
          ],
          [
           "CAM",
           " CM"
          ],
          [
           "GK"
          ],
          [
           "CB"
          ],
          [
           "CAM",
           " CM",
           " RM"
          ],
          [
           "GK"
          ],
          [
           "CF",
           " RM",
           " LM"
          ],
          [
           "RW",
           " RM"
          ],
          [
           "CM",
           " CDM"
          ],
          [
           "GK"
          ],
          [
           "GK"
          ],
          [
           "GK"
          ],
          [
           "CB"
          ],
          [
           "CB"
          ],
          [
           "ST"
          ],
          [
           "GK"
          ],
          [
           "ST"
          ],
          [
           "CB"
          ],
          [
           "RW",
           " LW",
           " CAM"
          ],
          [
           "CB"
          ],
          [
           "GK"
          ],
          [
           "CAM",
           " CM"
          ],
          [
           "CDM",
           " CM",
           " CAM"
          ],
          [
           "ST"
          ],
          [
           "CM",
           " CDM"
          ],
          [
           "CB"
          ],
          [
           "CF",
           " ST",
           " CAM"
          ],
          [
           "CDM",
           " CM"
          ],
          [
           "CAM"
          ],
          [
           "CM",
           " CAM"
          ],
          [
           "CDM",
           " CM"
          ],
          [
           "CDM",
           " CB",
           " LB"
          ],
          [
           "GK"
          ],
          [
           "CB"
          ],
          [
           "RM",
           " RW"
          ],
          [
           "CDM"
          ],
          [
           "CM",
           " CAM",
           " CDM"
          ],
          [
           "ST"
          ],
          [
           "CM",
           " CDM"
          ],
          [
           "ST"
          ],
          [
           "CB"
          ],
          [
           "CDM",
           " CM"
          ],
          [
           "ST",
           " CAM",
           " LW"
          ],
          [
           "ST",
           " CF"
          ],
          [
           "CB"
          ],
          [
           "RW",
           " CAM"
          ],
          [
           "LW",
           " LM",
           " RW"
          ],
          [
           "LW",
           " RW"
          ],
          [
           "ST"
          ],
          [
           "CM"
          ],
          [
           "ST"
          ],
          [
           "GK"
          ],
          [
           "CM",
           " CDM"
          ],
          [
           "CDM",
           " CM"
          ],
          [
           "CM"
          ],
          [
           "CB"
          ],
          [
           "RW",
           " CAM",
           " LW"
          ],
          [
           "GK"
          ],
          [
           "RB"
          ],
          [
           "GK"
          ],
          [
           "GK"
          ],
          [
           "CB"
          ],
          [
           "RM",
           " ST"
          ],
          [
           "ST",
           " RW"
          ],
          [
           "RW",
           " LW"
          ],
          [
           "RM",
           " RW"
          ],
          [
           "GK"
          ],
          [
           "CM",
           " CDM",
           " RM"
          ],
          [
           "CM"
          ],
          [
           "CB"
          ],
          [
           "RW",
           " CF"
          ],
          [
           "CB"
          ],
          [
           "CB"
          ],
          [
           "GK"
          ],
          [
           "RB",
           " RM"
          ],
          [
           "LB"
          ],
          [
           "GK"
          ],
          [
           "GK"
          ],
          [
           "CAM",
           " LW"
          ],
          [
           "CF",
           " CAM",
           " CM"
          ],
          [
           "CDM",
           " CM"
          ],
          [
           "GK"
          ],
          [
           "ST"
          ],
          [
           "RB",
           " RM",
           " CM"
          ],
          [
           "LWB",
           " LM",
           " LB"
          ],
          [
           "ST",
           " RW",
           " LW"
          ],
          [
           "CB",
           " LB",
           " RB"
          ],
          [
           "CB"
          ],
          [
           "LB"
          ],
          [
           "CB"
          ],
          [
           "RM",
           " LM",
           " CF"
          ],
          [
           "CAM",
           " LM"
          ],
          [
           "LM",
           " LWB"
          ],
          [
           "RM",
           " ST"
          ],
          [
           "LM",
           " RM"
          ],
          [
           "GK"
          ],
          [
           "CDM"
          ],
          [
           "ST"
          ],
          [
           "RM",
           " RB"
          ],
          [
           "CM",
           " CDM",
           " LM"
          ],
          [
           "CM"
          ],
          [
           "CDM",
           " CM"
          ],
          [
           "GK"
          ],
          [
           "GK"
          ],
          [
           "CAM",
           " RM"
          ],
          [
           "ST"
          ],
          [
           "CB"
          ],
          [
           "RW",
           " LW"
          ],
          [
           "CB"
          ],
          [
           "ST"
          ],
          [
           "LW",
           " LM"
          ],
          [
           "CAM"
          ],
          [
           "LB"
          ],
          [
           "ST"
          ],
          [
           "RM",
           " CAM"
          ],
          [
           "CAM",
           " LM"
          ],
          [
           "ST"
          ],
          [
           "CM",
           " LW"
          ],
          [
           "RW",
           " LW"
          ],
          [
           "ST"
          ],
          [
           "LW"
          ],
          [
           "CM",
           " CDM"
          ],
          [
           "RW",
           " RM"
          ],
          [
           "RWB",
           " RM"
          ],
          [
           "CB"
          ],
          [
           "ST"
          ],
          [
           "RB",
           " RM"
          ],
          [
           "RW"
          ],
          [
           "CAM",
           " RW"
          ],
          [
           "LW",
           " RW"
          ],
          [
           "ST"
          ],
          [
           "ST"
          ],
          [
           "ST",
           " LM"
          ],
          [
           "GK"
          ],
          [
           "CB",
           " CDM"
          ],
          [
           "CDM",
           " CM",
           " CAM"
          ],
          [
           "CB"
          ],
          [
           "CAM",
           " RM"
          ],
          [
           "ST"
          ],
          [
           "CM"
          ],
          [
           "CM",
           " CDM"
          ],
          [
           "CB",
           " RB"
          ],
          [
           "GK"
          ],
          [
           "CAM",
           " CM"
          ],
          [
           "CB"
          ],
          [
           "CM",
           " LM",
           " CDM"
          ],
          [
           "CAM",
           " CM",
           " LM"
          ],
          [
           "CM",
           " CDM"
          ],
          [
           "LB"
          ],
          [
           "LW",
           " RW",
           " CAM"
          ],
          [
           "CM",
           " LM"
          ],
          [
           "GK"
          ],
          [
           "CM",
           " CDM"
          ],
          [
           "CAM",
           " CM",
           " RW"
          ],
          [
           "CM",
           " CDM"
          ],
          [
           "CAM",
           " CM"
          ],
          [
           "LB"
          ],
          [
           "ST"
          ],
          [
           "CDM",
           " CM"
          ],
          [
           "CDM",
           " CM"
          ],
          [
           "GK"
          ],
          [
           "CB"
          ],
          [
           "ST",
           " LW"
          ],
          [
           "ST"
          ],
          [
           "LM"
          ],
          [
           "CB",
           " CDM"
          ],
          [
           "LM",
           " LB",
           " CM"
          ],
          [
           "CAM",
           " CM"
          ],
          [
           "CDM",
           " CM"
          ],
          [
           "CB"
          ],
          [
           "CDM",
           " CM"
          ],
          [
           "CAM",
           " LW"
          ],
          [
           "RM",
           " RB"
          ],
          [
           "GK"
          ],
          [
           "GK"
          ],
          [
           "CDM",
           " CM"
          ],
          [
           "ST",
           " CF"
          ],
          [
           "ST"
          ],
          [
           "RM",
           " LM"
          ],
          [
           "CB"
          ],
          [
           "CM",
           " LB"
          ],
          [
           "ST"
          ],
          [
           "ST"
          ],
          [
           "CM",
           " CAM",
           " CDM"
          ],
          [
           "CM",
           " CDM"
          ],
          [
           "GK"
          ],
          [
           "CB"
          ],
          [
           "CB"
          ],
          [
           "CM",
           " CAM",
           " CDM"
          ],
          [
           "CB"
          ],
          [
           "CM",
           " CDM",
           " LM"
          ],
          [
           "RB"
          ],
          [
           "ST"
          ],
          [
           "CAM",
           " LW"
          ],
          [
           "CM"
          ],
          [
           "GK"
          ],
          [
           "CB",
           " LB"
          ],
          [
           "GK"
          ],
          [
           "CM",
           " CDM"
          ],
          [
           "CDM",
           " CM"
          ],
          [
           "CDM",
           " CM"
          ],
          [
           "CAM"
          ],
          [
           "CF",
           " ST",
           " RM"
          ],
          [
           "CDM",
           " CB"
          ],
          [
           "CB"
          ],
          [
           "CDM",
           " CM"
          ],
          [
           "LB",
           " LWB"
          ],
          [
           "RM",
           " CAM",
           " RW"
          ],
          [
           "RB"
          ],
          [
           "RB",
           " RW",
           " LW"
          ],
          [
           "CF",
           " ST"
          ],
          [
           "CM",
           " CAM"
          ],
          [
           "RW",
           " RM"
          ],
          [
           "CM",
           " CDM"
          ],
          [
           "LW",
           " LB"
          ],
          [
           "CAM",
           " LM",
           " LW"
          ],
          [
           "CB",
           " CDM"
          ],
          [
           "CAM",
           " LM",
           " LW"
          ],
          [
           "ST",
           " CF"
          ],
          [
           "ST"
          ],
          [
           "CF",
           " ST"
          ],
          [
           "CM",
           " CAM"
          ],
          [
           "CB",
           " RB"
          ],
          [
           "CB"
          ],
          [
           "GK"
          ],
          [
           "CM",
           " CDM"
          ],
          [
           "CB"
          ],
          [
           "RM",
           " CM"
          ],
          [
           "CB"
          ],
          [
           "CM",
           " CDM"
          ],
          [
           "ST"
          ],
          [
           "CF",
           " LW"
          ],
          [
           "CDM"
          ],
          [
           "LB"
          ],
          [
           "RM",
           " LM",
           " CAM"
          ],
          [
           "CB"
          ],
          [
           "GK"
          ],
          [
           "RB",
           " RWB"
          ],
          [
           "LB"
          ],
          [
           "ST"
          ],
          [
           "GK"
          ],
          [
           "ST"
          ],
          [
           "LM",
           " LW"
          ],
          [
           "CF",
           " ST",
           " CAM"
          ],
          [
           "CDM",
           " CM"
          ],
          [
           "CM",
           " CAM",
           " CDM"
          ],
          [
           "RB"
          ],
          [
           "ST"
          ],
          [
           "CM",
           " CDM"
          ],
          [
           "CB"
          ],
          [
           "CM",
           " CDM"
          ],
          [
           "CB"
          ],
          [
           "RB"
          ],
          [
           "CDM",
           " CM"
          ],
          [
           "RM",
           " ST",
           " LM"
          ],
          [
           "CDM",
           " CB"
          ],
          [
           "CM",
           " CAM"
          ],
          [
           "CB"
          ],
          [
           "ST"
          ],
          [
           "LB",
           " CB"
          ],
          [
           "CM",
           " RM"
          ],
          [
           "CM",
           " CDM"
          ],
          [
           "CB"
          ],
          [
           "CF",
           " RW",
           " LW"
          ],
          [
           "LB",
           " LM"
          ],
          [
           "GK"
          ],
          [
           "CB"
          ],
          [
           "CAM",
           " CF"
          ],
          [
           "RM",
           " LM",
           " CM"
          ],
          [
           "GK"
          ],
          [
           "ST",
           " LW",
           " CAM"
          ],
          [
           "CB"
          ],
          [
           "LW",
           " CF"
          ],
          [
           "RM"
          ],
          [
           "CAM",
           " CM",
           " LM"
          ],
          [
           "GK"
          ],
          [
           "GK"
          ],
          [
           "CB"
          ],
          [
           "CAM",
           " CF"
          ],
          [
           "CB"
          ],
          [
           "CB"
          ],
          [
           "CM",
           " CDM"
          ],
          [
           "ST"
          ],
          [
           "CDM",
           " CM"
          ],
          [
           "CM",
           " CAM"
          ],
          [
           "RWB",
           " RB",
           " RM"
          ],
          [
           "CDM",
           " CM"
          ],
          [
           "CB"
          ],
          [
           "CF",
           " ST",
           " RM"
          ],
          [
           "CM",
           " CDM"
          ],
          [
           "LW",
           " CAM",
           " CM"
          ],
          [
           "ST",
           " LM"
          ],
          [
           "LB"
          ],
          [
           "CDM"
          ],
          [
           "GK"
          ],
          [
           "GK"
          ],
          [
           "LM",
           " ST",
           " RM"
          ],
          [
           "ST"
          ],
          [
           "GK"
          ],
          [
           "LW",
           " RW"
          ],
          [
           "CDM",
           " CB"
          ],
          [
           "GK"
          ],
          [
           "GK"
          ],
          [
           "ST"
          ],
          [
           "ST"
          ],
          [
           "GK"
          ],
          [
           "CB"
          ],
          [
           "GK"
          ],
          [
           "GK"
          ],
          [
           "GK"
          ],
          [
           "ST"
          ],
          [
           "CB"
          ],
          [
           "LB",
           " LWB"
          ],
          [
           "RM",
           " LM",
           " CAM"
          ],
          [
           "CAM"
          ],
          [
           "CB"
          ],
          [
           "CM",
           " RB",
           " RM"
          ],
          [
           "GK"
          ],
          [
           "RM"
          ],
          [
           "LW",
           " CF",
           " ST"
          ],
          [
           "GK"
          ],
          [
           "CDM",
           " CM"
          ],
          [
           "LM",
           " CAM"
          ],
          [
           "RB",
           " CDM",
           " CM"
          ],
          [
           "CB",
           " CDM"
          ],
          [
           "CDM",
           " CM"
          ],
          [
           "LB"
          ],
          [
           "GK"
          ],
          [
           "CB"
          ],
          [
           "CB",
           " CDM"
          ],
          [
           "CB"
          ],
          [
           "LW"
          ],
          [
           "ST"
          ],
          [
           "RM",
           " RW",
           " CAM"
          ],
          [
           "RB",
           " RWB"
          ],
          [
           "CB"
          ],
          [
           "CDM",
           " CM"
          ],
          [
           "CF"
          ],
          [
           "ST"
          ],
          [
           "CDM",
           " CM"
          ],
          [
           "CM",
           " CDM"
          ],
          [
           "RM",
           " RW",
           " ST"
          ],
          [
           "CM",
           " CDM"
          ],
          [
           "CB"
          ],
          [
           "CB"
          ],
          [
           "RM"
          ],
          [
           "GK"
          ],
          [
           "CB"
          ],
          [
           "LM",
           " CAM"
          ],
          [
           "CAM",
           " CM"
          ],
          [
           "ST"
          ],
          [
           "CB"
          ],
          [
           "LM",
           " RW"
          ],
          [
           "ST"
          ],
          [
           "CB",
           " RB"
          ],
          [
           "RM",
           " RW",
           " LM"
          ],
          [
           "RW"
          ],
          [
           "LM",
           " RM"
          ],
          [
           "LB"
          ],
          [
           "LB"
          ],
          [
           "CB",
           " CDM"
          ],
          [
           "ST"
          ],
          [
           "RB"
          ],
          [
           "CAM",
           " CF"
          ],
          [
           "ST"
          ],
          [
           "LM"
          ],
          [
           "CDM"
          ],
          [
           "GK"
          ],
          [
           "CDM",
           " CM"
          ],
          [
           "LM"
          ],
          [
           "ST"
          ],
          [
           "ST",
           " RM"
          ],
          [
           "CDM",
           " CM"
          ],
          [
           "LB",
           " LM"
          ],
          [
           "GK"
          ],
          [
           "CDM",
           " CM"
          ],
          [
           "LB",
           " LM"
          ],
          [
           "LW"
          ],
          [
           "CM"
          ],
          [
           "CAM",
           " CM"
          ],
          [
           "RB"
          ],
          [
           "GK"
          ],
          [
           "CB"
          ],
          [
           "CM",
           " CDM",
           " LM"
          ],
          [
           "CDM",
           " CM"
          ],
          [
           "CM",
           " CAM",
           " CDM"
          ],
          [
           "RW",
           " CF"
          ],
          [
           "CAM",
           " LM",
           " CM"
          ],
          [
           "CDM",
           " CM",
           " LM"
          ],
          [
           "RW",
           " LW",
           " ST"
          ],
          [
           "RW",
           " ST",
           " LW"
          ],
          [
           "CB",
           " RB"
          ],
          [
           "LW",
           " RW"
          ],
          [
           "CM"
          ],
          [
           "LB",
           " RB"
          ],
          [
           "CDM",
           " CM"
          ],
          [
           "CDM",
           " CM"
          ],
          [
           "CB",
           " LB"
          ],
          [
           "RM",
           " LM"
          ],
          [
           "ST"
          ],
          [
           "CM",
           " LM"
          ],
          [
           "CM",
           " CDM"
          ],
          [
           "CB"
          ],
          [
           "RB",
           " LB"
          ],
          [
           "CAM",
           " CM"
          ],
          [
           "CB",
           " LB"
          ],
          [
           "CB",
           " RB"
          ],
          [
           "LW",
           " CF",
           " RW"
          ],
          [
           "LB"
          ],
          [
           "ST"
          ],
          [
           "CDM"
          ],
          [
           "LB",
           " LM",
           " LWB"
          ],
          [
           "CM",
           " RM"
          ],
          [
           "RW",
           " RM"
          ],
          [
           "RM",
           " CAM",
           " CM"
          ],
          [
           "CB",
           " CDM"
          ],
          [
           "LM",
           " LW",
           " RM"
          ],
          [
           "CDM",
           " CM",
           " CB"
          ],
          [
           "ST",
           " RW",
           " LM"
          ],
          [
           "LB"
          ],
          [
           "CAM",
           " CM",
           " LW"
          ],
          [
           "ST"
          ],
          [
           "RM",
           " LM",
           " ST"
          ],
          [
           "LM",
           " CF"
          ],
          [
           "RW",
           " LW"
          ],
          [
           "CDM",
           " CB",
           " CM"
          ],
          [
           "LW"
          ],
          [
           "LWB",
           " LB"
          ],
          [
           "CM",
           " CAM"
          ],
          [
           "CDM",
           " CM"
          ],
          [
           "RB"
          ],
          [
           "CM",
           " CDM"
          ],
          [
           "CB",
           " LB"
          ],
          [
           "CAM",
           " CM"
          ],
          [
           "CB"
          ],
          [
           "CB"
          ],
          [
           "GK"
          ],
          [
           "GK"
          ],
          [
           "CB"
          ],
          [
           "ST"
          ],
          [
           "CM",
           " CDM",
           " CAM"
          ],
          [
           "LB",
           " LWB"
          ],
          [
           "CB"
          ],
          [
           "LW"
          ],
          [
           "ST"
          ],
          [
           "ST"
          ],
          [
           "RB",
           " RWB"
          ],
          [
           "CB"
          ],
          [
           "CB"
          ],
          [
           "CB"
          ],
          [
           "RWB",
           " RM",
           " RB"
          ],
          [
           "CB"
          ],
          [
           "LB",
           " LWB"
          ],
          [
           "CM"
          ],
          [
           "ST"
          ],
          [
           "CB"
          ],
          [
           "ST",
           " LM",
           " LW"
          ],
          [
           "GK"
          ],
          [
           "CM",
           " CAM",
           " CDM"
          ],
          [
           "CB"
          ],
          [
           "CF",
           " ST"
          ],
          [
           "ST"
          ],
          [
           "CB"
          ],
          [
           "CB"
          ],
          [
           "RB",
           " RWB"
          ],
          [
           "LM",
           " LB"
          ],
          [
           "RWB"
          ],
          [
           "RB"
          ],
          [
           "CM"
          ],
          [
           "CM",
           " CDM"
          ],
          [
           "ST",
           " RW",
           " RM"
          ],
          [
           "CB",
           " RB"
          ],
          [
           "RB",
           " RWB"
          ],
          [
           "ST",
           " LM",
           " LW"
          ],
          [
           "ST",
           " LW"
          ],
          [
           "ST"
          ],
          [
           "GK"
          ],
          [
           "LM",
           " ST",
           " RM"
          ],
          [
           "CB"
          ],
          [
           "RB"
          ],
          [
           "ST",
           " CAM"
          ],
          [
           "CAM",
           " CDM"
          ],
          [
           "CB"
          ],
          [
           "CB"
          ],
          [
           "CAM",
           " ST"
          ],
          [
           "CB"
          ],
          [
           "LB",
           " CB"
          ],
          [
           "RM"
          ],
          [
           "CB"
          ],
          [
           "CF",
           " CM"
          ],
          [
           "CM",
           " CDM"
          ],
          [
           "GK"
          ],
          [
           "LB",
           " CB"
          ],
          [
           "ST"
          ],
          [
           "CM",
           " LM",
           " RM"
          ],
          [
           "ST"
          ],
          [
           "CM"
          ],
          [
           "RB"
          ],
          [
           "CM"
          ],
          [
           "ST"
          ],
          [
           "LW",
           " LM"
          ],
          [
           "LB"
          ],
          [
           "RB"
          ],
          [
           "CB"
          ],
          [
           "ST"
          ],
          [
           "ST"
          ],
          [
           "GK"
          ],
          [
           "LB"
          ],
          [
           "ST",
           " CAM"
          ],
          [
           "LM"
          ],
          [
           "ST"
          ],
          [
           "CAM",
           " CM",
           " CF"
          ],
          [
           "CM",
           " CAM",
           " CDM"
          ],
          [
           "GK"
          ],
          [
           "LB"
          ],
          [
           "CF",
           " RW"
          ],
          [
           "CM",
           " LW",
           " RW"
          ],
          [
           "CB"
          ],
          [
           "RM",
           " CAM",
           " LM"
          ],
          [
           "ST",
           " LW"
          ],
          [
           "ST",
           " LM"
          ],
          [
           "LB",
           " LM"
          ],
          [
           "RB",
           " RM",
           " CB"
          ],
          [
           "GK"
          ],
          [
           "CB"
          ],
          [
           "ST"
          ],
          [
           "RM",
           " RW"
          ],
          [
           "ST",
           " CAM"
          ],
          [
           "CDM",
           " CM"
          ],
          [
           "RWB",
           " RB",
           " RM"
          ],
          [
           "RB",
           " LB"
          ],
          [
           "CB"
          ],
          [
           "LM",
           " RM"
          ],
          [
           "CDM",
           " CM"
          ],
          [
           "GK"
          ],
          [
           "ST"
          ],
          [
           "RB",
           " RM"
          ],
          [
           "CDM",
           " CM"
          ],
          [
           "LB"
          ],
          [
           "LM",
           " RM"
          ],
          [
           "LM",
           " LW"
          ],
          [
           "ST"
          ],
          [
           "CDM",
           " CM"
          ],
          [
           "LB",
           " CDM"
          ],
          [
           "RB",
           " RM"
          ],
          [
           "ST"
          ],
          [
           "ST"
          ],
          [
           "CB"
          ],
          [
           "CB"
          ],
          [
           "CDM",
           " CM"
          ],
          [
           "ST"
          ],
          [
           "ST"
          ],
          [
           "CM",
           " CDM"
          ],
          [
           "RB",
           " RM"
          ],
          [
           "CB",
           " LB"
          ],
          [
           "CDM"
          ],
          [
           "GK"
          ],
          [
           "ST"
          ],
          [
           "CB",
           " LB"
          ],
          [
           "CDM",
           " CM",
           " CAM"
          ],
          [
           "GK"
          ],
          [
           "ST"
          ],
          [
           "GK"
          ],
          [
           "RM",
           " LM"
          ],
          [
           "CDM",
           " CB",
           " CM"
          ],
          [
           "CM"
          ],
          [
           "CAM",
           " RM",
           " CM"
          ],
          [
           "CB"
          ],
          [
           "CB"
          ],
          [
           "CM",
           " CDM"
          ],
          [
           "CB"
          ],
          [
           "LM",
           " ST"
          ],
          [
           "CAM"
          ],
          [
           "RW",
           " RM"
          ],
          [
           "RW",
           " CAM",
           " CM"
          ],
          [
           "LM"
          ],
          [
           "CAM",
           " CM"
          ],
          [
           "LB"
          ],
          [
           "ST"
          ],
          [
           "CDM",
           " CM",
           " CB"
          ],
          [
           "CM",
           " CDM",
           " CAM"
          ],
          [
           "CM",
           " CB"
          ],
          [
           "CM",
           " CDM"
          ],
          [
           "CB",
           " RB",
           " LB"
          ],
          [
           "ST",
           " CAM"
          ],
          [
           "LM",
           " RM",
           " CAM"
          ],
          [
           "CB"
          ],
          [
           "LB"
          ],
          [
           "CM",
           " LM",
           " CAM"
          ],
          [
           "CM",
           " CDM"
          ],
          [
           "CB"
          ],
          [
           "GK"
          ],
          [
           "CM"
          ],
          [
           "ST"
          ],
          [
           "CF",
           " CM",
           " LW"
          ],
          [
           "ST"
          ],
          [
           "CM",
           " CDM"
          ],
          [
           "ST"
          ],
          [
           "CDM",
           " CM"
          ],
          [
           "CAM",
           " ST"
          ],
          [
           "CDM",
           " CM"
          ],
          [
           "GK"
          ],
          [
           "CB",
           " RB"
          ],
          [
           "CDM",
           " CM"
          ],
          [
           "CB"
          ],
          [
           "CM",
           " CDM",
           " CAM"
          ],
          [
           "CDM"
          ],
          [
           "CAM",
           " CM",
           " RM"
          ],
          [
           "CAM",
           " ST"
          ],
          [
           "CB"
          ],
          [
           "CM"
          ],
          [
           "CM",
           " LM",
           " RM"
          ],
          [
           "CB"
          ],
          [
           "RW",
           " ST",
           " RM"
          ],
          [
           "CDM",
           " CB"
          ],
          [
           "CM",
           " LM"
          ],
          [
           "GK"
          ],
          [
           "GK"
          ],
          [
           "ST"
          ],
          [
           "CB"
          ],
          [
           "CDM",
           " CM"
          ],
          [
           "RB"
          ],
          [
           "CB"
          ],
          [
           "GK"
          ],
          [
           "CB"
          ],
          [
           "CM",
           " CDM"
          ],
          [
           "LM",
           " ST"
          ],
          [
           "CM",
           " CDM"
          ],
          [
           "CAM",
           " LW"
          ],
          [
           "RW",
           " ST"
          ],
          [
           "CDM",
           " CM"
          ],
          [
           "RB"
          ],
          [
           "CF",
           " RW",
           " RM"
          ],
          [
           "RM",
           " RB"
          ],
          [
           "LM",
           " RM"
          ],
          [
           "CAM",
           " LM",
           " RM"
          ],
          [
           "CB"
          ],
          [
           "CB"
          ],
          [
           "CB"
          ],
          [
           "CB"
          ],
          [
           "CB"
          ],
          [
           "CDM",
           " CM"
          ],
          [
           "CAM",
           " LM"
          ],
          [
           "CB"
          ],
          [
           "CDM",
           " CM"
          ],
          [
           "LW"
          ],
          [
           "CB"
          ],
          [
           "CB",
           " CDM"
          ],
          [
           "CDM",
           " CM"
          ],
          [
           "CB"
          ],
          [
           "ST"
          ],
          [
           "GK"
          ],
          [
           "CM",
           " CDM"
          ],
          [
           "ST"
          ],
          [
           "ST",
           " RW",
           " RM"
          ],
          [
           "RWB"
          ],
          [
           "CB",
           " CDM"
          ],
          [
           "CM"
          ],
          [
           "CDM",
           " CM"
          ],
          [
           "GK"
          ],
          [
           "CB"
          ],
          [
           "CAM"
          ],
          [
           "CAM",
           " RM",
           " LM"
          ],
          [
           "LM",
           " CF"
          ],
          [
           "LM",
           " LW",
           " CM"
          ],
          [
           "LM"
          ],
          [
           "CB"
          ],
          [
           "RB"
          ],
          [
           "CB"
          ],
          [
           "ST"
          ],
          [
           "GK"
          ],
          [
           "CAM",
           " ST"
          ],
          [
           "CM",
           " CDM"
          ],
          [
           "CF",
           " ST"
          ],
          [
           "GK"
          ],
          [
           "CB"
          ],
          [
           "ST",
           " CF",
           " CAM"
          ],
          [
           "CB"
          ],
          [
           "ST"
          ],
          [
           "CB"
          ],
          [
           "LM",
           " LW"
          ],
          [
           "CB",
           " LB"
          ],
          [
           "CB"
          ],
          [
           "CAM",
           " LM",
           " CM"
          ],
          [
           "GK"
          ],
          [
           "CB"
          ],
          [
           "LB",
           " LWB"
          ],
          [
           "CM"
          ],
          [
           "LW",
           " RW"
          ],
          [
           "CDM",
           " CM"
          ],
          [
           "CM"
          ],
          [
           "LM",
           " LW",
           " ST"
          ],
          [
           "CM",
           " CDM"
          ],
          [
           "RB",
           " RM"
          ],
          [
           "RM",
           " RWB"
          ],
          [
           "LM",
           " LB"
          ],
          [
           "GK"
          ],
          [
           "CB"
          ],
          [
           "CB"
          ],
          [
           "CF",
           " ST"
          ],
          [
           "CAM",
           " RW"
          ],
          [
           "ST"
          ],
          [
           "CB"
          ],
          [
           "ST"
          ],
          [
           "CDM",
           " CM"
          ],
          [
           "LM"
          ],
          [
           "CB"
          ],
          [
           "CB"
          ],
          [
           "GK"
          ],
          [
           "ST"
          ],
          [
           "CB",
           " RB"
          ],
          [
           "LB"
          ],
          [
           "RM",
           " LM",
           " ST"
          ],
          [
           "ST"
          ],
          [
           "CDM"
          ],
          [
           "CB"
          ],
          [
           "GK"
          ],
          [
           "ST"
          ],
          [
           "LM",
           " RM",
           " LW"
          ],
          [
           "ST"
          ],
          [
           "CM",
           " CDM"
          ],
          [
           "CM",
           " CDM"
          ],
          [
           "CM",
           " CDM"
          ],
          [
           "ST",
           " LW"
          ],
          [
           "GK"
          ],
          [
           "ST"
          ],
          [
           "ST"
          ],
          [
           "CM",
           " CDM"
          ],
          [
           "CDM",
           " CB"
          ],
          [
           "CDM",
           " CM"
          ],
          [
           "ST",
           " CAM"
          ],
          [
           "CAM",
           " RM"
          ],
          [
           "CF",
           " LW",
           " RW"
          ],
          [
           "CB"
          ],
          [
           "CDM",
           " CM",
           " RB"
          ],
          [
           "CDM",
           " CM"
          ],
          [
           "CB"
          ],
          [
           "CM",
           " CDM"
          ],
          [
           "CDM"
          ],
          [
           "RB"
          ],
          [
           "CB"
          ],
          [
           "RB",
           " RW"
          ],
          [
           "GK"
          ],
          [
           "RB"
          ],
          [
           "CM",
           " CDM"
          ],
          [
           "RM",
           " ST"
          ],
          [
           "CM",
           " CAM",
           " RW"
          ],
          [
           "RM",
           " LM"
          ],
          [
           "ST",
           " RW"
          ],
          [
           "CB"
          ],
          [
           "LB"
          ],
          [
           "CAM",
           " CM",
           " LM"
          ],
          [
           "CDM",
           " CB"
          ],
          [
           "CAM",
           " CM"
          ],
          [
           "RB"
          ],
          [
           "RM",
           " ST",
           " RW"
          ],
          [
           "CAM",
           " CM"
          ],
          [
           "ST"
          ],
          [
           "CAM",
           " RM",
           " CF"
          ],
          [
           "CDM",
           " CM"
          ],
          [
           "CB",
           " CDM"
          ],
          [
           "RB",
           " RM"
          ],
          [
           "LM",
           " LW"
          ],
          [
           "CDM",
           " CM"
          ],
          [
           "GK"
          ],
          [
           "CAM"
          ],
          [
           "CB"
          ],
          [
           "CB"
          ],
          [
           "CB"
          ],
          [
           "ST",
           " RW"
          ],
          [
           "CB"
          ],
          [
           "RM"
          ],
          [
           "ST"
          ],
          [
           "ST",
           " RM"
          ],
          [
           "CB"
          ],
          [
           "ST"
          ],
          [
           "GK"
          ],
          [
           "CDM",
           " CM"
          ],
          [
           "CM",
           " CDM"
          ],
          [
           "RB",
           " LB"
          ],
          [
           "CAM",
           " CM"
          ],
          [
           "LB"
          ],
          [
           "ST",
           " CAM"
          ],
          [
           "CB"
          ],
          [
           "CB"
          ],
          [
           "CM",
           " CAM"
          ],
          [
           "CDM",
           " CB"
          ],
          [
           "RB",
           " LB"
          ],
          [
           "CM",
           " CDM"
          ],
          [
           "CM",
           " CDM"
          ],
          [
           "GK"
          ],
          [
           "ST"
          ],
          [
           "GK"
          ],
          [
           "LB",
           " LM"
          ],
          [
           "CAM",
           " CF"
          ],
          [
           "RB",
           " RM",
           " CM"
          ],
          [
           "CDM",
           " CM"
          ],
          [
           "ST"
          ],
          [
           "LB",
           " LM"
          ],
          [
           "RB",
           " RM"
          ],
          [
           "CAM",
           " CF"
          ],
          [
           "CB"
          ],
          [
           "GK"
          ],
          [
           "RB"
          ],
          [
           "CM",
           " RM",
           " CAM"
          ],
          [
           "CDM",
           " CM"
          ],
          [
           "ST"
          ],
          [
           "RM",
           " CAM"
          ],
          [
           "LW",
           " CAM",
           " LM"
          ],
          [
           "RM",
           " CAM"
          ],
          [
           "CB"
          ],
          [
           "RB",
           " RWB",
           " RM"
          ],
          [
           "CAM",
           " CM"
          ],
          [
           "CAM",
           " RM"
          ],
          [
           "CB"
          ],
          [
           "CB",
           " RB"
          ],
          [
           "CM",
           " LW",
           " RW"
          ],
          [
           "CM"
          ],
          [
           "CM",
           " LM",
           " CDM"
          ],
          [
           "CB",
           " LB"
          ],
          [
           "CAM",
           " LM"
          ],
          [
           "LB"
          ],
          [
           "LB"
          ],
          [
           "ST"
          ],
          [
           "ST"
          ],
          [
           "ST"
          ],
          [
           "ST"
          ],
          [
           "CM",
           " CAM"
          ],
          [
           "GK"
          ],
          [
           "CM"
          ],
          [
           "ST"
          ],
          [
           "CM",
           " CDM",
           " RM"
          ],
          [
           "RB"
          ],
          [
           "RB",
           " CM"
          ],
          [
           "RB",
           " RWB",
           " RM"
          ],
          [
           "CM",
           " CAM"
          ],
          [
           "CM"
          ],
          [
           "CDM",
           " CM"
          ],
          [
           "LW"
          ],
          [
           "CAM",
           " CM",
           " RM"
          ],
          [
           "RB"
          ],
          [
           "LW",
           " LM"
          ],
          [
           "CB"
          ],
          [
           "ST"
          ],
          [
           "CAM",
           " CM"
          ],
          [
           "CM",
           " CDM"
          ],
          [
           "CB"
          ],
          [
           "CM",
           " RB"
          ],
          [
           "ST"
          ],
          [
           "LW"
          ],
          [
           "CDM",
           " CM"
          ],
          [
           "RM",
           " CAM",
           " CM"
          ],
          [
           "RB",
           " RM"
          ],
          [
           "CM",
           " CAM",
           " RM"
          ],
          [
           "LB",
           " LM"
          ],
          [
           "CM"
          ],
          [
           "CB"
          ],
          [
           "CB"
          ],
          [
           "CM",
           " CDM"
          ],
          [
           "ST",
           " LM"
          ],
          [
           "CM",
           " CDM",
           " CAM"
          ],
          [
           "CM",
           " CDM"
          ],
          [
           "CM",
           " CDM"
          ],
          [
           "ST"
          ],
          [
           "RB"
          ],
          [
           "CDM",
           " CM"
          ],
          [
           "LM",
           " LWB",
           " LW"
          ],
          [
           "CB"
          ],
          [
           "CM",
           " CDM"
          ],
          [
           "CAM",
           " CM"
          ],
          [
           "CB"
          ],
          [
           "CDM",
           " CM"
          ],
          [
           "CM",
           " CDM"
          ],
          [
           "ST",
           " LM"
          ],
          [
           "CDM",
           " CM"
          ],
          [
           "CAM",
           " LM",
           " CM"
          ],
          [
           "CB"
          ],
          [
           "ST",
           " RM"
          ],
          [
           "LB",
           " CB"
          ],
          [
           "CB",
           " RB"
          ],
          [
           "CAM",
           " RW"
          ],
          [
           "GK"
          ],
          [
           "LM",
           " LW",
           " CF"
          ],
          [
           "GK"
          ],
          [
           "LM",
           " LW"
          ],
          [
           "LM",
           " LB"
          ],
          [
           "CB",
           " CDM"
          ],
          [
           "LM"
          ],
          [
           "LB",
           " LWB",
           " LM"
          ],
          [
           "CB"
          ],
          [
           "CM",
           " LB"
          ],
          [
           "LM",
           " RM",
           " CM"
          ],
          [
           "RW",
           " ST",
           " LW"
          ],
          [
           "LB"
          ],
          [
           "CB"
          ],
          [
           "RM",
           " RWB",
           " LWB"
          ],
          [
           "CM",
           " CDM",
           " RM"
          ],
          [
           "CDM",
           " CM"
          ],
          [
           "LM",
           " LW",
           " CAM"
          ],
          [
           "GK"
          ],
          [
           "CB",
           " CDM"
          ],
          [
           "CB"
          ],
          [
           "CM",
           " CDM",
           " CAM"
          ],
          [
           "GK"
          ],
          [
           "RB",
           " RWB"
          ],
          [
           "CB"
          ],
          [
           "CB"
          ],
          [
           "CAM",
           " CM",
           " LM"
          ],
          [
           "GK"
          ],
          [
           "CAM",
           " CM",
           " LM"
          ],
          [
           "GK"
          ],
          [
           "ST"
          ],
          [
           "RB"
          ],
          [
           "LW",
           " RW"
          ],
          [
           "CM"
          ],
          [
           "CM",
           " CDM"
          ],
          [
           "ST"
          ],
          [
           "LB"
          ],
          [
           "CM",
           " CDM"
          ],
          [
           "CDM",
           " CM"
          ],
          [
           "GK"
          ],
          [
           "LW",
           " ST",
           " LM"
          ],
          [
           "CB"
          ],
          [
           "CM"
          ],
          [
           "CDM",
           " CM"
          ],
          [
           "CB"
          ],
          [
           "RB"
          ],
          [
           "CB"
          ],
          [
           "LB",
           " LM"
          ],
          [
           "ST"
          ],
          [
           "LM",
           " LW"
          ],
          [
           "RB",
           " LB"
          ],
          [
           "ST",
           " RM"
          ],
          [
           "GK"
          ],
          [
           "LM",
           " RM",
           " CAM"
          ],
          [
           "CDM",
           " CM"
          ],
          [
           "LW",
           " CAM",
           " RM"
          ],
          [
           "ST"
          ],
          [
           "CAM",
           " CM",
           " CDM"
          ],
          [
           "GK"
          ],
          [
           "CM",
           " CDM"
          ],
          [
           "CDM",
           " CM"
          ],
          [
           "ST"
          ],
          [
           "GK"
          ],
          [
           "CB"
          ],
          [
           "GK"
          ],
          [
           "ST"
          ],
          [
           "GK"
          ],
          [
           "LB"
          ],
          [
           "RB",
           " LB"
          ],
          [
           "CB"
          ],
          [
           "ST"
          ],
          [
           "RM",
           " ST"
          ],
          [
           "CDM",
           " CM"
          ],
          [
           "CDM",
           " CM",
           " CB"
          ],
          [
           "ST"
          ],
          [
           "ST"
          ],
          [
           "ST"
          ],
          [
           "CB"
          ],
          [
           "RM"
          ],
          [
           "CB"
          ],
          [
           "ST"
          ],
          [
           "LM",
           " LW"
          ],
          [
           "CM",
           " CDM"
          ],
          [
           "ST"
          ],
          [
           "CM",
           " CAM",
           " LM"
          ],
          [
           "GK"
          ],
          [
           "CM",
           " CDM",
           " CAM"
          ],
          [
           "CDM"
          ],
          [
           "ST",
           " CF"
          ],
          [
           "GK"
          ],
          [
           "CDM",
           " CM"
          ],
          [
           "CM",
           " CDM"
          ],
          [
           "RB",
           " LB",
           " RM"
          ],
          [
           "RM",
           " RW"
          ],
          [
           "CB"
          ],
          [
           "ST"
          ],
          [
           "CB"
          ],
          [
           "CB"
          ],
          [
           "CB"
          ],
          [
           "ST"
          ],
          [
           "LB",
           " CM"
          ],
          [
           "CB"
          ],
          [
           "GK"
          ],
          [
           "RW",
           " RM"
          ],
          [
           "CB"
          ],
          [
           "RM"
          ],
          [
           "CAM",
           " RW",
           " LW"
          ],
          [
           "RM",
           " LM",
           " RW"
          ],
          [
           "ST",
           " RW",
           " LW"
          ],
          [
           "CDM"
          ],
          [
           "CM",
           " CDM"
          ],
          [
           "ST"
          ],
          [
           "CM"
          ],
          [
           "CDM",
           " CM"
          ],
          [
           "GK"
          ],
          [
           "CM",
           " CDM",
           " CF"
          ],
          [
           "ST",
           " CAM"
          ],
          [
           "RB"
          ],
          [
           "ST"
          ],
          [
           "CB"
          ],
          [
           "CM"
          ],
          [
           "CM",
           " CDM"
          ],
          [
           "CM",
           " CDM",
           " RB"
          ],
          [
           "ST"
          ],
          [
           "CM",
           " CDM"
          ],
          [
           "CM",
           " CDM"
          ],
          [
           "ST",
           " CAM"
          ],
          [
           "LM",
           " CAM",
           " CM"
          ],
          [
           "CAM",
           " CM"
          ],
          [
           "ST",
           " CAM",
           " CF"
          ],
          [
           "ST"
          ],
          [
           "ST",
           " LW"
          ],
          [
           "RM",
           " CM",
           " RB"
          ],
          [
           "ST"
          ],
          [
           "CM"
          ],
          [
           "CM",
           " CAM"
          ],
          [
           "RM",
           " RW"
          ],
          [
           "ST"
          ],
          [
           "CM",
           " CDM"
          ],
          [
           "ST",
           " RM"
          ],
          [
           "ST",
           " RM"
          ],
          [
           "CM",
           " CDM"
          ],
          [
           "RW",
           " ST"
          ],
          [
           "CM",
           " CAM",
           " CDM"
          ],
          [
           "CB",
           " RB",
           " LB"
          ],
          [
           "GK"
          ],
          [
           "RM",
           " RWB"
          ],
          [
           "CAM"
          ],
          [
           "CB"
          ],
          [
           "CB"
          ],
          [
           "CM"
          ],
          [
           "CB"
          ],
          [
           "CM",
           " RW",
           " CAM"
          ],
          [
           "CM",
           " CDM",
           " RM"
          ],
          [
           "CM",
           " CAM"
          ],
          [
           "CB"
          ],
          [
           "RB"
          ],
          [
           "CAM",
           " ST"
          ],
          [
           "LB",
           " CB"
          ],
          [
           "ST"
          ],
          [
           "CDM",
           " CB"
          ],
          [
           "CDM",
           " CB"
          ],
          [
           "GK"
          ],
          [
           "LB"
          ],
          [
           "ST"
          ],
          [
           "CB"
          ],
          [
           "LB",
           " RB"
          ],
          [
           "CM",
           " CDM"
          ],
          [
           "GK"
          ],
          [
           "CB"
          ],
          [
           "RM"
          ],
          [
           "ST"
          ],
          [
           "ST"
          ],
          [
           "LB",
           " LWB",
           " LM"
          ],
          [
           "CB"
          ],
          [
           "CAM",
           " CF"
          ],
          [
           "ST",
           " CF"
          ],
          [
           "CDM"
          ],
          [
           "CAM",
           " CF"
          ],
          [
           "RB",
           " RM",
           " CM"
          ],
          [
           "CDM",
           " CM"
          ],
          [
           "CB"
          ],
          [
           "CAM",
           " CM"
          ],
          [
           "ST"
          ],
          [
           "LW",
           " RW",
           " ST"
          ],
          [
           "GK"
          ],
          [
           "CDM",
           " CM"
          ],
          [
           "CM",
           " CDM"
          ],
          [
           "CM",
           " CDM"
          ],
          [
           "LB"
          ],
          [
           "CB"
          ],
          [
           "RM",
           " LM"
          ],
          [
           "CDM",
           " RWB"
          ],
          [
           "CAM",
           " RW",
           " RM"
          ],
          [
           "CB"
          ],
          [
           "CM",
           " CB",
           " CAM"
          ],
          [
           "CAM",
           " CM",
           " LM"
          ],
          [
           "CB"
          ],
          [
           "CAM",
           " LM",
           " RM"
          ],
          [
           "ST",
           " RW"
          ],
          [
           "LM",
           " RM",
           " RB"
          ],
          [
           "CM",
           " CAM"
          ],
          [
           "ST"
          ],
          [
           "ST",
           " LW"
          ],
          [
           "CM",
           " RW",
           " CAM"
          ],
          [
           "LM"
          ],
          [
           "CM"
          ],
          [
           "ST"
          ],
          [
           "CDM",
           " CM"
          ],
          [
           "CB"
          ],
          [
           "RM",
           " CF",
           " RW"
          ],
          [
           "GK"
          ],
          [
           "ST",
           " RW",
           " RM"
          ],
          [
           "CDM",
           " CM"
          ],
          [
           "RB"
          ],
          [
           "GK"
          ],
          [
           "ST"
          ],
          [
           "CM",
           " CAM",
           " CDM"
          ],
          [
           "LW",
           " RM",
           " LM"
          ],
          [
           "CDM",
           " CM"
          ],
          [
           "GK"
          ],
          [
           "CB",
           " LB"
          ],
          [
           "CB",
           " CDM"
          ],
          [
           "LM"
          ],
          [
           "LW",
           " ST",
           " LM"
          ],
          [
           "CM",
           " RM"
          ],
          [
           "CDM",
           " CM",
           " CB"
          ],
          [
           "CDM",
           " CM"
          ],
          [
           "GK"
          ],
          [
           "CM"
          ],
          [
           "GK"
          ],
          [
           "RM",
           " LM"
          ],
          [
           "ST"
          ],
          [
           "CB"
          ],
          [
           "CB",
           " CDM"
          ],
          [
           "CM",
           " RM",
           " CDM"
          ],
          [
           "CAM",
           " CM",
           " RW"
          ],
          [
           "CDM",
           " CM",
           " CB"
          ],
          [
           "ST",
           " CF",
           " RW"
          ],
          [
           "CB",
           " RB"
          ],
          [
           "CB",
           " RB"
          ],
          [
           "CB"
          ],
          [
           "CB"
          ],
          [
           "LM",
           " LW",
           " RM"
          ],
          [
           "GK"
          ],
          [
           "CB"
          ],
          [
           "RB",
           " RM",
           " CB"
          ],
          [
           "RM",
           " LM",
           " RW"
          ],
          [
           "LM",
           " CAM"
          ],
          [
           "CM",
           " CDM"
          ],
          [
           "CM",
           " CDM"
          ],
          [
           "CDM",
           " CM"
          ],
          [
           "LB"
          ],
          [
           "ST"
          ],
          [
           "CB"
          ],
          [
           "CM",
           " CAM"
          ],
          [
           "GK"
          ],
          [
           "LB"
          ],
          [
           "RW",
           " LW",
           " ST"
          ],
          [
           "ST"
          ],
          [
           "CB",
           " CDM"
          ],
          [
           "CB"
          ],
          [
           "CF",
           " ST"
          ],
          [
           "CM",
           " CDM",
           " CAM"
          ],
          [
           "LB"
          ],
          [
           "LM",
           " LB",
           " LWB"
          ],
          [
           "CM",
           " CAM",
           " CDM"
          ],
          [
           "CDM",
           " CM"
          ],
          [
           "CB"
          ],
          [
           "CDM",
           " CM"
          ],
          [
           "LM",
           " RM",
           " ST"
          ],
          [
           "CB"
          ],
          [
           "ST",
           " CAM"
          ],
          [
           "CAM",
           " RW",
           " CM"
          ],
          [
           "GK"
          ],
          [
           "CAM",
           " CM"
          ],
          [
           "CDM",
           " CM"
          ],
          [
           "CAM",
           " LM",
           " RM"
          ],
          [
           "CB"
          ],
          [
           "CM",
           " RM",
           " CAM"
          ],
          [
           "CAM",
           " LM"
          ],
          [
           "CDM",
           " CM"
          ],
          [
           "LW",
           " LM",
           " CF"
          ],
          [
           "CB"
          ],
          [
           "CB"
          ],
          [
           "GK"
          ],
          [
           "CM"
          ],
          [
           "CAM",
           " CM"
          ],
          [
           "LM",
           " CAM",
           " RM"
          ],
          [
           "ST",
           " LW"
          ],
          [
           "LB"
          ],
          [
           "CB"
          ],
          [
           "ST"
          ],
          [
           "CAM",
           " RM",
           " RW"
          ],
          [
           "CM",
           " CDM"
          ],
          [
           "CB",
           " CDM"
          ],
          [
           "CDM",
           " CM"
          ],
          [
           "LB",
           " LWB"
          ],
          [
           "RWB",
           " RB"
          ],
          [
           "LW",
           " RW"
          ],
          [
           "GK"
          ],
          [
           "GK"
          ],
          [
           "GK"
          ],
          [
           "CDM"
          ],
          [
           "LM"
          ],
          [
           "CB"
          ],
          [
           "LM",
           " LB"
          ],
          [
           "CB",
           " RB"
          ],
          [
           "ST"
          ],
          [
           "LB"
          ],
          [
           "LM"
          ],
          [
           "CB"
          ],
          [
           "RB"
          ],
          [
           "GK"
          ],
          [
           "GK"
          ],
          [
           "CB"
          ],
          [
           "CDM",
           " CM"
          ],
          [
           "GK"
          ],
          [
           "CB"
          ],
          [
           "CM",
           " CAM"
          ],
          [
           "CDM",
           " CAM",
           " LM"
          ],
          [
           "RB"
          ],
          [
           "GK"
          ],
          [
           "CB"
          ],
          [
           "GK"
          ],
          [
           "CB",
           " LB"
          ],
          [
           "GK"
          ],
          [
           "CAM",
           " LW"
          ],
          [
           "CB"
          ],
          [
           "ST"
          ],
          [
           "ST"
          ],
          [
           "GK"
          ],
          [
           "ST"
          ],
          [
           "CDM"
          ],
          [
           "RB",
           " RWB"
          ],
          [
           "RW",
           " LW",
           " RM"
          ],
          [
           "CDM",
           " CM"
          ],
          [
           "CDM",
           " CM"
          ],
          [
           "ST",
           " RM"
          ],
          [
           "LB"
          ],
          [
           "CAM",
           " LM",
           " CM"
          ],
          [
           "CDM",
           " CM"
          ],
          [
           "CB"
          ],
          [
           "ST"
          ],
          [
           "RB",
           " RW"
          ],
          [
           "RM",
           " CAM"
          ],
          [
           "CB"
          ],
          [
           "CAM",
           " ST",
           " CDM"
          ],
          [
           "CDM",
           " CM"
          ],
          [
           "GK"
          ],
          [
           "ST"
          ],
          [
           "CB"
          ],
          [
           "CB",
           " CDM"
          ],
          [
           "CDM",
           " CB"
          ],
          [
           "LB"
          ],
          [
           "CDM",
           " CM"
          ],
          [
           "ST"
          ],
          [
           "GK"
          ],
          [
           "CM",
           " CDM",
           " CAM"
          ],
          [
           "CDM"
          ],
          [
           "CB"
          ],
          [
           "CM",
           " CAM",
           " LM"
          ],
          [
           "LM",
           " CM"
          ],
          [
           "GK"
          ],
          [
           "LB",
           " LM"
          ],
          [
           "ST"
          ],
          [
           "CAM",
           " LW"
          ],
          [
           "ST"
          ],
          [
           "CM",
           " CDM"
          ],
          [
           "ST"
          ],
          [
           "CDM",
           " CM"
          ],
          [
           "ST",
           " CAM"
          ],
          [
           "LB",
           " LM"
          ],
          [
           "CDM",
           " CM"
          ],
          [
           "RM",
           " CM"
          ],
          [
           "CDM",
           " CM"
          ],
          [
           "CAM",
           " CM",
           " RM"
          ],
          [
           "RB",
           " LB",
           " RM"
          ],
          [
           "GK"
          ],
          [
           "CAM",
           " CF"
          ],
          [
           "CDM",
           " CM"
          ],
          [
           "GK"
          ],
          [
           "CAM"
          ],
          [
           "CAM",
           " CF"
          ],
          [
           "RB",
           " RM"
          ],
          [
           "CAM"
          ],
          [
           "GK"
          ],
          [
           "CB"
          ],
          [
           "GK"
          ],
          [
           "CM"
          ],
          [
           "ST",
           " LW"
          ],
          [
           "CAM",
           " ST"
          ],
          [
           "CM",
           " RM"
          ],
          [
           "CB"
          ],
          [
           "CM",
           " CDM"
          ],
          [
           "CB"
          ],
          [
           "ST",
           " LM"
          ],
          [
           "ST"
          ],
          [
           "CB"
          ],
          [
           "CB"
          ],
          [
           "RM",
           " ST"
          ],
          [
           "ST",
           " CAM",
           " CF"
          ],
          [
           "CAM"
          ],
          [
           "CM",
           " ST"
          ],
          [
           "CB",
           " CDM"
          ],
          [
           "LM",
           " RB"
          ],
          [
           "LB",
           " RM"
          ],
          [
           "CM",
           " CDM",
           " CAM"
          ],
          [
           "GK"
          ],
          [
           "CAM",
           " LM"
          ],
          [
           "CM"
          ],
          [
           "CDM",
           " CM",
           " CB"
          ],
          [
           "RM",
           " CM",
           " LM"
          ],
          [
           "CM",
           " CDM"
          ],
          [
           "CB"
          ],
          [
           "CAM",
           " CM"
          ],
          [
           "CM",
           " CDM"
          ],
          [
           "CM",
           " CDM"
          ],
          [
           "GK"
          ],
          [
           "LM",
           " RM"
          ],
          [
           "RB",
           " RWB",
           " RM"
          ],
          [
           "RM",
           " LM"
          ],
          [
           "ST",
           " LW"
          ],
          [
           "ST"
          ],
          [
           "CAM",
           " CM"
          ],
          [
           "CB",
           " RB"
          ],
          [
           "CB"
          ],
          [
           "RB",
           " RM"
          ],
          [
           "CB"
          ],
          [
           "ST"
          ],
          [
           "CAM",
           " ST"
          ],
          [
           "LM",
           " RM",
           " CAM"
          ],
          [
           "LB"
          ],
          [
           "LW",
           " RM"
          ],
          [
           "RM"
          ],
          [
           "RB",
           " RM"
          ],
          [
           "CDM",
           " CM"
          ],
          [
           "CB"
          ],
          [
           "CDM",
           " CM"
          ],
          [
           "CAM",
           " CM"
          ],
          [
           "CM",
           " CAM",
           " RM"
          ],
          [
           "LW",
           " ST",
           " RW"
          ],
          [
           "RB",
           " RW"
          ],
          [
           "CAM"
          ],
          [
           "LB"
          ],
          [
           "RB",
           " CB"
          ],
          [
           "GK"
          ],
          [
           "CM",
           " CDM"
          ],
          [
           "LB"
          ],
          [
           "CM",
           " CAM",
           " CDM"
          ],
          [
           "RB",
           " RWB"
          ],
          [
           "CM",
           " LWB",
           " LM"
          ],
          [
           "CDM",
           " CM"
          ],
          [
           "CB",
           " RB"
          ],
          [
           "LM",
           " RM",
           " CAM"
          ],
          [
           "CF",
           " CAM",
           " ST"
          ],
          [
           "RM",
           " LW"
          ],
          [
           "CB",
           " RB"
          ],
          [
           "RB",
           " LB"
          ],
          [
           "CF",
           " ST",
           " CAM"
          ],
          [
           "GK"
          ],
          [
           "RB",
           " RM"
          ],
          [
           "CM",
           " CDM"
          ],
          [
           "RM",
           " CF",
           " RW"
          ],
          [
           "LW",
           " RW",
           " LM"
          ],
          [
           "CB",
           " LB"
          ],
          [
           "RM",
           " LM"
          ],
          [
           "RM",
           " LM"
          ],
          [
           "ST"
          ],
          [
           "RB",
           " RWB"
          ],
          [
           "GK"
          ],
          [
           "CM",
           " CDM"
          ],
          [
           "RW",
           " RM"
          ],
          [
           "ST"
          ],
          [
           "CAM",
           " CM",
           " RW"
          ],
          [
           "ST"
          ],
          [
           "CB"
          ],
          [
           "RM",
           " LM"
          ],
          [
           "CB"
          ],
          [
           "CDM",
           " CM"
          ],
          [
           "CDM",
           " CM"
          ],
          [
           "CB"
          ],
          [
           "CM",
           " LW"
          ],
          [
           "CF",
           " CAM"
          ],
          [
           "CM",
           " CDM"
          ],
          [
           "ST"
          ],
          [
           "ST"
          ],
          [
           "CB"
          ],
          [
           "CB",
           " LB"
          ],
          [
           "ST"
          ],
          [
           "CM",
           " CAM",
           " CDM"
          ],
          [
           "LM"
          ],
          [
           "CB"
          ],
          [
           "RB",
           " RM"
          ],
          [
           "RW",
           " RM"
          ],
          [
           "LB",
           " RB"
          ],
          [
           "CDM",
           " CM"
          ],
          [
           "ST"
          ],
          [
           "RM"
          ],
          [
           "LB",
           " LM"
          ],
          [
           "LM",
           " CAM"
          ],
          [
           "ST",
           " LW"
          ],
          [
           "CM",
           " CAM",
           " LM"
          ],
          [
           "CB"
          ],
          [
           "CB"
          ],
          [
           "CB"
          ],
          [
           "LB"
          ],
          [
           "LM",
           " RM"
          ],
          [
           "LM"
          ],
          [
           "RW",
           " LM",
           " RM"
          ],
          [
           "CB",
           " CDM"
          ],
          [
           "CM",
           " CDM"
          ],
          [
           "CAM",
           " CM",
           " LM"
          ],
          [
           "LB"
          ],
          [
           "LW"
          ],
          [
           "RM",
           " ST",
           " LM"
          ],
          [
           "ST",
           " CAM"
          ],
          [
           "RM",
           " CAM",
           " LM"
          ],
          [
           "CM",
           " CDM",
           " CAM"
          ],
          [
           "RW",
           " RM",
           " CAM"
          ],
          [
           "GK"
          ],
          [
           "RB",
           " RM"
          ],
          [
           "CB"
          ],
          [
           "CB",
           " RB",
           " LB"
          ],
          [
           "CDM",
           " CM"
          ],
          [
           "GK"
          ],
          [
           "GK"
          ],
          [
           "LB",
           " LM",
           " CAM"
          ],
          [
           "RB",
           " RM"
          ],
          [
           "CB",
           " CDM"
          ],
          [
           "CDM"
          ],
          [
           "ST",
           " CF"
          ],
          [
           "CB",
           " CDM"
          ],
          [
           "GK"
          ],
          [
           "ST",
           " RM",
           " CAM"
          ],
          [
           "LM"
          ],
          [
           "LM"
          ],
          [
           "CB",
           " RB",
           " LB"
          ],
          [
           "CDM"
          ],
          [
           "ST",
           " CF"
          ],
          [
           "LM"
          ],
          [
           "CB"
          ],
          [
           "RB"
          ],
          [
           "CDM",
           " CM"
          ],
          [
           "GK"
          ],
          [
           "CM",
           " CDM",
           " RWB"
          ],
          [
           "CAM",
           " CM"
          ],
          [
           "LM",
           " LW",
           " LB"
          ],
          [
           "CM",
           " CDM"
          ],
          [
           "RW"
          ],
          [
           "LW",
           " RW"
          ],
          [
           "CB"
          ],
          [
           "LM"
          ],
          [
           "ST",
           " CAM",
           " LM"
          ],
          [
           "ST"
          ],
          [
           "RW",
           " CM",
           " RM"
          ],
          [
           "GK"
          ],
          [
           "LM"
          ],
          [
           "GK"
          ],
          [
           "RB",
           " LB",
           " RM"
          ],
          [
           "LW",
           " CAM"
          ],
          [
           "CB",
           " RB",
           " LB"
          ],
          [
           "LW",
           " RW",
           " ST"
          ],
          [
           "RM"
          ],
          [
           "ST"
          ],
          [
           "ST"
          ],
          [
           "LM",
           " RM",
           " RB"
          ],
          [
           "RWB",
           " RB",
           " RM"
          ],
          [
           "CM",
           " LM"
          ],
          [
           "CB"
          ],
          [
           "CM"
          ],
          [
           "CB",
           " LB"
          ],
          [
           "LM",
           " RW",
           " CF"
          ],
          [
           "RM",
           " RW"
          ],
          [
           "GK"
          ],
          [
           "RM",
           " RW"
          ],
          [
           "RW",
           " LW"
          ],
          [
           "LM",
           " LB"
          ],
          [
           "CB"
          ],
          [
           "CF",
           " RW",
           " ST"
          ],
          [
           "RM"
          ],
          [
           "RB",
           " LB",
           " RM"
          ],
          [
           "CM",
           " CDM"
          ],
          [
           "ST"
          ],
          [
           "LM"
          ],
          [
           "ST",
           " CF"
          ],
          [
           "CDM",
           " CM",
           " CAM"
          ],
          [
           "RW",
           " LW",
           " ST"
          ],
          [
           "GK"
          ],
          [
           "LW"
          ],
          [
           "CB"
          ],
          [
           "RW"
          ],
          [
           "LM"
          ],
          [
           "CB",
           " RB",
           " LB"
          ],
          [
           "CM",
           " CDM"
          ],
          [
           "LB"
          ],
          [
           "CDM",
           " CAM",
           " CM"
          ],
          [
           "CDM",
           " CM"
          ],
          [
           "CAM"
          ],
          [
           "RM",
           " CM",
           " RW"
          ],
          [
           "CAM",
           " CM",
           " LW"
          ],
          [
           "CM",
           " CAM",
           " CDM"
          ],
          [
           "CM",
           " CDM",
           " CAM"
          ],
          [
           "RB",
           " CB"
          ],
          [
           "ST",
           " RM"
          ],
          [
           "RM",
           " RW"
          ],
          [
           "CAM",
           " CM"
          ],
          [
           "RM",
           " RW",
           " ST"
          ],
          [
           "ST",
           " RM"
          ],
          [
           "LB"
          ],
          [
           "CDM",
           " CM"
          ],
          [
           "CB",
           " RB",
           " LB"
          ],
          [
           "CF",
           " ST",
           " CAM"
          ],
          [
           "CB"
          ],
          [
           "RM",
           " LM"
          ],
          [
           "ST"
          ],
          [
           "CB"
          ],
          [
           "ST",
           " RW",
           " LW"
          ],
          [
           "LM",
           " CF",
           " RM"
          ],
          [
           "ST",
           " LM",
           " LW"
          ],
          [
           "CM"
          ],
          [
           "ST"
          ],
          [
           "CB"
          ],
          [
           "CB",
           " CDM"
          ],
          [
           "CM"
          ],
          [
           "CAM",
           " LM",
           " RW"
          ],
          [
           "RM",
           " LM"
          ],
          [
           "CDM",
           " CB"
          ],
          [
           "RB",
           " CB"
          ],
          [
           "CM",
           " CDM"
          ],
          [
           "CB"
          ],
          [
           "CB"
          ],
          [
           "RM",
           " LM"
          ],
          [
           "CDM",
           " CM"
          ],
          [
           "LM",
           " ST"
          ],
          [
           "CM"
          ],
          [
           "RB"
          ],
          [
           "CAM",
           " CM"
          ],
          [
           "RB",
           " CB"
          ],
          [
           "CB"
          ],
          [
           "CB"
          ],
          [
           "LB"
          ],
          [
           "CB"
          ],
          [
           "CM",
           " CDM"
          ],
          [
           "CDM",
           " CM",
           " CB"
          ],
          [
           "CDM",
           " CM"
          ],
          [
           "GK"
          ],
          [
           "CM",
           " CDM"
          ],
          [
           "CAM",
           " CM",
           " LW"
          ],
          [
           "CDM",
           " CM",
           " CB"
          ],
          [
           "GK"
          ],
          [
           "RB"
          ],
          [
           "RB"
          ],
          [
           "CAM",
           " RM"
          ],
          [
           "CM"
          ],
          [
           "CDM"
          ],
          [
           "CDM",
           " CB"
          ],
          [
           "LW",
           " RW"
          ],
          [
           "CM"
          ],
          [
           "LB"
          ],
          [
           "CB"
          ],
          [
           "RB"
          ],
          [
           "CM",
           " CDM"
          ],
          [
           "CB",
           " RB"
          ],
          [
           "RB",
           " RM",
           " CM"
          ],
          [
           "ST"
          ],
          [
           "RM",
           " LM"
          ],
          [
           "CAM",
           " ST",
           " LM"
          ],
          [
           "ST",
           " RM"
          ],
          [
           "LW"
          ],
          [
           "CDM"
          ],
          [
           "GK"
          ],
          [
           "ST",
           " LM",
           " LW"
          ],
          [
           "LB"
          ],
          [
           "LB",
           " LWB",
           " RB"
          ],
          [
           "CAM",
           " CM"
          ],
          [
           "CB"
          ],
          [
           "CB",
           " RB"
          ],
          [
           "CDM",
           " CM"
          ],
          [
           "RB"
          ],
          [
           "GK"
          ],
          [
           "CB"
          ],
          [
           "CB",
           " LB"
          ],
          [
           "CAM",
           " LM",
           " RM"
          ],
          [
           "CDM",
           " CM"
          ],
          [
           "RB",
           " RM"
          ],
          [
           "CM",
           " CDM"
          ],
          [
           "CB"
          ],
          [
           "CAM",
           " CM"
          ],
          [
           "CAM",
           " CM",
           " CDM"
          ],
          [
           "CB"
          ],
          [
           "GK"
          ],
          [
           "CDM",
           " CM"
          ],
          [
           "ST"
          ],
          [
           "LM",
           " RM"
          ],
          [
           "ST"
          ],
          [
           "LM",
           " RM",
           " ST"
          ],
          [
           "RM",
           " RW",
           " LM"
          ],
          [
           "LW"
          ],
          [
           "LW",
           " LM"
          ],
          [
           "CB"
          ],
          [
           "CM"
          ],
          [
           "ST"
          ],
          [
           "CDM",
           " CM"
          ],
          [
           "CM",
           " CDM",
           " CAM"
          ],
          [
           "ST"
          ],
          [
           "CM",
           " CDM"
          ],
          [
           "CM",
           " CDM"
          ],
          [
           "CDM",
           " CM"
          ],
          [
           "CB"
          ],
          [
           "GK"
          ],
          [
           "CM"
          ],
          [
           "LWB",
           " LB"
          ],
          [
           "CDM",
           " CM"
          ],
          [
           "GK"
          ],
          [
           "ST"
          ],
          [
           "LWB",
           " LB",
           " LM"
          ],
          [
           "LM",
           " LWB"
          ],
          [
           "CAM",
           " CM"
          ],
          [
           "CAM",
           " RM",
           " LM"
          ],
          [
           "RB",
           " CB",
           " RM"
          ],
          [
           "CF",
           " ST",
           " CAM"
          ],
          [
           "CDM",
           " CM"
          ],
          [
           "ST"
          ],
          [
           "CM",
           " CAM"
          ],
          [
           "CM",
           " RM"
          ],
          [
           "RM"
          ],
          [
           "CAM",
           " RM",
           " CM"
          ],
          [
           "LW",
           " RW",
           " LM"
          ],
          [
           "CM",
           " CDM",
           " CAM"
          ],
          [
           "ST"
          ],
          [
           "CM",
           " CDM"
          ],
          [
           "RM",
           " LM",
           " ST"
          ],
          [
           "CDM",
           " CM"
          ],
          [
           "RM"
          ],
          [
           "LB",
           " LWB"
          ],
          [
           "CM",
           " CDM"
          ],
          [
           "CDM",
           " CM"
          ],
          [
           "RM",
           " RB"
          ],
          [
           "ST",
           " LW"
          ],
          [
           "GK"
          ],
          [
           "RW",
           " CF",
           " LW"
          ],
          [
           "ST"
          ],
          [
           "LB"
          ],
          [
           "CM",
           " CAM",
           " RW"
          ],
          [
           "RM",
           " LM"
          ],
          [
           "RB"
          ],
          [
           "GK"
          ],
          [
           "CM",
           " CAM"
          ],
          [
           "GK"
          ],
          [
           "CAM",
           " LW"
          ],
          [
           "RB",
           " CM"
          ],
          [
           "LB",
           " LM"
          ],
          [
           "CB",
           " LB"
          ],
          [
           "CAM",
           " CM"
          ],
          [
           "CM"
          ],
          [
           "LWB",
           " LB",
           " RB"
          ],
          [
           "CB",
           " CDM"
          ],
          [
           "LB"
          ],
          [
           "CB"
          ],
          [
           "GK"
          ],
          [
           "CB",
           " CDM"
          ],
          [
           "GK"
          ],
          [
           "LB",
           " CB"
          ],
          [
           "GK"
          ],
          [
           "CB"
          ],
          [
           "CB",
           " RB",
           " LB"
          ],
          [
           "CB"
          ],
          [
           "CB",
           " LB"
          ],
          [
           "GK"
          ],
          [
           "RB"
          ],
          [
           "LM",
           " CM",
           " CAM"
          ],
          [
           "LM",
           " CM",
           " CAM"
          ],
          [
           "RB"
          ],
          [
           "ST"
          ],
          [
           "CM",
           " LM",
           " RM"
          ],
          [
           "ST",
           " CAM",
           " LW"
          ],
          [
           "CAM",
           " CDM",
           " CM"
          ],
          [
           "LW",
           " ST"
          ],
          [
           "CB",
           " LB"
          ],
          [
           "RB",
           " RM"
          ],
          [
           "CAM",
           " CM",
           " RM"
          ],
          [
           "CDM",
           " CM",
           " CB"
          ],
          [
           "GK"
          ],
          [
           "CB"
          ],
          [
           "CAM",
           " CM",
           " RM"
          ],
          [
           "CB"
          ],
          [
           "LW"
          ],
          [
           "LB",
           " LWB"
          ],
          [
           "ST"
          ],
          [
           "CB"
          ],
          [
           "CAM",
           " CM",
           " RM"
          ],
          [
           "CAM",
           " LM"
          ],
          [
           "LWB",
           " LM",
           " LB"
          ],
          [
           "RB"
          ],
          [
           "RW",
           " LW"
          ],
          [
           "CB"
          ],
          [
           "RB"
          ],
          [
           "RB"
          ],
          [
           "CDM",
           " CM"
          ],
          [
           "CAM",
           " LM",
           " RM"
          ],
          [
           "RM",
           " LM",
           " RW"
          ],
          [
           "ST",
           " CF"
          ],
          [
           "ST",
           " LM"
          ],
          [
           "ST",
           " RM"
          ],
          [
           "RW"
          ],
          [
           "CM",
           " RM",
           " CDM"
          ],
          [
           "RM",
           " ST",
           " LM"
          ],
          [
           "ST"
          ],
          [
           "GK"
          ],
          [
           "GK"
          ],
          [
           "ST",
           " CF"
          ],
          [
           "CM"
          ],
          [
           "GK"
          ],
          [
           "CDM"
          ],
          [
           "CB",
           " RB"
          ],
          [
           "CB"
          ],
          [
           "CM",
           " CDM"
          ],
          [
           "GK"
          ],
          [
           "CB"
          ],
          [
           "GK"
          ],
          [
           "GK"
          ],
          [
           "RB",
           " CDM"
          ],
          [
           "GK"
          ],
          [
           "RB"
          ],
          [
           "CAM",
           " ST",
           " RW"
          ],
          [
           "GK"
          ],
          [
           "RM",
           " LM"
          ],
          [
           "CAM",
           " CM"
          ],
          [
           "GK"
          ],
          [
           "CAM"
          ],
          [
           "CB"
          ],
          [
           "CM",
           " LM",
           " CAM"
          ],
          [
           "CDM"
          ],
          [
           "CDM"
          ],
          [
           "CDM",
           " CM"
          ],
          [
           "LB"
          ],
          [
           "CB"
          ],
          [
           "GK"
          ],
          [
           "CAM",
           " CM",
           " RM"
          ],
          [
           "RM",
           " RB"
          ],
          [
           "CB"
          ],
          [
           "GK"
          ],
          [
           "CM",
           " CDM"
          ],
          [
           "CDM",
           " CM",
           " CB"
          ],
          [
           "ST"
          ],
          [
           "CM"
          ],
          [
           "RB",
           " RM"
          ],
          [
           "GK"
          ],
          [
           "GK"
          ],
          [
           "RM",
           " RB"
          ],
          [
           "CAM"
          ],
          [
           "CM",
           " CDM",
           " CB"
          ],
          [
           "LB",
           " LM"
          ],
          [
           "CB"
          ],
          [
           "CDM",
           " CM"
          ],
          [
           "GK"
          ],
          [
           "CM"
          ],
          [
           "CB"
          ],
          [
           "CM",
           " CAM"
          ],
          [
           "CM",
           " CDM"
          ],
          [
           "RM",
           " RB"
          ],
          [
           "CB"
          ],
          [
           "GK"
          ],
          [
           "ST",
           " RM"
          ],
          [
           "ST"
          ],
          [
           "ST"
          ],
          [
           "ST",
           " LW"
          ],
          [
           "CAM",
           " CM",
           " LM"
          ],
          [
           "ST"
          ],
          [
           "ST"
          ],
          [
           "GK"
          ],
          [
           "CDM"
          ],
          [
           "GK"
          ],
          [
           "CM",
           " CDM"
          ],
          [
           "CB"
          ],
          [
           "CB"
          ],
          [
           "CB",
           " CDM"
          ],
          [
           "ST"
          ],
          [
           "CDM",
           " CB"
          ],
          [
           "CB",
           " CDM",
           " RB"
          ],
          [
           "RM",
           " CF",
           " LM"
          ],
          [
           "GK"
          ],
          [
           "ST"
          ],
          [
           "CDM",
           " CM"
          ],
          [
           "CB"
          ],
          [
           "CB"
          ],
          [
           "ST"
          ],
          [
           "CB"
          ],
          [
           "CM"
          ],
          [
           "LB",
           " RB"
          ],
          [
           "ST",
           " RM"
          ],
          [
           "CM",
           " CDM",
           " CAM"
          ],
          [
           "CM",
           " CDM"
          ],
          [
           "CM"
          ],
          [
           "CB"
          ],
          [
           "GK"
          ],
          [
           "LB",
           " LWB"
          ],
          [
           "CM"
          ],
          [
           "CAM",
           " RM",
           " CF"
          ],
          [
           "LWB",
           " RM"
          ],
          [
           "CB"
          ],
          [
           "ST"
          ],
          [
           "CDM",
           " CM"
          ],
          [
           "CB"
          ],
          [
           "RB",
           " CM"
          ],
          [
           "RM",
           " CAM"
          ],
          [
           "CDM",
           " CM"
          ],
          [
           "CM",
           " LM"
          ],
          [
           "GK"
          ],
          [
           "GK"
          ],
          [
           "RB"
          ],
          [
           "ST"
          ],
          [
           "LM",
           " RM",
           " ST"
          ],
          [
           "ST"
          ],
          [
           "CAM",
           " LM",
           " RM"
          ],
          [
           "RB"
          ],
          [
           "LWB",
           " LB",
           " LM"
          ],
          [
           "LM",
           " RM"
          ],
          [
           "RB",
           " LB"
          ],
          [
           "ST"
          ],
          [
           "ST"
          ],
          [
           "ST",
           " RM",
           " LM"
          ],
          [
           "ST"
          ],
          [
           "RM",
           " RW"
          ],
          [
           "CDM",
           " CM"
          ],
          [
           "CB"
          ],
          [
           "CDM",
           " CM"
          ],
          [
           "CDM",
           " CM"
          ]
         ],
         "type": "scatter",
         "x": [
          21.346641540527344,
          21.965612411499023,
          22.414840698242188,
          -7.1126861572265625,
          22.501680374145508,
          11.824459075927734,
          -20.416284561157227,
          -12.582695960998535,
          8.45720100402832,
          21.862079620361328,
          22.977800369262695,
          -44.66605758666992,
          34.1467399597168,
          -15.133413314819336,
          -12.799661636352539,
          -23.38040542602539,
          -43.34465026855469,
          39.16899108886719,
          -1.4824278354644775,
          34.374122619628906,
          40.30632400512695,
          5.808440208435059,
          11.97880744934082,
          22.968042373657227,
          11.846138954162598,
          -12.303084373474121,
          26.71110725402832,
          18.727048873901367,
          -9.430423736572266,
          -8.430245399475098,
          -14.0488920211792,
          -14.56089973449707,
          -14.163656234741211,
          21.01972198486328,
          34.8159294128418,
          -23.4573917388916,
          12.636616706848145,
          19.698766708374023,
          22.380205154418945,
          23.14824676513672,
          -22.38528060913086,
          18.406803131103516,
          -1.605232834815979,
          21.583337783813477,
          -0.817771315574646,
          -11.777094841003418,
          32.058128356933594,
          -10.907161712646484,
          21.655975341796875,
          -8.368470191955566,
          -11.749577522277832,
          -9.983880043029785,
          8.454235076904297,
          -13.388678550720215,
          26.946630477905273,
          23.68012237548828,
          -34.092716217041016,
          -43.691287994384766,
          -0.36330080032348633,
          -11.83651351928711,
          -14.783352851867676,
          -12.710395812988281,
          19.767559051513672,
          12.817913055419922,
          8.79811954498291,
          -0.6804072856903076,
          19.6286678314209,
          -10.685516357421875,
          17.224308013916016,
          12.680745124816895,
          16.170934677124023,
          40.45867156982422,
          40.041595458984375,
          -22.679994583129883,
          -8.378570556640625,
          -12.523431777954102,
          -41.838470458984375,
          -42.979671478271484,
          4.18602991104126,
          -16.118749618530273,
          4.048727989196777,
          -1.8759504556655884,
          -14.691313743591309,
          -43.72313690185547,
          -33.832942962646484,
          10.605511665344238,
          -11.802695274353027,
          -20.363340377807617,
          -17.01373863220215,
          49.35601806640625,
          -45.32474136352539,
          -14.594708442687988,
          -2.180053234100342,
          51.06580352783203,
          -26.58538246154785,
          18.57588768005371,
          52.759544372558594,
          20.84980583190918,
          46.90489196777344,
          -23.321470260620117,
          13.927803993225098,
          -9.282508850097656,
          -1.524084210395813,
          -15.077645301818848,
          38.46488571166992,
          1.996705412864685,
          23.923667907714844,
          -22.65420150756836,
          32.667606353759766,
          30.868053436279297,
          24.288320541381836,
          -24.8528995513916,
          -13.804253578186035,
          2.018148899078369,
          -27.505308151245117,
          -1.7814728021621704,
          38.18183135986328,
          -8.874348640441895,
          31.543996810913086,
          28.26787567138672,
          24.467527389526367,
          38.14852523803711,
          -13.678791046142578,
          31.99591636657715,
          -2.2034406661987305,
          -22.48493194580078,
          -42.61372756958008,
          14.624167442321777,
          -39.788909912109375,
          9.223275184631348,
          -16.405696868896484,
          -16.93699836730957,
          7.772470951080322,
          -39.69928741455078,
          -0.4841671288013458,
          42.884910583496094,
          -22.67572784423828,
          -15.689449310302734,
          54.081722259521484,
          -3.1520607471466064,
          9.9926176071167,
          18.61408042907715,
          -0.16696251928806305,
          -33.7275276184082,
          -10.467145919799805,
          16.43907356262207,
          8.532332420349121,
          1.0577166080474854,
          -15.86591625213623,
          19.655332565307617,
          21.564678192138672,
          10.369324684143066,
          31.63961410522461,
          30.424457550048828,
          20.272869110107422,
          15.87534236907959,
          -43.51863098144531,
          6.711863040924072,
          -43.69148635864258,
          6.8634033203125,
          -13.854779243469238,
          38.58332824707031,
          49.16714096069336,
          23.194997787475586,
          14.735928535461426,
          -42.7527961730957,
          1.0237715244293213,
          -18.062013626098633,
          27.273441314697266,
          24.793413162231445,
          -41.738887786865234,
          22.534103393554688,
          -36.19218826293945,
          -2.009958505630493,
          -14.225687026977539,
          24.470233917236328,
          8.1192626953125,
          -42.090476989746094,
          31.254039764404297,
          -14.064766883850098,
          23.45644187927246,
          -15.856169700622559,
          27.245439529418945,
          56.673526763916016,
          -16.657560348510742,
          34.66857147216797,
          34.42084503173828,
          47.006797790527344,
          50.07256317138672,
          0.11398710310459137,
          7.637558460235596,
          -38.80587387084961,
          20.925949096679688,
          -17.584766387939453,
          -14.2060546875,
          19.647132873535156,
          -14.39939022064209,
          26.556116104125977,
          20.001056671142578,
          3.5404281616210938,
          -24.309385299682617,
          -8.620196342468262,
          -24.17214012145996,
          -17.807003021240234,
          -31.570266723632812,
          40.68906021118164,
          -13.121018409729004,
          48.24811935424805,
          -35.71617126464844,
          36.026878356933594,
          -17.53253173828125,
          -13.906888008117676,
          0.21753273904323578,
          7.8513054847717285,
          39.49641418457031,
          2.6898109912872314,
          -8.848560333251953,
          31.41570472717285,
          0.6528889536857605,
          12.965269088745117,
          2.790910243988037,
          -0.5996688604354858,
          -0.7213755249977112,
          -22.920269012451172,
          -22.97657585144043,
          -6.465028762817383,
          -24.069255828857422,
          -1.82234787940979,
          25.024032592773438,
          0.4773848056793213,
          21.33568000793457,
          -25.775367736816406,
          -22.125171661376953,
          39.7508659362793,
          55.39990997314453,
          -41.43052673339844,
          24.349340438842773,
          38.67486572265625,
          27.464168548583984,
          22.64936637878418,
          -7.491925239562988,
          38.98074722290039,
          -18.36906623840332,
          -4.430877208709717,
          -23.40213966369629,
          0.7765058875083923,
          -40.69702911376953,
          30.831737518310547,
          -7.2558207511901855,
          -28.57402992248535,
          -11.096997261047363,
          -8.095317840576172,
          -42.686683654785156,
          18.36382484436035,
          26.768274307250977,
          23.870086669921875,
          21.565645217895508,
          -18.74791717529297,
          -16.518680572509766,
          8.367451667785645,
          -23.989830017089844,
          47.22864532470703,
          -33.62002944946289,
          -40.16222381591797,
          -10.794859886169434,
          -13.164728164672852,
          -23.630048751831055,
          -19.645627975463867,
          -8.264062881469727,
          19.216781616210938,
          10.402763366699219,
          -13.013968467712402,
          -17.499887466430664,
          49.57654571533203,
          -14.944877624511719,
          -31.5734920501709,
          34.60451889038086,
          -40.628517150878906,
          -32.51908493041992,
          -12.87154483795166,
          -22.551359176635742,
          18.06702423095703,
          32.784461975097656,
          -4.271972179412842,
          20.307260513305664,
          15.42772102355957,
          -13.869491577148438,
          -9.376936912536621,
          56.36903381347656,
          -10.57838249206543,
          11.085536003112793,
          0.28049761056900024,
          -8.476845741271973,
          -17.868043899536133,
          -23.934114456176758,
          41.49442672729492,
          59.57035446166992,
          -28.186138153076172,
          18.277883529663086,
          -23.609695434570312,
          36.704673767089844,
          33.26009750366211,
          36.51694107055664,
          -1.0099742412567139,
          49.001583099365234,
          18.9847354888916,
          26.352697372436523,
          59.98551940917969,
          1.9949657917022705,
          23.723251342773438,
          54.22420120239258,
          19.389198303222656,
          -0.14223963022232056,
          30.97661590576172,
          -23.50165367126465,
          -21.126094818115234,
          26.023059844970703,
          -13.342330932617188,
          31.611438751220703,
          12.918495178222656,
          25.023086547851562,
          37.700408935546875,
          55.469486236572266,
          13.656941413879395,
          -25.48493003845215,
          -10.860220909118652,
          -20.422147750854492,
          -41.40924835205078,
          19.886764526367188,
          37.7902717590332,
          6.070278167724609,
          -7.725934028625488,
          -25.42068862915039,
          -21.1804141998291,
          3.7611730098724365,
          -32.64250946044922,
          -3.7926228046417236,
          5.657196521759033,
          -17.250205993652344,
          -12.47724723815918,
          24.990163803100586,
          -2.7489285469055176,
          -10.940767288208008,
          -0.645087718963623,
          19.126020431518555,
          -16.50369644165039,
          13.926817893981934,
          -26.923595428466797,
          35.6700325012207,
          -20.8553524017334,
          -25.081884384155273,
          -17.634204864501953,
          -31.77420997619629,
          36.368038177490234,
          11.46731185913086,
          22.363361358642578,
          -20.64359474182129,
          -2.6516828536987305,
          11.012601852416992,
          -13.990591049194336,
          -44.769840240478516,
          -0.014507308602333069,
          34.67458724975586,
          8.167476654052734,
          -7.362090110778809,
          -25.368385314941406,
          -1.863665223121643,
          40.52113342285156,
          56.85566329956055,
          36.787384033203125,
          -9.397930145263672,
          -1.2358707189559937,
          42.21268081665039,
          54.228641510009766,
          -13.07060718536377,
          20.234445571899414,
          -11.65885066986084,
          -35.34954833984375,
          -34.76408004760742,
          7.392578125,
          -28.406599044799805,
          1.5351251363754272,
          -5.497782230377197,
          36.743648529052734,
          42.06696701049805,
          9.09861946105957,
          -14.931114196777344,
          -21.169801712036133,
          -12.174569129943848,
          -13.57992935180664,
          -15.513734817504883,
          -15.69972038269043,
          33.65930938720703,
          37.12158966064453,
          -25.00209617614746,
          -38.025840759277344,
          0.7991294860839844,
          1.4024715423583984,
          14.635810852050781,
          -16.01179313659668,
          -3.3542845249176025,
          36.31371307373047,
          13.289505004882812,
          10.274031639099121,
          6.009652137756348,
          -3.0735960006713867,
          52.46873474121094,
          -11.02999496459961,
          52.46360397338867,
          55.398441314697266,
          52.877262115478516,
          37.536895751953125,
          -3.155404567718506,
          -36.612464904785156,
          -42.37354278564453,
          -17.71407699584961,
          10.011990547180176,
          -28.12087631225586,
          5.84341287612915,
          -43.30265808105469,
          -18.61205291748047,
          50.59357452392578,
          11.672616958618164,
          -14.338571548461914,
          -12.888788223266602,
          2.371919870376587,
          -43.66992950439453,
          -8.3290376663208,
          -31.5572566986084,
          -28.263416290283203,
          41.55356216430664,
          -10.78023910522461,
          15.223706245422363,
          44.42152404785156,
          31.947265625,
          -32.37588882446289,
          -14.975994110107422,
          -31.637170791625977,
          54.39982604980469,
          -1.555461049079895,
          -26.195964813232422,
          -10.002363204956055,
          -32.716556549072266,
          -35.713138580322266,
          -9.889801979064941,
          36.788169860839844,
          -28.78346824645996,
          8.226225852966309,
          -26.801437377929688,
          39.32439422607422,
          -0.6995344161987305,
          -3.5516304969787598,
          8.666045188903809,
          -22.370155334472656,
          28.044036865234375,
          -11.46585750579834,
          -17.80377769470215,
          -29.47629737854004,
          36.92391586303711,
          22.600141525268555,
          -17.809860229492188,
          39.43105697631836,
          -38.9253044128418,
          23.705663681030273,
          14.113570213317871,
          42.473262786865234,
          -12.574658393859863,
          -16.011947631835938,
          -33.74470901489258,
          13.569986343383789,
          -24.371028900146484,
          -42.97898483276367,
          -0.4017196595668793,
          42.55305099487305,
          -24.720529556274414,
          2.9062135219573975,
          -31.69849395751953,
          -16.61487579345703,
          -35.01640701293945,
          11.227226257324219,
          10.088096618652344,
          14.174429893493652,
          43.0760383605957,
          -4.4447922706604,
          -12.533282279968262,
          -18.6286563873291,
          -25.738391876220703,
          28.419754028320312,
          17.01959991455078,
          -11.84628963470459,
          42.011783599853516,
          -29.859216690063477,
          -22.279563903808594,
          -14.224288940429688,
          47.63916015625,
          60.88994216918945,
          -16.69124984741211,
          -5.883685111999512,
          -19.28572654724121,
          -12.902441024780273,
          -19.05730628967285,
          47.85542678833008,
          -28.42157745361328,
          -12.903852462768555,
          36.51659393310547,
          4.50933313369751,
          -20.430458068847656,
          1.4259480237960815,
          -19.488237380981445,
          25.612960815429688,
          13.059553146362305,
          -21.35738182067871,
          -2.149658203125,
          35.01206970214844,
          -22.523847579956055,
          -38.852142333984375,
          1.1636406183242798,
          -9.742164611816406,
          -23.338329315185547,
          -25.639421463012695,
          -6.820150852203369,
          -25.926769256591797,
          37.24403381347656,
          18.41546058654785,
          32.68178939819336,
          -16.899951934814453,
          -29.351951599121094,
          -10.211536407470703,
          16.774423599243164,
          37.51871871948242,
          0.3478856682777405,
          -13.51076602935791,
          36.58580017089844,
          3.2751474380493164,
          -27.09684944152832,
          -31.163227081298828,
          14.727167129516602,
          -16.45318603515625,
          -27.048786163330078,
          12.208730697631836,
          12.697060585021973,
          56.642295837402344,
          -34.486236572265625,
          19.61293601989746,
          40.97170639038086,
          -39.9039421081543,
          19.746837615966797,
          33.697059631347656,
          18.587202072143555,
          -16.74135398864746,
          -5.701582908630371,
          -35.842247009277344,
          38.19979476928711,
          -29.848371505737305,
          23.838300704956055,
          36.55280303955078,
          38.88186264038086,
          -24.214847564697266,
          -24.292953491210938,
          -15.817540168762207,
          15.201908111572266,
          55.393524169921875,
          39.78419494628906,
          -22.7067928314209,
          -16.661823272705078,
          -25.38930320739746,
          -22.7067928314209,
          -16.69247817993164,
          33.325199127197266,
          -9.638290405273438,
          13.277178764343262,
          -33.04254150390625,
          -8.727836608886719,
          -41.29298400878906,
          -3.4688167572021484,
          -31.646209716796875,
          -6.146527290344238,
          20.922077178955078,
          22.337482452392578,
          -14.989784240722656,
          36.589454650878906,
          15.667962074279785,
          -33.98329162597656,
          33.880126953125,
          -3.2896080017089844,
          -27.342178344726562,
          -31.252336502075195,
          -12.178988456726074,
          -41.983497619628906,
          20.75946617126465,
          51.418819427490234,
          -16.096965789794922,
          8.537515640258789,
          -41.54791259765625,
          -37.21770477294922,
          -9.174078941345215,
          -34.96663284301758,
          -31.664255142211914,
          21.308473587036133,
          -29.50906753540039,
          46.59028244018555,
          -4.4418792724609375,
          -26.058605194091797,
          11.254768371582031,
          44.37669372558594,
          30.732831954956055,
          -33.656349182128906,
          38.28369903564453,
          -28.788206100463867,
          34.97945022583008,
          -13.326326370239258,
          32.36404800415039,
          33.66154861450195,
          37.196571350097656,
          29.031841278076172,
          22.918663024902344,
          -5.975921154022217,
          41.32746124267578,
          -27.696674346923828,
          4.810394763946533,
          -11.464447021484375,
          -21.20527458190918,
          -17.93402862548828,
          -34.72856903076172,
          27.767539978027344,
          -39.5777587890625,
          -27.016748428344727,
          -7.5048017501831055,
          -19.151676177978516,
          -38.2846794128418,
          48.1799201965332,
          5.784104824066162,
          -25.470439910888672,
          -8.574004173278809,
          31.735015869140625,
          55.60858917236328,
          36.61686706542969,
          -28.424680709838867,
          -34.64639663696289,
          -27.703659057617188,
          -23.048995971679688,
          -31.127534866333008,
          -32.20561218261719,
          -15.364056587219238,
          -1.887514591217041,
          41.69498825073242,
          -38.33501052856445,
          46.7395133972168,
          -16.068134307861328,
          5.5775275230407715,
          -31.393056869506836,
          42.24876022338867,
          43.684356689453125,
          -23.37454605102539,
          -24.250898361206055,
          -12.037314414978027,
          -16.301605224609375,
          -5.292083740234375,
          -35.94536590576172,
          6.861011028289795,
          2.1363027095794678,
          46.3922233581543,
          -28.703506469726562,
          -14.87073802947998,
          36.163997650146484,
          51.825008392333984,
          51.89655685424805,
          -20.276716232299805,
          39.58394241333008,
          -17.91718101501465,
          -6.6819634437561035,
          35.49082565307617,
          11.883407592773438,
          -32.51982879638672,
          -34.831703186035156,
          41.7296028137207,
          -13.709769248962402,
          -6.59099817276001,
          7.645751476287842,
          -35.02281188964844,
          13.763937950134277,
          -7.171410083770752,
          -9.94012451171875,
          -3.308309555053711,
          51.99260330200195,
          12.828486442565918,
          39.714447021484375,
          0.48531821370124817,
          -13.409516334533691,
          13.440711975097656,
          53.416900634765625,
          30.333715438842773,
          -10.410907745361328,
          -15.478193283081055,
          -39.072410583496094,
          46.53551483154297,
          51.062259674072266,
          -22.3348445892334,
          -11.8569917678833,
          16.95535659790039,
          -14.374049186706543,
          47.70370101928711,
          21.52313804626465,
          13.394529342651367,
          -8.307929039001465,
          -21.38485336303711,
          36.82240676879883,
          24.22120475769043,
          -22.267578125,
          37.692848205566406,
          32.16835021972656,
          57.04153823852539,
          -7.539125919342041,
          -15.29910659790039,
          -20.96479034423828,
          -23.153661727905273,
          49.242984771728516,
          46.405460357666016,
          33.36186218261719,
          -4.144873142242432,
          4.033864498138428,
          -6.1510539054870605,
          -33.078338623046875,
          37.101226806640625,
          -6.071568965911865,
          -20.170963287353516,
          49.50490188598633,
          -10.40156078338623,
          -21.362483978271484,
          -32.22539138793945,
          18.462621688842773,
          16.001157760620117,
          43.021820068359375,
          -2.696378469467163,
          -7.956284046173096,
          -10.685104370117188,
          41.91615676879883,
          40.62812423706055,
          -36.49747085571289,
          -23.77448844909668,
          -8.053929328918457,
          59.04063415527344,
          38.03993606567383,
          -0.8075349926948547,
          -34.33741760253906,
          -28.070762634277344,
          -4.299450397491455,
          -8.459725379943848,
          41.86320495605469,
          -28.069990158081055,
          -20.44829559326172,
          -8.461458206176758,
          41.88140106201172,
          -18.741519927978516,
          35.89889144897461,
          -36.62276840209961,
          0.3108375072479248,
          13.648038864135742,
          -27.505760192871094,
          -35.03263473510742,
          -27.19985580444336,
          -39.189884185791016,
          34.282676696777344,
          32.168025970458984,
          46.606014251708984,
          27.83718490600586,
          33.66408157348633,
          16.54815673828125,
          -8.34276294708252,
          54.07061004638672,
          -9.241113662719727,
          -10.516494750976562,
          -9.506143569946289,
          -18.277666091918945,
          -35.46615219116211,
          51.079227447509766,
          31.381179809570312,
          -32.568824768066406,
          -32.754600524902344,
          10.476540565490723,
          -11.497217178344727,
          -32.34584426879883,
          -15.431534767150879,
          10.626778602600098,
          48.54477310180664,
          42.3685188293457,
          39.64426803588867,
          -6.247973918914795,
          53.10014724731445,
          -4.521601676940918,
          44.34667205810547,
          -36.62668991088867,
          -21.238265991210938,
          -33.324546813964844,
          -18.989791870117188,
          -23.461538314819336,
          8.944389343261719,
          -33.9656982421875,
          33.49614334106445,
          43.401397705078125,
          -43.97328186035156,
          -7.941665172576904,
          18.587766647338867,
          -39.45378112792969,
          24.767013549804688,
          -31.865360260009766,
          -5.476617813110352,
          -10.784111976623535,
          -18.885244369506836,
          57.15682601928711,
          -30.41172218322754,
          -12.12192440032959,
          -29.023921966552734,
          -34.01231002807617,
          -23.182313919067383,
          -35.19668197631836,
          5.010988235473633,
          27.40334129333496,
          -22.734312057495117,
          32.13751983642578,
          41.36188507080078,
          -15.585594177246094,
          -31.126314163208008,
          14.157238006591797,
          -22.96599769592285,
          39.86357498168945,
          27.233177185058594,
          -32.02568054199219,
          -22.923765182495117,
          -22.54106330871582,
          -31.421112060546875,
          -33.62642288208008,
          -10.331036567687988,
          35.48856735229492,
          -31.713748931884766,
          -9.88669490814209,
          29.394956588745117,
          -40.42775344848633,
          -30.107534408569336,
          -3.5880393981933594,
          -26.167463302612305,
          55.915122985839844,
          -17.036828994750977,
          8.174680709838867,
          42.48359680175781,
          51.95286178588867,
          -19.26982307434082,
          -21.15736961364746,
          -13.0061616897583,
          -26.631763458251953,
          -22.589269638061523,
          -21.504350662231445,
          19.585620880126953,
          23.56980323791504,
          24.179595947265625,
          37.6937141418457,
          -23.50413703918457,
          -41.932308197021484,
          -22.44012451171875,
          -40.15108108520508,
          61.78968048095703,
          -11.339903831481934,
          45.25593566894531,
          14.610629081726074,
          44.81755828857422,
          -11.040002822875977,
          -29.85726547241211,
          37.94108200073242,
          -17.3897705078125,
          58.604331970214844,
          -17.612133026123047,
          32.74583435058594,
          -18.9832706451416,
          -31.585914611816406,
          37.75595474243164,
          -20.705646514892578,
          -32.52136993408203,
          -19.115991592407227,
          0.13183049857616425,
          29.204200744628906,
          -3.227534532546997,
          8.10549545288086,
          34.244197845458984,
          3.276170253753662,
          -3.812420606613159,
          2.8793842792510986,
          -11.207799911499023,
          -17.731311798095703,
          -28.192914962768555,
          -29.3851375579834,
          50.03791427612305,
          18.78059196472168,
          46.36700439453125,
          -34.253360748291016,
          48.9605712890625,
          -3.058730125427246,
          44.179527282714844,
          -34.9371452331543,
          -24.205059051513672,
          -21.889026641845703,
          41.44837188720703,
          -33.89699172973633,
          -4.867947101593018,
          32.4874382019043,
          52.44080352783203,
          -23.37998390197754,
          -31.086963653564453,
          -20.561227798461914,
          54.4315299987793,
          22.296953201293945,
          58.26463317871094,
          2.7363669872283936,
          9.256019592285156,
          -20.45405387878418,
          42.30322265625,
          -18.700927734375,
          51.906795501708984,
          53.991371154785156,
          13.532557487487793,
          -4.509823799133301,
          -8.442980766296387,
          20.610149383544922,
          37.2348747253418,
          45.02063751220703,
          -17.914810180664062,
          7.664970874786377,
          -8.663969993591309,
          -29.948257446289062,
          2.208590507507324,
          -30.95825958251953,
          -10.984044075012207,
          -33.31269073486328,
          -14.739297866821289,
          -19.93768310546875,
          -19.079927444458008,
          -8.036428451538086,
          37.57691192626953,
          11.911696434020996,
          10.607449531555176,
          57.75455856323242,
          -32.54590606689453,
          -13.257189750671387,
          12.20836353302002,
          -31.093997955322266,
          44.983306884765625,
          -35.62165451049805,
          34.696224212646484,
          21.937660217285156,
          54.04224395751953,
          26.36333656311035,
          -22.697397232055664,
          -28.51546859741211,
          -22.447433471679688,
          45.04498291015625,
          -22.644147872924805,
          -10.183104515075684,
          46.132389068603516,
          -18.249441146850586,
          -26.66106414794922,
          -29.559370040893555,
          36.17451095581055,
          -38.79164123535156,
          40.11167526245117,
          52.78691864013672,
          30.05005645751953,
          -24.285097122192383,
          55.97843933105469,
          -25.19942283630371,
          6.701641082763672,
          -3.2788636684417725,
          -31.366151809692383,
          28.280311584472656,
          -22.63813018798828,
          40.67535400390625,
          -24.598073959350586,
          -16.744348526000977,
          4.311776161193848,
          -19.666118621826172,
          -31.480995178222656,
          7.012453079223633,
          -21.756744384765625,
          -23.35178565979004,
          47.48550033569336,
          -18.102933883666992,
          -32.02013397216797,
          42.17338943481445,
          -5.251962661743164,
          -9.410680770874023,
          52.69438552856445,
          -32.00205612182617,
          -34.34198760986328,
          42.16573715209961,
          -39.80728530883789,
          -7.1784796714782715,
          -33.6433219909668,
          -6.716607093811035,
          -10.510855674743652,
          47.74238586425781,
          29.128087997436523,
          26.05156135559082,
          24.45929718017578,
          -40.642391204833984,
          -9.383763313293457,
          27.3579158782959,
          47.73930740356445,
          -38.57890319824219,
          -33.49021530151367,
          5.386025428771973,
          -9.094609260559082,
          -20.707683563232422,
          -27.502521514892578,
          38.33668899536133,
          -29.398555755615234,
          -11.022786140441895,
          39.484886169433594,
          47.475955963134766,
          34.63212203979492,
          50.56315231323242,
          -9.385821342468262,
          -26.909408569335938,
          -14.141777992248535,
          26.86041259765625,
          -22.583311080932617,
          -27.68534278869629,
          -25.82868003845215,
          -24.884326934814453,
          44.14295959472656,
          7.236806392669678,
          -10.309550285339355,
          37.27467727661133,
          21.20382308959961,
          -28.154808044433594,
          25.81444549560547,
          -42.28874206542969,
          43.908931732177734,
          30.41498565673828,
          5.585666656494141,
          -37.90127182006836,
          -10.421936988830566,
          50.06300735473633,
          4.639003276824951,
          -21.44365119934082,
          5.578984260559082,
          -8.767377853393555,
          5.180301666259766,
          -33.16345977783203,
          -11.287878036499023,
          -33.73759460449219,
          -34.19677734375,
          -1.0855636596679688,
          24.547452926635742,
          4.651724338531494,
          -10.571224212646484,
          -15.504741668701172,
          54.93648147583008,
          -32.90791702270508,
          -8.579381942749023,
          4.377673625946045,
          -43.00391387939453,
          6.611003875732422,
          -0.22748854756355286,
          -28.39105224609375,
          -15.048972129821777,
          5.569604873657227,
          39.1938591003418,
          -19.914154052734375,
          1.9215128421783447,
          -42.62126541137695,
          35.51861572265625,
          -25.457725524902344,
          -33.243133544921875,
          43.678565979003906,
          -9.335409164428711,
          39.699371337890625,
          -23.102441787719727,
          -4.850154399871826,
          -30.257848739624023,
          -35.50296401977539,
          42.06326675415039,
          -29.537527084350586,
          -42.73752212524414,
          -12.798096656799316,
          12.07810115814209,
          38.459415435791016,
          -14.559414863586426,
          -32.04452133178711,
          1.879868745803833,
          -10.211465835571289,
          -22.65370750427246,
          19.61135482788086,
          -21.626115798950195,
          -43.21637725830078,
          -42.72917556762695,
          7.90693998336792,
          -19.1831111907959,
          -33.67562484741211,
          -16.88487434387207,
          -30.743757247924805,
          17.965335845947266,
          -19.83173370361328,
          26.73040008544922,
          -10.554742813110352,
          43.41646194458008,
          -24.593196868896484,
          49.24620819091797,
          0.21064534783363342,
          4.835457801818848,
          50.52153015136719,
          -19.816089630126953,
          2.6072921752929688,
          -1.987044334411621,
          -11.151592254638672,
          49.1225700378418,
          -29.637874603271484,
          15.25540542602539,
          -14.288689613342285,
          -25.807449340820312,
          -19.861236572265625,
          -28.739503860473633,
          -0.9174884557723999,
          55.00939178466797,
          29.474382400512695,
          -31.663711547851562,
          38.769798278808594,
          -24.300493240356445,
          28.444828033447266,
          -7.510819435119629,
          22.011432647705078,
          38.990962982177734,
          17.783143997192383,
          -17.062030792236328,
          1.0196764469146729,
          -4.9893879890441895,
          54.14405822753906,
          -20.417644500732422,
          -16.472217559814453,
          -9.815699577331543,
          58.805450439453125,
          -14.481186866760254,
          -34.09409713745117,
          -9.070959091186523,
          -21.268320083618164,
          57.23244094848633,
          33.98853302001953,
          -16.184097290039062,
          -4.139217853546143,
          61.063636779785156,
          60.066978454589844,
          45.30152893066406,
          -18.669870376586914,
          32.342742919921875,
          -30.278011322021484,
          45.41633224487305,
          30.57596778869629,
          11.831815719604492,
          60.49771499633789,
          5.7840070724487305,
          -10.938987731933594,
          4.2411346435546875,
          2.983055591583252,
          48.77674102783203,
          -22.94036293029785,
          -5.919055461883545,
          13.824196815490723,
          -3.67561936378479,
          37.7512092590332,
          -30.03848648071289,
          42.46168899536133,
          -32.60431671142578,
          -37.55142593383789,
          -29.940937042236328,
          41.64585494995117,
          -6.914600372314453,
          -28.163488388061523,
          -12.002630233764648,
          32.29545974731445,
          -32.58700942993164,
          20.698009490966797,
          40.76116943359375,
          38.26261901855469,
          52.731109619140625,
          1.2532496452331543,
          -6.764978885650635,
          44.721763610839844,
          -4.728001594543457,
          -7.762313365936279,
          -23.11373519897461,
          2.265760898590088,
          47.794185638427734,
          -8.635287284851074,
          52.976680755615234,
          -25.209674835205078,
          -2.338744640350342,
          -25.821529388427734,
          -3.9123711585998535,
          52.18459701538086,
          -3.498821496963501,
          -25.497394561767578,
          27.265623092651367,
          32.176517486572266,
          15.945291519165039,
          47.706783294677734,
          50.802696228027344,
          48.43798828125,
          4.745588302612305,
          39.579986572265625,
          3.8395373821258545,
          5.951178550720215,
          39.559078216552734,
          34.289520263671875,
          -1.2617697715759277,
          38.52312469482422,
          47.19692611694336,
          3.7600595951080322,
          43.507843017578125,
          12.890844345092773,
          -17.504016876220703,
          -27.0277099609375,
          18.29269790649414,
          25.812021255493164,
          -45.186405181884766,
          -34.98883056640625,
          -11.721200942993164,
          -31.36812400817871,
          14.850529670715332,
          10.17254638671875,
          12.683676719665527,
          -29.846437454223633,
          -24.88837432861328,
          40.7327880859375,
          -26.707176208496094,
          52.19068908691406,
          -27.27106475830078,
          -28.42624282836914,
          -19.564722061157227,
          -30.298337936401367,
          56.8597297668457,
          -36.0218391418457,
          -22.358009338378906,
          -4.778221130371094,
          -12.898122787475586,
          -31.456758499145508,
          -10.865877151489258,
          55.65505599975586,
          48.97787094116211,
          -8.971302032470703,
          -35.86849594116211,
          29.956087112426758,
          48.05815124511719,
          -4.31936502456665,
          29.96330451965332,
          -5.177662372589111,
          -9.428435325622559,
          -22.91398811340332,
          1.0247641801834106,
          47.35881423950195,
          35.11532211303711,
          -24.862314224243164,
          -34.86027526855469,
          -17.963300704956055,
          -12.424911499023438,
          -27.637121200561523,
          -24.748432159423828,
          32.00001907348633,
          -27.741418838500977,
          27.77814292907715,
          -37.44133758544922,
          -19.592437744140625,
          22.229984283447266,
          -39.366004943847656,
          42.85258865356445,
          50.133670806884766,
          -26.677263259887695,
          -18.072986602783203,
          49.790592193603516,
          33.70635223388672,
          17.85413360595703,
          28.825891494750977,
          -7.596704959869385,
          52.691017150878906,
          -12.292143821716309,
          -33.99415588378906,
          33.929256439208984,
          -9.7958345413208,
          50.72798538208008,
          -11.901941299438477,
          -29.54376220703125,
          -10.612783432006836,
          47.56196975708008,
          -7.849081516265869,
          35.72361755371094,
          -25.298688888549805,
          -15.40776252746582,
          -29.932695388793945,
          -22.87287139892578,
          36.53208541870117,
          37.49409866333008,
          4.128039360046387,
          -5.01475191116333,
          -24.921140670776367,
          -12.151750564575195,
          -14.660086631774902,
          -18.458757400512695,
          15.746376991271973,
          49.43705368041992,
          -39.364532470703125,
          -32.42565155029297,
          14.835972785949707,
          27.222570419311523,
          -4.503058910369873,
          34.83678436279297,
          -39.592620849609375,
          -39.92516326904297,
          -41.115936279296875,
          -28.76729393005371,
          39.911746978759766,
          -7.019639492034912,
          -37.10755157470703,
          -32.89117431640625,
          33.65982437133789,
          19.76266098022461,
          -4.047244071960449,
          -0.5698227882385254,
          -41.22926330566406,
          -29.319440841674805,
          50.304656982421875,
          -35.34523391723633,
          11.59834098815918,
          -22.0521240234375,
          -15.703539848327637,
          27.651853561401367,
          52.481605529785156,
          -38.39859390258789,
          -37.10350799560547,
          46.0404167175293,
          0.7284889817237854,
          -33.78384017944336,
          -10.29011344909668,
          1.2570509910583496,
          -18.793222427368164,
          -25.044130325317383,
          -6.841266632080078,
          32.820892333984375,
          -18.21674919128418,
          45.68988037109375,
          44.53999710083008,
          -17.801084518432617,
          28.842966079711914,
          -22.3527774810791,
          17.952795028686523,
          -38.039459228515625,
          5.611966133117676,
          24.01711082458496,
          -35.6998405456543,
          36.56543731689453,
          -30.89318084716797,
          -35.233360290527344,
          -7.45653772354126,
          11.195158958435059,
          22.515056610107422,
          30.68784523010254,
          49.461490631103516,
          -21.645702362060547,
          -40.2678337097168,
          44.19389343261719,
          19.7000675201416,
          -18.220491409301758,
          -33.92031478881836,
          -27.140380859375,
          -28.454450607299805,
          -29.58810806274414,
          32.18475341796875,
          -19.402507781982422,
          -16.925918579101562,
          -16.51181983947754,
          -29.158100128173828,
          15.024364471435547,
          -33.97241973876953,
          -18.113367080688477,
          -34.98402786254883,
          39.14095687866211,
          -28.942626953125,
          40.46309280395508,
          -42.878082275390625,
          -19.995813369750977,
          -18.408321380615234,
          -22.888193130493164,
          -35.58921432495117,
          -26.826465606689453,
          -27.025264739990234,
          -32.77854919433594,
          11.384580612182617,
          -6.62641716003418,
          -16.312442779541016,
          -8.262489318847656,
          -39.06574249267578,
          -17.570213317871094,
          -32.63731384277344,
          -10.409238815307617,
          47.660919189453125,
          -33.52124786376953,
          52.53645324707031,
          46.96443176269531,
          -22.091882705688477,
          55.45167541503906,
          -37.26411437988281,
          -16.922868728637695,
          27.107410430908203,
          -19.18330955505371,
          -13.786945343017578,
          31.62062644958496,
          -22.885440826416016,
          33.518856048583984,
          -14.430395126342773,
          -38.364078521728516,
          54.347442626953125,
          5.181412220001221,
          12.241486549377441,
          -32.97615432739258,
          5.562704563140869,
          -11.44430923461914,
          -12.793347358703613,
          48.77632522583008,
          -27.909616470336914,
          2.064265012741089,
          -6.804365634918213,
          -30.584014892578125,
          -8.571892738342285,
          46.35221481323242,
          -19.82880401611328,
          7.963764667510986,
          -4.279780864715576,
          -27.988758087158203,
          22.95234489440918,
          13.669866561889648,
          -12.441493034362793,
          -7.013049125671387,
          57.48676681518555,
          27.290842056274414,
          58.39188766479492,
          1.2023104429244995,
          60.10306930541992,
          -13.451260566711426,
          42.5436897277832,
          0.6738583445549011,
          -6.476871490478516,
          47.31388854980469,
          -1.612762451171875,
          24.888425827026367,
          -11.154085159301758,
          -20.62224578857422,
          29.91638946533203,
          -5.572414398193359,
          -11.095696449279785,
          13.321399688720703,
          45.30699157714844,
          -17.257692337036133,
          26.083934783935547,
          -25.690959930419922,
          -36.384788513183594,
          -12.17854118347168,
          6.707496643066406,
          24.424232482910156,
          39.72280502319336,
          -5.434991836547852,
          -27.67909049987793,
          9.953883171081543,
          -32.151065826416016,
          46.527339935302734,
          51.75983810424805,
          -25.00600242614746,
          -29.430498123168945,
          30.644474029541016,
          58.12429428100586,
          43.66054153442383,
          3.834568977355957,
          -36.04331970214844,
          2.112051486968994,
          -0.9758787751197815,
          23.5952091217041,
          -11.41382122039795,
          34.521827697753906,
          6.689976215362549,
          -19.419797897338867,
          24.1224308013916,
          14.263538360595703,
          -29.857685089111328,
          24.992555618286133,
          -0.30472418665885925,
          -15.369961738586426,
          -23.387889862060547,
          35.856441497802734,
          -18.347095489501953,
          0.8844385743141174,
          32.64366149902344,
          57.968650817871094,
          29.098960876464844,
          -32.367225646972656,
          -36.4952507019043,
          -17.649723052978516,
          -16.661632537841797,
          59.423828125,
          40.13711929321289,
          20.602706909179688,
          -23.759864807128906,
          37.271949768066406,
          24.70406723022461,
          -23.333019256591797,
          -16.98772430419922,
          -28.220251083374023,
          -20.899093627929688,
          16.12643814086914,
          24.373136520385742,
          14.588367462158203,
          -5.354835510253906,
          20.933399200439453,
          -34.808265686035156,
          -30.370868682861328,
          -25.8040714263916,
          1.1185579299926758,
          -18.260229110717773,
          5.698671340942383,
          -15.903502464294434,
          0.87907475233078,
          -15.239901542663574,
          -31.85036277770996,
          34.06739044189453,
          32.491355895996094,
          25.294206619262695,
          -35.638736724853516,
          -18.35585594177246,
          38.6070442199707,
          -23.063276290893555,
          -14.338486671447754,
          -6.590314865112305,
          42.776893615722656,
          42.2904167175293,
          -27.15385627746582,
          23.123123168945312,
          4.728641986846924,
          43.75886917114258,
          -19.434919357299805,
          -19.34083366394043,
          7.309856414794922,
          29.162006378173828,
          51.302406311035156,
          40.573699951171875,
          58.12323760986328,
          -30.09323501586914,
          40.482547760009766,
          -44.43363571166992,
          3.469202756881714,
          -23.236080169677734,
          -28.2243595123291,
          3.6458635330200195,
          48.025150299072266,
          -3.1959776878356934,
          61.74558639526367,
          47.87677764892578,
          -35.08439636230469,
          -38.99967575073242,
          54.030845642089844,
          7.398542881011963,
          15.263019561767578,
          -30.062847137451172,
          -22.078447341918945,
          30.574813842773438,
          -21.413776397705078,
          -25.563129425048828,
          41.32933807373047,
          -23.422706604003906,
          -3.754455327987671,
          33.05000686645508,
          53.15031051635742,
          -20.575294494628906,
          -25.445466995239258,
          -34.803043365478516,
          -25.167116165161133,
          -31.07648277282715,
          25.82968521118164,
          39.77085494995117,
          24.161401748657227,
          -34.68095779418945,
          0.6829506754875183,
          10.585192680358887,
          -6.10811710357666,
          37.311546325683594,
          24.423830032348633,
          29.344547271728516,
          30.86981201171875,
          -5.362449645996094,
          52.5847053527832,
          -25.732690811157227,
          -22.197084426879883,
          -20.23834800720215,
          -21.008745193481445,
          -10.206565856933594,
          -26.06179428100586,
          -10.247450828552246,
          -5.3592729568481445,
          -15.278985977172852,
          -37.19704055786133,
          -22.600961685180664,
          54.70826721191406,
          -23.47388458251953,
          -18.89876937866211,
          53.150081634521484,
          34.2419319152832,
          40.82411575317383,
          -21.0064697265625,
          -22.597536087036133,
          54.695945739746094,
          22.82677459716797,
          -23.396038055419922,
          -27.418737411499023,
          -8.2638578414917,
          -20.03269386291504,
          -23.563976287841797,
          27.685577392578125,
          4.708824157714844,
          -20.46904182434082,
          37.718116760253906,
          31.729679107666016,
          -30.79648208618164,
          34.931636810302734,
          46.10166931152344,
          36.26830291748047,
          47.12372970581055,
          -17.83367156982422,
          3.028512716293335,
          -8.460558891296387,
          -27.398029327392578,
          26.79620933532715,
          -40.74113082885742,
          14.644222259521484,
          48.43141555786133,
          56.84162521362305,
          45.10655975341797,
          -28.61207389831543,
          -28.66118049621582,
          1.429369568824768,
          -22.507139205932617,
          -6.690043926239014,
          -41.60895919799805,
          30.701976776123047,
          44.19949722290039,
          -19.14466667175293,
          35.191368103027344,
          29.585805892944336,
          -25.373014450073242,
          -40.19171142578125,
          45.5775146484375,
          29.957857131958008,
          -18.407209396362305,
          -29.684602737426758,
          55.3006591796875,
          33.030460357666016,
          29.110151290893555,
          -29.839345932006836,
          31.003271102905273,
          -8.488170623779297,
          32.54082107543945,
          -41.66099548339844,
          34.79739761352539,
          17.805994033813477,
          -28.5036563873291,
          -14.136821746826172,
          -29.019105911254883,
          -19.077417373657227,
          -23.68951988220215,
          19.513347625732422,
          0.21933966875076294,
          23.12217903137207,
          -15.868167877197266,
          -21.823835372924805,
          -35.827388763427734,
          47.91053009033203,
          46.377540588378906,
          0.7524996399879456,
          33.61873245239258,
          43.883628845214844,
          -22.016010284423828,
          -29.131771087646484,
          -41.073646545410156,
          32.22924041748047,
          -37.955875396728516,
          34.22114562988281,
          50.783599853515625,
          -37.975555419921875,
          48.450828552246094,
          38.30939865112305,
          45.62505340576172,
          -11.780890464782715,
          30.19584083557129,
          -35.05086135864258,
          -40.04918670654297,
          -16.235145568847656,
          34.63336944580078,
          34.629852294921875,
          -19.745643615722656,
          -33.96408462524414,
          -5.243327617645264,
          -24.914066314697266,
          -40.51924133300781,
          38.30773162841797,
          5.871570587158203,
          28.980173110961914,
          0.22027982771396637,
          -30.289684295654297,
          12.053664207458496,
          -29.540660858154297,
          -39.58992004394531,
          -40.01710891723633,
          -29.043956756591797,
          -36.355552673339844,
          -16.4114990234375,
          -25.561220169067383,
          -15.768261909484863,
          -16.602380752563477,
          -12.632368087768555,
          39.6887092590332,
          -28.441911697387695,
          -19.797754287719727,
          -27.330284118652344,
          -33.753604888916016,
          26.62285614013672,
          -18.56793212890625,
          -28.934385299682617,
          -37.4197998046875,
          35.367618560791016,
          2.726550340652466,
          2.761752128601074,
          -35.63187789916992,
          -25.43339729309082,
          -11.463334083557129,
          -40.93866729736328,
          -11.19719409942627,
          37.09418869018555,
          24.575639724731445,
          26.1498966217041,
          43.2375602722168,
          36.07544708251953,
          -18.50791358947754,
          -15.9790678024292,
          26.351032257080078,
          -37.166934967041016,
          -34.982723236083984,
          25.728778839111328,
          -36.891109466552734,
          -11.307371139526367,
          -13.580307960510254,
          -35.146697998046875,
          -21.154937744140625,
          -37.97982406616211,
          -33.59528350830078,
          25.862211227416992,
          -20.798341751098633,
          4.464806079864502,
          11.204263687133789,
          -40.307167053222656,
          20.544525146484375,
          -8.068242073059082,
          -32.99888229370117,
          -16.501483917236328,
          -13.160783767700195,
          59.93753433227539,
          30.021411895751953,
          61.298255920410156,
          37.68223571777344,
          47.71344757080078,
          33.37069320678711,
          34.21989822387695,
          -42.373046875,
          -12.36120891571045,
          38.8471565246582,
          -5.940928936004639,
          -11.442350387573242,
          55.40639877319336,
          -1.1282804012298584,
          -18.525222778320312,
          -17.587890625,
          -31.857755661010742,
          -11.543876647949219,
          -8.931840896606445,
          -35.58384704589844,
          -22.970287322998047,
          -7.656605243682861,
          53.30978012084961,
          -20.6776065826416,
          22.634811401367188,
          26.385927200317383,
          32.31675338745117,
          -26.72637939453125,
          24.369169235229492,
          -23.03951072692871,
          51.79155349731445,
          10.265933990478516,
          9.518745422363281,
          15.738473892211914,
          44.979156494140625,
          32.518592834472656,
          19.758792877197266,
          50.97681427001953,
          -18.70868492126465,
          25.295804977416992,
          -19.3516788482666,
          25.524646759033203,
          1.9170862436294556,
          -19.016206741333008,
          -15.782591819763184,
          -18.96003532409668,
          43.9174919128418,
          -17.15427017211914,
          44.95595169067383,
          57.66997528076172,
          -34.57462692260742,
          24.561813354492188,
          49.68044662475586,
          -15.61205005645752,
          -23.885488510131836,
          -1.150002121925354,
          -19.23491096496582,
          36.08738327026367,
          -20.11297607421875,
          -16.894813537597656,
          -39.8218994140625,
          21.46865463256836,
          -25.234769821166992,
          -35.635684967041016,
          -13.610804557800293,
          -29.6625919342041,
          -33.9722785949707,
          -18.73208236694336,
          -38.051753997802734,
          -26.842044830322266,
          -13.337804794311523,
          -23.617149353027344,
          -20.780593872070312,
          -18.820232391357422,
          -32.6981315612793,
          -37.771793365478516,
          -11.47374153137207,
          -28.808059692382812,
          4.377962112426758,
          35.76445388793945,
          4.3649396896362305,
          48.058807373046875,
          -23.222740173339844,
          35.72869873046875,
          1.0939278602600098,
          42.526519775390625,
          -32.3379020690918,
          -10.235091209411621,
          27.698272705078125,
          -11.470978736877441,
          -23.720619201660156,
          -37.557334899902344,
          19.633949279785156,
          -29.842552185058594,
          27.915613174438477,
          -30.476909637451172,
          50.28036880493164,
          -35.146034240722656,
          37.15790557861328,
          9.217279434204102,
          -9.987987518310547,
          -33.97357940673828,
          26.639902114868164,
          -38.778221130371094,
          -27.734188079833984,
          -34.71894073486328,
          -18.568973541259766,
          19.734880447387695,
          19.473251342773438,
          29.65613555908203,
          23.14215850830078,
          4.206733226776123,
          -23.196144104003906,
          0.33475953340530396,
          13.706612586975098,
          61.65704345703125,
          -23.892213821411133,
          -24.95543098449707,
          43.62409591674805,
          -0.44626641273498535,
          -22.68500328063965,
          -22.493114471435547,
          -28.324506759643555,
          -28.919836044311523,
          -19.614501953125,
          -21.875268936157227,
          -30.190574645996094,
          -24.73819923400879,
          -25.410818099975586,
          -4.110370635986328,
          -21.268625259399414,
          -13.107205390930176,
          41.98902893066406,
          -18.842607498168945,
          47.68959045410156,
          26.771242141723633,
          -11.557485580444336,
          26.110780715942383,
          -28.71161460876465,
          15.46774673461914,
          -24.687957763671875,
          -4.783782958984375,
          3.54892635345459,
          9.847907066345215,
          -29.651121139526367,
          -20.829809188842773,
          37.701412200927734,
          15.672091484069824,
          -28.563364028930664,
          -24.818754196166992,
          10.479811668395996,
          -6.165754318237305,
          31.500165939331055,
          -20.85040855407715,
          -22.259544372558594,
          -20.486984252929688,
          -20.52402687072754,
          -13.007877349853516,
          44.47157669067383,
          0.6649317145347595,
          2.7572691440582275,
          -29.566694259643555,
          -15.331171989440918,
          -18.9096736907959,
          0.5890641212463379,
          -29.103620529174805,
          16.767547607421875,
          6.9912919998168945,
          3.339669704437256,
          -34.518428802490234,
          -21.078638076782227,
          41.819698333740234,
          27.593412399291992,
          59.09571838378906,
          47.22850036621094,
          27.23605728149414,
          62.03473663330078,
          46.788883209228516,
          -19.69715690612793,
          -27.501806259155273,
          -18.394363403320312,
          -17.122718811035156,
          -21.510303497314453,
          -29.115013122558594,
          -26.74901580810547,
          59.83266830444336,
          -19.47932243347168,
          -16.897048950195312,
          26.871858596801758,
          -21.382001876831055,
          60.7510986328125,
          -27.744277954101562,
          -37.562557220458984,
          -29.3975830078125,
          61.425228118896484,
          -29.855892181396484,
          -7.5610222816467285,
          -18.543712615966797,
          42.062931060791016,
          13.525541305541992,
          -6.88957405090332,
          0.55755615234375,
          -33.67145538330078,
          -12.452762603759766,
          -15.889751434326172,
          6.867745399475098,
          45.87771987915039,
          3.6175224781036377,
          -27.0570125579834,
          52.17056655883789,
          -6.207961082458496,
          -25.867185592651367,
          -14.325202941894531,
          31.747692108154297,
          -4.444421291351318,
          -24.475749969482422,
          -10.960427284240723,
          -11.68149185180664,
          0.5983197093009949,
          50.15886306762695,
          48.700923919677734,
          57.74065017700195,
          46.511871337890625,
          -5.466982364654541,
          -9.422616958618164,
          27.316518783569336,
          -19.568439483642578,
          58.56341552734375,
          44.39729309082031,
          26.305999755859375,
          60.44951248168945,
          24.394487380981445,
          -9.182065963745117,
          -31.379854202270508,
          1.134437918663025,
          -4.877728462219238
         ],
         "y": [
          31.956605911254883,
          33.0709342956543,
          32.06820297241211,
          58.05869674682617,
          31.84593391418457,
          5.812809944152832,
          55.14445877075195,
          -32.72466278076172,
          1.980685830116272,
          28.93214225769043,
          28.463939666748047,
          -41.85478973388672,
          -5.944809436798096,
          51.84494400024414,
          65.92213439941406,
          -7.064587593078613,
          -34.147735595703125,
          17.71869659423828,
          -12.56021785736084,
          -5.985795497894287,
          15.920406341552734,
          -31.692270278930664,
          7.868458271026611,
          31.621349334716797,
          5.286492824554443,
          66.0651626586914,
          33.79769515991211,
          3.905020236968994,
          58.202247619628906,
          -34.743309020996094,
          59.290042877197266,
          66.81777954101562,
          66.69039154052734,
          1.7002087831497192,
          -6.002038955688477,
          -42.10874938964844,
          -21.428977966308594,
          29.229198455810547,
          30.380929946899414,
          27.299983978271484,
          -35.4405403137207,
          23.710391998291016,
          -19.6826114654541,
          27.41352653503418,
          -20.2711124420166,
          -34.07232666015625,
          -3.1907906532287598,
          -33.38405990600586,
          31.309032440185547,
          -34.512718200683594,
          -33.73775863647461,
          8.551783561706543,
          1.895150065422058,
          60.69523620605469,
          33.76654052734375,
          28.635854721069336,
          -22.249942779541016,
          -39.15385055541992,
          -20.97197151184082,
          -32.81451416015625,
          61.03815841674805,
          10.227298736572266,
          1.840477705001831,
          6.556972503662109,
          -12.066033363342285,
          -8.118922233581543,
          23.881420135498047,
          -35.50579071044922,
          23.332897186279297,
          -21.486007690429688,
          6.229173183441162,
          15.891777038574219,
          16.137710571289062,
          -35.29793167114258,
          57.96440887451172,
          8.707693099975586,
          -30.793237686157227,
          -51.676513671875,
          -12.787064552307129,
          -17.42017364501953,
          -12.600113868713379,
          -13.089574813842773,
          6.9057793617248535,
          -40.96746826171875,
          -22.0026798248291,
          4.447468280792236,
          65.21134948730469,
          54.91274642944336,
          58.85923385620117,
          1.9985095262527466,
          -43.01639175415039,
          61.51424026489258,
          1.0683083534240723,
          16.138019561767578,
          -6.278345108032227,
          23.61618423461914,
          2.613438129425049,
          24.994237899780273,
          14.12360954284668,
          -6.460254192352295,
          9.742846488952637,
          7.890684604644775,
          -10.339691162109375,
          6.615055561065674,
          16.499582290649414,
          -15.109347343444824,
          -6.3298115730285645,
          -6.547266960144043,
          32.44253921508789,
          35.178287506103516,
          28.815603256225586,
          47.83284378051758,
          7.9215803146362305,
          -10.17057991027832,
          -9.974300384521484,
          -5.237493991851807,
          19.4871883392334,
          7.462273120880127,
          34.776695251464844,
          32.85739517211914,
          25.54355239868164,
          19.22486686706543,
          59.56812286376953,
          37.27926254272461,
          0.971767783164978,
          49.26496124267578,
          -41.803062438964844,
          16.30914306640625,
          -32.24488067626953,
          -15.404159545898438,
          58.865455627441406,
          59.38009262084961,
          -10.050498962402344,
          -37.11386489868164,
          -20.855052947998047,
          26.948822021484375,
          -44.24544906616211,
          61.221736907958984,
          -3.0989632606506348,
          1.1139273643493652,
          5.17319393157959,
          -11.748188018798828,
          -12.605199813842773,
          -32.68232727050781,
          -12.061020851135254,
          20.77975082397461,
          -11.636265754699707,
          -10.518224716186523,
          6.787700653076172,
          4.1399993896484375,
          24.04656982421875,
          4.355105400085449,
          -3.456458806991577,
          -3.178830146789551,
          25.562843322753906,
          21.41941261291504,
          -38.56986618041992,
          -11.892762184143066,
          -41.618858337402344,
          4.575262546539307,
          5.587667942047119,
          20.688209533691406,
          1.036813497543335,
          29.980140686035156,
          7.14340353012085,
          -50.834381103515625,
          -9.985106468200684,
          55.633487701416016,
          25.38739776611328,
          32.53257751464844,
          -30.976472854614258,
          26.687665939331055,
          -31.03052520751953,
          -4.86232852935791,
          8.069994926452637,
          26.161863327026367,
          6.656702518463135,
          -39.209041595458984,
          35.13874435424805,
          4.87952995300293,
          9.90807819366455,
          66.50521087646484,
          29.442638397216797,
          7.407639503479004,
          56.38041687011719,
          23.582916259765625,
          18.716550827026367,
          18.45884132385254,
          0.38045549392700195,
          -35.31966781616211,
          6.67773962020874,
          -28.33795738220215,
          3.572343349456787,
          56.532108306884766,
          -9.692458152770996,
          3.1531622409820557,
          58.64594268798828,
          25.437646865844727,
          27.067729949951172,
          -18.56354331970215,
          60.0203971862793,
          61.4853630065918,
          54.9876594543457,
          -44.19223403930664,
          -50.74287414550781,
          12.416604995727539,
          63.4783935546875,
          -0.14194375276565552,
          -39.57652282714844,
          19.86592674255371,
          -44.651668548583984,
          64.16554260253906,
          -11.361977577209473,
          -17.766176223754883,
          -4.456813335418701,
          -30.582799911499023,
          -32.76081848144531,
          -3.685952663421631,
          -16.295583724975586,
          -13.322552680969238,
          -9.642590522766113,
          -24.274324417114258,
          -24.200214385986328,
          55.108787536621094,
          -43.14521789550781,
          8.999007225036621,
          -8.590832710266113,
          4.243594169616699,
          28.299846649169922,
          -14.241233825683594,
          30.66301727294922,
          -40.254066467285156,
          -22.846160888671875,
          17.87256622314453,
          13.60421371459961,
          -28.85594940185547,
          30.340862274169922,
          7.8928985595703125,
          29.522079467773438,
          26.356882095336914,
          -0.9059773087501526,
          -2.1650161743164062,
          48.53279113769531,
          -2.3902273178100586,
          -5.677769660949707,
          -17.973758697509766,
          -28.67745590209961,
          33.8045539855957,
          63.17688751220703,
          0.5827059149742126,
          59.630126953125,
          58.938270568847656,
          -41.97053909301758,
          18.630647659301758,
          28.736528396606445,
          24.458003997802734,
          22.806777954101562,
          53.38709259033203,
          -16.954349517822266,
          -11.3072509765625,
          -37.493309020996094,
          31.348567962646484,
          -50.168739318847656,
          -39.95476150512695,
          58.29792785644531,
          6.548079013824463,
          -4.90770959854126,
          53.1416130065918,
          60.7350959777832,
          18.401704788208008,
          2.6052730083465576,
          0.9679520726203918,
          57.617652893066406,
          0.9221765398979187,
          1.7755869626998901,
          3.7928409576416016,
          5.126955509185791,
          -30.79344940185547,
          -21.983741760253906,
          6.8790974617004395,
          -46.17704391479492,
          26.849559783935547,
          9.36341381072998,
          4.973477363586426,
          19.100341796875,
          18.59162712097168,
          62.30865478515625,
          -33.3914680480957,
          2.1448028087615967,
          7.580021381378174,
          -18.545610427856445,
          -10.98676586151123,
          -32.686710357666016,
          61.02280044555664,
          49.21025085449219,
          10.633543014526367,
          -0.5586044192314148,
          -39.343021392822266,
          26.045930862426758,
          -37.8184700012207,
          -2.9986305236816406,
          7.126663684844971,
          0.8698132634162903,
          -14.262686729431152,
          10.735586166381836,
          26.808460235595703,
          23.241573333740234,
          -1.4659628868103027,
          -2.8779544830322266,
          3.3539879322052,
          -2.7318828105926514,
          20.093202590942383,
          -12.702286720275879,
          8.411751747131348,
          -4.402510166168213,
          -41.92767333984375,
          26.367517471313477,
          2.6424782276153564,
          23.95393180847168,
          7.10348653793335,
          25.920639038085938,
          -4.169253826141357,
          6.32445764541626,
          9.740100860595703,
          55.08208465576172,
          -30.26407241821289,
          -15.916106224060059,
          -28.88184928894043,
          27.149991989135742,
          -1.2202626466751099,
          4.189509868621826,
          0.44662824273109436,
          -10.944792747497559,
          53.824317932128906,
          -12.695999145507812,
          -21.366167068481445,
          -2.6768765449523926,
          -12.04776668548584,
          -15.995542526245117,
          6.93859338760376,
          25.11368179321289,
          8.820387840270996,
          59.14558792114258,
          -32.6867790222168,
          -0.9821879863739014,
          -17.05219078063965,
          5.922929286956787,
          -6.446173191070557,
          23.120756149291992,
          -22.838825225830078,
          -10.951498985290527,
          59.65582275390625,
          -53.17660140991211,
          19.684457778930664,
          12.17687702178955,
          23.600683212280273,
          -29.595190048217773,
          9.011048316955566,
          -3.0394787788391113,
          0.3186940550804138,
          -45.823875427246094,
          -17.05352020263672,
          11.548032760620117,
          7.280202865600586,
          60.64072799682617,
          50.417945861816406,
          -15.328117370605469,
          7.454316139221191,
          7.100658416748047,
          17.118104934692383,
          -28.12639808654785,
          -14.953167915344238,
          6.815311908721924,
          18.080347061157227,
          -8.470032691955566,
          -5.642336845397949,
          51.43157196044922,
          -39.45117950439453,
          -54.094139099121094,
          -8.749878883361816,
          -53.98933029174805,
          -4.239720344543457,
          -8.291954040527344,
          1.9714475870132446,
          11.423761367797852,
          -16.95072364807129,
          62.59491729736328,
          -45.09755325317383,
          64.13607788085938,
          2.580610513687134,
          -17.63697624206543,
          -28.672855377197266,
          8.948819160461426,
          17.946685791015625,
          -33.99246597290039,
          -30.45646095275879,
          -34.510658264160156,
          -15.737519264221191,
          7.811989784240723,
          -18.934782028198242,
          1.2368234395980835,
          19.363176345825195,
          -17.45121955871582,
          11.614428520202637,
          -31.925445556640625,
          0.1827549785375595,
          26.394161224365234,
          -30.707054138183594,
          26.419902801513672,
          13.61037540435791,
          11.464645385742188,
          19.805185317993164,
          -5.800429821014404,
          -29.059898376464844,
          -43.484493255615234,
          51.33447265625,
          -13.559087753295898,
          -8.213997840881348,
          2.2064120769500732,
          -43.69696807861328,
          -5.6358442306518555,
          19.616634368896484,
          12.11979866027832,
          -26.32425308227539,
          7.504775524139404,
          13.059187889099121,
          -38.156280517578125,
          58.42810821533203,
          4.2375993728637695,
          -6.6533050537109375,
          18.765670776367188,
          57.68681335449219,
          5.747428894042969,
          29.379941940307617,
          34.253929138183594,
          -25.13296127319336,
          -0.9782195091247559,
          4.715914249420166,
          2.2737479209899902,
          -28.34666633605957,
          -36.55103302001953,
          -4.520421504974365,
          -20.472196578979492,
          -24.306289672851562,
          -17.554447174072266,
          29.737625122070312,
          -18.609830856323242,
          -8.452277183532715,
          -37.5322380065918,
          6.070205211639404,
          -8.146117210388184,
          3.008059024810791,
          -14.082451820373535,
          -10.906071662902832,
          32.61722946166992,
          7.1760573387146,
          53.6153450012207,
          -38.815673828125,
          12.149517059326172,
          12.712325096130371,
          54.965179443359375,
          19.669694900512695,
          -29.548770904541016,
          23.211151123046875,
          18.72148895263672,
          28.006662368774414,
          58.57828903198242,
          60.144325256347656,
          -32.331729888916016,
          -15.099991798400879,
          -27.87825584411621,
          -33.00761795043945,
          -17.44441795349121,
          17.502395629882812,
          -33.510040283203125,
          -9.656431198120117,
          -10.547934532165527,
          -29.97397804260254,
          -18.309494018554688,
          12.216672897338867,
          -15.431839942932129,
          -3.7961385250091553,
          24.30528450012207,
          -15.619348526000977,
          -17.972265243530273,
          53.59730529785156,
          49.6660041809082,
          -4.766338348388672,
          -11.504055976867676,
          51.161617279052734,
          -1.8251922130584717,
          -22.414091110229492,
          57.747554779052734,
          56.2081413269043,
          -1.4896348714828491,
          0.6588943600654602,
          49.885887145996094,
          -31.883033752441406,
          68.20024108886719,
          62.110084533691406,
          59.819244384765625,
          13.214574813842773,
          -29.488561630249023,
          -10.043400764465332,
          -3.2498972415924072,
          -29.268766403198242,
          -46.23944854736328,
          -2.7914860248565674,
          59.690372467041016,
          -4.424624443054199,
          7.257073402404785,
          48.76173782348633,
          -22.597318649291992,
          12.291308403015137,
          -22.468311309814453,
          -36.773441314697266,
          -34.708282470703125,
          -6.285834789276123,
          55.45196533203125,
          -55.674293518066406,
          -32.95090103149414,
          -31.700851440429688,
          10.042335510253906,
          -11.6780366897583,
          25.241777420043945,
          3.9818038940429688,
          -29.896045684814453,
          -11.197915077209473,
          -11.455147743225098,
          21.327726364135742,
          -35.19135284423828,
          -10.891731262207031,
          -3.358987808227539,
          -24.180381774902344,
          -31.59073829650879,
          -55.87872314453125,
          8.87682819366455,
          57.65280532836914,
          -30.81839370727539,
          0.7645301222801208,
          1.3356196880340576,
          5.102642059326172,
          -53.0224609375,
          20.9007625579834,
          24.815488815307617,
          -31.35897445678711,
          4.973026275634766,
          9.42014217376709,
          19.837556838989258,
          0.5631725192070007,
          -10.413796424865723,
          -38.10198211669922,
          -2.8500218391418457,
          -7.911911487579346,
          -0.18555845320224762,
          -4.2958221435546875,
          34.34798049926758,
          -23.026336669921875,
          55.54186248779297,
          -29.80003547668457,
          17.563228607177734,
          8.427064895629883,
          -3.142486810684204,
          -17.406269073486328,
          4.573715686798096,
          55.12533187866211,
          -17.406259536743164,
          4.587270736694336,
          31.770275115966797,
          -14.615585327148438,
          5.737913131713867,
          2.7615156173706055,
          55.91425704956055,
          -44.27473449707031,
          -2.8561317920684814,
          -8.811997413635254,
          -5.69451904296875,
          18.2921085357666,
          10.056937217712402,
          -0.5749469995498657,
          32.16233444213867,
          20.676206588745117,
          -24.3991756439209,
          33.03681182861328,
          -13.489075660705566,
          4.320831775665283,
          -19.54672622680664,
          -24.315502166748047,
          -51.801780700683594,
          17.839141845703125,
          15.554669380187988,
          -13.933422088623047,
          -5.356051445007324,
          -38.98814392089844,
          -4.847274303436279,
          4.372045516967773,
          -24.985023498535156,
          -20.850011825561523,
          19.748544692993164,
          -7.834805965423584,
          5.822889804840088,
          -13.572569847106934,
          3.0818047523498535,
          -12.927814483642578,
          29.458223342895508,
          2.308035135269165,
          -26.621381759643555,
          25.368501663208008,
          -9.332493782043457,
          26.576547622680664,
          6.040526866912842,
          9.766498565673828,
          5.548464775085449,
          -1.5759285688400269,
          25.02779769897461,
          22.903366088867188,
          -34.72574996948242,
          25.73834800720215,
          -8.844833374023438,
          2.131927967071533,
          -11.821106910705566,
          -9.512643814086914,
          -26.569799423217773,
          -47.118507385253906,
          -1.1088846921920776,
          -29.371959686279297,
          -37.3115348815918,
          53.83457946777344,
          55.79537582397461,
          -40.442588806152344,
          16.374340057373047,
          -12.543641090393066,
          -21.190534591674805,
          -25.449588775634766,
          7.306532382965088,
          9.227049827575684,
          -1.8829108476638794,
          0.12922802567481995,
          -53.36559295654297,
          -33.29157638549805,
          -48.768280029296875,
          -7.9999213218688965,
          -42.57350540161133,
          -10.966222763061523,
          -3.1903648376464844,
          20.619871139526367,
          -29.021236419677734,
          24.550554275512695,
          50.3290901184082,
          -5.361800670623779,
          -49.26850891113281,
          17.757585525512695,
          0.3489169478416443,
          -47.21018981933594,
          -46.23694610595703,
          -9.963127136230469,
          -0.14791549742221832,
          -9.96428108215332,
          1.4257310628890991,
          -2.811626672744751,
          -5.743817329406738,
          27.344894409179688,
          -27.09905433654785,
          0.9786653518676758,
          26.87714195251465,
          2.9112837314605713,
          8.45910358428955,
          60.232154846191406,
          12.143760681152344,
          -45.75505828857422,
          -8.534289360046387,
          17.6066951751709,
          -19.947120666503906,
          -53.8776969909668,
          -52.516868591308594,
          10.178401947021484,
          -38.79901123046875,
          -10.32019329071045,
          -0.2779538929462433,
          -42.16938400268555,
          -9.656793594360352,
          -18.328060150146484,
          60.536930084228516,
          -24.49378776550293,
          14.897720336914062,
          -18.939451217651367,
          22.643007278442383,
          -15.440104484558105,
          -10.616639137268066,
          -8.482933044433594,
          7.274297714233398,
          21.094566345214844,
          -9.483612060546875,
          4.191234111785889,
          -43.33647918701172,
          1.1983932256698608,
          -0.0816950723528862,
          50.54780578613281,
          -6.754118919372559,
          26.81711196899414,
          2.971433162689209,
          4.537497043609619,
          -3.1268997192382812,
          -8.868896484375,
          62.04602813720703,
          -10.420975685119629,
          11.0048828125,
          -4.713736057281494,
          -39.213558197021484,
          11.324095726013184,
          6.3141984939575195,
          6.208587169647217,
          -9.675704002380371,
          -11.583146095275879,
          58.6685791015625,
          -39.03178787231445,
          5.899441719055176,
          -2.4231925010681152,
          6.097446441650391,
          -18.368602752685547,
          -5.256711483001709,
          -8.362174034118652,
          -52.977840423583984,
          4.144445419311523,
          -31.524778366088867,
          59.07757568359375,
          7.333618640899658,
          -10.444616317749023,
          -20.101490020751953,
          -3.345082998275757,
          17.481399536132812,
          3.401078462600708,
          8.103584289550781,
          -31.574951171875,
          -9.908456802368164,
          -0.009038761258125305,
          23.07670783996582,
          5.573936462402344,
          -40.00115203857422,
          -44.94933319091797,
          -14.945257186889648,
          5.572730541229248,
          -2.876258611679077,
          -17.55734634399414,
          -1.8910751342773438,
          -39.83843231201172,
          -12.163559913635254,
          66.38771057128906,
          24.797117233276367,
          -39.83918762207031,
          -15.934025764465332,
          66.40985107421875,
          24.802108764648438,
          49.40474319458008,
          29.057239532470703,
          -36.25918960571289,
          11.618875503540039,
          18.65619468688965,
          -46.450984954833984,
          -43.49593734741211,
          -10.301061630249023,
          -40.49736785888672,
          30.44464111328125,
          27.55671501159668,
          31.232595443725586,
          11.930719375610352,
          25.85731315612793,
          -0.1795511245727539,
          -4.6282267570495605,
          11.454187393188477,
          -16.761310577392578,
          -19.585899353027344,
          -16.83229637145996,
          -3.6527304649353027,
          -29.3520450592041,
          10.227027893066406,
          28.1353702545166,
          -13.466292381286621,
          -5.7332024574279785,
          2.378840684890747,
          -19.58995819091797,
          -19.989757537841797,
          66.3043212890625,
          -3.5517494678497314,
          5.770226955413818,
          27.22447967529297,
          -1.9848664999008179,
          -6.093180179595947,
          11.490849494934082,
          -16.212238311767578,
          27.580036163330078,
          -25.102203369140625,
          52.1529541015625,
          -20.50344467163086,
          -22.587980270385742,
          -46.2061882019043,
          -13.973731994628906,
          -35.20010757446289,
          0.7148839831352234,
          11.981350898742676,
          -48.89756774902344,
          3.4155192375183105,
          0.08520800620317459,
          -39.51007080078125,
          24.37734031677246,
          -21.968088150024414,
          -2.608097791671753,
          55.47819900512695,
          48.63410568237305,
          8.508780479431152,
          -56.278221130371094,
          -22.630680084228516,
          -11.363667488098145,
          -43.39824676513672,
          50.513397216796875,
          -50.89933395385742,
          -18.09410858154297,
          20.01165008544922,
          -20.099306106567383,
          33.64249801635742,
          3.500296115875244,
          -20.410303115844727,
          0.45977455377578735,
          6.974464416503906,
          -1.1635911464691162,
          3.7884745597839355,
          31.26987075805664,
          -43.12363815307617,
          -49.147735595703125,
          -45.43486404418945,
          -54.254661560058594,
          -46.42235565185547,
          -9.091573715209961,
          10.158583641052246,
          -32.736331939697266,
          -23.868881225585938,
          24.52216148376465,
          -30.414121627807617,
          -21.315767288208008,
          -31.78987693786621,
          -31.62933349609375,
          9.291769981384277,
          49.69786834716797,
          -19.3140926361084,
          1.9151108264923096,
          18.22018051147461,
          -0.5867327451705933,
          -46.20014953613281,
          -18.427749633789062,
          -17.936674118041992,
          50.459877014160156,
          -52.37782287597656,
          9.89028263092041,
          8.37452507019043,
          3.157235860824585,
          25.442045211791992,
          6.58241605758667,
          -50.27726364135742,
          -1.804154396057129,
          -42.81316375732422,
          8.779206275939941,
          55.317203521728516,
          -1.1620832681655884,
          -5.340980529785156,
          -2.9162747859954834,
          62.91733169555664,
          -21.54280662536621,
          2.5984179973602295,
          -46.32611846923828,
          -0.4987828731536865,
          -47.61827850341797,
          19.723859786987305,
          -34.725791931152344,
          -40.108638763427734,
          13.554917335510254,
          65.32564544677734,
          -49.57183837890625,
          -8.710171699523926,
          -0.5317248106002808,
          26.372325897216797,
          -36.15733337402344,
          -18.71955680847168,
          12.038089752197266,
          -29.94808578491211,
          -8.326238632202148,
          -1.8592768907546997,
          -5.84623908996582,
          65.67647552490234,
          -35.611976623535156,
          -54.33394241333008,
          4.050815105438232,
          -4.830207824707031,
          2.1938745975494385,
          -49.55751037597656,
          14.867060661315918,
          -32.54974365234375,
          31.46440887451172,
          -49.39313507080078,
          -45.25251007080078,
          59.88401794433594,
          11.868361473083496,
          -18.564193725585938,
          -22.695621490478516,
          6.590354919433594,
          0.6082687377929688,
          -44.38541030883789,
          -31.570436477661133,
          49.46958923339844,
          -2.1524605751037598,
          12.702554702758789,
          5.662379741668701,
          -33.36090087890625,
          -19.28412628173828,
          -49.7682991027832,
          4.234880447387695,
          57.60814666748047,
          0.3194934129714966,
          4.744632244110107,
          -15.02612018585205,
          -29.656177520751953,
          -12.234636306762695,
          26.08061981201172,
          10.321442604064941,
          1.552764654159546,
          -47.504032135009766,
          -8.47464656829834,
          -13.221495628356934,
          -49.94192886352539,
          -32.6988410949707,
          -25.194290161132812,
          -4.363593101501465,
          -37.285823822021484,
          3.333994150161743,
          52.12845993041992,
          -11.6312837600708,
          -12.763651847839355,
          0.010723862797021866,
          -14.735343933105469,
          -0.8965097665786743,
          9.769598960876465,
          -49.05197525024414,
          -9.577218055725098,
          -6.480692386627197,
          -25.927318572998047,
          -3.379199743270874,
          -16.122236251831055,
          0.14910025894641876,
          -1.7241413593292236,
          8.82313060760498,
          0.6010864973068237,
          -29.840734481811523,
          -27.773744583129883,
          2.982805013656616,
          -2.5752148628234863,
          -21.22862434387207,
          64.58366394042969,
          10.600550651550293,
          -33.61764907836914,
          -54.85953903198242,
          -27.982454299926758,
          7.796308994293213,
          -27.15632438659668,
          29.475017547607422,
          5.364623069763184,
          20.660358428955078,
          -47.396873474121094,
          5.844391345977783,
          51.19327926635742,
          -33.040462493896484,
          -14.035065650939941,
          -7.127869129180908,
          1.8459105491638184,
          5.679373741149902,
          8.85171127319336,
          -49.9956169128418,
          -41.52278518676758,
          -2.4122400283813477,
          -24.34823226928711,
          -6.8019304275512695,
          -3.3510711193084717,
          -22.73134422302246,
          50.84499740600586,
          2.9279723167419434,
          48.07143020629883,
          2.386908769607544,
          31.600479125976562,
          4.392825603485107,
          -28.051687240600586,
          20.81867790222168,
          2.3861496448516846,
          -1.9086130857467651,
          31.595441818237305,
          -41.28720474243164,
          54.11470413208008,
          -16.989519119262695,
          1.9970463514328003,
          -19.31516456604004,
          16.75507926940918,
          5.754817485809326,
          22.798505783081055,
          9.504594802856445,
          -43.006473541259766,
          5.665425777435303,
          13.36939811706543,
          25.56099510192871,
          -44.95077896118164,
          -10.520527839660645,
          3.8785791397094727,
          -0.2838030755519867,
          -27.039705276489258,
          -12.775074005126953,
          5.388166427612305,
          -5.778014659881592,
          5.678845405578613,
          4.82065486907959,
          29.597076416015625,
          0.14799989759922028,
          6.582036972045898,
          -19.02128028869629,
          51.163612365722656,
          -13.42001724243164,
          22.60444450378418,
          -3.045694351196289,
          1.722598671913147,
          4.8570556640625,
          4.116817474365234,
          -7.192201137542725,
          5.2463788986206055,
          -21.13028335571289,
          29.82975959777832,
          3.4551706314086914,
          1.363271713256836,
          10.492443084716797,
          -49.85772705078125,
          16.09300422668457,
          4.7822585105896,
          -3.322002410888672,
          -41.33382797241211,
          4.084240436553955,
          18.67294692993164,
          7.083510875701904,
          -25.324562072753906,
          -16.921632766723633,
          1.128953456878662,
          -3.5582470893859863,
          1.3453648090362549,
          -18.04543685913086,
          -23.98647117614746,
          -38.62379837036133,
          -3.5732474327087402,
          22.8187255859375,
          -18.2436466217041,
          -20.782445907592773,
          -2.2287087440490723,
          -0.6070289611816406,
          -23.852596282958984,
          -20.332489013671875,
          3.1857690811157227,
          -46.80816650390625,
          -22.479970932006836,
          7.167205810546875,
          -45.35307693481445,
          -41.87151336669922,
          -4.534875869750977,
          29.824710845947266,
          -13.054795265197754,
          5.373485088348389,
          -44.94819259643555,
          30.212257385253906,
          -22.388216018676758,
          -45.48363494873047,
          12.51530647277832,
          59.62329864501953,
          33.22360610961914,
          52.004608154296875,
          3.07305908203125,
          3.879498243331909,
          -17.590883255004883,
          29.001632690429688,
          -2.916900873184204,
          -44.67671585083008,
          -16.576602935791016,
          0.45539042353630066,
          31.398155212402344,
          -5.370123863220215,
          -54.30725860595703,
          4.580021381378174,
          0.16720198094844818,
          -44.86456298828125,
          11.758909225463867,
          47.408111572265625,
          -47.904109954833984,
          -45.969547271728516,
          -2.5312461853027344,
          63.92574691772461,
          -9.869400978088379,
          -42.04690933227539,
          -53.40439224243164,
          15.367218971252441,
          57.1286735534668,
          12.348227500915527,
          58.477230072021484,
          0.6734975576400757,
          1.2917766571044922,
          26.43936538696289,
          -0.3420850336551666,
          -20.742813110351562,
          1.5647822618484497,
          -7.140409469604492,
          -20.37641716003418,
          -17.279661178588867,
          54.4881706237793,
          16.504968643188477,
          -33.45071792602539,
          -12.644325256347656,
          -26.285327911376953,
          -54.84403991699219,
          -0.13250160217285156,
          -36.11126708984375,
          -1.2095177173614502,
          0.9063149094581604,
          9.98569393157959,
          -5.8923258781433105,
          4.801377773284912,
          51.552852630615234,
          23.058454513549805,
          -22.425888061523438,
          16.746612548828125,
          31.01049041748047,
          7.141851425170898,
          63.1348876953125,
          2.0919382572174072,
          -32.544857025146484,
          17.842226028442383,
          59.55133056640625,
          -45.6900749206543,
          61.81946563720703,
          2.4234721660614014,
          63.04715347290039,
          -7.443547248840332,
          -7.478296279907227,
          -50.923004150390625,
          0.9047163724899292,
          21.165754318237305,
          -29.53314208984375,
          -31.731298446655273,
          -0.4851841628551483,
          4.415968418121338,
          1.2643108367919922,
          -46.82809066772461,
          21.18427848815918,
          -51.92302322387695,
          -0.8242104649543762,
          26.91461753845215,
          -19.898462295532227,
          -0.16156615316867828,
          -1.1385656595230103,
          63.25634765625,
          -25.453712463378906,
          -29.653785705566406,
          15.6448335647583,
          53.99732971191406,
          -26.07037353515625,
          -19.024150848388672,
          -8.217585563659668,
          27.864709854125977,
          -32.77024459838867,
          7.28398323059082,
          -39.44038772583008,
          -53.366912841796875,
          -39.74533462524414,
          19.377521514892578,
          -12.608070373535156,
          -47.64672088623047,
          55.85118865966797,
          15.592571258544922,
          -48.19688415527344,
          14.274759292602539,
          30.997291564941406,
          2.0708975791931152,
          19.17880630493164,
          -3.8255786895751953,
          -6.962287425994873,
          18.580108642578125,
          -25.754732131958008,
          -20.986085891723633,
          57.817169189453125,
          0.42115318775177,
          14.91651439666748,
          -20.828601837158203,
          20.098848342895508,
          -30.148029327392578,
          -22.705474853515625,
          -18.383268356323242,
          -29.438566207885742,
          19.303682327270508,
          -18.55234718322754,
          -15.623388290405273,
          18.27613067626953,
          10.88962459564209,
          -11.296916007995605,
          12.194402694702148,
          5.861784934997559,
          4.014421463012695,
          -1.0539698600769043,
          10.314618110656738,
          -26.832700729370117,
          -19.984760284423828,
          26.7203426361084,
          5.319217681884766,
          -29.46092987060547,
          3.050410509109497,
          8.285574913024902,
          -6.299048900604248,
          22.264873504638672,
          -16.96246337890625,
          -39.32460021972656,
          53.51041030883789,
          21.21723747253418,
          4.425207614898682,
          -45.97690200805664,
          -50.439292907714844,
          -4.970246315002441,
          -34.95674514770508,
          2.069112539291382,
          -15.363533020019531,
          -2.7880117893218994,
          -39.174598693847656,
          1.766313910484314,
          22.08522605895996,
          -8.737433433532715,
          14.807707786560059,
          -47.376224517822266,
          -33.1536865234375,
          67.5748519897461,
          -2.41094708442688,
          11.3936185836792,
          -40.660743713378906,
          5.518450736999512,
          -20.065460205078125,
          53.88690185546875,
          -48.21416473388672,
          2.5112452507019043,
          8.165546417236328,
          6.615732192993164,
          -9.213582038879395,
          -47.07763671875,
          10.869571685791016,
          23.530263900756836,
          -12.167984008789062,
          10.885990142822266,
          4.345998287200928,
          -27.898849487304688,
          -53.34907150268555,
          12.298565864562988,
          25.203083038330078,
          30.359399795532227,
          48.48316192626953,
          -28.120939254760742,
          -26.682178497314453,
          -24.17122459411621,
          0.9432090520858765,
          -50.38392639160156,
          25.459474563598633,
          -12.72924518585205,
          13.440282821655273,
          -36.97353744506836,
          -19.45928192138672,
          4.3343915939331055,
          -44.111148834228516,
          28.274784088134766,
          9.184560775756836,
          2.7292354106903076,
          -25.577150344848633,
          22.91824722290039,
          24.611648559570312,
          -1.3234068155288696,
          18.538732528686523,
          1.1826679706573486,
          22.02639389038086,
          -17.95595932006836,
          -43.319236755371094,
          33.21177291870117,
          56.08291244506836,
          24.509395599365234,
          -24.75518226623535,
          -7.050031661987305,
          57.46106719970703,
          25.983617782592773,
          2.449096918106079,
          34.5212287902832,
          -21.900177001953125,
          64.63359832763672,
          -17.521066665649414,
          -27.83139419555664,
          25.163726806640625,
          26.6928768157959,
          2.0227103233337402,
          -14.270572662353516,
          -24.810016632080078,
          58.82978439331055,
          -15.010210990905762,
          52.13798904418945,
          -1.5777348279953003,
          24.69713020324707,
          -46.509681701660156,
          -33.43717575073242,
          0.4486362040042877,
          14.140820503234863,
          -25.995067596435547,
          15.275796890258789,
          -50.18092727661133,
          -49.08701705932617,
          -51.96186447143555,
          -43.07103729248047,
          33.32311248779297,
          54.27836990356445,
          -36.527835845947266,
          -8.718860626220703,
          10.124031066894531,
          14.410774230957031,
          -6.643695831298828,
          12.027694702148438,
          -27.8740291595459,
          3.6274728775024414,
          8.132153511047363,
          -51.734920501708984,
          -4.478377342224121,
          61.67540740966797,
          -2.753998041152954,
          21.585552215576172,
          4.925965309143066,
          -37.933319091796875,
          -45.350311279296875,
          25.413951873779297,
          9.32193374633789,
          -29.706125259399414,
          1.783447027206421,
          2.302166223526001,
          -45.061763763427734,
          -44.59739685058594,
          -23.896648406982422,
          26.673709869384766,
          -43.150291442871094,
          5.79926061630249,
          27.808725357055664,
          50.55771255493164,
          5.671389579772949,
          -20.462617874145508,
          -0.8182470798492432,
          -51.81073760986328,
          -17.140342712402344,
          18.798982620239258,
          -25.337404251098633,
          27.29854393005371,
          -36.49341583251953,
          -44.55316925048828,
          61.99435806274414,
          -3.896148681640625,
          16.07098388671875,
          13.914852142333984,
          8.049247741699219,
          -12.423413276672363,
          -48.82863998413086,
          3.990851879119873,
          10.146053314208984,
          -21.957292556762695,
          -37.75383758544922,
          -26.649398803710938,
          4.564188003540039,
          0.7259003520011902,
          15.950052261352539,
          52.13669204711914,
          53.85871887207031,
          55.955528259277344,
          -27.341909408569336,
          15.784697532653809,
          -36.26888656616211,
          0.5285714268684387,
          -33.00639343261719,
          -0.2438732087612152,
          1.9659063816070557,
          29.455595016479492,
          -44.604652404785156,
          -1.8511604070663452,
          58.2237434387207,
          60.448455810546875,
          -48.809837341308594,
          -48.65861892700195,
          52.088565826416016,
          -47.30261993408203,
          -3.5622990131378174,
          4.278419017791748,
          -0.7873402237892151,
          61.8310661315918,
          -37.72213363647461,
          65.62599182128906,
          -10.571640014648438,
          54.685401916503906,
          -3.955707550048828,
          -46.367027282714844,
          17.860504150390625,
          12.790656089782715,
          49.91866683959961,
          0.9389479160308838,
          -26.142072677612305,
          -1.8085516691207886,
          18.007144927978516,
          2.5859317779541016,
          -21.097684860229492,
          21.880958557128906,
          2.7907872200012207,
          1.6607205867767334,
          -15.022180557250977,
          -47.88645935058594,
          4.3782572746276855,
          -1.4382818937301636,
          -0.8788132071495056,
          -56.525413513183594,
          -15.664714813232422,
          -0.8510775566101074,
          55.347923278808594,
          13.688958168029785,
          -50.96437072753906,
          -32.60209274291992,
          -30.44125747680664,
          -6.557564735412598,
          -24.621795654296875,
          1.372859001159668,
          64.89128875732422,
          -19.867807388305664,
          -33.28799819946289,
          -52.2442626953125,
          -3.631639242172241,
          -9.706305503845215,
          56.52983856201172,
          -7.159778594970703,
          0.5104870796203613,
          -4.977123737335205,
          2.9780867099761963,
          -31.85110092163086,
          -0.935750424861908,
          -28.548547744750977,
          -1.3758783340454102,
          -4.666181564331055,
          -22.93255615234375,
          -3.761551856994629,
          -29.99041175842285,
          -3.718182325363159,
          0.09981328994035721,
          62.3012580871582,
          -0.06764167547225952,
          -21.169340133666992,
          64.36820983886719,
          1.2726396322250366,
          9.857242584228516,
          -10.342474937438965,
          -4.6469926834106445,
          57.10010528564453,
          -41.30223083496094,
          63.388519287109375,
          -33.05015563964844,
          6.882854461669922,
          28.316848754882812,
          -19.106170654296875,
          -49.65397262573242,
          -21.97519302368164,
          -56.8903923034668,
          11.856902122497559,
          5.253442764282227,
          -47.129127502441406,
          -51.098026275634766,
          1.2276049852371216,
          -0.7647464871406555,
          -1.9082152843475342,
          -29.94452667236328,
          -46.1484375,
          10.022502899169922,
          -3.559147834777832,
          -0.4407402276992798,
          62.2411003112793,
          14.501615524291992,
          -20.615598678588867,
          -23.745920181274414,
          0.5733067393302917,
          -14.584436416625977,
          -54.205650329589844,
          -3.7232398986816406,
          -31.391239166259766,
          -21.732994079589844,
          63.67637252807617,
          10.762085914611816,
          -11.157012939453125,
          -0.1690106838941574,
          12.395299911499023,
          5.953742980957031,
          2.6469593048095703,
          -30.212543487548828,
          -51.71167755126953,
          -23.613191604614258,
          -43.69268798828125,
          -0.019553860649466515,
          0.9108893275260925,
          20.701274871826172,
          3.5132553577423096,
          3.8393805027008057,
          7.413173198699951,
          -14.700369834899902,
          -39.83551788330078,
          -43.12701416015625,
          -22.541297912597656,
          -2.280167818069458,
          -1.707807183265686,
          14.465895652770996,
          6.744722843170166,
          -2.0638344287872314,
          -17.6533203125,
          -7.4150166511535645,
          51.27783966064453,
          -34.37355041503906,
          -8.82078742980957,
          -15.946697235107422,
          -6.49191427230835,
          -2.0011467933654785,
          -37.968929290771484,
          -34.98068618774414,
          2.713080883026123,
          26.55865478515625,
          20.691024780273438,
          -19.792842864990234,
          -9.662346839904785,
          4.03854513168335,
          51.18136215209961,
          -4.856368541717529,
          -20.870634078979492,
          10.643057823181152,
          2.1357057094573975,
          -26.1944637298584,
          -1.8021214008331299,
          12.25009822845459,
          17.636816024780273,
          -8.36904239654541,
          65.18006134033203,
          -19.594533920288086,
          21.82853126525879,
          4.614596843719482,
          0.7521234750747681,
          2.2306642532348633,
          -34.43560791015625,
          29.931764602661133,
          -47.91123962402344,
          -25.141437530517578,
          -12.965813636779785,
          -52.73206329345703,
          -3.8938167095184326,
          7.240140914916992,
          -24.14731788635254,
          8.314517974853516,
          5.1723246574401855,
          -46.02206802368164,
          -27.09773063659668,
          -1.794492244720459,
          -7.352719306945801,
          -3.4515726566314697,
          -50.288917541503906,
          3.064112901687622,
          1.557383418083191,
          -2.3623273372650146,
          -15.553409576416016,
          21.347393035888672,
          7.519197940826416,
          7.676905155181885,
          12.623010635375977,
          23.962583541870117,
          -21.191753387451172,
          -54.53512191772461,
          -41.526832580566406,
          -54.81258773803711,
          -10.703718185424805,
          19.786006927490234,
          27.759353637695312,
          19.23600959777832,
          -41.762874603271484,
          2.921048879623413,
          -1.3810365200042725,
          -16.481618881225586,
          35.71015548706055,
          11.739937782287598,
          22.47301483154297,
          13.548233985900879,
          4.759868144989014,
          28.34303092956543,
          53.3646354675293,
          -16.936635971069336,
          -47.5324821472168,
          -41.16011047363281,
          -7.925308704376221,
          56.48859405517578,
          63.505714416503906,
          6.768163204193115,
          -7.148813724517822,
          -50.98707580566406,
          -31.737422943115234,
          15.847174644470215,
          -39.267215728759766,
          60.96184539794922,
          23.97776985168457,
          1.8121368885040283,
          23.97772216796875,
          -41.14384078979492,
          -31.72293472290039,
          15.806772232055664,
          -3.977247953414917,
          -53.60546112060547,
          -1.39841628074646,
          -2.67453670501709,
          50.68181228637695,
          0.22697129845619202,
          12.147517204284668,
          4.950459957122803,
          -12.670943260192871,
          24.151992797851562,
          29.167829513549805,
          -29.946189880371094,
          28.93326187133789,
          26.082054138183594,
          27.88268280029297,
          30.756338119506836,
          52.06833267211914,
          12.521352767944336,
          54.551177978515625,
          -4.254159450531006,
          13.2120943069458,
          -45.60950469970703,
          19.79888343811035,
          27.17414665222168,
          11.163261413574219,
          5.698424816131592,
          4.490820407867432,
          5.150001525878906,
          10.526569366455078,
          -26.915573120117188,
          0.6946810483932495,
          -45.829566955566406,
          24.621444702148438,
          26.53064727783203,
          51.10662078857422,
          28.31275177001953,
          9.396777153015137,
          4.588816165924072,
          -51.55094909667969,
          25.08710289001465,
          15.13485050201416,
          -6.721105575561523,
          -19.527652740478516,
          10.428803443908691,
          29.00981903076172,
          16.95560646057129,
          -17.448871612548828,
          29.245771408081055,
          54.46034622192383,
          28.60923194885254,
          -45.98237991333008,
          -0.9063074588775635,
          -0.13186267018318176,
          -31.671411514282227,
          -13.613702774047852,
          -4.534040927886963,
          -2.385347604751587,
          -26.59763526916504,
          16.306079864501953,
          10.706533432006836,
          6.019614219665527,
          -14.017833709716797,
          -21.16976547241211,
          1.4016927480697632,
          27.53056526184082,
          27.48581314086914,
          3.4221041202545166,
          24.145015716552734,
          15.547351837158203,
          0.8188465237617493,
          -25.388004302978516,
          -51.54930877685547,
          1.3201682567596436,
          -44.8818244934082,
          27.499719619750977,
          7.632111072540283,
          -40.03611373901367,
          24.32847023010254,
          32.68643569946289,
          11.337937355041504,
          -14.632638931274414,
          15.187602996826172,
          -43.76402282714844,
          -46.852455139160156,
          -3.6680760383605957,
          14.95982551574707,
          33.45173263549805,
          -20.177366256713867,
          -30.56416893005371,
          -1.0640382766723633,
          -51.2978630065918,
          -44.46230697631836,
          24.419809341430664,
          -18.98130226135254,
          16.694334030151367,
          5.658788681030273,
          0.6225359439849854,
          -5.797781944274902,
          -6.129461288452148,
          -52.234474182128906,
          -45.29503631591797,
          -2.172636032104492,
          -42.61170196533203,
          -8.176615715026855,
          -22.928878784179688,
          -3.4782485961914062,
          65.13603973388672,
          -18.865070343017578,
          35.22040939331055,
          -33.36660385131836,
          67.05746459960938,
          -3.2289540767669678,
          -8.86999797821045,
          16.234506607055664,
          -2.2994987964630127,
          -24.9753475189209,
          -34.070335388183594,
          34.12587356567383,
          2.6358139514923096,
          -0.9968820810317993,
          -26.181476593017578,
          -2.110624074935913,
          -17.566997528076172,
          -47.099246978759766,
          3.544754981994629,
          32.016056060791016,
          14.19775676727295,
          22.0571346282959,
          4.285802841186523,
          25.396686553955078,
          -6.68516206741333,
          48.65624237060547,
          17.703052520751953,
          -33.447303771972656,
          -29.256179809570312,
          4.696781635284424,
          -49.366825103759766,
          -24.699609756469727,
          -14.121448516845703,
          -28.779491424560547,
          48.11469650268555,
          -53.48735046386719,
          -29.42146110534668,
          9.692117691040039,
          -26.98105812072754,
          4.331033706665039,
          -7.028846263885498,
          -51.88959503173828,
          10.32426929473877,
          4.452996253967285,
          -55.5152587890625,
          53.12074661254883,
          -27.991044998168945,
          8.065536499023438,
          24.10491943359375,
          8.387298583984375,
          26.006763458251953,
          28.414094924926758,
          14.731837272644043,
          29.03771209716797,
          -47.190616607666016,
          -13.880232810974121,
          5.1789984703063965,
          -14.643073081970215,
          -17.006837844848633,
          -0.5210729837417603,
          12.654857635498047,
          -2.2560338973999023,
          -21.637725830078125,
          -23.933460235595703,
          53.97779083251953,
          -11.310275077819824,
          -19.113128662109375,
          -28.763547897338867,
          63.74034118652344,
          10.716099739074707,
          -8.676863670349121,
          15.973694801330566,
          5.844590663909912,
          15.964456558227539,
          -0.4190026819705963,
          11.28482437133789,
          -49.86555480957031,
          24.318323135375977,
          -5.853174686431885,
          -4.5754594802856445,
          2.562272548675537,
          11.280923843383789,
          21.85749626159668,
          -5.507380485534668,
          1.450923204421997,
          -21.37505340576172,
          21.22340202331543,
          2.5160179138183594,
          9.936335563659668,
          5.516085624694824,
          -23.017459869384766,
          -38.006141662597656,
          -1.0127294063568115,
          17.684072494506836,
          52.82024383544922,
          30.045534133911133,
          3.7730984687805176,
          -0.22484979033470154,
          0.9586817622184753,
          25.022659301757812,
          -3.8817341327667236,
          52.797122955322266,
          10.63162899017334,
          68.13655090332031,
          14.414840698242188,
          -0.9865833520889282,
          -6.837144374847412,
          -46.0037841796875,
          -0.9625937342643738,
          -14.632131576538086,
          0.3098162114620209,
          -38.64015579223633,
          2.2102904319763184,
          -51.516117095947266,
          54.627166748046875,
          -45.73856735229492,
          52.768524169921875,
          -21.285247802734375,
          48.740203857421875,
          -44.98593521118164,
          -43.18669891357422,
          -55.32386779785156,
          -35.07960510253906,
          61.74062728881836,
          -1.6202020645141602,
          7.163789749145508,
          35.62507629394531,
          -0.4005395770072937,
          7.421897888183594,
          7.4384002685546875,
          8.614639282226562,
          8.95378589630127,
          30.401338577270508,
          -31.484622955322266,
          1.2273356914520264,
          8.6265287399292,
          -8.622050285339355,
          62.33903503417969,
          -36.19395446777344,
          9.843576431274414,
          -55.080326080322266,
          10.060364723205566,
          -5.1811113357543945,
          17.88909149169922,
          -55.66436767578125,
          13.652714729309082,
          -0.784508466720581,
          2.5920233726501465,
          -8.248817443847656,
          17.37005043029785,
          -43.39080810546875,
          -3.1571760177612305,
          -31.663110733032227,
          -24.893278121948242,
          15.254498481750488,
          16.21907615661621,
          14.193510055541992,
          6.035752773284912,
          12.084524154663086,
          8.094472885131836,
          -30.02992820739746,
          13.552790641784668,
          0.13166175782680511,
          62.166542053222656,
          56.78234100341797,
          9.993898391723633,
          -31.461580276489258,
          58.854984283447266,
          -30.893199920654297,
          -49.7061767578125,
          -57.03627014160156,
          -25.507976531982422,
          56.09741973876953,
          -32.40941619873047,
          52.20176315307617,
          52.3162956237793,
          -32.972267150878906,
          58.64649200439453,
          -6.548304080963135,
          0.512054979801178,
          58.95960235595703,
          -4.391480445861816,
          6.461924076080322,
          53.06394958496094,
          -2.8135643005371094,
          -56.66731643676758,
          -18.617551803588867,
          -43.663917541503906,
          -21.645845413208008,
          -27.23775291442871,
          -19.865665435791016,
          -46.69886779785156,
          61.20101547241211,
          13.214731216430664,
          -3.8784093856811523,
          -54.292484283447266,
          57.15047836303711,
          -16.974380493164062,
          -31.262361526489258,
          12.363465309143066,
          -2.547987699508667,
          -13.972982406616211,
          61.30373764038086,
          49.15962219238281,
          -16.51377296447754,
          31.96133041381836,
          -28.11455535888672,
          -4.807367324829102,
          -36.427127838134766,
          -37.977169036865234,
          64.6517333984375,
          -28.227008819580078,
          -47.4033203125,
          -3.0899806022644043,
          -21.293468475341797,
          10.701716423034668,
          -51.62334442138672,
          57.306766510009766,
          0.683193564414978,
          3.731562852859497,
          6.986203193664551,
          4.686859607696533,
          -5.585893154144287,
          0.9609092473983765,
          4.184396266937256,
          57.779335021972656,
          -25.0047664642334,
          64.36720275878906,
          -23.582727432250977,
          -49.60882568359375,
          -55.555992126464844,
          -27.793222427368164,
          0.7358301877975464,
          -34.40958786010742,
          -40.64494705200195,
          -6.952469348907471,
          61.719505310058594,
          4.735245704650879,
          -25.367420196533203,
          -53.72209930419922,
          -46.691864013671875,
          7.057614326477051,
          -51.89720916748047,
          -19.153064727783203,
          -11.240276336669922,
          9.016928672790527,
          -7.608513832092285,
          -12.72225284576416,
          -28.26813316345215,
          -47.961158752441406,
          61.564022064208984,
          -6.28535270690918,
          -21.79999542236328,
          10.919578552246094,
          -3.8693034648895264,
          -51.78171157836914,
          6.540984153747559,
          -16.496681213378906,
          -40.16029739379883,
          -4.715639591217041,
          14.956796646118164,
          -29.634111404418945,
          2.2407453060150146,
          61.05559158325195,
          56.070194244384766,
          -6.452258110046387,
          26.192481994628906,
          8.653010368347168,
          9.485309600830078,
          9.559089660644531,
          -24.52675437927246,
          -23.351806640625,
          10.146870613098145,
          -10.056805610656738,
          7.666772842407227,
          3.922197103500366,
          8.758073806762695,
          1.3308523893356323,
          13.85049819946289,
          -22.86463165283203,
          -36.502037048339844,
          -5.868216514587402,
          -21.694107055664062
         ]
        },
        {
         "mode": "text",
         "name": "Los más mejores",
         "opacity": 0.9,
         "text": [
          "L. Messi",
          "Cristiano Ronaldo",
          "Neymar Jr",
          "J. Oblak",
          "E. Hazard",
          "K. De Bruyne",
          "M. ter Stegen",
          "V. van Dijk",
          "L. Modrić",
          "M. Salah",
          "K. Mbappé",
          "K. Koulibaly",
          "H. Kane",
          "Alisson",
          "De Gea",
          "N. Kanté",
          "G. Chiellini",
          "S. Agüero",
          "Sergio Ramos",
          "L. Suárez",
          "R. Lewandowski",
          "Sergio Busquets",
          "A. Griezmann",
          "P. Dybala",
          "P. Pogba",
          "Ederson",
          "R. Sterling",
          "C. Eriksen",
          "T. Courtois",
          "Piqué",
          "S. Handanovič",
          "M. Neuer",
          "H. Lloris",
          "David Silva",
          "E. Cavani",
          "D. Godín",
          "T. Kroos",
          "M. Reus",
          "P. Aubameyang",
          "S. Mané",
          "A. Laporte",
          "Bernardo Silva",
          "Casemiro",
          "H. Son",
          "Fernandinho",
          "Thiago Silva",
          "K. Benzema",
          "J. Vertonghen",
          "D. Mertens",
          "M. Hummels",
          "T. Alderweireld",
          "Jordi Alba",
          "Thiago",
          "K. Navas",
          "L. Insigne",
          "L. Sané",
          "Marquinhos",
          "M. Škriniar",
          "M. Verratti",
          "S. Umtiti",
          "W. Szczęsny",
          "J. Kimmich",
          "Isco",
          "Roberto Firmino",
          "I. Rakitić",
          "M. Pjanić",
          "A. Di María",
          "L. Bonucci",
          "Coutinho",
          "Parejo",
          "T. Müller",
          "C. Immobile",
          "A. Lacazette"
         ],
         "textfont": {
          "color": "black",
          "family": "sans serif",
          "size": 10
         },
         "type": "scatter",
         "x": [
          21.346641540527344,
          21.965612411499023,
          22.414840698242188,
          -7.1126861572265625,
          22.501680374145508,
          11.824459075927734,
          -20.416284561157227,
          -12.582695960998535,
          8.45720100402832,
          21.862079620361328,
          22.977800369262695,
          -44.66605758666992,
          34.1467399597168,
          -15.133413314819336,
          -12.799661636352539,
          -23.38040542602539,
          -43.34465026855469,
          39.16899108886719,
          -1.4824278354644775,
          34.374122619628906,
          40.30632400512695,
          5.808440208435059,
          11.97880744934082,
          22.968042373657227,
          11.846138954162598,
          -12.303084373474121,
          26.71110725402832,
          18.727048873901367,
          -9.430423736572266,
          -8.430245399475098,
          -14.0488920211792,
          -14.56089973449707,
          -14.163656234741211,
          21.01972198486328,
          34.8159294128418,
          -23.4573917388916,
          12.636616706848145,
          19.698766708374023,
          22.380205154418945,
          23.14824676513672,
          -22.38528060913086,
          18.406803131103516,
          -1.605232834815979,
          21.583337783813477,
          -0.817771315574646,
          -11.777094841003418,
          32.058128356933594,
          -10.907161712646484,
          21.655975341796875,
          -8.368470191955566,
          -11.749577522277832,
          -9.983880043029785,
          8.454235076904297,
          -13.388678550720215,
          26.946630477905273,
          23.68012237548828,
          -34.092716217041016,
          -43.691287994384766,
          -0.36330080032348633,
          -11.83651351928711,
          -14.783352851867676,
          -12.710395812988281,
          19.767559051513672,
          12.817913055419922,
          8.79811954498291,
          -0.6804072856903076,
          19.6286678314209,
          -10.685516357421875,
          17.224308013916016,
          12.680745124816895,
          16.170934677124023,
          40.45867156982422,
          40.041595458984375
         ],
         "y": [
          31.956605911254883,
          33.0709342956543,
          32.06820297241211,
          58.05869674682617,
          31.84593391418457,
          5.812809944152832,
          55.14445877075195,
          -32.72466278076172,
          1.980685830116272,
          28.93214225769043,
          28.463939666748047,
          -41.85478973388672,
          -5.944809436798096,
          51.84494400024414,
          65.92213439941406,
          -7.064587593078613,
          -34.147735595703125,
          17.71869659423828,
          -12.56021785736084,
          -5.985795497894287,
          15.920406341552734,
          -31.692270278930664,
          7.868458271026611,
          31.621349334716797,
          5.286492824554443,
          66.0651626586914,
          33.79769515991211,
          3.905020236968994,
          58.202247619628906,
          -34.743309020996094,
          59.290042877197266,
          66.81777954101562,
          66.69039154052734,
          1.7002087831497192,
          -6.002038955688477,
          -42.10874938964844,
          -21.428977966308594,
          29.229198455810547,
          30.380929946899414,
          27.299983978271484,
          -35.4405403137207,
          23.710391998291016,
          -19.6826114654541,
          27.41352653503418,
          -20.2711124420166,
          -34.07232666015625,
          -3.1907906532287598,
          -33.38405990600586,
          31.309032440185547,
          -34.512718200683594,
          -33.73775863647461,
          8.551783561706543,
          1.895150065422058,
          60.69523620605469,
          33.76654052734375,
          28.635854721069336,
          -22.249942779541016,
          -39.15385055541992,
          -20.97197151184082,
          -32.81451416015625,
          61.03815841674805,
          10.227298736572266,
          1.840477705001831,
          6.556972503662109,
          -12.066033363342285,
          -8.118922233581543,
          23.881420135498047,
          -35.50579071044922,
          23.332897186279297,
          -21.486007690429688,
          6.229173183441162,
          15.891777038574219,
          16.137710571289062
         ]
        }
       ],
       "layout": {
        "autosize": false,
        "height": 1000,
        "template": {
         "data": {
          "bar": [
           {
            "error_x": {
             "color": "#2a3f5f"
            },
            "error_y": {
             "color": "#2a3f5f"
            },
            "marker": {
             "line": {
              "color": "#E5ECF6",
              "width": 0.5
             }
            },
            "type": "bar"
           }
          ],
          "barpolar": [
           {
            "marker": {
             "line": {
              "color": "#E5ECF6",
              "width": 0.5
             }
            },
            "type": "barpolar"
           }
          ],
          "carpet": [
           {
            "aaxis": {
             "endlinecolor": "#2a3f5f",
             "gridcolor": "white",
             "linecolor": "white",
             "minorgridcolor": "white",
             "startlinecolor": "#2a3f5f"
            },
            "baxis": {
             "endlinecolor": "#2a3f5f",
             "gridcolor": "white",
             "linecolor": "white",
             "minorgridcolor": "white",
             "startlinecolor": "#2a3f5f"
            },
            "type": "carpet"
           }
          ],
          "choropleth": [
           {
            "colorbar": {
             "outlinewidth": 0,
             "ticks": ""
            },
            "type": "choropleth"
           }
          ],
          "contour": [
           {
            "colorbar": {
             "outlinewidth": 0,
             "ticks": ""
            },
            "colorscale": [
             [
              0,
              "#0d0887"
             ],
             [
              0.1111111111111111,
              "#46039f"
             ],
             [
              0.2222222222222222,
              "#7201a8"
             ],
             [
              0.3333333333333333,
              "#9c179e"
             ],
             [
              0.4444444444444444,
              "#bd3786"
             ],
             [
              0.5555555555555556,
              "#d8576b"
             ],
             [
              0.6666666666666666,
              "#ed7953"
             ],
             [
              0.7777777777777778,
              "#fb9f3a"
             ],
             [
              0.8888888888888888,
              "#fdca26"
             ],
             [
              1,
              "#f0f921"
             ]
            ],
            "type": "contour"
           }
          ],
          "contourcarpet": [
           {
            "colorbar": {
             "outlinewidth": 0,
             "ticks": ""
            },
            "type": "contourcarpet"
           }
          ],
          "heatmap": [
           {
            "colorbar": {
             "outlinewidth": 0,
             "ticks": ""
            },
            "colorscale": [
             [
              0,
              "#0d0887"
             ],
             [
              0.1111111111111111,
              "#46039f"
             ],
             [
              0.2222222222222222,
              "#7201a8"
             ],
             [
              0.3333333333333333,
              "#9c179e"
             ],
             [
              0.4444444444444444,
              "#bd3786"
             ],
             [
              0.5555555555555556,
              "#d8576b"
             ],
             [
              0.6666666666666666,
              "#ed7953"
             ],
             [
              0.7777777777777778,
              "#fb9f3a"
             ],
             [
              0.8888888888888888,
              "#fdca26"
             ],
             [
              1,
              "#f0f921"
             ]
            ],
            "type": "heatmap"
           }
          ],
          "heatmapgl": [
           {
            "colorbar": {
             "outlinewidth": 0,
             "ticks": ""
            },
            "colorscale": [
             [
              0,
              "#0d0887"
             ],
             [
              0.1111111111111111,
              "#46039f"
             ],
             [
              0.2222222222222222,
              "#7201a8"
             ],
             [
              0.3333333333333333,
              "#9c179e"
             ],
             [
              0.4444444444444444,
              "#bd3786"
             ],
             [
              0.5555555555555556,
              "#d8576b"
             ],
             [
              0.6666666666666666,
              "#ed7953"
             ],
             [
              0.7777777777777778,
              "#fb9f3a"
             ],
             [
              0.8888888888888888,
              "#fdca26"
             ],
             [
              1,
              "#f0f921"
             ]
            ],
            "type": "heatmapgl"
           }
          ],
          "histogram": [
           {
            "marker": {
             "colorbar": {
              "outlinewidth": 0,
              "ticks": ""
             }
            },
            "type": "histogram"
           }
          ],
          "histogram2d": [
           {
            "colorbar": {
             "outlinewidth": 0,
             "ticks": ""
            },
            "colorscale": [
             [
              0,
              "#0d0887"
             ],
             [
              0.1111111111111111,
              "#46039f"
             ],
             [
              0.2222222222222222,
              "#7201a8"
             ],
             [
              0.3333333333333333,
              "#9c179e"
             ],
             [
              0.4444444444444444,
              "#bd3786"
             ],
             [
              0.5555555555555556,
              "#d8576b"
             ],
             [
              0.6666666666666666,
              "#ed7953"
             ],
             [
              0.7777777777777778,
              "#fb9f3a"
             ],
             [
              0.8888888888888888,
              "#fdca26"
             ],
             [
              1,
              "#f0f921"
             ]
            ],
            "type": "histogram2d"
           }
          ],
          "histogram2dcontour": [
           {
            "colorbar": {
             "outlinewidth": 0,
             "ticks": ""
            },
            "colorscale": [
             [
              0,
              "#0d0887"
             ],
             [
              0.1111111111111111,
              "#46039f"
             ],
             [
              0.2222222222222222,
              "#7201a8"
             ],
             [
              0.3333333333333333,
              "#9c179e"
             ],
             [
              0.4444444444444444,
              "#bd3786"
             ],
             [
              0.5555555555555556,
              "#d8576b"
             ],
             [
              0.6666666666666666,
              "#ed7953"
             ],
             [
              0.7777777777777778,
              "#fb9f3a"
             ],
             [
              0.8888888888888888,
              "#fdca26"
             ],
             [
              1,
              "#f0f921"
             ]
            ],
            "type": "histogram2dcontour"
           }
          ],
          "mesh3d": [
           {
            "colorbar": {
             "outlinewidth": 0,
             "ticks": ""
            },
            "type": "mesh3d"
           }
          ],
          "parcoords": [
           {
            "line": {
             "colorbar": {
              "outlinewidth": 0,
              "ticks": ""
             }
            },
            "type": "parcoords"
           }
          ],
          "pie": [
           {
            "automargin": true,
            "type": "pie"
           }
          ],
          "scatter": [
           {
            "marker": {
             "colorbar": {
              "outlinewidth": 0,
              "ticks": ""
             }
            },
            "type": "scatter"
           }
          ],
          "scatter3d": [
           {
            "line": {
             "colorbar": {
              "outlinewidth": 0,
              "ticks": ""
             }
            },
            "marker": {
             "colorbar": {
              "outlinewidth": 0,
              "ticks": ""
             }
            },
            "type": "scatter3d"
           }
          ],
          "scattercarpet": [
           {
            "marker": {
             "colorbar": {
              "outlinewidth": 0,
              "ticks": ""
             }
            },
            "type": "scattercarpet"
           }
          ],
          "scattergeo": [
           {
            "marker": {
             "colorbar": {
              "outlinewidth": 0,
              "ticks": ""
             }
            },
            "type": "scattergeo"
           }
          ],
          "scattergl": [
           {
            "marker": {
             "colorbar": {
              "outlinewidth": 0,
              "ticks": ""
             }
            },
            "type": "scattergl"
           }
          ],
          "scattermapbox": [
           {
            "marker": {
             "colorbar": {
              "outlinewidth": 0,
              "ticks": ""
             }
            },
            "type": "scattermapbox"
           }
          ],
          "scatterpolar": [
           {
            "marker": {
             "colorbar": {
              "outlinewidth": 0,
              "ticks": ""
             }
            },
            "type": "scatterpolar"
           }
          ],
          "scatterpolargl": [
           {
            "marker": {
             "colorbar": {
              "outlinewidth": 0,
              "ticks": ""
             }
            },
            "type": "scatterpolargl"
           }
          ],
          "scatterternary": [
           {
            "marker": {
             "colorbar": {
              "outlinewidth": 0,
              "ticks": ""
             }
            },
            "type": "scatterternary"
           }
          ],
          "surface": [
           {
            "colorbar": {
             "outlinewidth": 0,
             "ticks": ""
            },
            "colorscale": [
             [
              0,
              "#0d0887"
             ],
             [
              0.1111111111111111,
              "#46039f"
             ],
             [
              0.2222222222222222,
              "#7201a8"
             ],
             [
              0.3333333333333333,
              "#9c179e"
             ],
             [
              0.4444444444444444,
              "#bd3786"
             ],
             [
              0.5555555555555556,
              "#d8576b"
             ],
             [
              0.6666666666666666,
              "#ed7953"
             ],
             [
              0.7777777777777778,
              "#fb9f3a"
             ],
             [
              0.8888888888888888,
              "#fdca26"
             ],
             [
              1,
              "#f0f921"
             ]
            ],
            "type": "surface"
           }
          ],
          "table": [
           {
            "cells": {
             "fill": {
              "color": "#EBF0F8"
             },
             "line": {
              "color": "white"
             }
            },
            "header": {
             "fill": {
              "color": "#C8D4E3"
             },
             "line": {
              "color": "white"
             }
            },
            "type": "table"
           }
          ]
         },
         "layout": {
          "annotationdefaults": {
           "arrowcolor": "#2a3f5f",
           "arrowhead": 0,
           "arrowwidth": 1
          },
          "coloraxis": {
           "colorbar": {
            "outlinewidth": 0,
            "ticks": ""
           }
          },
          "colorscale": {
           "diverging": [
            [
             0,
             "#8e0152"
            ],
            [
             0.1,
             "#c51b7d"
            ],
            [
             0.2,
             "#de77ae"
            ],
            [
             0.3,
             "#f1b6da"
            ],
            [
             0.4,
             "#fde0ef"
            ],
            [
             0.5,
             "#f7f7f7"
            ],
            [
             0.6,
             "#e6f5d0"
            ],
            [
             0.7,
             "#b8e186"
            ],
            [
             0.8,
             "#7fbc41"
            ],
            [
             0.9,
             "#4d9221"
            ],
            [
             1,
             "#276419"
            ]
           ],
           "sequential": [
            [
             0,
             "#0d0887"
            ],
            [
             0.1111111111111111,
             "#46039f"
            ],
            [
             0.2222222222222222,
             "#7201a8"
            ],
            [
             0.3333333333333333,
             "#9c179e"
            ],
            [
             0.4444444444444444,
             "#bd3786"
            ],
            [
             0.5555555555555556,
             "#d8576b"
            ],
            [
             0.6666666666666666,
             "#ed7953"
            ],
            [
             0.7777777777777778,
             "#fb9f3a"
            ],
            [
             0.8888888888888888,
             "#fdca26"
            ],
            [
             1,
             "#f0f921"
            ]
           ],
           "sequentialminus": [
            [
             0,
             "#0d0887"
            ],
            [
             0.1111111111111111,
             "#46039f"
            ],
            [
             0.2222222222222222,
             "#7201a8"
            ],
            [
             0.3333333333333333,
             "#9c179e"
            ],
            [
             0.4444444444444444,
             "#bd3786"
            ],
            [
             0.5555555555555556,
             "#d8576b"
            ],
            [
             0.6666666666666666,
             "#ed7953"
            ],
            [
             0.7777777777777778,
             "#fb9f3a"
            ],
            [
             0.8888888888888888,
             "#fdca26"
            ],
            [
             1,
             "#f0f921"
            ]
           ]
          },
          "colorway": [
           "#636efa",
           "#EF553B",
           "#00cc96",
           "#ab63fa",
           "#FFA15A",
           "#19d3f3",
           "#FF6692",
           "#B6E880",
           "#FF97FF",
           "#FECB52"
          ],
          "font": {
           "color": "#2a3f5f"
          },
          "geo": {
           "bgcolor": "white",
           "lakecolor": "white",
           "landcolor": "#E5ECF6",
           "showlakes": true,
           "showland": true,
           "subunitcolor": "white"
          },
          "hoverlabel": {
           "align": "left"
          },
          "hovermode": "closest",
          "mapbox": {
           "style": "light"
          },
          "paper_bgcolor": "white",
          "plot_bgcolor": "#E5ECF6",
          "polar": {
           "angularaxis": {
            "gridcolor": "white",
            "linecolor": "white",
            "ticks": ""
           },
           "bgcolor": "#E5ECF6",
           "radialaxis": {
            "gridcolor": "white",
            "linecolor": "white",
            "ticks": ""
           }
          },
          "scene": {
           "xaxis": {
            "backgroundcolor": "#E5ECF6",
            "gridcolor": "white",
            "gridwidth": 2,
            "linecolor": "white",
            "showbackground": true,
            "ticks": "",
            "zerolinecolor": "white"
           },
           "yaxis": {
            "backgroundcolor": "#E5ECF6",
            "gridcolor": "white",
            "gridwidth": 2,
            "linecolor": "white",
            "showbackground": true,
            "ticks": "",
            "zerolinecolor": "white"
           },
           "zaxis": {
            "backgroundcolor": "#E5ECF6",
            "gridcolor": "white",
            "gridwidth": 2,
            "linecolor": "white",
            "showbackground": true,
            "ticks": "",
            "zerolinecolor": "white"
           }
          },
          "shapedefaults": {
           "line": {
            "color": "#2a3f5f"
           }
          },
          "ternary": {
           "aaxis": {
            "gridcolor": "white",
            "linecolor": "white",
            "ticks": ""
           },
           "baxis": {
            "gridcolor": "white",
            "linecolor": "white",
            "ticks": ""
           },
           "bgcolor": "#E5ECF6",
           "caxis": {
            "gridcolor": "white",
            "linecolor": "white",
            "ticks": ""
           }
          },
          "title": {
           "x": 0.05
          },
          "xaxis": {
           "automargin": true,
           "gridcolor": "white",
           "linecolor": "white",
           "ticks": "",
           "title": {
            "standoff": 15
           },
           "zerolinecolor": "white",
           "zerolinewidth": 2
          },
          "yaxis": {
           "automargin": true,
           "gridcolor": "white",
           "linecolor": "white",
           "ticks": "",
           "title": {
            "standoff": 15
           },
           "zerolinecolor": "white",
           "zerolinewidth": 2
          }
         }
        },
        "title": {
         "font": {
          "size": 20
         },
         "text": "Visualización de la base en el espacio tsne"
        },
        "width": 1000,
        "xaxis": {
         "title": {
          "text": "componente 1"
         }
        },
        "yaxis": {
         "title": {
          "text": "componente 2"
         }
        }
       }
      },
      "text/html": [
       "<div>\n",
       "        \n",
       "        \n",
       "            <div id=\"00ba6273-d140-4ee6-b8ce-7e1cb4f086b0\" class=\"plotly-graph-div\" style=\"height:1000px; width:1000px;\"></div>\n",
       "            <script type=\"text/javascript\">\n",
       "                require([\"plotly\"], function(Plotly) {\n",
       "                    window.PLOTLYENV=window.PLOTLYENV || {};\n",
       "                    \n",
       "                if (document.getElementById(\"00ba6273-d140-4ee6-b8ce-7e1cb4f086b0\")) {\n",
       "                    Plotly.newPlot(\n",
       "                        '00ba6273-d140-4ee6-b8ce-7e1cb4f086b0',\n",
       "                        [{\"marker\": {\"size\": 5}, \"mode\": \"markers\", \"text\": [[\"RW\", \" CF\", \" ST\"], [\"ST\", \" LW\"], [\"LW\", \" CAM\"], [\"GK\"], [\"LW\", \" CF\"], [\"CAM\", \" CM\"], [\"GK\"], [\"CB\"], [\"CM\"], [\"RW\", \" ST\"], [\"ST\", \" RW\"], [\"CB\"], [\"ST\"], [\"GK\"], [\"GK\"], [\"CDM\", \" CM\"], [\"CB\"], [\"ST\"], [\"CB\"], [\"ST\"], [\"ST\"], [\"CDM\", \" CM\"], [\"CF\", \" ST\", \" LW\"], [\"CAM\", \" RW\"], [\"CM\", \" CDM\"], [\"GK\"], [\"RW\", \" LW\"], [\"CAM\", \" CM\"], [\"GK\"], [\"CB\"], [\"GK\"], [\"GK\"], [\"GK\"], [\"CAM\", \" CM\"], [\"ST\"], [\"CB\"], [\"CM\"], [\"CAM\", \" LM\", \" ST\"], [\"ST\", \" LM\"], [\"LW\", \" LM\"], [\"CB\", \" LB\"], [\"RW\", \" CAM\", \" CM\"], [\"CDM\"], [\"CF\", \" LM\"], [\"CDM\"], [\"CB\"], [\"CF\", \" ST\"], [\"CB\"], [\"CF\", \" ST\"], [\"CB\"], [\"CB\"], [\"LB\"], [\"CM\", \" CAM\", \" CDM\"], [\"GK\"], [\"CF\", \" LW\", \" ST\"], [\"LW\"], [\"CB\", \" CDM\"], [\"CB\"], [\"CM\", \" CDM\"], [\"CB\"], [\"GK\"], [\"RB\", \" CM\", \" CDM\"], [\"CAM\", \" CM\", \" LW\"], [\"CF\", \" ST\", \" CAM\"], [\"CM\", \" CDM\"], [\"CM\", \" CDM\"], [\"RW\", \" LW\"], [\"CB\"], [\"LW\", \" CM\"], [\"CM\"], [\"CAM\", \" RM\", \" RW\"], [\"ST\"], [\"ST\"], [\"CB\"], [\"GK\"], [\"CM\", \" CDM\"], [\"CB\"], [\"CB\"], [\"CM\", \" CAM\"], [\"CDM\", \" CM\"], [\"CM\", \" LM\", \" RM\"], [\"CDM\"], [\"LB\"], [\"CB\"], [\"CB\"], [\"CAM\", \" CM\"], [\"GK\"], [\"GK\"], [\"GK\"], [\"ST\"], [\"CB\"], [\"GK\"], [\"LB\", \" CB\"], [\"ST\"], [\"RB\"], [\"CAM\", \" RW\"], [\"ST\"], [\"CAM\", \" CF\", \" ST\"], [\"ST\"], [\"CDM\", \" CM\"], [\"RW\", \" LW\", \" ST\"], [\"LB\"], [\"CDM\", \" CM\"], [\"LB\", \" LM\"], [\"ST\", \" RW\"], [\"RM\", \" LM\", \" CM\"], [\"CAM\", \" CM\", \" RM\"], [\"CM\"], [\"RM\", \" LM\"], [\"CAM\", \" RM\"], [\"RW\", \" LW\"], [\"GK\"], [\"RB\"], [\"CAM\", \" CM\"], [\"CB\", \" LB\"], [\"CM\"], [\"CF\", \" LW\", \" CAM\"], [\"CM\", \" CAM\", \" CDM\"], [\"CAM\", \" LM\", \" RM\"], [\"LM\", \" RM\", \" LW\"], [\"RM\", \" LM\", \" LW\"], [\"CAM\"], [\"GK\"], [\"CAM\", \" CM\", \" CF\"], [\"LB\"], [\"GK\"], [\"CB\"], [\"LM\"], [\"CB\"], [\"CM\"], [\"GK\"], [\"GK\"], [\"CM\"], [\"CB\"], [\"CDM\"], [\"CAM\", \" RW\"], [\"CDM\", \" CB\"], [\"GK\"], [\"ST\"], [\"CM\", \" CDM\"], [\"LM\"], [\"ST\", \" LW\"], [\"CM\", \" CDM\"], [\"CB\"], [\"RB\", \" CB\"], [\"RM\", \" RW\"], [\"CM\", \" CDM\"], [\"CM\", \" CAM\", \" CDM\"], [\"RB\"], [\"CAM\", \" CM\", \" CF\"], [\"LM\", \" RW\", \" LW\"], [\"RM\", \" CM\"], [\"CAM\", \" LW\", \" ST\"], [\"CF\", \" ST\"], [\"RW\", \" RM\"], [\"RM\", \" RW\"], [\"CB\"], [\"CM\", \" CDM\", \" CAM\"], [\"CB\"], [\"CM\", \" CAM\", \" CF\"], [\"RB\"], [\"ST\"], [\"ST\"], [\"LW\", \" ST\", \" LM\"], [\"CAM\", \" RW\"], [\"CB\"], [\"CM\", \" CDM\"], [\"GK\"], [\"LM\", \" ST\"], [\"RM\", \" RW\", \" ST\"], [\"CB\"], [\"ST\", \" LM\"], [\"CB\"], [\"CM\", \" CDM\"], [\"LB\"], [\"ST\"], [\"LM\", \" CAM\", \" RM\"], [\"CB\"], [\"LW\", \" RW\"], [\"LB\"], [\"CAM\", \" CM\", \" LW\"], [\"GK\"], [\"LM\"], [\"ST\"], [\"GK\"], [\"CF\", \" LM\", \" LW\"], [\"ST\"], [\"ST\"], [\"ST\"], [\"CDM\", \" CM\"], [\"RM\", \" CAM\"], [\"CB\"], [\"CAM\", \" CM\"], [\"GK\"], [\"CB\"], [\"CAM\", \" CM\", \" RM\"], [\"GK\"], [\"CF\", \" RM\", \" LM\"], [\"RW\", \" RM\"], [\"CM\", \" CDM\"], [\"GK\"], [\"GK\"], [\"GK\"], [\"CB\"], [\"CB\"], [\"ST\"], [\"GK\"], [\"ST\"], [\"CB\"], [\"RW\", \" LW\", \" CAM\"], [\"CB\"], [\"GK\"], [\"CAM\", \" CM\"], [\"CDM\", \" CM\", \" CAM\"], [\"ST\"], [\"CM\", \" CDM\"], [\"CB\"], [\"CF\", \" ST\", \" CAM\"], [\"CDM\", \" CM\"], [\"CAM\"], [\"CM\", \" CAM\"], [\"CDM\", \" CM\"], [\"CDM\", \" CB\", \" LB\"], [\"GK\"], [\"CB\"], [\"RM\", \" RW\"], [\"CDM\"], [\"CM\", \" CAM\", \" CDM\"], [\"ST\"], [\"CM\", \" CDM\"], [\"ST\"], [\"CB\"], [\"CDM\", \" CM\"], [\"ST\", \" CAM\", \" LW\"], [\"ST\", \" CF\"], [\"CB\"], [\"RW\", \" CAM\"], [\"LW\", \" LM\", \" RW\"], [\"LW\", \" RW\"], [\"ST\"], [\"CM\"], [\"ST\"], [\"GK\"], [\"CM\", \" CDM\"], [\"CDM\", \" CM\"], [\"CM\"], [\"CB\"], [\"RW\", \" CAM\", \" LW\"], [\"GK\"], [\"RB\"], [\"GK\"], [\"GK\"], [\"CB\"], [\"RM\", \" ST\"], [\"ST\", \" RW\"], [\"RW\", \" LW\"], [\"RM\", \" RW\"], [\"GK\"], [\"CM\", \" CDM\", \" RM\"], [\"CM\"], [\"CB\"], [\"RW\", \" CF\"], [\"CB\"], [\"CB\"], [\"GK\"], [\"RB\", \" RM\"], [\"LB\"], [\"GK\"], [\"GK\"], [\"CAM\", \" LW\"], [\"CF\", \" CAM\", \" CM\"], [\"CDM\", \" CM\"], [\"GK\"], [\"ST\"], [\"RB\", \" RM\", \" CM\"], [\"LWB\", \" LM\", \" LB\"], [\"ST\", \" RW\", \" LW\"], [\"CB\", \" LB\", \" RB\"], [\"CB\"], [\"LB\"], [\"CB\"], [\"RM\", \" LM\", \" CF\"], [\"CAM\", \" LM\"], [\"LM\", \" LWB\"], [\"RM\", \" ST\"], [\"LM\", \" RM\"], [\"GK\"], [\"CDM\"], [\"ST\"], [\"RM\", \" RB\"], [\"CM\", \" CDM\", \" LM\"], [\"CM\"], [\"CDM\", \" CM\"], [\"GK\"], [\"GK\"], [\"CAM\", \" RM\"], [\"ST\"], [\"CB\"], [\"RW\", \" LW\"], [\"CB\"], [\"ST\"], [\"LW\", \" LM\"], [\"CAM\"], [\"LB\"], [\"ST\"], [\"RM\", \" CAM\"], [\"CAM\", \" LM\"], [\"ST\"], [\"CM\", \" LW\"], [\"RW\", \" LW\"], [\"ST\"], [\"LW\"], [\"CM\", \" CDM\"], [\"RW\", \" RM\"], [\"RWB\", \" RM\"], [\"CB\"], [\"ST\"], [\"RB\", \" RM\"], [\"RW\"], [\"CAM\", \" RW\"], [\"LW\", \" RW\"], [\"ST\"], [\"ST\"], [\"ST\", \" LM\"], [\"GK\"], [\"CB\", \" CDM\"], [\"CDM\", \" CM\", \" CAM\"], [\"CB\"], [\"CAM\", \" RM\"], [\"ST\"], [\"CM\"], [\"CM\", \" CDM\"], [\"CB\", \" RB\"], [\"GK\"], [\"CAM\", \" CM\"], [\"CB\"], [\"CM\", \" LM\", \" CDM\"], [\"CAM\", \" CM\", \" LM\"], [\"CM\", \" CDM\"], [\"LB\"], [\"LW\", \" RW\", \" CAM\"], [\"CM\", \" LM\"], [\"GK\"], [\"CM\", \" CDM\"], [\"CAM\", \" CM\", \" RW\"], [\"CM\", \" CDM\"], [\"CAM\", \" CM\"], [\"LB\"], [\"ST\"], [\"CDM\", \" CM\"], [\"CDM\", \" CM\"], [\"GK\"], [\"CB\"], [\"ST\", \" LW\"], [\"ST\"], [\"LM\"], [\"CB\", \" CDM\"], [\"LM\", \" LB\", \" CM\"], [\"CAM\", \" CM\"], [\"CDM\", \" CM\"], [\"CB\"], [\"CDM\", \" CM\"], [\"CAM\", \" LW\"], [\"RM\", \" RB\"], [\"GK\"], [\"GK\"], [\"CDM\", \" CM\"], [\"ST\", \" CF\"], [\"ST\"], [\"RM\", \" LM\"], [\"CB\"], [\"CM\", \" LB\"], [\"ST\"], [\"ST\"], [\"CM\", \" CAM\", \" CDM\"], [\"CM\", \" CDM\"], [\"GK\"], [\"CB\"], [\"CB\"], [\"CM\", \" CAM\", \" CDM\"], [\"CB\"], [\"CM\", \" CDM\", \" LM\"], [\"RB\"], [\"ST\"], [\"CAM\", \" LW\"], [\"CM\"], [\"GK\"], [\"CB\", \" LB\"], [\"GK\"], [\"CM\", \" CDM\"], [\"CDM\", \" CM\"], [\"CDM\", \" CM\"], [\"CAM\"], [\"CF\", \" ST\", \" RM\"], [\"CDM\", \" CB\"], [\"CB\"], [\"CDM\", \" CM\"], [\"LB\", \" LWB\"], [\"RM\", \" CAM\", \" RW\"], [\"RB\"], [\"RB\", \" RW\", \" LW\"], [\"CF\", \" ST\"], [\"CM\", \" CAM\"], [\"RW\", \" RM\"], [\"CM\", \" CDM\"], [\"LW\", \" LB\"], [\"CAM\", \" LM\", \" LW\"], [\"CB\", \" CDM\"], [\"CAM\", \" LM\", \" LW\"], [\"ST\", \" CF\"], [\"ST\"], [\"CF\", \" ST\"], [\"CM\", \" CAM\"], [\"CB\", \" RB\"], [\"CB\"], [\"GK\"], [\"CM\", \" CDM\"], [\"CB\"], [\"RM\", \" CM\"], [\"CB\"], [\"CM\", \" CDM\"], [\"ST\"], [\"CF\", \" LW\"], [\"CDM\"], [\"LB\"], [\"RM\", \" LM\", \" CAM\"], [\"CB\"], [\"GK\"], [\"RB\", \" RWB\"], [\"LB\"], [\"ST\"], [\"GK\"], [\"ST\"], [\"LM\", \" LW\"], [\"CF\", \" ST\", \" CAM\"], [\"CDM\", \" CM\"], [\"CM\", \" CAM\", \" CDM\"], [\"RB\"], [\"ST\"], [\"CM\", \" CDM\"], [\"CB\"], [\"CM\", \" CDM\"], [\"CB\"], [\"RB\"], [\"CDM\", \" CM\"], [\"RM\", \" ST\", \" LM\"], [\"CDM\", \" CB\"], [\"CM\", \" CAM\"], [\"CB\"], [\"ST\"], [\"LB\", \" CB\"], [\"CM\", \" RM\"], [\"CM\", \" CDM\"], [\"CB\"], [\"CF\", \" RW\", \" LW\"], [\"LB\", \" LM\"], [\"GK\"], [\"CB\"], [\"CAM\", \" CF\"], [\"RM\", \" LM\", \" CM\"], [\"GK\"], [\"ST\", \" LW\", \" CAM\"], [\"CB\"], [\"LW\", \" CF\"], [\"RM\"], [\"CAM\", \" CM\", \" LM\"], [\"GK\"], [\"GK\"], [\"CB\"], [\"CAM\", \" CF\"], [\"CB\"], [\"CB\"], [\"CM\", \" CDM\"], [\"ST\"], [\"CDM\", \" CM\"], [\"CM\", \" CAM\"], [\"RWB\", \" RB\", \" RM\"], [\"CDM\", \" CM\"], [\"CB\"], [\"CF\", \" ST\", \" RM\"], [\"CM\", \" CDM\"], [\"LW\", \" CAM\", \" CM\"], [\"ST\", \" LM\"], [\"LB\"], [\"CDM\"], [\"GK\"], [\"GK\"], [\"LM\", \" ST\", \" RM\"], [\"ST\"], [\"GK\"], [\"LW\", \" RW\"], [\"CDM\", \" CB\"], [\"GK\"], [\"GK\"], [\"ST\"], [\"ST\"], [\"GK\"], [\"CB\"], [\"GK\"], [\"GK\"], [\"GK\"], [\"ST\"], [\"CB\"], [\"LB\", \" LWB\"], [\"RM\", \" LM\", \" CAM\"], [\"CAM\"], [\"CB\"], [\"CM\", \" RB\", \" RM\"], [\"GK\"], [\"RM\"], [\"LW\", \" CF\", \" ST\"], [\"GK\"], [\"CDM\", \" CM\"], [\"LM\", \" CAM\"], [\"RB\", \" CDM\", \" CM\"], [\"CB\", \" CDM\"], [\"CDM\", \" CM\"], [\"LB\"], [\"GK\"], [\"CB\"], [\"CB\", \" CDM\"], [\"CB\"], [\"LW\"], [\"ST\"], [\"RM\", \" RW\", \" CAM\"], [\"RB\", \" RWB\"], [\"CB\"], [\"CDM\", \" CM\"], [\"CF\"], [\"ST\"], [\"CDM\", \" CM\"], [\"CM\", \" CDM\"], [\"RM\", \" RW\", \" ST\"], [\"CM\", \" CDM\"], [\"CB\"], [\"CB\"], [\"RM\"], [\"GK\"], [\"CB\"], [\"LM\", \" CAM\"], [\"CAM\", \" CM\"], [\"ST\"], [\"CB\"], [\"LM\", \" RW\"], [\"ST\"], [\"CB\", \" RB\"], [\"RM\", \" RW\", \" LM\"], [\"RW\"], [\"LM\", \" RM\"], [\"LB\"], [\"LB\"], [\"CB\", \" CDM\"], [\"ST\"], [\"RB\"], [\"CAM\", \" CF\"], [\"ST\"], [\"LM\"], [\"CDM\"], [\"GK\"], [\"CDM\", \" CM\"], [\"LM\"], [\"ST\"], [\"ST\", \" RM\"], [\"CDM\", \" CM\"], [\"LB\", \" LM\"], [\"GK\"], [\"CDM\", \" CM\"], [\"LB\", \" LM\"], [\"LW\"], [\"CM\"], [\"CAM\", \" CM\"], [\"RB\"], [\"GK\"], [\"CB\"], [\"CM\", \" CDM\", \" LM\"], [\"CDM\", \" CM\"], [\"CM\", \" CAM\", \" CDM\"], [\"RW\", \" CF\"], [\"CAM\", \" LM\", \" CM\"], [\"CDM\", \" CM\", \" LM\"], [\"RW\", \" LW\", \" ST\"], [\"RW\", \" ST\", \" LW\"], [\"CB\", \" RB\"], [\"LW\", \" RW\"], [\"CM\"], [\"LB\", \" RB\"], [\"CDM\", \" CM\"], [\"CDM\", \" CM\"], [\"CB\", \" LB\"], [\"RM\", \" LM\"], [\"ST\"], [\"CM\", \" LM\"], [\"CM\", \" CDM\"], [\"CB\"], [\"RB\", \" LB\"], [\"CAM\", \" CM\"], [\"CB\", \" LB\"], [\"CB\", \" RB\"], [\"LW\", \" CF\", \" RW\"], [\"LB\"], [\"ST\"], [\"CDM\"], [\"LB\", \" LM\", \" LWB\"], [\"CM\", \" RM\"], [\"RW\", \" RM\"], [\"RM\", \" CAM\", \" CM\"], [\"CB\", \" CDM\"], [\"LM\", \" LW\", \" RM\"], [\"CDM\", \" CM\", \" CB\"], [\"ST\", \" RW\", \" LM\"], [\"LB\"], [\"CAM\", \" CM\", \" LW\"], [\"ST\"], [\"RM\", \" LM\", \" ST\"], [\"LM\", \" CF\"], [\"RW\", \" LW\"], [\"CDM\", \" CB\", \" CM\"], [\"LW\"], [\"LWB\", \" LB\"], [\"CM\", \" CAM\"], [\"CDM\", \" CM\"], [\"RB\"], [\"CM\", \" CDM\"], [\"CB\", \" LB\"], [\"CAM\", \" CM\"], [\"CB\"], [\"CB\"], [\"GK\"], [\"GK\"], [\"CB\"], [\"ST\"], [\"CM\", \" CDM\", \" CAM\"], [\"LB\", \" LWB\"], [\"CB\"], [\"LW\"], [\"ST\"], [\"ST\"], [\"RB\", \" RWB\"], [\"CB\"], [\"CB\"], [\"CB\"], [\"RWB\", \" RM\", \" RB\"], [\"CB\"], [\"LB\", \" LWB\"], [\"CM\"], [\"ST\"], [\"CB\"], [\"ST\", \" LM\", \" LW\"], [\"GK\"], [\"CM\", \" CAM\", \" CDM\"], [\"CB\"], [\"CF\", \" ST\"], [\"ST\"], [\"CB\"], [\"CB\"], [\"RB\", \" RWB\"], [\"LM\", \" LB\"], [\"RWB\"], [\"RB\"], [\"CM\"], [\"CM\", \" CDM\"], [\"ST\", \" RW\", \" RM\"], [\"CB\", \" RB\"], [\"RB\", \" RWB\"], [\"ST\", \" LM\", \" LW\"], [\"ST\", \" LW\"], [\"ST\"], [\"GK\"], [\"LM\", \" ST\", \" RM\"], [\"CB\"], [\"RB\"], [\"ST\", \" CAM\"], [\"CAM\", \" CDM\"], [\"CB\"], [\"CB\"], [\"CAM\", \" ST\"], [\"CB\"], [\"LB\", \" CB\"], [\"RM\"], [\"CB\"], [\"CF\", \" CM\"], [\"CM\", \" CDM\"], [\"GK\"], [\"LB\", \" CB\"], [\"ST\"], [\"CM\", \" LM\", \" RM\"], [\"ST\"], [\"CM\"], [\"RB\"], [\"CM\"], [\"ST\"], [\"LW\", \" LM\"], [\"LB\"], [\"RB\"], [\"CB\"], [\"ST\"], [\"ST\"], [\"GK\"], [\"LB\"], [\"ST\", \" CAM\"], [\"LM\"], [\"ST\"], [\"CAM\", \" CM\", \" CF\"], [\"CM\", \" CAM\", \" CDM\"], [\"GK\"], [\"LB\"], [\"CF\", \" RW\"], [\"CM\", \" LW\", \" RW\"], [\"CB\"], [\"RM\", \" CAM\", \" LM\"], [\"ST\", \" LW\"], [\"ST\", \" LM\"], [\"LB\", \" LM\"], [\"RB\", \" RM\", \" CB\"], [\"GK\"], [\"CB\"], [\"ST\"], [\"RM\", \" RW\"], [\"ST\", \" CAM\"], [\"CDM\", \" CM\"], [\"RWB\", \" RB\", \" RM\"], [\"RB\", \" LB\"], [\"CB\"], [\"LM\", \" RM\"], [\"CDM\", \" CM\"], [\"GK\"], [\"ST\"], [\"RB\", \" RM\"], [\"CDM\", \" CM\"], [\"LB\"], [\"LM\", \" RM\"], [\"LM\", \" LW\"], [\"ST\"], [\"CDM\", \" CM\"], [\"LB\", \" CDM\"], [\"RB\", \" RM\"], [\"ST\"], [\"ST\"], [\"CB\"], [\"CB\"], [\"CDM\", \" CM\"], [\"ST\"], [\"ST\"], [\"CM\", \" CDM\"], [\"RB\", \" RM\"], [\"CB\", \" LB\"], [\"CDM\"], [\"GK\"], [\"ST\"], [\"CB\", \" LB\"], [\"CDM\", \" CM\", \" CAM\"], [\"GK\"], [\"ST\"], [\"GK\"], [\"RM\", \" LM\"], [\"CDM\", \" CB\", \" CM\"], [\"CM\"], [\"CAM\", \" RM\", \" CM\"], [\"CB\"], [\"CB\"], [\"CM\", \" CDM\"], [\"CB\"], [\"LM\", \" ST\"], [\"CAM\"], [\"RW\", \" RM\"], [\"RW\", \" CAM\", \" CM\"], [\"LM\"], [\"CAM\", \" CM\"], [\"LB\"], [\"ST\"], [\"CDM\", \" CM\", \" CB\"], [\"CM\", \" CDM\", \" CAM\"], [\"CM\", \" CB\"], [\"CM\", \" CDM\"], [\"CB\", \" RB\", \" LB\"], [\"ST\", \" CAM\"], [\"LM\", \" RM\", \" CAM\"], [\"CB\"], [\"LB\"], [\"CM\", \" LM\", \" CAM\"], [\"CM\", \" CDM\"], [\"CB\"], [\"GK\"], [\"CM\"], [\"ST\"], [\"CF\", \" CM\", \" LW\"], [\"ST\"], [\"CM\", \" CDM\"], [\"ST\"], [\"CDM\", \" CM\"], [\"CAM\", \" ST\"], [\"CDM\", \" CM\"], [\"GK\"], [\"CB\", \" RB\"], [\"CDM\", \" CM\"], [\"CB\"], [\"CM\", \" CDM\", \" CAM\"], [\"CDM\"], [\"CAM\", \" CM\", \" RM\"], [\"CAM\", \" ST\"], [\"CB\"], [\"CM\"], [\"CM\", \" LM\", \" RM\"], [\"CB\"], [\"RW\", \" ST\", \" RM\"], [\"CDM\", \" CB\"], [\"CM\", \" LM\"], [\"GK\"], [\"GK\"], [\"ST\"], [\"CB\"], [\"CDM\", \" CM\"], [\"RB\"], [\"CB\"], [\"GK\"], [\"CB\"], [\"CM\", \" CDM\"], [\"LM\", \" ST\"], [\"CM\", \" CDM\"], [\"CAM\", \" LW\"], [\"RW\", \" ST\"], [\"CDM\", \" CM\"], [\"RB\"], [\"CF\", \" RW\", \" RM\"], [\"RM\", \" RB\"], [\"LM\", \" RM\"], [\"CAM\", \" LM\", \" RM\"], [\"CB\"], [\"CB\"], [\"CB\"], [\"CB\"], [\"CB\"], [\"CDM\", \" CM\"], [\"CAM\", \" LM\"], [\"CB\"], [\"CDM\", \" CM\"], [\"LW\"], [\"CB\"], [\"CB\", \" CDM\"], [\"CDM\", \" CM\"], [\"CB\"], [\"ST\"], [\"GK\"], [\"CM\", \" CDM\"], [\"ST\"], [\"ST\", \" RW\", \" RM\"], [\"RWB\"], [\"CB\", \" CDM\"], [\"CM\"], [\"CDM\", \" CM\"], [\"GK\"], [\"CB\"], [\"CAM\"], [\"CAM\", \" RM\", \" LM\"], [\"LM\", \" CF\"], [\"LM\", \" LW\", \" CM\"], [\"LM\"], [\"CB\"], [\"RB\"], [\"CB\"], [\"ST\"], [\"GK\"], [\"CAM\", \" ST\"], [\"CM\", \" CDM\"], [\"CF\", \" ST\"], [\"GK\"], [\"CB\"], [\"ST\", \" CF\", \" CAM\"], [\"CB\"], [\"ST\"], [\"CB\"], [\"LM\", \" LW\"], [\"CB\", \" LB\"], [\"CB\"], [\"CAM\", \" LM\", \" CM\"], [\"GK\"], [\"CB\"], [\"LB\", \" LWB\"], [\"CM\"], [\"LW\", \" RW\"], [\"CDM\", \" CM\"], [\"CM\"], [\"LM\", \" LW\", \" ST\"], [\"CM\", \" CDM\"], [\"RB\", \" RM\"], [\"RM\", \" RWB\"], [\"LM\", \" LB\"], [\"GK\"], [\"CB\"], [\"CB\"], [\"CF\", \" ST\"], [\"CAM\", \" RW\"], [\"ST\"], [\"CB\"], [\"ST\"], [\"CDM\", \" CM\"], [\"LM\"], [\"CB\"], [\"CB\"], [\"GK\"], [\"ST\"], [\"CB\", \" RB\"], [\"LB\"], [\"RM\", \" LM\", \" ST\"], [\"ST\"], [\"CDM\"], [\"CB\"], [\"GK\"], [\"ST\"], [\"LM\", \" RM\", \" LW\"], [\"ST\"], [\"CM\", \" CDM\"], [\"CM\", \" CDM\"], [\"CM\", \" CDM\"], [\"ST\", \" LW\"], [\"GK\"], [\"ST\"], [\"ST\"], [\"CM\", \" CDM\"], [\"CDM\", \" CB\"], [\"CDM\", \" CM\"], [\"ST\", \" CAM\"], [\"CAM\", \" RM\"], [\"CF\", \" LW\", \" RW\"], [\"CB\"], [\"CDM\", \" CM\", \" RB\"], [\"CDM\", \" CM\"], [\"CB\"], [\"CM\", \" CDM\"], [\"CDM\"], [\"RB\"], [\"CB\"], [\"RB\", \" RW\"], [\"GK\"], [\"RB\"], [\"CM\", \" CDM\"], [\"RM\", \" ST\"], [\"CM\", \" CAM\", \" RW\"], [\"RM\", \" LM\"], [\"ST\", \" RW\"], [\"CB\"], [\"LB\"], [\"CAM\", \" CM\", \" LM\"], [\"CDM\", \" CB\"], [\"CAM\", \" CM\"], [\"RB\"], [\"RM\", \" ST\", \" RW\"], [\"CAM\", \" CM\"], [\"ST\"], [\"CAM\", \" RM\", \" CF\"], [\"CDM\", \" CM\"], [\"CB\", \" CDM\"], [\"RB\", \" RM\"], [\"LM\", \" LW\"], [\"CDM\", \" CM\"], [\"GK\"], [\"CAM\"], [\"CB\"], [\"CB\"], [\"CB\"], [\"ST\", \" RW\"], [\"CB\"], [\"RM\"], [\"ST\"], [\"ST\", \" RM\"], [\"CB\"], [\"ST\"], [\"GK\"], [\"CDM\", \" CM\"], [\"CM\", \" CDM\"], [\"RB\", \" LB\"], [\"CAM\", \" CM\"], [\"LB\"], [\"ST\", \" CAM\"], [\"CB\"], [\"CB\"], [\"CM\", \" CAM\"], [\"CDM\", \" CB\"], [\"RB\", \" LB\"], [\"CM\", \" CDM\"], [\"CM\", \" CDM\"], [\"GK\"], [\"ST\"], [\"GK\"], [\"LB\", \" LM\"], [\"CAM\", \" CF\"], [\"RB\", \" RM\", \" CM\"], [\"CDM\", \" CM\"], [\"ST\"], [\"LB\", \" LM\"], [\"RB\", \" RM\"], [\"CAM\", \" CF\"], [\"CB\"], [\"GK\"], [\"RB\"], [\"CM\", \" RM\", \" CAM\"], [\"CDM\", \" CM\"], [\"ST\"], [\"RM\", \" CAM\"], [\"LW\", \" CAM\", \" LM\"], [\"RM\", \" CAM\"], [\"CB\"], [\"RB\", \" RWB\", \" RM\"], [\"CAM\", \" CM\"], [\"CAM\", \" RM\"], [\"CB\"], [\"CB\", \" RB\"], [\"CM\", \" LW\", \" RW\"], [\"CM\"], [\"CM\", \" LM\", \" CDM\"], [\"CB\", \" LB\"], [\"CAM\", \" LM\"], [\"LB\"], [\"LB\"], [\"ST\"], [\"ST\"], [\"ST\"], [\"ST\"], [\"CM\", \" CAM\"], [\"GK\"], [\"CM\"], [\"ST\"], [\"CM\", \" CDM\", \" RM\"], [\"RB\"], [\"RB\", \" CM\"], [\"RB\", \" RWB\", \" RM\"], [\"CM\", \" CAM\"], [\"CM\"], [\"CDM\", \" CM\"], [\"LW\"], [\"CAM\", \" CM\", \" RM\"], [\"RB\"], [\"LW\", \" LM\"], [\"CB\"], [\"ST\"], [\"CAM\", \" CM\"], [\"CM\", \" CDM\"], [\"CB\"], [\"CM\", \" RB\"], [\"ST\"], [\"LW\"], [\"CDM\", \" CM\"], [\"RM\", \" CAM\", \" CM\"], [\"RB\", \" RM\"], [\"CM\", \" CAM\", \" RM\"], [\"LB\", \" LM\"], [\"CM\"], [\"CB\"], [\"CB\"], [\"CM\", \" CDM\"], [\"ST\", \" LM\"], [\"CM\", \" CDM\", \" CAM\"], [\"CM\", \" CDM\"], [\"CM\", \" CDM\"], [\"ST\"], [\"RB\"], [\"CDM\", \" CM\"], [\"LM\", \" LWB\", \" LW\"], [\"CB\"], [\"CM\", \" CDM\"], [\"CAM\", \" CM\"], [\"CB\"], [\"CDM\", \" CM\"], [\"CM\", \" CDM\"], [\"ST\", \" LM\"], [\"CDM\", \" CM\"], [\"CAM\", \" LM\", \" CM\"], [\"CB\"], [\"ST\", \" RM\"], [\"LB\", \" CB\"], [\"CB\", \" RB\"], [\"CAM\", \" RW\"], [\"GK\"], [\"LM\", \" LW\", \" CF\"], [\"GK\"], [\"LM\", \" LW\"], [\"LM\", \" LB\"], [\"CB\", \" CDM\"], [\"LM\"], [\"LB\", \" LWB\", \" LM\"], [\"CB\"], [\"CM\", \" LB\"], [\"LM\", \" RM\", \" CM\"], [\"RW\", \" ST\", \" LW\"], [\"LB\"], [\"CB\"], [\"RM\", \" RWB\", \" LWB\"], [\"CM\", \" CDM\", \" RM\"], [\"CDM\", \" CM\"], [\"LM\", \" LW\", \" CAM\"], [\"GK\"], [\"CB\", \" CDM\"], [\"CB\"], [\"CM\", \" CDM\", \" CAM\"], [\"GK\"], [\"RB\", \" RWB\"], [\"CB\"], [\"CB\"], [\"CAM\", \" CM\", \" LM\"], [\"GK\"], [\"CAM\", \" CM\", \" LM\"], [\"GK\"], [\"ST\"], [\"RB\"], [\"LW\", \" RW\"], [\"CM\"], [\"CM\", \" CDM\"], [\"ST\"], [\"LB\"], [\"CM\", \" CDM\"], [\"CDM\", \" CM\"], [\"GK\"], [\"LW\", \" ST\", \" LM\"], [\"CB\"], [\"CM\"], [\"CDM\", \" CM\"], [\"CB\"], [\"RB\"], [\"CB\"], [\"LB\", \" LM\"], [\"ST\"], [\"LM\", \" LW\"], [\"RB\", \" LB\"], [\"ST\", \" RM\"], [\"GK\"], [\"LM\", \" RM\", \" CAM\"], [\"CDM\", \" CM\"], [\"LW\", \" CAM\", \" RM\"], [\"ST\"], [\"CAM\", \" CM\", \" CDM\"], [\"GK\"], [\"CM\", \" CDM\"], [\"CDM\", \" CM\"], [\"ST\"], [\"GK\"], [\"CB\"], [\"GK\"], [\"ST\"], [\"GK\"], [\"LB\"], [\"RB\", \" LB\"], [\"CB\"], [\"ST\"], [\"RM\", \" ST\"], [\"CDM\", \" CM\"], [\"CDM\", \" CM\", \" CB\"], [\"ST\"], [\"ST\"], [\"ST\"], [\"CB\"], [\"RM\"], [\"CB\"], [\"ST\"], [\"LM\", \" LW\"], [\"CM\", \" CDM\"], [\"ST\"], [\"CM\", \" CAM\", \" LM\"], [\"GK\"], [\"CM\", \" CDM\", \" CAM\"], [\"CDM\"], [\"ST\", \" CF\"], [\"GK\"], [\"CDM\", \" CM\"], [\"CM\", \" CDM\"], [\"RB\", \" LB\", \" RM\"], [\"RM\", \" RW\"], [\"CB\"], [\"ST\"], [\"CB\"], [\"CB\"], [\"CB\"], [\"ST\"], [\"LB\", \" CM\"], [\"CB\"], [\"GK\"], [\"RW\", \" RM\"], [\"CB\"], [\"RM\"], [\"CAM\", \" RW\", \" LW\"], [\"RM\", \" LM\", \" RW\"], [\"ST\", \" RW\", \" LW\"], [\"CDM\"], [\"CM\", \" CDM\"], [\"ST\"], [\"CM\"], [\"CDM\", \" CM\"], [\"GK\"], [\"CM\", \" CDM\", \" CF\"], [\"ST\", \" CAM\"], [\"RB\"], [\"ST\"], [\"CB\"], [\"CM\"], [\"CM\", \" CDM\"], [\"CM\", \" CDM\", \" RB\"], [\"ST\"], [\"CM\", \" CDM\"], [\"CM\", \" CDM\"], [\"ST\", \" CAM\"], [\"LM\", \" CAM\", \" CM\"], [\"CAM\", \" CM\"], [\"ST\", \" CAM\", \" CF\"], [\"ST\"], [\"ST\", \" LW\"], [\"RM\", \" CM\", \" RB\"], [\"ST\"], [\"CM\"], [\"CM\", \" CAM\"], [\"RM\", \" RW\"], [\"ST\"], [\"CM\", \" CDM\"], [\"ST\", \" RM\"], [\"ST\", \" RM\"], [\"CM\", \" CDM\"], [\"RW\", \" ST\"], [\"CM\", \" CAM\", \" CDM\"], [\"CB\", \" RB\", \" LB\"], [\"GK\"], [\"RM\", \" RWB\"], [\"CAM\"], [\"CB\"], [\"CB\"], [\"CM\"], [\"CB\"], [\"CM\", \" RW\", \" CAM\"], [\"CM\", \" CDM\", \" RM\"], [\"CM\", \" CAM\"], [\"CB\"], [\"RB\"], [\"CAM\", \" ST\"], [\"LB\", \" CB\"], [\"ST\"], [\"CDM\", \" CB\"], [\"CDM\", \" CB\"], [\"GK\"], [\"LB\"], [\"ST\"], [\"CB\"], [\"LB\", \" RB\"], [\"CM\", \" CDM\"], [\"GK\"], [\"CB\"], [\"RM\"], [\"ST\"], [\"ST\"], [\"LB\", \" LWB\", \" LM\"], [\"CB\"], [\"CAM\", \" CF\"], [\"ST\", \" CF\"], [\"CDM\"], [\"CAM\", \" CF\"], [\"RB\", \" RM\", \" CM\"], [\"CDM\", \" CM\"], [\"CB\"], [\"CAM\", \" CM\"], [\"ST\"], [\"LW\", \" RW\", \" ST\"], [\"GK\"], [\"CDM\", \" CM\"], [\"CM\", \" CDM\"], [\"CM\", \" CDM\"], [\"LB\"], [\"CB\"], [\"RM\", \" LM\"], [\"CDM\", \" RWB\"], [\"CAM\", \" RW\", \" RM\"], [\"CB\"], [\"CM\", \" CB\", \" CAM\"], [\"CAM\", \" CM\", \" LM\"], [\"CB\"], [\"CAM\", \" LM\", \" RM\"], [\"ST\", \" RW\"], [\"LM\", \" RM\", \" RB\"], [\"CM\", \" CAM\"], [\"ST\"], [\"ST\", \" LW\"], [\"CM\", \" RW\", \" CAM\"], [\"LM\"], [\"CM\"], [\"ST\"], [\"CDM\", \" CM\"], [\"CB\"], [\"RM\", \" CF\", \" RW\"], [\"GK\"], [\"ST\", \" RW\", \" RM\"], [\"CDM\", \" CM\"], [\"RB\"], [\"GK\"], [\"ST\"], [\"CM\", \" CAM\", \" CDM\"], [\"LW\", \" RM\", \" LM\"], [\"CDM\", \" CM\"], [\"GK\"], [\"CB\", \" LB\"], [\"CB\", \" CDM\"], [\"LM\"], [\"LW\", \" ST\", \" LM\"], [\"CM\", \" RM\"], [\"CDM\", \" CM\", \" CB\"], [\"CDM\", \" CM\"], [\"GK\"], [\"CM\"], [\"GK\"], [\"RM\", \" LM\"], [\"ST\"], [\"CB\"], [\"CB\", \" CDM\"], [\"CM\", \" RM\", \" CDM\"], [\"CAM\", \" CM\", \" RW\"], [\"CDM\", \" CM\", \" CB\"], [\"ST\", \" CF\", \" RW\"], [\"CB\", \" RB\"], [\"CB\", \" RB\"], [\"CB\"], [\"CB\"], [\"LM\", \" LW\", \" RM\"], [\"GK\"], [\"CB\"], [\"RB\", \" RM\", \" CB\"], [\"RM\", \" LM\", \" RW\"], [\"LM\", \" CAM\"], [\"CM\", \" CDM\"], [\"CM\", \" CDM\"], [\"CDM\", \" CM\"], [\"LB\"], [\"ST\"], [\"CB\"], [\"CM\", \" CAM\"], [\"GK\"], [\"LB\"], [\"RW\", \" LW\", \" ST\"], [\"ST\"], [\"CB\", \" CDM\"], [\"CB\"], [\"CF\", \" ST\"], [\"CM\", \" CDM\", \" CAM\"], [\"LB\"], [\"LM\", \" LB\", \" LWB\"], [\"CM\", \" CAM\", \" CDM\"], [\"CDM\", \" CM\"], [\"CB\"], [\"CDM\", \" CM\"], [\"LM\", \" RM\", \" ST\"], [\"CB\"], [\"ST\", \" CAM\"], [\"CAM\", \" RW\", \" CM\"], [\"GK\"], [\"CAM\", \" CM\"], [\"CDM\", \" CM\"], [\"CAM\", \" LM\", \" RM\"], [\"CB\"], [\"CM\", \" RM\", \" CAM\"], [\"CAM\", \" LM\"], [\"CDM\", \" CM\"], [\"LW\", \" LM\", \" CF\"], [\"CB\"], [\"CB\"], [\"GK\"], [\"CM\"], [\"CAM\", \" CM\"], [\"LM\", \" CAM\", \" RM\"], [\"ST\", \" LW\"], [\"LB\"], [\"CB\"], [\"ST\"], [\"CAM\", \" RM\", \" RW\"], [\"CM\", \" CDM\"], [\"CB\", \" CDM\"], [\"CDM\", \" CM\"], [\"LB\", \" LWB\"], [\"RWB\", \" RB\"], [\"LW\", \" RW\"], [\"GK\"], [\"GK\"], [\"GK\"], [\"CDM\"], [\"LM\"], [\"CB\"], [\"LM\", \" LB\"], [\"CB\", \" RB\"], [\"ST\"], [\"LB\"], [\"LM\"], [\"CB\"], [\"RB\"], [\"GK\"], [\"GK\"], [\"CB\"], [\"CDM\", \" CM\"], [\"GK\"], [\"CB\"], [\"CM\", \" CAM\"], [\"CDM\", \" CAM\", \" LM\"], [\"RB\"], [\"GK\"], [\"CB\"], [\"GK\"], [\"CB\", \" LB\"], [\"GK\"], [\"CAM\", \" LW\"], [\"CB\"], [\"ST\"], [\"ST\"], [\"GK\"], [\"ST\"], [\"CDM\"], [\"RB\", \" RWB\"], [\"RW\", \" LW\", \" RM\"], [\"CDM\", \" CM\"], [\"CDM\", \" CM\"], [\"ST\", \" RM\"], [\"LB\"], [\"CAM\", \" LM\", \" CM\"], [\"CDM\", \" CM\"], [\"CB\"], [\"ST\"], [\"RB\", \" RW\"], [\"RM\", \" CAM\"], [\"CB\"], [\"CAM\", \" ST\", \" CDM\"], [\"CDM\", \" CM\"], [\"GK\"], [\"ST\"], [\"CB\"], [\"CB\", \" CDM\"], [\"CDM\", \" CB\"], [\"LB\"], [\"CDM\", \" CM\"], [\"ST\"], [\"GK\"], [\"CM\", \" CDM\", \" CAM\"], [\"CDM\"], [\"CB\"], [\"CM\", \" CAM\", \" LM\"], [\"LM\", \" CM\"], [\"GK\"], [\"LB\", \" LM\"], [\"ST\"], [\"CAM\", \" LW\"], [\"ST\"], [\"CM\", \" CDM\"], [\"ST\"], [\"CDM\", \" CM\"], [\"ST\", \" CAM\"], [\"LB\", \" LM\"], [\"CDM\", \" CM\"], [\"RM\", \" CM\"], [\"CDM\", \" CM\"], [\"CAM\", \" CM\", \" RM\"], [\"RB\", \" LB\", \" RM\"], [\"GK\"], [\"CAM\", \" CF\"], [\"CDM\", \" CM\"], [\"GK\"], [\"CAM\"], [\"CAM\", \" CF\"], [\"RB\", \" RM\"], [\"CAM\"], [\"GK\"], [\"CB\"], [\"GK\"], [\"CM\"], [\"ST\", \" LW\"], [\"CAM\", \" ST\"], [\"CM\", \" RM\"], [\"CB\"], [\"CM\", \" CDM\"], [\"CB\"], [\"ST\", \" LM\"], [\"ST\"], [\"CB\"], [\"CB\"], [\"RM\", \" ST\"], [\"ST\", \" CAM\", \" CF\"], [\"CAM\"], [\"CM\", \" ST\"], [\"CB\", \" CDM\"], [\"LM\", \" RB\"], [\"LB\", \" RM\"], [\"CM\", \" CDM\", \" CAM\"], [\"GK\"], [\"CAM\", \" LM\"], [\"CM\"], [\"CDM\", \" CM\", \" CB\"], [\"RM\", \" CM\", \" LM\"], [\"CM\", \" CDM\"], [\"CB\"], [\"CAM\", \" CM\"], [\"CM\", \" CDM\"], [\"CM\", \" CDM\"], [\"GK\"], [\"LM\", \" RM\"], [\"RB\", \" RWB\", \" RM\"], [\"RM\", \" LM\"], [\"ST\", \" LW\"], [\"ST\"], [\"CAM\", \" CM\"], [\"CB\", \" RB\"], [\"CB\"], [\"RB\", \" RM\"], [\"CB\"], [\"ST\"], [\"CAM\", \" ST\"], [\"LM\", \" RM\", \" CAM\"], [\"LB\"], [\"LW\", \" RM\"], [\"RM\"], [\"RB\", \" RM\"], [\"CDM\", \" CM\"], [\"CB\"], [\"CDM\", \" CM\"], [\"CAM\", \" CM\"], [\"CM\", \" CAM\", \" RM\"], [\"LW\", \" ST\", \" RW\"], [\"RB\", \" RW\"], [\"CAM\"], [\"LB\"], [\"RB\", \" CB\"], [\"GK\"], [\"CM\", \" CDM\"], [\"LB\"], [\"CM\", \" CAM\", \" CDM\"], [\"RB\", \" RWB\"], [\"CM\", \" LWB\", \" LM\"], [\"CDM\", \" CM\"], [\"CB\", \" RB\"], [\"LM\", \" RM\", \" CAM\"], [\"CF\", \" CAM\", \" ST\"], [\"RM\", \" LW\"], [\"CB\", \" RB\"], [\"RB\", \" LB\"], [\"CF\", \" ST\", \" CAM\"], [\"GK\"], [\"RB\", \" RM\"], [\"CM\", \" CDM\"], [\"RM\", \" CF\", \" RW\"], [\"LW\", \" RW\", \" LM\"], [\"CB\", \" LB\"], [\"RM\", \" LM\"], [\"RM\", \" LM\"], [\"ST\"], [\"RB\", \" RWB\"], [\"GK\"], [\"CM\", \" CDM\"], [\"RW\", \" RM\"], [\"ST\"], [\"CAM\", \" CM\", \" RW\"], [\"ST\"], [\"CB\"], [\"RM\", \" LM\"], [\"CB\"], [\"CDM\", \" CM\"], [\"CDM\", \" CM\"], [\"CB\"], [\"CM\", \" LW\"], [\"CF\", \" CAM\"], [\"CM\", \" CDM\"], [\"ST\"], [\"ST\"], [\"CB\"], [\"CB\", \" LB\"], [\"ST\"], [\"CM\", \" CAM\", \" CDM\"], [\"LM\"], [\"CB\"], [\"RB\", \" RM\"], [\"RW\", \" RM\"], [\"LB\", \" RB\"], [\"CDM\", \" CM\"], [\"ST\"], [\"RM\"], [\"LB\", \" LM\"], [\"LM\", \" CAM\"], [\"ST\", \" LW\"], [\"CM\", \" CAM\", \" LM\"], [\"CB\"], [\"CB\"], [\"CB\"], [\"LB\"], [\"LM\", \" RM\"], [\"LM\"], [\"RW\", \" LM\", \" RM\"], [\"CB\", \" CDM\"], [\"CM\", \" CDM\"], [\"CAM\", \" CM\", \" LM\"], [\"LB\"], [\"LW\"], [\"RM\", \" ST\", \" LM\"], [\"ST\", \" CAM\"], [\"RM\", \" CAM\", \" LM\"], [\"CM\", \" CDM\", \" CAM\"], [\"RW\", \" RM\", \" CAM\"], [\"GK\"], [\"RB\", \" RM\"], [\"CB\"], [\"CB\", \" RB\", \" LB\"], [\"CDM\", \" CM\"], [\"GK\"], [\"GK\"], [\"LB\", \" LM\", \" CAM\"], [\"RB\", \" RM\"], [\"CB\", \" CDM\"], [\"CDM\"], [\"ST\", \" CF\"], [\"CB\", \" CDM\"], [\"GK\"], [\"ST\", \" RM\", \" CAM\"], [\"LM\"], [\"LM\"], [\"CB\", \" RB\", \" LB\"], [\"CDM\"], [\"ST\", \" CF\"], [\"LM\"], [\"CB\"], [\"RB\"], [\"CDM\", \" CM\"], [\"GK\"], [\"CM\", \" CDM\", \" RWB\"], [\"CAM\", \" CM\"], [\"LM\", \" LW\", \" LB\"], [\"CM\", \" CDM\"], [\"RW\"], [\"LW\", \" RW\"], [\"CB\"], [\"LM\"], [\"ST\", \" CAM\", \" LM\"], [\"ST\"], [\"RW\", \" CM\", \" RM\"], [\"GK\"], [\"LM\"], [\"GK\"], [\"RB\", \" LB\", \" RM\"], [\"LW\", \" CAM\"], [\"CB\", \" RB\", \" LB\"], [\"LW\", \" RW\", \" ST\"], [\"RM\"], [\"ST\"], [\"ST\"], [\"LM\", \" RM\", \" RB\"], [\"RWB\", \" RB\", \" RM\"], [\"CM\", \" LM\"], [\"CB\"], [\"CM\"], [\"CB\", \" LB\"], [\"LM\", \" RW\", \" CF\"], [\"RM\", \" RW\"], [\"GK\"], [\"RM\", \" RW\"], [\"RW\", \" LW\"], [\"LM\", \" LB\"], [\"CB\"], [\"CF\", \" RW\", \" ST\"], [\"RM\"], [\"RB\", \" LB\", \" RM\"], [\"CM\", \" CDM\"], [\"ST\"], [\"LM\"], [\"ST\", \" CF\"], [\"CDM\", \" CM\", \" CAM\"], [\"RW\", \" LW\", \" ST\"], [\"GK\"], [\"LW\"], [\"CB\"], [\"RW\"], [\"LM\"], [\"CB\", \" RB\", \" LB\"], [\"CM\", \" CDM\"], [\"LB\"], [\"CDM\", \" CAM\", \" CM\"], [\"CDM\", \" CM\"], [\"CAM\"], [\"RM\", \" CM\", \" RW\"], [\"CAM\", \" CM\", \" LW\"], [\"CM\", \" CAM\", \" CDM\"], [\"CM\", \" CDM\", \" CAM\"], [\"RB\", \" CB\"], [\"ST\", \" RM\"], [\"RM\", \" RW\"], [\"CAM\", \" CM\"], [\"RM\", \" RW\", \" ST\"], [\"ST\", \" RM\"], [\"LB\"], [\"CDM\", \" CM\"], [\"CB\", \" RB\", \" LB\"], [\"CF\", \" ST\", \" CAM\"], [\"CB\"], [\"RM\", \" LM\"], [\"ST\"], [\"CB\"], [\"ST\", \" RW\", \" LW\"], [\"LM\", \" CF\", \" RM\"], [\"ST\", \" LM\", \" LW\"], [\"CM\"], [\"ST\"], [\"CB\"], [\"CB\", \" CDM\"], [\"CM\"], [\"CAM\", \" LM\", \" RW\"], [\"RM\", \" LM\"], [\"CDM\", \" CB\"], [\"RB\", \" CB\"], [\"CM\", \" CDM\"], [\"CB\"], [\"CB\"], [\"RM\", \" LM\"], [\"CDM\", \" CM\"], [\"LM\", \" ST\"], [\"CM\"], [\"RB\"], [\"CAM\", \" CM\"], [\"RB\", \" CB\"], [\"CB\"], [\"CB\"], [\"LB\"], [\"CB\"], [\"CM\", \" CDM\"], [\"CDM\", \" CM\", \" CB\"], [\"CDM\", \" CM\"], [\"GK\"], [\"CM\", \" CDM\"], [\"CAM\", \" CM\", \" LW\"], [\"CDM\", \" CM\", \" CB\"], [\"GK\"], [\"RB\"], [\"RB\"], [\"CAM\", \" RM\"], [\"CM\"], [\"CDM\"], [\"CDM\", \" CB\"], [\"LW\", \" RW\"], [\"CM\"], [\"LB\"], [\"CB\"], [\"RB\"], [\"CM\", \" CDM\"], [\"CB\", \" RB\"], [\"RB\", \" RM\", \" CM\"], [\"ST\"], [\"RM\", \" LM\"], [\"CAM\", \" ST\", \" LM\"], [\"ST\", \" RM\"], [\"LW\"], [\"CDM\"], [\"GK\"], [\"ST\", \" LM\", \" LW\"], [\"LB\"], [\"LB\", \" LWB\", \" RB\"], [\"CAM\", \" CM\"], [\"CB\"], [\"CB\", \" RB\"], [\"CDM\", \" CM\"], [\"RB\"], [\"GK\"], [\"CB\"], [\"CB\", \" LB\"], [\"CAM\", \" LM\", \" RM\"], [\"CDM\", \" CM\"], [\"RB\", \" RM\"], [\"CM\", \" CDM\"], [\"CB\"], [\"CAM\", \" CM\"], [\"CAM\", \" CM\", \" CDM\"], [\"CB\"], [\"GK\"], [\"CDM\", \" CM\"], [\"ST\"], [\"LM\", \" RM\"], [\"ST\"], [\"LM\", \" RM\", \" ST\"], [\"RM\", \" RW\", \" LM\"], [\"LW\"], [\"LW\", \" LM\"], [\"CB\"], [\"CM\"], [\"ST\"], [\"CDM\", \" CM\"], [\"CM\", \" CDM\", \" CAM\"], [\"ST\"], [\"CM\", \" CDM\"], [\"CM\", \" CDM\"], [\"CDM\", \" CM\"], [\"CB\"], [\"GK\"], [\"CM\"], [\"LWB\", \" LB\"], [\"CDM\", \" CM\"], [\"GK\"], [\"ST\"], [\"LWB\", \" LB\", \" LM\"], [\"LM\", \" LWB\"], [\"CAM\", \" CM\"], [\"CAM\", \" RM\", \" LM\"], [\"RB\", \" CB\", \" RM\"], [\"CF\", \" ST\", \" CAM\"], [\"CDM\", \" CM\"], [\"ST\"], [\"CM\", \" CAM\"], [\"CM\", \" RM\"], [\"RM\"], [\"CAM\", \" RM\", \" CM\"], [\"LW\", \" RW\", \" LM\"], [\"CM\", \" CDM\", \" CAM\"], [\"ST\"], [\"CM\", \" CDM\"], [\"RM\", \" LM\", \" ST\"], [\"CDM\", \" CM\"], [\"RM\"], [\"LB\", \" LWB\"], [\"CM\", \" CDM\"], [\"CDM\", \" CM\"], [\"RM\", \" RB\"], [\"ST\", \" LW\"], [\"GK\"], [\"RW\", \" CF\", \" LW\"], [\"ST\"], [\"LB\"], [\"CM\", \" CAM\", \" RW\"], [\"RM\", \" LM\"], [\"RB\"], [\"GK\"], [\"CM\", \" CAM\"], [\"GK\"], [\"CAM\", \" LW\"], [\"RB\", \" CM\"], [\"LB\", \" LM\"], [\"CB\", \" LB\"], [\"CAM\", \" CM\"], [\"CM\"], [\"LWB\", \" LB\", \" RB\"], [\"CB\", \" CDM\"], [\"LB\"], [\"CB\"], [\"GK\"], [\"CB\", \" CDM\"], [\"GK\"], [\"LB\", \" CB\"], [\"GK\"], [\"CB\"], [\"CB\", \" RB\", \" LB\"], [\"CB\"], [\"CB\", \" LB\"], [\"GK\"], [\"RB\"], [\"LM\", \" CM\", \" CAM\"], [\"LM\", \" CM\", \" CAM\"], [\"RB\"], [\"ST\"], [\"CM\", \" LM\", \" RM\"], [\"ST\", \" CAM\", \" LW\"], [\"CAM\", \" CDM\", \" CM\"], [\"LW\", \" ST\"], [\"CB\", \" LB\"], [\"RB\", \" RM\"], [\"CAM\", \" CM\", \" RM\"], [\"CDM\", \" CM\", \" CB\"], [\"GK\"], [\"CB\"], [\"CAM\", \" CM\", \" RM\"], [\"CB\"], [\"LW\"], [\"LB\", \" LWB\"], [\"ST\"], [\"CB\"], [\"CAM\", \" CM\", \" RM\"], [\"CAM\", \" LM\"], [\"LWB\", \" LM\", \" LB\"], [\"RB\"], [\"RW\", \" LW\"], [\"CB\"], [\"RB\"], [\"RB\"], [\"CDM\", \" CM\"], [\"CAM\", \" LM\", \" RM\"], [\"RM\", \" LM\", \" RW\"], [\"ST\", \" CF\"], [\"ST\", \" LM\"], [\"ST\", \" RM\"], [\"RW\"], [\"CM\", \" RM\", \" CDM\"], [\"RM\", \" ST\", \" LM\"], [\"ST\"], [\"GK\"], [\"GK\"], [\"ST\", \" CF\"], [\"CM\"], [\"GK\"], [\"CDM\"], [\"CB\", \" RB\"], [\"CB\"], [\"CM\", \" CDM\"], [\"GK\"], [\"CB\"], [\"GK\"], [\"GK\"], [\"RB\", \" CDM\"], [\"GK\"], [\"RB\"], [\"CAM\", \" ST\", \" RW\"], [\"GK\"], [\"RM\", \" LM\"], [\"CAM\", \" CM\"], [\"GK\"], [\"CAM\"], [\"CB\"], [\"CM\", \" LM\", \" CAM\"], [\"CDM\"], [\"CDM\"], [\"CDM\", \" CM\"], [\"LB\"], [\"CB\"], [\"GK\"], [\"CAM\", \" CM\", \" RM\"], [\"RM\", \" RB\"], [\"CB\"], [\"GK\"], [\"CM\", \" CDM\"], [\"CDM\", \" CM\", \" CB\"], [\"ST\"], [\"CM\"], [\"RB\", \" RM\"], [\"GK\"], [\"GK\"], [\"RM\", \" RB\"], [\"CAM\"], [\"CM\", \" CDM\", \" CB\"], [\"LB\", \" LM\"], [\"CB\"], [\"CDM\", \" CM\"], [\"GK\"], [\"CM\"], [\"CB\"], [\"CM\", \" CAM\"], [\"CM\", \" CDM\"], [\"RM\", \" RB\"], [\"CB\"], [\"GK\"], [\"ST\", \" RM\"], [\"ST\"], [\"ST\"], [\"ST\", \" LW\"], [\"CAM\", \" CM\", \" LM\"], [\"ST\"], [\"ST\"], [\"GK\"], [\"CDM\"], [\"GK\"], [\"CM\", \" CDM\"], [\"CB\"], [\"CB\"], [\"CB\", \" CDM\"], [\"ST\"], [\"CDM\", \" CB\"], [\"CB\", \" CDM\", \" RB\"], [\"RM\", \" CF\", \" LM\"], [\"GK\"], [\"ST\"], [\"CDM\", \" CM\"], [\"CB\"], [\"CB\"], [\"ST\"], [\"CB\"], [\"CM\"], [\"LB\", \" RB\"], [\"ST\", \" RM\"], [\"CM\", \" CDM\", \" CAM\"], [\"CM\", \" CDM\"], [\"CM\"], [\"CB\"], [\"GK\"], [\"LB\", \" LWB\"], [\"CM\"], [\"CAM\", \" RM\", \" CF\"], [\"LWB\", \" RM\"], [\"CB\"], [\"ST\"], [\"CDM\", \" CM\"], [\"CB\"], [\"RB\", \" CM\"], [\"RM\", \" CAM\"], [\"CDM\", \" CM\"], [\"CM\", \" LM\"], [\"GK\"], [\"GK\"], [\"RB\"], [\"ST\"], [\"LM\", \" RM\", \" ST\"], [\"ST\"], [\"CAM\", \" LM\", \" RM\"], [\"RB\"], [\"LWB\", \" LB\", \" LM\"], [\"LM\", \" RM\"], [\"RB\", \" LB\"], [\"ST\"], [\"ST\"], [\"ST\", \" RM\", \" LM\"], [\"ST\"], [\"RM\", \" RW\"], [\"CDM\", \" CM\"], [\"CB\"], [\"CDM\", \" CM\"], [\"CDM\", \" CM\"]], \"type\": \"scatter\", \"x\": [21.346641540527344, 21.965612411499023, 22.414840698242188, -7.1126861572265625, 22.501680374145508, 11.824459075927734, -20.416284561157227, -12.582695960998535, 8.45720100402832, 21.862079620361328, 22.977800369262695, -44.66605758666992, 34.1467399597168, -15.133413314819336, -12.799661636352539, -23.38040542602539, -43.34465026855469, 39.16899108886719, -1.4824278354644775, 34.374122619628906, 40.30632400512695, 5.808440208435059, 11.97880744934082, 22.968042373657227, 11.846138954162598, -12.303084373474121, 26.71110725402832, 18.727048873901367, -9.430423736572266, -8.430245399475098, -14.0488920211792, -14.56089973449707, -14.163656234741211, 21.01972198486328, 34.8159294128418, -23.4573917388916, 12.636616706848145, 19.698766708374023, 22.380205154418945, 23.14824676513672, -22.38528060913086, 18.406803131103516, -1.605232834815979, 21.583337783813477, -0.817771315574646, -11.777094841003418, 32.058128356933594, -10.907161712646484, 21.655975341796875, -8.368470191955566, -11.749577522277832, -9.983880043029785, 8.454235076904297, -13.388678550720215, 26.946630477905273, 23.68012237548828, -34.092716217041016, -43.691287994384766, -0.36330080032348633, -11.83651351928711, -14.783352851867676, -12.710395812988281, 19.767559051513672, 12.817913055419922, 8.79811954498291, -0.6804072856903076, 19.6286678314209, -10.685516357421875, 17.224308013916016, 12.680745124816895, 16.170934677124023, 40.45867156982422, 40.041595458984375, -22.679994583129883, -8.378570556640625, -12.523431777954102, -41.838470458984375, -42.979671478271484, 4.18602991104126, -16.118749618530273, 4.048727989196777, -1.8759504556655884, -14.691313743591309, -43.72313690185547, -33.832942962646484, 10.605511665344238, -11.802695274353027, -20.363340377807617, -17.01373863220215, 49.35601806640625, -45.32474136352539, -14.594708442687988, -2.180053234100342, 51.06580352783203, -26.58538246154785, 18.57588768005371, 52.759544372558594, 20.84980583190918, 46.90489196777344, -23.321470260620117, 13.927803993225098, -9.282508850097656, -1.524084210395813, -15.077645301818848, 38.46488571166992, 1.996705412864685, 23.923667907714844, -22.65420150756836, 32.667606353759766, 30.868053436279297, 24.288320541381836, -24.8528995513916, -13.804253578186035, 2.018148899078369, -27.505308151245117, -1.7814728021621704, 38.18183135986328, -8.874348640441895, 31.543996810913086, 28.26787567138672, 24.467527389526367, 38.14852523803711, -13.678791046142578, 31.99591636657715, -2.2034406661987305, -22.48493194580078, -42.61372756958008, 14.624167442321777, -39.788909912109375, 9.223275184631348, -16.405696868896484, -16.93699836730957, 7.772470951080322, -39.69928741455078, -0.4841671288013458, 42.884910583496094, -22.67572784423828, -15.689449310302734, 54.081722259521484, -3.1520607471466064, 9.9926176071167, 18.61408042907715, -0.16696251928806305, -33.7275276184082, -10.467145919799805, 16.43907356262207, 8.532332420349121, 1.0577166080474854, -15.86591625213623, 19.655332565307617, 21.564678192138672, 10.369324684143066, 31.63961410522461, 30.424457550048828, 20.272869110107422, 15.87534236907959, -43.51863098144531, 6.711863040924072, -43.69148635864258, 6.8634033203125, -13.854779243469238, 38.58332824707031, 49.16714096069336, 23.194997787475586, 14.735928535461426, -42.7527961730957, 1.0237715244293213, -18.062013626098633, 27.273441314697266, 24.793413162231445, -41.738887786865234, 22.534103393554688, -36.19218826293945, -2.009958505630493, -14.225687026977539, 24.470233917236328, 8.1192626953125, -42.090476989746094, 31.254039764404297, -14.064766883850098, 23.45644187927246, -15.856169700622559, 27.245439529418945, 56.673526763916016, -16.657560348510742, 34.66857147216797, 34.42084503173828, 47.006797790527344, 50.07256317138672, 0.11398710310459137, 7.637558460235596, -38.80587387084961, 20.925949096679688, -17.584766387939453, -14.2060546875, 19.647132873535156, -14.39939022064209, 26.556116104125977, 20.001056671142578, 3.5404281616210938, -24.309385299682617, -8.620196342468262, -24.17214012145996, -17.807003021240234, -31.570266723632812, 40.68906021118164, -13.121018409729004, 48.24811935424805, -35.71617126464844, 36.026878356933594, -17.53253173828125, -13.906888008117676, 0.21753273904323578, 7.8513054847717285, 39.49641418457031, 2.6898109912872314, -8.848560333251953, 31.41570472717285, 0.6528889536857605, 12.965269088745117, 2.790910243988037, -0.5996688604354858, -0.7213755249977112, -22.920269012451172, -22.97657585144043, -6.465028762817383, -24.069255828857422, -1.82234787940979, 25.024032592773438, 0.4773848056793213, 21.33568000793457, -25.775367736816406, -22.125171661376953, 39.7508659362793, 55.39990997314453, -41.43052673339844, 24.349340438842773, 38.67486572265625, 27.464168548583984, 22.64936637878418, -7.491925239562988, 38.98074722290039, -18.36906623840332, -4.430877208709717, -23.40213966369629, 0.7765058875083923, -40.69702911376953, 30.831737518310547, -7.2558207511901855, -28.57402992248535, -11.096997261047363, -8.095317840576172, -42.686683654785156, 18.36382484436035, 26.768274307250977, 23.870086669921875, 21.565645217895508, -18.74791717529297, -16.518680572509766, 8.367451667785645, -23.989830017089844, 47.22864532470703, -33.62002944946289, -40.16222381591797, -10.794859886169434, -13.164728164672852, -23.630048751831055, -19.645627975463867, -8.264062881469727, 19.216781616210938, 10.402763366699219, -13.013968467712402, -17.499887466430664, 49.57654571533203, -14.944877624511719, -31.5734920501709, 34.60451889038086, -40.628517150878906, -32.51908493041992, -12.87154483795166, -22.551359176635742, 18.06702423095703, 32.784461975097656, -4.271972179412842, 20.307260513305664, 15.42772102355957, -13.869491577148438, -9.376936912536621, 56.36903381347656, -10.57838249206543, 11.085536003112793, 0.28049761056900024, -8.476845741271973, -17.868043899536133, -23.934114456176758, 41.49442672729492, 59.57035446166992, -28.186138153076172, 18.277883529663086, -23.609695434570312, 36.704673767089844, 33.26009750366211, 36.51694107055664, -1.0099742412567139, 49.001583099365234, 18.9847354888916, 26.352697372436523, 59.98551940917969, 1.9949657917022705, 23.723251342773438, 54.22420120239258, 19.389198303222656, -0.14223963022232056, 30.97661590576172, -23.50165367126465, -21.126094818115234, 26.023059844970703, -13.342330932617188, 31.611438751220703, 12.918495178222656, 25.023086547851562, 37.700408935546875, 55.469486236572266, 13.656941413879395, -25.48493003845215, -10.860220909118652, -20.422147750854492, -41.40924835205078, 19.886764526367188, 37.7902717590332, 6.070278167724609, -7.725934028625488, -25.42068862915039, -21.1804141998291, 3.7611730098724365, -32.64250946044922, -3.7926228046417236, 5.657196521759033, -17.250205993652344, -12.47724723815918, 24.990163803100586, -2.7489285469055176, -10.940767288208008, -0.645087718963623, 19.126020431518555, -16.50369644165039, 13.926817893981934, -26.923595428466797, 35.6700325012207, -20.8553524017334, -25.081884384155273, -17.634204864501953, -31.77420997619629, 36.368038177490234, 11.46731185913086, 22.363361358642578, -20.64359474182129, -2.6516828536987305, 11.012601852416992, -13.990591049194336, -44.769840240478516, -0.014507308602333069, 34.67458724975586, 8.167476654052734, -7.362090110778809, -25.368385314941406, -1.863665223121643, 40.52113342285156, 56.85566329956055, 36.787384033203125, -9.397930145263672, -1.2358707189559937, 42.21268081665039, 54.228641510009766, -13.07060718536377, 20.234445571899414, -11.65885066986084, -35.34954833984375, -34.76408004760742, 7.392578125, -28.406599044799805, 1.5351251363754272, -5.497782230377197, 36.743648529052734, 42.06696701049805, 9.09861946105957, -14.931114196777344, -21.169801712036133, -12.174569129943848, -13.57992935180664, -15.513734817504883, -15.69972038269043, 33.65930938720703, 37.12158966064453, -25.00209617614746, -38.025840759277344, 0.7991294860839844, 1.4024715423583984, 14.635810852050781, -16.01179313659668, -3.3542845249176025, 36.31371307373047, 13.289505004882812, 10.274031639099121, 6.009652137756348, -3.0735960006713867, 52.46873474121094, -11.02999496459961, 52.46360397338867, 55.398441314697266, 52.877262115478516, 37.536895751953125, -3.155404567718506, -36.612464904785156, -42.37354278564453, -17.71407699584961, 10.011990547180176, -28.12087631225586, 5.84341287612915, -43.30265808105469, -18.61205291748047, 50.59357452392578, 11.672616958618164, -14.338571548461914, -12.888788223266602, 2.371919870376587, -43.66992950439453, -8.3290376663208, -31.5572566986084, -28.263416290283203, 41.55356216430664, -10.78023910522461, 15.223706245422363, 44.42152404785156, 31.947265625, -32.37588882446289, -14.975994110107422, -31.637170791625977, 54.39982604980469, -1.555461049079895, -26.195964813232422, -10.002363204956055, -32.716556549072266, -35.713138580322266, -9.889801979064941, 36.788169860839844, -28.78346824645996, 8.226225852966309, -26.801437377929688, 39.32439422607422, -0.6995344161987305, -3.5516304969787598, 8.666045188903809, -22.370155334472656, 28.044036865234375, -11.46585750579834, -17.80377769470215, -29.47629737854004, 36.92391586303711, 22.600141525268555, -17.809860229492188, 39.43105697631836, -38.9253044128418, 23.705663681030273, 14.113570213317871, 42.473262786865234, -12.574658393859863, -16.011947631835938, -33.74470901489258, 13.569986343383789, -24.371028900146484, -42.97898483276367, -0.4017196595668793, 42.55305099487305, -24.720529556274414, 2.9062135219573975, -31.69849395751953, -16.61487579345703, -35.01640701293945, 11.227226257324219, 10.088096618652344, 14.174429893493652, 43.0760383605957, -4.4447922706604, -12.533282279968262, -18.6286563873291, -25.738391876220703, 28.419754028320312, 17.01959991455078, -11.84628963470459, 42.011783599853516, -29.859216690063477, -22.279563903808594, -14.224288940429688, 47.63916015625, 60.88994216918945, -16.69124984741211, -5.883685111999512, -19.28572654724121, -12.902441024780273, -19.05730628967285, 47.85542678833008, -28.42157745361328, -12.903852462768555, 36.51659393310547, 4.50933313369751, -20.430458068847656, 1.4259480237960815, -19.488237380981445, 25.612960815429688, 13.059553146362305, -21.35738182067871, -2.149658203125, 35.01206970214844, -22.523847579956055, -38.852142333984375, 1.1636406183242798, -9.742164611816406, -23.338329315185547, -25.639421463012695, -6.820150852203369, -25.926769256591797, 37.24403381347656, 18.41546058654785, 32.68178939819336, -16.899951934814453, -29.351951599121094, -10.211536407470703, 16.774423599243164, 37.51871871948242, 0.3478856682777405, -13.51076602935791, 36.58580017089844, 3.2751474380493164, -27.09684944152832, -31.163227081298828, 14.727167129516602, -16.45318603515625, -27.048786163330078, 12.208730697631836, 12.697060585021973, 56.642295837402344, -34.486236572265625, 19.61293601989746, 40.97170639038086, -39.9039421081543, 19.746837615966797, 33.697059631347656, 18.587202072143555, -16.74135398864746, -5.701582908630371, -35.842247009277344, 38.19979476928711, -29.848371505737305, 23.838300704956055, 36.55280303955078, 38.88186264038086, -24.214847564697266, -24.292953491210938, -15.817540168762207, 15.201908111572266, 55.393524169921875, 39.78419494628906, -22.7067928314209, -16.661823272705078, -25.38930320739746, -22.7067928314209, -16.69247817993164, 33.325199127197266, -9.638290405273438, 13.277178764343262, -33.04254150390625, -8.727836608886719, -41.29298400878906, -3.4688167572021484, -31.646209716796875, -6.146527290344238, 20.922077178955078, 22.337482452392578, -14.989784240722656, 36.589454650878906, 15.667962074279785, -33.98329162597656, 33.880126953125, -3.2896080017089844, -27.342178344726562, -31.252336502075195, -12.178988456726074, -41.983497619628906, 20.75946617126465, 51.418819427490234, -16.096965789794922, 8.537515640258789, -41.54791259765625, -37.21770477294922, -9.174078941345215, -34.96663284301758, -31.664255142211914, 21.308473587036133, -29.50906753540039, 46.59028244018555, -4.4418792724609375, -26.058605194091797, 11.254768371582031, 44.37669372558594, 30.732831954956055, -33.656349182128906, 38.28369903564453, -28.788206100463867, 34.97945022583008, -13.326326370239258, 32.36404800415039, 33.66154861450195, 37.196571350097656, 29.031841278076172, 22.918663024902344, -5.975921154022217, 41.32746124267578, -27.696674346923828, 4.810394763946533, -11.464447021484375, -21.20527458190918, -17.93402862548828, -34.72856903076172, 27.767539978027344, -39.5777587890625, -27.016748428344727, -7.5048017501831055, -19.151676177978516, -38.2846794128418, 48.1799201965332, 5.784104824066162, -25.470439910888672, -8.574004173278809, 31.735015869140625, 55.60858917236328, 36.61686706542969, -28.424680709838867, -34.64639663696289, -27.703659057617188, -23.048995971679688, -31.127534866333008, -32.20561218261719, -15.364056587219238, -1.887514591217041, 41.69498825073242, -38.33501052856445, 46.7395133972168, -16.068134307861328, 5.5775275230407715, -31.393056869506836, 42.24876022338867, 43.684356689453125, -23.37454605102539, -24.250898361206055, -12.037314414978027, -16.301605224609375, -5.292083740234375, -35.94536590576172, 6.861011028289795, 2.1363027095794678, 46.3922233581543, -28.703506469726562, -14.87073802947998, 36.163997650146484, 51.825008392333984, 51.89655685424805, -20.276716232299805, 39.58394241333008, -17.91718101501465, -6.6819634437561035, 35.49082565307617, 11.883407592773438, -32.51982879638672, -34.831703186035156, 41.7296028137207, -13.709769248962402, -6.59099817276001, 7.645751476287842, -35.02281188964844, 13.763937950134277, -7.171410083770752, -9.94012451171875, -3.308309555053711, 51.99260330200195, 12.828486442565918, 39.714447021484375, 0.48531821370124817, -13.409516334533691, 13.440711975097656, 53.416900634765625, 30.333715438842773, -10.410907745361328, -15.478193283081055, -39.072410583496094, 46.53551483154297, 51.062259674072266, -22.3348445892334, -11.8569917678833, 16.95535659790039, -14.374049186706543, 47.70370101928711, 21.52313804626465, 13.394529342651367, -8.307929039001465, -21.38485336303711, 36.82240676879883, 24.22120475769043, -22.267578125, 37.692848205566406, 32.16835021972656, 57.04153823852539, -7.539125919342041, -15.29910659790039, -20.96479034423828, -23.153661727905273, 49.242984771728516, 46.405460357666016, 33.36186218261719, -4.144873142242432, 4.033864498138428, -6.1510539054870605, -33.078338623046875, 37.101226806640625, -6.071568965911865, -20.170963287353516, 49.50490188598633, -10.40156078338623, -21.362483978271484, -32.22539138793945, 18.462621688842773, 16.001157760620117, 43.021820068359375, -2.696378469467163, -7.956284046173096, -10.685104370117188, 41.91615676879883, 40.62812423706055, -36.49747085571289, -23.77448844909668, -8.053929328918457, 59.04063415527344, 38.03993606567383, -0.8075349926948547, -34.33741760253906, -28.070762634277344, -4.299450397491455, -8.459725379943848, 41.86320495605469, -28.069990158081055, -20.44829559326172, -8.461458206176758, 41.88140106201172, -18.741519927978516, 35.89889144897461, -36.62276840209961, 0.3108375072479248, 13.648038864135742, -27.505760192871094, -35.03263473510742, -27.19985580444336, -39.189884185791016, 34.282676696777344, 32.168025970458984, 46.606014251708984, 27.83718490600586, 33.66408157348633, 16.54815673828125, -8.34276294708252, 54.07061004638672, -9.241113662719727, -10.516494750976562, -9.506143569946289, -18.277666091918945, -35.46615219116211, 51.079227447509766, 31.381179809570312, -32.568824768066406, -32.754600524902344, 10.476540565490723, -11.497217178344727, -32.34584426879883, -15.431534767150879, 10.626778602600098, 48.54477310180664, 42.3685188293457, 39.64426803588867, -6.247973918914795, 53.10014724731445, -4.521601676940918, 44.34667205810547, -36.62668991088867, -21.238265991210938, -33.324546813964844, -18.989791870117188, -23.461538314819336, 8.944389343261719, -33.9656982421875, 33.49614334106445, 43.401397705078125, -43.97328186035156, -7.941665172576904, 18.587766647338867, -39.45378112792969, 24.767013549804688, -31.865360260009766, -5.476617813110352, -10.784111976623535, -18.885244369506836, 57.15682601928711, -30.41172218322754, -12.12192440032959, -29.023921966552734, -34.01231002807617, -23.182313919067383, -35.19668197631836, 5.010988235473633, 27.40334129333496, -22.734312057495117, 32.13751983642578, 41.36188507080078, -15.585594177246094, -31.126314163208008, 14.157238006591797, -22.96599769592285, 39.86357498168945, 27.233177185058594, -32.02568054199219, -22.923765182495117, -22.54106330871582, -31.421112060546875, -33.62642288208008, -10.331036567687988, 35.48856735229492, -31.713748931884766, -9.88669490814209, 29.394956588745117, -40.42775344848633, -30.107534408569336, -3.5880393981933594, -26.167463302612305, 55.915122985839844, -17.036828994750977, 8.174680709838867, 42.48359680175781, 51.95286178588867, -19.26982307434082, -21.15736961364746, -13.0061616897583, -26.631763458251953, -22.589269638061523, -21.504350662231445, 19.585620880126953, 23.56980323791504, 24.179595947265625, 37.6937141418457, -23.50413703918457, -41.932308197021484, -22.44012451171875, -40.15108108520508, 61.78968048095703, -11.339903831481934, 45.25593566894531, 14.610629081726074, 44.81755828857422, -11.040002822875977, -29.85726547241211, 37.94108200073242, -17.3897705078125, 58.604331970214844, -17.612133026123047, 32.74583435058594, -18.9832706451416, -31.585914611816406, 37.75595474243164, -20.705646514892578, -32.52136993408203, -19.115991592407227, 0.13183049857616425, 29.204200744628906, -3.227534532546997, 8.10549545288086, 34.244197845458984, 3.276170253753662, -3.812420606613159, 2.8793842792510986, -11.207799911499023, -17.731311798095703, -28.192914962768555, -29.3851375579834, 50.03791427612305, 18.78059196472168, 46.36700439453125, -34.253360748291016, 48.9605712890625, -3.058730125427246, 44.179527282714844, -34.9371452331543, -24.205059051513672, -21.889026641845703, 41.44837188720703, -33.89699172973633, -4.867947101593018, 32.4874382019043, 52.44080352783203, -23.37998390197754, -31.086963653564453, -20.561227798461914, 54.4315299987793, 22.296953201293945, 58.26463317871094, 2.7363669872283936, 9.256019592285156, -20.45405387878418, 42.30322265625, -18.700927734375, 51.906795501708984, 53.991371154785156, 13.532557487487793, -4.509823799133301, -8.442980766296387, 20.610149383544922, 37.2348747253418, 45.02063751220703, -17.914810180664062, 7.664970874786377, -8.663969993591309, -29.948257446289062, 2.208590507507324, -30.95825958251953, -10.984044075012207, -33.31269073486328, -14.739297866821289, -19.93768310546875, -19.079927444458008, -8.036428451538086, 37.57691192626953, 11.911696434020996, 10.607449531555176, 57.75455856323242, -32.54590606689453, -13.257189750671387, 12.20836353302002, -31.093997955322266, 44.983306884765625, -35.62165451049805, 34.696224212646484, 21.937660217285156, 54.04224395751953, 26.36333656311035, -22.697397232055664, -28.51546859741211, -22.447433471679688, 45.04498291015625, -22.644147872924805, -10.183104515075684, 46.132389068603516, -18.249441146850586, -26.66106414794922, -29.559370040893555, 36.17451095581055, -38.79164123535156, 40.11167526245117, 52.78691864013672, 30.05005645751953, -24.285097122192383, 55.97843933105469, -25.19942283630371, 6.701641082763672, -3.2788636684417725, -31.366151809692383, 28.280311584472656, -22.63813018798828, 40.67535400390625, -24.598073959350586, -16.744348526000977, 4.311776161193848, -19.666118621826172, -31.480995178222656, 7.012453079223633, -21.756744384765625, -23.35178565979004, 47.48550033569336, -18.102933883666992, -32.02013397216797, 42.17338943481445, -5.251962661743164, -9.410680770874023, 52.69438552856445, -32.00205612182617, -34.34198760986328, 42.16573715209961, -39.80728530883789, -7.1784796714782715, -33.6433219909668, -6.716607093811035, -10.510855674743652, 47.74238586425781, 29.128087997436523, 26.05156135559082, 24.45929718017578, -40.642391204833984, -9.383763313293457, 27.3579158782959, 47.73930740356445, -38.57890319824219, -33.49021530151367, 5.386025428771973, -9.094609260559082, -20.707683563232422, -27.502521514892578, 38.33668899536133, -29.398555755615234, -11.022786140441895, 39.484886169433594, 47.475955963134766, 34.63212203979492, 50.56315231323242, -9.385821342468262, -26.909408569335938, -14.141777992248535, 26.86041259765625, -22.583311080932617, -27.68534278869629, -25.82868003845215, -24.884326934814453, 44.14295959472656, 7.236806392669678, -10.309550285339355, 37.27467727661133, 21.20382308959961, -28.154808044433594, 25.81444549560547, -42.28874206542969, 43.908931732177734, 30.41498565673828, 5.585666656494141, -37.90127182006836, -10.421936988830566, 50.06300735473633, 4.639003276824951, -21.44365119934082, 5.578984260559082, -8.767377853393555, 5.180301666259766, -33.16345977783203, -11.287878036499023, -33.73759460449219, -34.19677734375, -1.0855636596679688, 24.547452926635742, 4.651724338531494, -10.571224212646484, -15.504741668701172, 54.93648147583008, -32.90791702270508, -8.579381942749023, 4.377673625946045, -43.00391387939453, 6.611003875732422, -0.22748854756355286, -28.39105224609375, -15.048972129821777, 5.569604873657227, 39.1938591003418, -19.914154052734375, 1.9215128421783447, -42.62126541137695, 35.51861572265625, -25.457725524902344, -33.243133544921875, 43.678565979003906, -9.335409164428711, 39.699371337890625, -23.102441787719727, -4.850154399871826, -30.257848739624023, -35.50296401977539, 42.06326675415039, -29.537527084350586, -42.73752212524414, -12.798096656799316, 12.07810115814209, 38.459415435791016, -14.559414863586426, -32.04452133178711, 1.879868745803833, -10.211465835571289, -22.65370750427246, 19.61135482788086, -21.626115798950195, -43.21637725830078, -42.72917556762695, 7.90693998336792, -19.1831111907959, -33.67562484741211, -16.88487434387207, -30.743757247924805, 17.965335845947266, -19.83173370361328, 26.73040008544922, -10.554742813110352, 43.41646194458008, -24.593196868896484, 49.24620819091797, 0.21064534783363342, 4.835457801818848, 50.52153015136719, -19.816089630126953, 2.6072921752929688, -1.987044334411621, -11.151592254638672, 49.1225700378418, -29.637874603271484, 15.25540542602539, -14.288689613342285, -25.807449340820312, -19.861236572265625, -28.739503860473633, -0.9174884557723999, 55.00939178466797, 29.474382400512695, -31.663711547851562, 38.769798278808594, -24.300493240356445, 28.444828033447266, -7.510819435119629, 22.011432647705078, 38.990962982177734, 17.783143997192383, -17.062030792236328, 1.0196764469146729, -4.9893879890441895, 54.14405822753906, -20.417644500732422, -16.472217559814453, -9.815699577331543, 58.805450439453125, -14.481186866760254, -34.09409713745117, -9.070959091186523, -21.268320083618164, 57.23244094848633, 33.98853302001953, -16.184097290039062, -4.139217853546143, 61.063636779785156, 60.066978454589844, 45.30152893066406, -18.669870376586914, 32.342742919921875, -30.278011322021484, 45.41633224487305, 30.57596778869629, 11.831815719604492, 60.49771499633789, 5.7840070724487305, -10.938987731933594, 4.2411346435546875, 2.983055591583252, 48.77674102783203, -22.94036293029785, -5.919055461883545, 13.824196815490723, -3.67561936378479, 37.7512092590332, -30.03848648071289, 42.46168899536133, -32.60431671142578, -37.55142593383789, -29.940937042236328, 41.64585494995117, -6.914600372314453, -28.163488388061523, -12.002630233764648, 32.29545974731445, -32.58700942993164, 20.698009490966797, 40.76116943359375, 38.26261901855469, 52.731109619140625, 1.2532496452331543, -6.764978885650635, 44.721763610839844, -4.728001594543457, -7.762313365936279, -23.11373519897461, 2.265760898590088, 47.794185638427734, -8.635287284851074, 52.976680755615234, -25.209674835205078, -2.338744640350342, -25.821529388427734, -3.9123711585998535, 52.18459701538086, -3.498821496963501, -25.497394561767578, 27.265623092651367, 32.176517486572266, 15.945291519165039, 47.706783294677734, 50.802696228027344, 48.43798828125, 4.745588302612305, 39.579986572265625, 3.8395373821258545, 5.951178550720215, 39.559078216552734, 34.289520263671875, -1.2617697715759277, 38.52312469482422, 47.19692611694336, 3.7600595951080322, 43.507843017578125, 12.890844345092773, -17.504016876220703, -27.0277099609375, 18.29269790649414, 25.812021255493164, -45.186405181884766, -34.98883056640625, -11.721200942993164, -31.36812400817871, 14.850529670715332, 10.17254638671875, 12.683676719665527, -29.846437454223633, -24.88837432861328, 40.7327880859375, -26.707176208496094, 52.19068908691406, -27.27106475830078, -28.42624282836914, -19.564722061157227, -30.298337936401367, 56.8597297668457, -36.0218391418457, -22.358009338378906, -4.778221130371094, -12.898122787475586, -31.456758499145508, -10.865877151489258, 55.65505599975586, 48.97787094116211, -8.971302032470703, -35.86849594116211, 29.956087112426758, 48.05815124511719, -4.31936502456665, 29.96330451965332, -5.177662372589111, -9.428435325622559, -22.91398811340332, 1.0247641801834106, 47.35881423950195, 35.11532211303711, -24.862314224243164, -34.86027526855469, -17.963300704956055, -12.424911499023438, -27.637121200561523, -24.748432159423828, 32.00001907348633, -27.741418838500977, 27.77814292907715, -37.44133758544922, -19.592437744140625, 22.229984283447266, -39.366004943847656, 42.85258865356445, 50.133670806884766, -26.677263259887695, -18.072986602783203, 49.790592193603516, 33.70635223388672, 17.85413360595703, 28.825891494750977, -7.596704959869385, 52.691017150878906, -12.292143821716309, -33.99415588378906, 33.929256439208984, -9.7958345413208, 50.72798538208008, -11.901941299438477, -29.54376220703125, -10.612783432006836, 47.56196975708008, -7.849081516265869, 35.72361755371094, -25.298688888549805, -15.40776252746582, -29.932695388793945, -22.87287139892578, 36.53208541870117, 37.49409866333008, 4.128039360046387, -5.01475191116333, -24.921140670776367, -12.151750564575195, -14.660086631774902, -18.458757400512695, 15.746376991271973, 49.43705368041992, -39.364532470703125, -32.42565155029297, 14.835972785949707, 27.222570419311523, -4.503058910369873, 34.83678436279297, -39.592620849609375, -39.92516326904297, -41.115936279296875, -28.76729393005371, 39.911746978759766, -7.019639492034912, -37.10755157470703, -32.89117431640625, 33.65982437133789, 19.76266098022461, -4.047244071960449, -0.5698227882385254, -41.22926330566406, -29.319440841674805, 50.304656982421875, -35.34523391723633, 11.59834098815918, -22.0521240234375, -15.703539848327637, 27.651853561401367, 52.481605529785156, -38.39859390258789, -37.10350799560547, 46.0404167175293, 0.7284889817237854, -33.78384017944336, -10.29011344909668, 1.2570509910583496, -18.793222427368164, -25.044130325317383, -6.841266632080078, 32.820892333984375, -18.21674919128418, 45.68988037109375, 44.53999710083008, -17.801084518432617, 28.842966079711914, -22.3527774810791, 17.952795028686523, -38.039459228515625, 5.611966133117676, 24.01711082458496, -35.6998405456543, 36.56543731689453, -30.89318084716797, -35.233360290527344, -7.45653772354126, 11.195158958435059, 22.515056610107422, 30.68784523010254, 49.461490631103516, -21.645702362060547, -40.2678337097168, 44.19389343261719, 19.7000675201416, -18.220491409301758, -33.92031478881836, -27.140380859375, -28.454450607299805, -29.58810806274414, 32.18475341796875, -19.402507781982422, -16.925918579101562, -16.51181983947754, -29.158100128173828, 15.024364471435547, -33.97241973876953, -18.113367080688477, -34.98402786254883, 39.14095687866211, -28.942626953125, 40.46309280395508, -42.878082275390625, -19.995813369750977, -18.408321380615234, -22.888193130493164, -35.58921432495117, -26.826465606689453, -27.025264739990234, -32.77854919433594, 11.384580612182617, -6.62641716003418, -16.312442779541016, -8.262489318847656, -39.06574249267578, -17.570213317871094, -32.63731384277344, -10.409238815307617, 47.660919189453125, -33.52124786376953, 52.53645324707031, 46.96443176269531, -22.091882705688477, 55.45167541503906, -37.26411437988281, -16.922868728637695, 27.107410430908203, -19.18330955505371, -13.786945343017578, 31.62062644958496, -22.885440826416016, 33.518856048583984, -14.430395126342773, -38.364078521728516, 54.347442626953125, 5.181412220001221, 12.241486549377441, -32.97615432739258, 5.562704563140869, -11.44430923461914, -12.793347358703613, 48.77632522583008, -27.909616470336914, 2.064265012741089, -6.804365634918213, -30.584014892578125, -8.571892738342285, 46.35221481323242, -19.82880401611328, 7.963764667510986, -4.279780864715576, -27.988758087158203, 22.95234489440918, 13.669866561889648, -12.441493034362793, -7.013049125671387, 57.48676681518555, 27.290842056274414, 58.39188766479492, 1.2023104429244995, 60.10306930541992, -13.451260566711426, 42.5436897277832, 0.6738583445549011, -6.476871490478516, 47.31388854980469, -1.612762451171875, 24.888425827026367, -11.154085159301758, -20.62224578857422, 29.91638946533203, -5.572414398193359, -11.095696449279785, 13.321399688720703, 45.30699157714844, -17.257692337036133, 26.083934783935547, -25.690959930419922, -36.384788513183594, -12.17854118347168, 6.707496643066406, 24.424232482910156, 39.72280502319336, -5.434991836547852, -27.67909049987793, 9.953883171081543, -32.151065826416016, 46.527339935302734, 51.75983810424805, -25.00600242614746, -29.430498123168945, 30.644474029541016, 58.12429428100586, 43.66054153442383, 3.834568977355957, -36.04331970214844, 2.112051486968994, -0.9758787751197815, 23.5952091217041, -11.41382122039795, 34.521827697753906, 6.689976215362549, -19.419797897338867, 24.1224308013916, 14.263538360595703, -29.857685089111328, 24.992555618286133, -0.30472418665885925, -15.369961738586426, -23.387889862060547, 35.856441497802734, -18.347095489501953, 0.8844385743141174, 32.64366149902344, 57.968650817871094, 29.098960876464844, -32.367225646972656, -36.4952507019043, -17.649723052978516, -16.661632537841797, 59.423828125, 40.13711929321289, 20.602706909179688, -23.759864807128906, 37.271949768066406, 24.70406723022461, -23.333019256591797, -16.98772430419922, -28.220251083374023, -20.899093627929688, 16.12643814086914, 24.373136520385742, 14.588367462158203, -5.354835510253906, 20.933399200439453, -34.808265686035156, -30.370868682861328, -25.8040714263916, 1.1185579299926758, -18.260229110717773, 5.698671340942383, -15.903502464294434, 0.87907475233078, -15.239901542663574, -31.85036277770996, 34.06739044189453, 32.491355895996094, 25.294206619262695, -35.638736724853516, -18.35585594177246, 38.6070442199707, -23.063276290893555, -14.338486671447754, -6.590314865112305, 42.776893615722656, 42.2904167175293, -27.15385627746582, 23.123123168945312, 4.728641986846924, 43.75886917114258, -19.434919357299805, -19.34083366394043, 7.309856414794922, 29.162006378173828, 51.302406311035156, 40.573699951171875, 58.12323760986328, -30.09323501586914, 40.482547760009766, -44.43363571166992, 3.469202756881714, -23.236080169677734, -28.2243595123291, 3.6458635330200195, 48.025150299072266, -3.1959776878356934, 61.74558639526367, 47.87677764892578, -35.08439636230469, -38.99967575073242, 54.030845642089844, 7.398542881011963, 15.263019561767578, -30.062847137451172, -22.078447341918945, 30.574813842773438, -21.413776397705078, -25.563129425048828, 41.32933807373047, -23.422706604003906, -3.754455327987671, 33.05000686645508, 53.15031051635742, -20.575294494628906, -25.445466995239258, -34.803043365478516, -25.167116165161133, -31.07648277282715, 25.82968521118164, 39.77085494995117, 24.161401748657227, -34.68095779418945, 0.6829506754875183, 10.585192680358887, -6.10811710357666, 37.311546325683594, 24.423830032348633, 29.344547271728516, 30.86981201171875, -5.362449645996094, 52.5847053527832, -25.732690811157227, -22.197084426879883, -20.23834800720215, -21.008745193481445, -10.206565856933594, -26.06179428100586, -10.247450828552246, -5.3592729568481445, -15.278985977172852, -37.19704055786133, -22.600961685180664, 54.70826721191406, -23.47388458251953, -18.89876937866211, 53.150081634521484, 34.2419319152832, 40.82411575317383, -21.0064697265625, -22.597536087036133, 54.695945739746094, 22.82677459716797, -23.396038055419922, -27.418737411499023, -8.2638578414917, -20.03269386291504, -23.563976287841797, 27.685577392578125, 4.708824157714844, -20.46904182434082, 37.718116760253906, 31.729679107666016, -30.79648208618164, 34.931636810302734, 46.10166931152344, 36.26830291748047, 47.12372970581055, -17.83367156982422, 3.028512716293335, -8.460558891296387, -27.398029327392578, 26.79620933532715, -40.74113082885742, 14.644222259521484, 48.43141555786133, 56.84162521362305, 45.10655975341797, -28.61207389831543, -28.66118049621582, 1.429369568824768, -22.507139205932617, -6.690043926239014, -41.60895919799805, 30.701976776123047, 44.19949722290039, -19.14466667175293, 35.191368103027344, 29.585805892944336, -25.373014450073242, -40.19171142578125, 45.5775146484375, 29.957857131958008, -18.407209396362305, -29.684602737426758, 55.3006591796875, 33.030460357666016, 29.110151290893555, -29.839345932006836, 31.003271102905273, -8.488170623779297, 32.54082107543945, -41.66099548339844, 34.79739761352539, 17.805994033813477, -28.5036563873291, -14.136821746826172, -29.019105911254883, -19.077417373657227, -23.68951988220215, 19.513347625732422, 0.21933966875076294, 23.12217903137207, -15.868167877197266, -21.823835372924805, -35.827388763427734, 47.91053009033203, 46.377540588378906, 0.7524996399879456, 33.61873245239258, 43.883628845214844, -22.016010284423828, -29.131771087646484, -41.073646545410156, 32.22924041748047, -37.955875396728516, 34.22114562988281, 50.783599853515625, -37.975555419921875, 48.450828552246094, 38.30939865112305, 45.62505340576172, -11.780890464782715, 30.19584083557129, -35.05086135864258, -40.04918670654297, -16.235145568847656, 34.63336944580078, 34.629852294921875, -19.745643615722656, -33.96408462524414, -5.243327617645264, -24.914066314697266, -40.51924133300781, 38.30773162841797, 5.871570587158203, 28.980173110961914, 0.22027982771396637, -30.289684295654297, 12.053664207458496, -29.540660858154297, -39.58992004394531, -40.01710891723633, -29.043956756591797, -36.355552673339844, -16.4114990234375, -25.561220169067383, -15.768261909484863, -16.602380752563477, -12.632368087768555, 39.6887092590332, -28.441911697387695, -19.797754287719727, -27.330284118652344, -33.753604888916016, 26.62285614013672, -18.56793212890625, -28.934385299682617, -37.4197998046875, 35.367618560791016, 2.726550340652466, 2.761752128601074, -35.63187789916992, -25.43339729309082, -11.463334083557129, -40.93866729736328, -11.19719409942627, 37.09418869018555, 24.575639724731445, 26.1498966217041, 43.2375602722168, 36.07544708251953, -18.50791358947754, -15.9790678024292, 26.351032257080078, -37.166934967041016, -34.982723236083984, 25.728778839111328, -36.891109466552734, -11.307371139526367, -13.580307960510254, -35.146697998046875, -21.154937744140625, -37.97982406616211, -33.59528350830078, 25.862211227416992, -20.798341751098633, 4.464806079864502, 11.204263687133789, -40.307167053222656, 20.544525146484375, -8.068242073059082, -32.99888229370117, -16.501483917236328, -13.160783767700195, 59.93753433227539, 30.021411895751953, 61.298255920410156, 37.68223571777344, 47.71344757080078, 33.37069320678711, 34.21989822387695, -42.373046875, -12.36120891571045, 38.8471565246582, -5.940928936004639, -11.442350387573242, 55.40639877319336, -1.1282804012298584, -18.525222778320312, -17.587890625, -31.857755661010742, -11.543876647949219, -8.931840896606445, -35.58384704589844, -22.970287322998047, -7.656605243682861, 53.30978012084961, -20.6776065826416, 22.634811401367188, 26.385927200317383, 32.31675338745117, -26.72637939453125, 24.369169235229492, -23.03951072692871, 51.79155349731445, 10.265933990478516, 9.518745422363281, 15.738473892211914, 44.979156494140625, 32.518592834472656, 19.758792877197266, 50.97681427001953, -18.70868492126465, 25.295804977416992, -19.3516788482666, 25.524646759033203, 1.9170862436294556, -19.016206741333008, -15.782591819763184, -18.96003532409668, 43.9174919128418, -17.15427017211914, 44.95595169067383, 57.66997528076172, -34.57462692260742, 24.561813354492188, 49.68044662475586, -15.61205005645752, -23.885488510131836, -1.150002121925354, -19.23491096496582, 36.08738327026367, -20.11297607421875, -16.894813537597656, -39.8218994140625, 21.46865463256836, -25.234769821166992, -35.635684967041016, -13.610804557800293, -29.6625919342041, -33.9722785949707, -18.73208236694336, -38.051753997802734, -26.842044830322266, -13.337804794311523, -23.617149353027344, -20.780593872070312, -18.820232391357422, -32.6981315612793, -37.771793365478516, -11.47374153137207, -28.808059692382812, 4.377962112426758, 35.76445388793945, 4.3649396896362305, 48.058807373046875, -23.222740173339844, 35.72869873046875, 1.0939278602600098, 42.526519775390625, -32.3379020690918, -10.235091209411621, 27.698272705078125, -11.470978736877441, -23.720619201660156, -37.557334899902344, 19.633949279785156, -29.842552185058594, 27.915613174438477, -30.476909637451172, 50.28036880493164, -35.146034240722656, 37.15790557861328, 9.217279434204102, -9.987987518310547, -33.97357940673828, 26.639902114868164, -38.778221130371094, -27.734188079833984, -34.71894073486328, -18.568973541259766, 19.734880447387695, 19.473251342773438, 29.65613555908203, 23.14215850830078, 4.206733226776123, -23.196144104003906, 0.33475953340530396, 13.706612586975098, 61.65704345703125, -23.892213821411133, -24.95543098449707, 43.62409591674805, -0.44626641273498535, -22.68500328063965, -22.493114471435547, -28.324506759643555, -28.919836044311523, -19.614501953125, -21.875268936157227, -30.190574645996094, -24.73819923400879, -25.410818099975586, -4.110370635986328, -21.268625259399414, -13.107205390930176, 41.98902893066406, -18.842607498168945, 47.68959045410156, 26.771242141723633, -11.557485580444336, 26.110780715942383, -28.71161460876465, 15.46774673461914, -24.687957763671875, -4.783782958984375, 3.54892635345459, 9.847907066345215, -29.651121139526367, -20.829809188842773, 37.701412200927734, 15.672091484069824, -28.563364028930664, -24.818754196166992, 10.479811668395996, -6.165754318237305, 31.500165939331055, -20.85040855407715, -22.259544372558594, -20.486984252929688, -20.52402687072754, -13.007877349853516, 44.47157669067383, 0.6649317145347595, 2.7572691440582275, -29.566694259643555, -15.331171989440918, -18.9096736907959, 0.5890641212463379, -29.103620529174805, 16.767547607421875, 6.9912919998168945, 3.339669704437256, -34.518428802490234, -21.078638076782227, 41.819698333740234, 27.593412399291992, 59.09571838378906, 47.22850036621094, 27.23605728149414, 62.03473663330078, 46.788883209228516, -19.69715690612793, -27.501806259155273, -18.394363403320312, -17.122718811035156, -21.510303497314453, -29.115013122558594, -26.74901580810547, 59.83266830444336, -19.47932243347168, -16.897048950195312, 26.871858596801758, -21.382001876831055, 60.7510986328125, -27.744277954101562, -37.562557220458984, -29.3975830078125, 61.425228118896484, -29.855892181396484, -7.5610222816467285, -18.543712615966797, 42.062931060791016, 13.525541305541992, -6.88957405090332, 0.55755615234375, -33.67145538330078, -12.452762603759766, -15.889751434326172, 6.867745399475098, 45.87771987915039, 3.6175224781036377, -27.0570125579834, 52.17056655883789, -6.207961082458496, -25.867185592651367, -14.325202941894531, 31.747692108154297, -4.444421291351318, -24.475749969482422, -10.960427284240723, -11.68149185180664, 0.5983197093009949, 50.15886306762695, 48.700923919677734, 57.74065017700195, 46.511871337890625, -5.466982364654541, -9.422616958618164, 27.316518783569336, -19.568439483642578, 58.56341552734375, 44.39729309082031, 26.305999755859375, 60.44951248168945, 24.394487380981445, -9.182065963745117, -31.379854202270508, 1.134437918663025, -4.877728462219238], \"y\": [31.956605911254883, 33.0709342956543, 32.06820297241211, 58.05869674682617, 31.84593391418457, 5.812809944152832, 55.14445877075195, -32.72466278076172, 1.980685830116272, 28.93214225769043, 28.463939666748047, -41.85478973388672, -5.944809436798096, 51.84494400024414, 65.92213439941406, -7.064587593078613, -34.147735595703125, 17.71869659423828, -12.56021785736084, -5.985795497894287, 15.920406341552734, -31.692270278930664, 7.868458271026611, 31.621349334716797, 5.286492824554443, 66.0651626586914, 33.79769515991211, 3.905020236968994, 58.202247619628906, -34.743309020996094, 59.290042877197266, 66.81777954101562, 66.69039154052734, 1.7002087831497192, -6.002038955688477, -42.10874938964844, -21.428977966308594, 29.229198455810547, 30.380929946899414, 27.299983978271484, -35.4405403137207, 23.710391998291016, -19.6826114654541, 27.41352653503418, -20.2711124420166, -34.07232666015625, -3.1907906532287598, -33.38405990600586, 31.309032440185547, -34.512718200683594, -33.73775863647461, 8.551783561706543, 1.895150065422058, 60.69523620605469, 33.76654052734375, 28.635854721069336, -22.249942779541016, -39.15385055541992, -20.97197151184082, -32.81451416015625, 61.03815841674805, 10.227298736572266, 1.840477705001831, 6.556972503662109, -12.066033363342285, -8.118922233581543, 23.881420135498047, -35.50579071044922, 23.332897186279297, -21.486007690429688, 6.229173183441162, 15.891777038574219, 16.137710571289062, -35.29793167114258, 57.96440887451172, 8.707693099975586, -30.793237686157227, -51.676513671875, -12.787064552307129, -17.42017364501953, -12.600113868713379, -13.089574813842773, 6.9057793617248535, -40.96746826171875, -22.0026798248291, 4.447468280792236, 65.21134948730469, 54.91274642944336, 58.85923385620117, 1.9985095262527466, -43.01639175415039, 61.51424026489258, 1.0683083534240723, 16.138019561767578, -6.278345108032227, 23.61618423461914, 2.613438129425049, 24.994237899780273, 14.12360954284668, -6.460254192352295, 9.742846488952637, 7.890684604644775, -10.339691162109375, 6.615055561065674, 16.499582290649414, -15.109347343444824, -6.3298115730285645, -6.547266960144043, 32.44253921508789, 35.178287506103516, 28.815603256225586, 47.83284378051758, 7.9215803146362305, -10.17057991027832, -9.974300384521484, -5.237493991851807, 19.4871883392334, 7.462273120880127, 34.776695251464844, 32.85739517211914, 25.54355239868164, 19.22486686706543, 59.56812286376953, 37.27926254272461, 0.971767783164978, 49.26496124267578, -41.803062438964844, 16.30914306640625, -32.24488067626953, -15.404159545898438, 58.865455627441406, 59.38009262084961, -10.050498962402344, -37.11386489868164, -20.855052947998047, 26.948822021484375, -44.24544906616211, 61.221736907958984, -3.0989632606506348, 1.1139273643493652, 5.17319393157959, -11.748188018798828, -12.605199813842773, -32.68232727050781, -12.061020851135254, 20.77975082397461, -11.636265754699707, -10.518224716186523, 6.787700653076172, 4.1399993896484375, 24.04656982421875, 4.355105400085449, -3.456458806991577, -3.178830146789551, 25.562843322753906, 21.41941261291504, -38.56986618041992, -11.892762184143066, -41.618858337402344, 4.575262546539307, 5.587667942047119, 20.688209533691406, 1.036813497543335, 29.980140686035156, 7.14340353012085, -50.834381103515625, -9.985106468200684, 55.633487701416016, 25.38739776611328, 32.53257751464844, -30.976472854614258, 26.687665939331055, -31.03052520751953, -4.86232852935791, 8.069994926452637, 26.161863327026367, 6.656702518463135, -39.209041595458984, 35.13874435424805, 4.87952995300293, 9.90807819366455, 66.50521087646484, 29.442638397216797, 7.407639503479004, 56.38041687011719, 23.582916259765625, 18.716550827026367, 18.45884132385254, 0.38045549392700195, -35.31966781616211, 6.67773962020874, -28.33795738220215, 3.572343349456787, 56.532108306884766, -9.692458152770996, 3.1531622409820557, 58.64594268798828, 25.437646865844727, 27.067729949951172, -18.56354331970215, 60.0203971862793, 61.4853630065918, 54.9876594543457, -44.19223403930664, -50.74287414550781, 12.416604995727539, 63.4783935546875, -0.14194375276565552, -39.57652282714844, 19.86592674255371, -44.651668548583984, 64.16554260253906, -11.361977577209473, -17.766176223754883, -4.456813335418701, -30.582799911499023, -32.76081848144531, -3.685952663421631, -16.295583724975586, -13.322552680969238, -9.642590522766113, -24.274324417114258, -24.200214385986328, 55.108787536621094, -43.14521789550781, 8.999007225036621, -8.590832710266113, 4.243594169616699, 28.299846649169922, -14.241233825683594, 30.66301727294922, -40.254066467285156, -22.846160888671875, 17.87256622314453, 13.60421371459961, -28.85594940185547, 30.340862274169922, 7.8928985595703125, 29.522079467773438, 26.356882095336914, -0.9059773087501526, -2.1650161743164062, 48.53279113769531, -2.3902273178100586, -5.677769660949707, -17.973758697509766, -28.67745590209961, 33.8045539855957, 63.17688751220703, 0.5827059149742126, 59.630126953125, 58.938270568847656, -41.97053909301758, 18.630647659301758, 28.736528396606445, 24.458003997802734, 22.806777954101562, 53.38709259033203, -16.954349517822266, -11.3072509765625, -37.493309020996094, 31.348567962646484, -50.168739318847656, -39.95476150512695, 58.29792785644531, 6.548079013824463, -4.90770959854126, 53.1416130065918, 60.7350959777832, 18.401704788208008, 2.6052730083465576, 0.9679520726203918, 57.617652893066406, 0.9221765398979187, 1.7755869626998901, 3.7928409576416016, 5.126955509185791, -30.79344940185547, -21.983741760253906, 6.8790974617004395, -46.17704391479492, 26.849559783935547, 9.36341381072998, 4.973477363586426, 19.100341796875, 18.59162712097168, 62.30865478515625, -33.3914680480957, 2.1448028087615967, 7.580021381378174, -18.545610427856445, -10.98676586151123, -32.686710357666016, 61.02280044555664, 49.21025085449219, 10.633543014526367, -0.5586044192314148, -39.343021392822266, 26.045930862426758, -37.8184700012207, -2.9986305236816406, 7.126663684844971, 0.8698132634162903, -14.262686729431152, 10.735586166381836, 26.808460235595703, 23.241573333740234, -1.4659628868103027, -2.8779544830322266, 3.3539879322052, -2.7318828105926514, 20.093202590942383, -12.702286720275879, 8.411751747131348, -4.402510166168213, -41.92767333984375, 26.367517471313477, 2.6424782276153564, 23.95393180847168, 7.10348653793335, 25.920639038085938, -4.169253826141357, 6.32445764541626, 9.740100860595703, 55.08208465576172, -30.26407241821289, -15.916106224060059, -28.88184928894043, 27.149991989135742, -1.2202626466751099, 4.189509868621826, 0.44662824273109436, -10.944792747497559, 53.824317932128906, -12.695999145507812, -21.366167068481445, -2.6768765449523926, -12.04776668548584, -15.995542526245117, 6.93859338760376, 25.11368179321289, 8.820387840270996, 59.14558792114258, -32.6867790222168, -0.9821879863739014, -17.05219078063965, 5.922929286956787, -6.446173191070557, 23.120756149291992, -22.838825225830078, -10.951498985290527, 59.65582275390625, -53.17660140991211, 19.684457778930664, 12.17687702178955, 23.600683212280273, -29.595190048217773, 9.011048316955566, -3.0394787788391113, 0.3186940550804138, -45.823875427246094, -17.05352020263672, 11.548032760620117, 7.280202865600586, 60.64072799682617, 50.417945861816406, -15.328117370605469, 7.454316139221191, 7.100658416748047, 17.118104934692383, -28.12639808654785, -14.953167915344238, 6.815311908721924, 18.080347061157227, -8.470032691955566, -5.642336845397949, 51.43157196044922, -39.45117950439453, -54.094139099121094, -8.749878883361816, -53.98933029174805, -4.239720344543457, -8.291954040527344, 1.9714475870132446, 11.423761367797852, -16.95072364807129, 62.59491729736328, -45.09755325317383, 64.13607788085938, 2.580610513687134, -17.63697624206543, -28.672855377197266, 8.948819160461426, 17.946685791015625, -33.99246597290039, -30.45646095275879, -34.510658264160156, -15.737519264221191, 7.811989784240723, -18.934782028198242, 1.2368234395980835, 19.363176345825195, -17.45121955871582, 11.614428520202637, -31.925445556640625, 0.1827549785375595, 26.394161224365234, -30.707054138183594, 26.419902801513672, 13.61037540435791, 11.464645385742188, 19.805185317993164, -5.800429821014404, -29.059898376464844, -43.484493255615234, 51.33447265625, -13.559087753295898, -8.213997840881348, 2.2064120769500732, -43.69696807861328, -5.6358442306518555, 19.616634368896484, 12.11979866027832, -26.32425308227539, 7.504775524139404, 13.059187889099121, -38.156280517578125, 58.42810821533203, 4.2375993728637695, -6.6533050537109375, 18.765670776367188, 57.68681335449219, 5.747428894042969, 29.379941940307617, 34.253929138183594, -25.13296127319336, -0.9782195091247559, 4.715914249420166, 2.2737479209899902, -28.34666633605957, -36.55103302001953, -4.520421504974365, -20.472196578979492, -24.306289672851562, -17.554447174072266, 29.737625122070312, -18.609830856323242, -8.452277183532715, -37.5322380065918, 6.070205211639404, -8.146117210388184, 3.008059024810791, -14.082451820373535, -10.906071662902832, 32.61722946166992, 7.1760573387146, 53.6153450012207, -38.815673828125, 12.149517059326172, 12.712325096130371, 54.965179443359375, 19.669694900512695, -29.548770904541016, 23.211151123046875, 18.72148895263672, 28.006662368774414, 58.57828903198242, 60.144325256347656, -32.331729888916016, -15.099991798400879, -27.87825584411621, -33.00761795043945, -17.44441795349121, 17.502395629882812, -33.510040283203125, -9.656431198120117, -10.547934532165527, -29.97397804260254, -18.309494018554688, 12.216672897338867, -15.431839942932129, -3.7961385250091553, 24.30528450012207, -15.619348526000977, -17.972265243530273, 53.59730529785156, 49.6660041809082, -4.766338348388672, -11.504055976867676, 51.161617279052734, -1.8251922130584717, -22.414091110229492, 57.747554779052734, 56.2081413269043, -1.4896348714828491, 0.6588943600654602, 49.885887145996094, -31.883033752441406, 68.20024108886719, 62.110084533691406, 59.819244384765625, 13.214574813842773, -29.488561630249023, -10.043400764465332, -3.2498972415924072, -29.268766403198242, -46.23944854736328, -2.7914860248565674, 59.690372467041016, -4.424624443054199, 7.257073402404785, 48.76173782348633, -22.597318649291992, 12.291308403015137, -22.468311309814453, -36.773441314697266, -34.708282470703125, -6.285834789276123, 55.45196533203125, -55.674293518066406, -32.95090103149414, -31.700851440429688, 10.042335510253906, -11.6780366897583, 25.241777420043945, 3.9818038940429688, -29.896045684814453, -11.197915077209473, -11.455147743225098, 21.327726364135742, -35.19135284423828, -10.891731262207031, -3.358987808227539, -24.180381774902344, -31.59073829650879, -55.87872314453125, 8.87682819366455, 57.65280532836914, -30.81839370727539, 0.7645301222801208, 1.3356196880340576, 5.102642059326172, -53.0224609375, 20.9007625579834, 24.815488815307617, -31.35897445678711, 4.973026275634766, 9.42014217376709, 19.837556838989258, 0.5631725192070007, -10.413796424865723, -38.10198211669922, -2.8500218391418457, -7.911911487579346, -0.18555845320224762, -4.2958221435546875, 34.34798049926758, -23.026336669921875, 55.54186248779297, -29.80003547668457, 17.563228607177734, 8.427064895629883, -3.142486810684204, -17.406269073486328, 4.573715686798096, 55.12533187866211, -17.406259536743164, 4.587270736694336, 31.770275115966797, -14.615585327148438, 5.737913131713867, 2.7615156173706055, 55.91425704956055, -44.27473449707031, -2.8561317920684814, -8.811997413635254, -5.69451904296875, 18.2921085357666, 10.056937217712402, -0.5749469995498657, 32.16233444213867, 20.676206588745117, -24.3991756439209, 33.03681182861328, -13.489075660705566, 4.320831775665283, -19.54672622680664, -24.315502166748047, -51.801780700683594, 17.839141845703125, 15.554669380187988, -13.933422088623047, -5.356051445007324, -38.98814392089844, -4.847274303436279, 4.372045516967773, -24.985023498535156, -20.850011825561523, 19.748544692993164, -7.834805965423584, 5.822889804840088, -13.572569847106934, 3.0818047523498535, -12.927814483642578, 29.458223342895508, 2.308035135269165, -26.621381759643555, 25.368501663208008, -9.332493782043457, 26.576547622680664, 6.040526866912842, 9.766498565673828, 5.548464775085449, -1.5759285688400269, 25.02779769897461, 22.903366088867188, -34.72574996948242, 25.73834800720215, -8.844833374023438, 2.131927967071533, -11.821106910705566, -9.512643814086914, -26.569799423217773, -47.118507385253906, -1.1088846921920776, -29.371959686279297, -37.3115348815918, 53.83457946777344, 55.79537582397461, -40.442588806152344, 16.374340057373047, -12.543641090393066, -21.190534591674805, -25.449588775634766, 7.306532382965088, 9.227049827575684, -1.8829108476638794, 0.12922802567481995, -53.36559295654297, -33.29157638549805, -48.768280029296875, -7.9999213218688965, -42.57350540161133, -10.966222763061523, -3.1903648376464844, 20.619871139526367, -29.021236419677734, 24.550554275512695, 50.3290901184082, -5.361800670623779, -49.26850891113281, 17.757585525512695, 0.3489169478416443, -47.21018981933594, -46.23694610595703, -9.963127136230469, -0.14791549742221832, -9.96428108215332, 1.4257310628890991, -2.811626672744751, -5.743817329406738, 27.344894409179688, -27.09905433654785, 0.9786653518676758, 26.87714195251465, 2.9112837314605713, 8.45910358428955, 60.232154846191406, 12.143760681152344, -45.75505828857422, -8.534289360046387, 17.6066951751709, -19.947120666503906, -53.8776969909668, -52.516868591308594, 10.178401947021484, -38.79901123046875, -10.32019329071045, -0.2779538929462433, -42.16938400268555, -9.656793594360352, -18.328060150146484, 60.536930084228516, -24.49378776550293, 14.897720336914062, -18.939451217651367, 22.643007278442383, -15.440104484558105, -10.616639137268066, -8.482933044433594, 7.274297714233398, 21.094566345214844, -9.483612060546875, 4.191234111785889, -43.33647918701172, 1.1983932256698608, -0.0816950723528862, 50.54780578613281, -6.754118919372559, 26.81711196899414, 2.971433162689209, 4.537497043609619, -3.1268997192382812, -8.868896484375, 62.04602813720703, -10.420975685119629, 11.0048828125, -4.713736057281494, -39.213558197021484, 11.324095726013184, 6.3141984939575195, 6.208587169647217, -9.675704002380371, -11.583146095275879, 58.6685791015625, -39.03178787231445, 5.899441719055176, -2.4231925010681152, 6.097446441650391, -18.368602752685547, -5.256711483001709, -8.362174034118652, -52.977840423583984, 4.144445419311523, -31.524778366088867, 59.07757568359375, 7.333618640899658, -10.444616317749023, -20.101490020751953, -3.345082998275757, 17.481399536132812, 3.401078462600708, 8.103584289550781, -31.574951171875, -9.908456802368164, -0.009038761258125305, 23.07670783996582, 5.573936462402344, -40.00115203857422, -44.94933319091797, -14.945257186889648, 5.572730541229248, -2.876258611679077, -17.55734634399414, -1.8910751342773438, -39.83843231201172, -12.163559913635254, 66.38771057128906, 24.797117233276367, -39.83918762207031, -15.934025764465332, 66.40985107421875, 24.802108764648438, 49.40474319458008, 29.057239532470703, -36.25918960571289, 11.618875503540039, 18.65619468688965, -46.450984954833984, -43.49593734741211, -10.301061630249023, -40.49736785888672, 30.44464111328125, 27.55671501159668, 31.232595443725586, 11.930719375610352, 25.85731315612793, -0.1795511245727539, -4.6282267570495605, 11.454187393188477, -16.761310577392578, -19.585899353027344, -16.83229637145996, -3.6527304649353027, -29.3520450592041, 10.227027893066406, 28.1353702545166, -13.466292381286621, -5.7332024574279785, 2.378840684890747, -19.58995819091797, -19.989757537841797, 66.3043212890625, -3.5517494678497314, 5.770226955413818, 27.22447967529297, -1.9848664999008179, -6.093180179595947, 11.490849494934082, -16.212238311767578, 27.580036163330078, -25.102203369140625, 52.1529541015625, -20.50344467163086, -22.587980270385742, -46.2061882019043, -13.973731994628906, -35.20010757446289, 0.7148839831352234, 11.981350898742676, -48.89756774902344, 3.4155192375183105, 0.08520800620317459, -39.51007080078125, 24.37734031677246, -21.968088150024414, -2.608097791671753, 55.47819900512695, 48.63410568237305, 8.508780479431152, -56.278221130371094, -22.630680084228516, -11.363667488098145, -43.39824676513672, 50.513397216796875, -50.89933395385742, -18.09410858154297, 20.01165008544922, -20.099306106567383, 33.64249801635742, 3.500296115875244, -20.410303115844727, 0.45977455377578735, 6.974464416503906, -1.1635911464691162, 3.7884745597839355, 31.26987075805664, -43.12363815307617, -49.147735595703125, -45.43486404418945, -54.254661560058594, -46.42235565185547, -9.091573715209961, 10.158583641052246, -32.736331939697266, -23.868881225585938, 24.52216148376465, -30.414121627807617, -21.315767288208008, -31.78987693786621, -31.62933349609375, 9.291769981384277, 49.69786834716797, -19.3140926361084, 1.9151108264923096, 18.22018051147461, -0.5867327451705933, -46.20014953613281, -18.427749633789062, -17.936674118041992, 50.459877014160156, -52.37782287597656, 9.89028263092041, 8.37452507019043, 3.157235860824585, 25.442045211791992, 6.58241605758667, -50.27726364135742, -1.804154396057129, -42.81316375732422, 8.779206275939941, 55.317203521728516, -1.1620832681655884, -5.340980529785156, -2.9162747859954834, 62.91733169555664, -21.54280662536621, 2.5984179973602295, -46.32611846923828, -0.4987828731536865, -47.61827850341797, 19.723859786987305, -34.725791931152344, -40.108638763427734, 13.554917335510254, 65.32564544677734, -49.57183837890625, -8.710171699523926, -0.5317248106002808, 26.372325897216797, -36.15733337402344, -18.71955680847168, 12.038089752197266, -29.94808578491211, -8.326238632202148, -1.8592768907546997, -5.84623908996582, 65.67647552490234, -35.611976623535156, -54.33394241333008, 4.050815105438232, -4.830207824707031, 2.1938745975494385, -49.55751037597656, 14.867060661315918, -32.54974365234375, 31.46440887451172, -49.39313507080078, -45.25251007080078, 59.88401794433594, 11.868361473083496, -18.564193725585938, -22.695621490478516, 6.590354919433594, 0.6082687377929688, -44.38541030883789, -31.570436477661133, 49.46958923339844, -2.1524605751037598, 12.702554702758789, 5.662379741668701, -33.36090087890625, -19.28412628173828, -49.7682991027832, 4.234880447387695, 57.60814666748047, 0.3194934129714966, 4.744632244110107, -15.02612018585205, -29.656177520751953, -12.234636306762695, 26.08061981201172, 10.321442604064941, 1.552764654159546, -47.504032135009766, -8.47464656829834, -13.221495628356934, -49.94192886352539, -32.6988410949707, -25.194290161132812, -4.363593101501465, -37.285823822021484, 3.333994150161743, 52.12845993041992, -11.6312837600708, -12.763651847839355, 0.010723862797021866, -14.735343933105469, -0.8965097665786743, 9.769598960876465, -49.05197525024414, -9.577218055725098, -6.480692386627197, -25.927318572998047, -3.379199743270874, -16.122236251831055, 0.14910025894641876, -1.7241413593292236, 8.82313060760498, 0.6010864973068237, -29.840734481811523, -27.773744583129883, 2.982805013656616, -2.5752148628234863, -21.22862434387207, 64.58366394042969, 10.600550651550293, -33.61764907836914, -54.85953903198242, -27.982454299926758, 7.796308994293213, -27.15632438659668, 29.475017547607422, 5.364623069763184, 20.660358428955078, -47.396873474121094, 5.844391345977783, 51.19327926635742, -33.040462493896484, -14.035065650939941, -7.127869129180908, 1.8459105491638184, 5.679373741149902, 8.85171127319336, -49.9956169128418, -41.52278518676758, -2.4122400283813477, -24.34823226928711, -6.8019304275512695, -3.3510711193084717, -22.73134422302246, 50.84499740600586, 2.9279723167419434, 48.07143020629883, 2.386908769607544, 31.600479125976562, 4.392825603485107, -28.051687240600586, 20.81867790222168, 2.3861496448516846, -1.9086130857467651, 31.595441818237305, -41.28720474243164, 54.11470413208008, -16.989519119262695, 1.9970463514328003, -19.31516456604004, 16.75507926940918, 5.754817485809326, 22.798505783081055, 9.504594802856445, -43.006473541259766, 5.665425777435303, 13.36939811706543, 25.56099510192871, -44.95077896118164, -10.520527839660645, 3.8785791397094727, -0.2838030755519867, -27.039705276489258, -12.775074005126953, 5.388166427612305, -5.778014659881592, 5.678845405578613, 4.82065486907959, 29.597076416015625, 0.14799989759922028, 6.582036972045898, -19.02128028869629, 51.163612365722656, -13.42001724243164, 22.60444450378418, -3.045694351196289, 1.722598671913147, 4.8570556640625, 4.116817474365234, -7.192201137542725, 5.2463788986206055, -21.13028335571289, 29.82975959777832, 3.4551706314086914, 1.363271713256836, 10.492443084716797, -49.85772705078125, 16.09300422668457, 4.7822585105896, -3.322002410888672, -41.33382797241211, 4.084240436553955, 18.67294692993164, 7.083510875701904, -25.324562072753906, -16.921632766723633, 1.128953456878662, -3.5582470893859863, 1.3453648090362549, -18.04543685913086, -23.98647117614746, -38.62379837036133, -3.5732474327087402, 22.8187255859375, -18.2436466217041, -20.782445907592773, -2.2287087440490723, -0.6070289611816406, -23.852596282958984, -20.332489013671875, 3.1857690811157227, -46.80816650390625, -22.479970932006836, 7.167205810546875, -45.35307693481445, -41.87151336669922, -4.534875869750977, 29.824710845947266, -13.054795265197754, 5.373485088348389, -44.94819259643555, 30.212257385253906, -22.388216018676758, -45.48363494873047, 12.51530647277832, 59.62329864501953, 33.22360610961914, 52.004608154296875, 3.07305908203125, 3.879498243331909, -17.590883255004883, 29.001632690429688, -2.916900873184204, -44.67671585083008, -16.576602935791016, 0.45539042353630066, 31.398155212402344, -5.370123863220215, -54.30725860595703, 4.580021381378174, 0.16720198094844818, -44.86456298828125, 11.758909225463867, 47.408111572265625, -47.904109954833984, -45.969547271728516, -2.5312461853027344, 63.92574691772461, -9.869400978088379, -42.04690933227539, -53.40439224243164, 15.367218971252441, 57.1286735534668, 12.348227500915527, 58.477230072021484, 0.6734975576400757, 1.2917766571044922, 26.43936538696289, -0.3420850336551666, -20.742813110351562, 1.5647822618484497, -7.140409469604492, -20.37641716003418, -17.279661178588867, 54.4881706237793, 16.504968643188477, -33.45071792602539, -12.644325256347656, -26.285327911376953, -54.84403991699219, -0.13250160217285156, -36.11126708984375, -1.2095177173614502, 0.9063149094581604, 9.98569393157959, -5.8923258781433105, 4.801377773284912, 51.552852630615234, 23.058454513549805, -22.425888061523438, 16.746612548828125, 31.01049041748047, 7.141851425170898, 63.1348876953125, 2.0919382572174072, -32.544857025146484, 17.842226028442383, 59.55133056640625, -45.6900749206543, 61.81946563720703, 2.4234721660614014, 63.04715347290039, -7.443547248840332, -7.478296279907227, -50.923004150390625, 0.9047163724899292, 21.165754318237305, -29.53314208984375, -31.731298446655273, -0.4851841628551483, 4.415968418121338, 1.2643108367919922, -46.82809066772461, 21.18427848815918, -51.92302322387695, -0.8242104649543762, 26.91461753845215, -19.898462295532227, -0.16156615316867828, -1.1385656595230103, 63.25634765625, -25.453712463378906, -29.653785705566406, 15.6448335647583, 53.99732971191406, -26.07037353515625, -19.024150848388672, -8.217585563659668, 27.864709854125977, -32.77024459838867, 7.28398323059082, -39.44038772583008, -53.366912841796875, -39.74533462524414, 19.377521514892578, -12.608070373535156, -47.64672088623047, 55.85118865966797, 15.592571258544922, -48.19688415527344, 14.274759292602539, 30.997291564941406, 2.0708975791931152, 19.17880630493164, -3.8255786895751953, -6.962287425994873, 18.580108642578125, -25.754732131958008, -20.986085891723633, 57.817169189453125, 0.42115318775177, 14.91651439666748, -20.828601837158203, 20.098848342895508, -30.148029327392578, -22.705474853515625, -18.383268356323242, -29.438566207885742, 19.303682327270508, -18.55234718322754, -15.623388290405273, 18.27613067626953, 10.88962459564209, -11.296916007995605, 12.194402694702148, 5.861784934997559, 4.014421463012695, -1.0539698600769043, 10.314618110656738, -26.832700729370117, -19.984760284423828, 26.7203426361084, 5.319217681884766, -29.46092987060547, 3.050410509109497, 8.285574913024902, -6.299048900604248, 22.264873504638672, -16.96246337890625, -39.32460021972656, 53.51041030883789, 21.21723747253418, 4.425207614898682, -45.97690200805664, -50.439292907714844, -4.970246315002441, -34.95674514770508, 2.069112539291382, -15.363533020019531, -2.7880117893218994, -39.174598693847656, 1.766313910484314, 22.08522605895996, -8.737433433532715, 14.807707786560059, -47.376224517822266, -33.1536865234375, 67.5748519897461, -2.41094708442688, 11.3936185836792, -40.660743713378906, 5.518450736999512, -20.065460205078125, 53.88690185546875, -48.21416473388672, 2.5112452507019043, 8.165546417236328, 6.615732192993164, -9.213582038879395, -47.07763671875, 10.869571685791016, 23.530263900756836, -12.167984008789062, 10.885990142822266, 4.345998287200928, -27.898849487304688, -53.34907150268555, 12.298565864562988, 25.203083038330078, 30.359399795532227, 48.48316192626953, -28.120939254760742, -26.682178497314453, -24.17122459411621, 0.9432090520858765, -50.38392639160156, 25.459474563598633, -12.72924518585205, 13.440282821655273, -36.97353744506836, -19.45928192138672, 4.3343915939331055, -44.111148834228516, 28.274784088134766, 9.184560775756836, 2.7292354106903076, -25.577150344848633, 22.91824722290039, 24.611648559570312, -1.3234068155288696, 18.538732528686523, 1.1826679706573486, 22.02639389038086, -17.95595932006836, -43.319236755371094, 33.21177291870117, 56.08291244506836, 24.509395599365234, -24.75518226623535, -7.050031661987305, 57.46106719970703, 25.983617782592773, 2.449096918106079, 34.5212287902832, -21.900177001953125, 64.63359832763672, -17.521066665649414, -27.83139419555664, 25.163726806640625, 26.6928768157959, 2.0227103233337402, -14.270572662353516, -24.810016632080078, 58.82978439331055, -15.010210990905762, 52.13798904418945, -1.5777348279953003, 24.69713020324707, -46.509681701660156, -33.43717575073242, 0.4486362040042877, 14.140820503234863, -25.995067596435547, 15.275796890258789, -50.18092727661133, -49.08701705932617, -51.96186447143555, -43.07103729248047, 33.32311248779297, 54.27836990356445, -36.527835845947266, -8.718860626220703, 10.124031066894531, 14.410774230957031, -6.643695831298828, 12.027694702148438, -27.8740291595459, 3.6274728775024414, 8.132153511047363, -51.734920501708984, -4.478377342224121, 61.67540740966797, -2.753998041152954, 21.585552215576172, 4.925965309143066, -37.933319091796875, -45.350311279296875, 25.413951873779297, 9.32193374633789, -29.706125259399414, 1.783447027206421, 2.302166223526001, -45.061763763427734, -44.59739685058594, -23.896648406982422, 26.673709869384766, -43.150291442871094, 5.79926061630249, 27.808725357055664, 50.55771255493164, 5.671389579772949, -20.462617874145508, -0.8182470798492432, -51.81073760986328, -17.140342712402344, 18.798982620239258, -25.337404251098633, 27.29854393005371, -36.49341583251953, -44.55316925048828, 61.99435806274414, -3.896148681640625, 16.07098388671875, 13.914852142333984, 8.049247741699219, -12.423413276672363, -48.82863998413086, 3.990851879119873, 10.146053314208984, -21.957292556762695, -37.75383758544922, -26.649398803710938, 4.564188003540039, 0.7259003520011902, 15.950052261352539, 52.13669204711914, 53.85871887207031, 55.955528259277344, -27.341909408569336, 15.784697532653809, -36.26888656616211, 0.5285714268684387, -33.00639343261719, -0.2438732087612152, 1.9659063816070557, 29.455595016479492, -44.604652404785156, -1.8511604070663452, 58.2237434387207, 60.448455810546875, -48.809837341308594, -48.65861892700195, 52.088565826416016, -47.30261993408203, -3.5622990131378174, 4.278419017791748, -0.7873402237892151, 61.8310661315918, -37.72213363647461, 65.62599182128906, -10.571640014648438, 54.685401916503906, -3.955707550048828, -46.367027282714844, 17.860504150390625, 12.790656089782715, 49.91866683959961, 0.9389479160308838, -26.142072677612305, -1.8085516691207886, 18.007144927978516, 2.5859317779541016, -21.097684860229492, 21.880958557128906, 2.7907872200012207, 1.6607205867767334, -15.022180557250977, -47.88645935058594, 4.3782572746276855, -1.4382818937301636, -0.8788132071495056, -56.525413513183594, -15.664714813232422, -0.8510775566101074, 55.347923278808594, 13.688958168029785, -50.96437072753906, -32.60209274291992, -30.44125747680664, -6.557564735412598, -24.621795654296875, 1.372859001159668, 64.89128875732422, -19.867807388305664, -33.28799819946289, -52.2442626953125, -3.631639242172241, -9.706305503845215, 56.52983856201172, -7.159778594970703, 0.5104870796203613, -4.977123737335205, 2.9780867099761963, -31.85110092163086, -0.935750424861908, -28.548547744750977, -1.3758783340454102, -4.666181564331055, -22.93255615234375, -3.761551856994629, -29.99041175842285, -3.718182325363159, 0.09981328994035721, 62.3012580871582, -0.06764167547225952, -21.169340133666992, 64.36820983886719, 1.2726396322250366, 9.857242584228516, -10.342474937438965, -4.6469926834106445, 57.10010528564453, -41.30223083496094, 63.388519287109375, -33.05015563964844, 6.882854461669922, 28.316848754882812, -19.106170654296875, -49.65397262573242, -21.97519302368164, -56.8903923034668, 11.856902122497559, 5.253442764282227, -47.129127502441406, -51.098026275634766, 1.2276049852371216, -0.7647464871406555, -1.9082152843475342, -29.94452667236328, -46.1484375, 10.022502899169922, -3.559147834777832, -0.4407402276992798, 62.2411003112793, 14.501615524291992, -20.615598678588867, -23.745920181274414, 0.5733067393302917, -14.584436416625977, -54.205650329589844, -3.7232398986816406, -31.391239166259766, -21.732994079589844, 63.67637252807617, 10.762085914611816, -11.157012939453125, -0.1690106838941574, 12.395299911499023, 5.953742980957031, 2.6469593048095703, -30.212543487548828, -51.71167755126953, -23.613191604614258, -43.69268798828125, -0.019553860649466515, 0.9108893275260925, 20.701274871826172, 3.5132553577423096, 3.8393805027008057, 7.413173198699951, -14.700369834899902, -39.83551788330078, -43.12701416015625, -22.541297912597656, -2.280167818069458, -1.707807183265686, 14.465895652770996, 6.744722843170166, -2.0638344287872314, -17.6533203125, -7.4150166511535645, 51.27783966064453, -34.37355041503906, -8.82078742980957, -15.946697235107422, -6.49191427230835, -2.0011467933654785, -37.968929290771484, -34.98068618774414, 2.713080883026123, 26.55865478515625, 20.691024780273438, -19.792842864990234, -9.662346839904785, 4.03854513168335, 51.18136215209961, -4.856368541717529, -20.870634078979492, 10.643057823181152, 2.1357057094573975, -26.1944637298584, -1.8021214008331299, 12.25009822845459, 17.636816024780273, -8.36904239654541, 65.18006134033203, -19.594533920288086, 21.82853126525879, 4.614596843719482, 0.7521234750747681, 2.2306642532348633, -34.43560791015625, 29.931764602661133, -47.91123962402344, -25.141437530517578, -12.965813636779785, -52.73206329345703, -3.8938167095184326, 7.240140914916992, -24.14731788635254, 8.314517974853516, 5.1723246574401855, -46.02206802368164, -27.09773063659668, -1.794492244720459, -7.352719306945801, -3.4515726566314697, -50.288917541503906, 3.064112901687622, 1.557383418083191, -2.3623273372650146, -15.553409576416016, 21.347393035888672, 7.519197940826416, 7.676905155181885, 12.623010635375977, 23.962583541870117, -21.191753387451172, -54.53512191772461, -41.526832580566406, -54.81258773803711, -10.703718185424805, 19.786006927490234, 27.759353637695312, 19.23600959777832, -41.762874603271484, 2.921048879623413, -1.3810365200042725, -16.481618881225586, 35.71015548706055, 11.739937782287598, 22.47301483154297, 13.548233985900879, 4.759868144989014, 28.34303092956543, 53.3646354675293, -16.936635971069336, -47.5324821472168, -41.16011047363281, -7.925308704376221, 56.48859405517578, 63.505714416503906, 6.768163204193115, -7.148813724517822, -50.98707580566406, -31.737422943115234, 15.847174644470215, -39.267215728759766, 60.96184539794922, 23.97776985168457, 1.8121368885040283, 23.97772216796875, -41.14384078979492, -31.72293472290039, 15.806772232055664, -3.977247953414917, -53.60546112060547, -1.39841628074646, -2.67453670501709, 50.68181228637695, 0.22697129845619202, 12.147517204284668, 4.950459957122803, -12.670943260192871, 24.151992797851562, 29.167829513549805, -29.946189880371094, 28.93326187133789, 26.082054138183594, 27.88268280029297, 30.756338119506836, 52.06833267211914, 12.521352767944336, 54.551177978515625, -4.254159450531006, 13.2120943069458, -45.60950469970703, 19.79888343811035, 27.17414665222168, 11.163261413574219, 5.698424816131592, 4.490820407867432, 5.150001525878906, 10.526569366455078, -26.915573120117188, 0.6946810483932495, -45.829566955566406, 24.621444702148438, 26.53064727783203, 51.10662078857422, 28.31275177001953, 9.396777153015137, 4.588816165924072, -51.55094909667969, 25.08710289001465, 15.13485050201416, -6.721105575561523, -19.527652740478516, 10.428803443908691, 29.00981903076172, 16.95560646057129, -17.448871612548828, 29.245771408081055, 54.46034622192383, 28.60923194885254, -45.98237991333008, -0.9063074588775635, -0.13186267018318176, -31.671411514282227, -13.613702774047852, -4.534040927886963, -2.385347604751587, -26.59763526916504, 16.306079864501953, 10.706533432006836, 6.019614219665527, -14.017833709716797, -21.16976547241211, 1.4016927480697632, 27.53056526184082, 27.48581314086914, 3.4221041202545166, 24.145015716552734, 15.547351837158203, 0.8188465237617493, -25.388004302978516, -51.54930877685547, 1.3201682567596436, -44.8818244934082, 27.499719619750977, 7.632111072540283, -40.03611373901367, 24.32847023010254, 32.68643569946289, 11.337937355041504, -14.632638931274414, 15.187602996826172, -43.76402282714844, -46.852455139160156, -3.6680760383605957, 14.95982551574707, 33.45173263549805, -20.177366256713867, -30.56416893005371, -1.0640382766723633, -51.2978630065918, -44.46230697631836, 24.419809341430664, -18.98130226135254, 16.694334030151367, 5.658788681030273, 0.6225359439849854, -5.797781944274902, -6.129461288452148, -52.234474182128906, -45.29503631591797, -2.172636032104492, -42.61170196533203, -8.176615715026855, -22.928878784179688, -3.4782485961914062, 65.13603973388672, -18.865070343017578, 35.22040939331055, -33.36660385131836, 67.05746459960938, -3.2289540767669678, -8.86999797821045, 16.234506607055664, -2.2994987964630127, -24.9753475189209, -34.070335388183594, 34.12587356567383, 2.6358139514923096, -0.9968820810317993, -26.181476593017578, -2.110624074935913, -17.566997528076172, -47.099246978759766, 3.544754981994629, 32.016056060791016, 14.19775676727295, 22.0571346282959, 4.285802841186523, 25.396686553955078, -6.68516206741333, 48.65624237060547, 17.703052520751953, -33.447303771972656, -29.256179809570312, 4.696781635284424, -49.366825103759766, -24.699609756469727, -14.121448516845703, -28.779491424560547, 48.11469650268555, -53.48735046386719, -29.42146110534668, 9.692117691040039, -26.98105812072754, 4.331033706665039, -7.028846263885498, -51.88959503173828, 10.32426929473877, 4.452996253967285, -55.5152587890625, 53.12074661254883, -27.991044998168945, 8.065536499023438, 24.10491943359375, 8.387298583984375, 26.006763458251953, 28.414094924926758, 14.731837272644043, 29.03771209716797, -47.190616607666016, -13.880232810974121, 5.1789984703063965, -14.643073081970215, -17.006837844848633, -0.5210729837417603, 12.654857635498047, -2.2560338973999023, -21.637725830078125, -23.933460235595703, 53.97779083251953, -11.310275077819824, -19.113128662109375, -28.763547897338867, 63.74034118652344, 10.716099739074707, -8.676863670349121, 15.973694801330566, 5.844590663909912, 15.964456558227539, -0.4190026819705963, 11.28482437133789, -49.86555480957031, 24.318323135375977, -5.853174686431885, -4.5754594802856445, 2.562272548675537, 11.280923843383789, 21.85749626159668, -5.507380485534668, 1.450923204421997, -21.37505340576172, 21.22340202331543, 2.5160179138183594, 9.936335563659668, 5.516085624694824, -23.017459869384766, -38.006141662597656, -1.0127294063568115, 17.684072494506836, 52.82024383544922, 30.045534133911133, 3.7730984687805176, -0.22484979033470154, 0.9586817622184753, 25.022659301757812, -3.8817341327667236, 52.797122955322266, 10.63162899017334, 68.13655090332031, 14.414840698242188, -0.9865833520889282, -6.837144374847412, -46.0037841796875, -0.9625937342643738, -14.632131576538086, 0.3098162114620209, -38.64015579223633, 2.2102904319763184, -51.516117095947266, 54.627166748046875, -45.73856735229492, 52.768524169921875, -21.285247802734375, 48.740203857421875, -44.98593521118164, -43.18669891357422, -55.32386779785156, -35.07960510253906, 61.74062728881836, -1.6202020645141602, 7.163789749145508, 35.62507629394531, -0.4005395770072937, 7.421897888183594, 7.4384002685546875, 8.614639282226562, 8.95378589630127, 30.401338577270508, -31.484622955322266, 1.2273356914520264, 8.6265287399292, -8.622050285339355, 62.33903503417969, -36.19395446777344, 9.843576431274414, -55.080326080322266, 10.060364723205566, -5.1811113357543945, 17.88909149169922, -55.66436767578125, 13.652714729309082, -0.784508466720581, 2.5920233726501465, -8.248817443847656, 17.37005043029785, -43.39080810546875, -3.1571760177612305, -31.663110733032227, -24.893278121948242, 15.254498481750488, 16.21907615661621, 14.193510055541992, 6.035752773284912, 12.084524154663086, 8.094472885131836, -30.02992820739746, 13.552790641784668, 0.13166175782680511, 62.166542053222656, 56.78234100341797, 9.993898391723633, -31.461580276489258, 58.854984283447266, -30.893199920654297, -49.7061767578125, -57.03627014160156, -25.507976531982422, 56.09741973876953, -32.40941619873047, 52.20176315307617, 52.3162956237793, -32.972267150878906, 58.64649200439453, -6.548304080963135, 0.512054979801178, 58.95960235595703, -4.391480445861816, 6.461924076080322, 53.06394958496094, -2.8135643005371094, -56.66731643676758, -18.617551803588867, -43.663917541503906, -21.645845413208008, -27.23775291442871, -19.865665435791016, -46.69886779785156, 61.20101547241211, 13.214731216430664, -3.8784093856811523, -54.292484283447266, 57.15047836303711, -16.974380493164062, -31.262361526489258, 12.363465309143066, -2.547987699508667, -13.972982406616211, 61.30373764038086, 49.15962219238281, -16.51377296447754, 31.96133041381836, -28.11455535888672, -4.807367324829102, -36.427127838134766, -37.977169036865234, 64.6517333984375, -28.227008819580078, -47.4033203125, -3.0899806022644043, -21.293468475341797, 10.701716423034668, -51.62334442138672, 57.306766510009766, 0.683193564414978, 3.731562852859497, 6.986203193664551, 4.686859607696533, -5.585893154144287, 0.9609092473983765, 4.184396266937256, 57.779335021972656, -25.0047664642334, 64.36720275878906, -23.582727432250977, -49.60882568359375, -55.555992126464844, -27.793222427368164, 0.7358301877975464, -34.40958786010742, -40.64494705200195, -6.952469348907471, 61.719505310058594, 4.735245704650879, -25.367420196533203, -53.72209930419922, -46.691864013671875, 7.057614326477051, -51.89720916748047, -19.153064727783203, -11.240276336669922, 9.016928672790527, -7.608513832092285, -12.72225284576416, -28.26813316345215, -47.961158752441406, 61.564022064208984, -6.28535270690918, -21.79999542236328, 10.919578552246094, -3.8693034648895264, -51.78171157836914, 6.540984153747559, -16.496681213378906, -40.16029739379883, -4.715639591217041, 14.956796646118164, -29.634111404418945, 2.2407453060150146, 61.05559158325195, 56.070194244384766, -6.452258110046387, 26.192481994628906, 8.653010368347168, 9.485309600830078, 9.559089660644531, -24.52675437927246, -23.351806640625, 10.146870613098145, -10.056805610656738, 7.666772842407227, 3.922197103500366, 8.758073806762695, 1.3308523893356323, 13.85049819946289, -22.86463165283203, -36.502037048339844, -5.868216514587402, -21.694107055664062]}, {\"mode\": \"text\", \"name\": \"Los m\\u00e1s mejores\", \"opacity\": 0.9, \"text\": [\"L. Messi\", \"Cristiano Ronaldo\", \"Neymar Jr\", \"J. Oblak\", \"E. Hazard\", \"K. De Bruyne\", \"M. ter Stegen\", \"V. van Dijk\", \"L. Modri\\u0107\", \"M. Salah\", \"K. Mbapp\\u00e9\", \"K. Koulibaly\", \"H. Kane\", \"Alisson\", \"De Gea\", \"N. Kant\\u00e9\", \"G. Chiellini\", \"S. Ag\\u00fcero\", \"Sergio Ramos\", \"L. Su\\u00e1rez\", \"R. Lewandowski\", \"Sergio Busquets\", \"A. Griezmann\", \"P. Dybala\", \"P. Pogba\", \"Ederson\", \"R. Sterling\", \"C. Eriksen\", \"T. Courtois\", \"Piqu\\u00e9\", \"S. Handanovi\\u010d\", \"M. Neuer\", \"H. Lloris\", \"David Silva\", \"E. Cavani\", \"D. God\\u00edn\", \"T. Kroos\", \"M. Reus\", \"P. Aubameyang\", \"S. Man\\u00e9\", \"A. Laporte\", \"Bernardo Silva\", \"Casemiro\", \"H. Son\", \"Fernandinho\", \"Thiago Silva\", \"K. Benzema\", \"J. Vertonghen\", \"D. Mertens\", \"M. Hummels\", \"T. Alderweireld\", \"Jordi Alba\", \"Thiago\", \"K. Navas\", \"L. Insigne\", \"L. San\\u00e9\", \"Marquinhos\", \"M. \\u0160kriniar\", \"M. Verratti\", \"S. Umtiti\", \"W. Szcz\\u0119sny\", \"J. Kimmich\", \"Isco\", \"Roberto Firmino\", \"I. Rakiti\\u0107\", \"M. Pjani\\u0107\", \"A. Di Mar\\u00eda\", \"L. Bonucci\", \"Coutinho\", \"Parejo\", \"T. M\\u00fcller\", \"C. Immobile\", \"A. Lacazette\"], \"textfont\": {\"color\": \"black\", \"family\": \"sans serif\", \"size\": 10}, \"type\": \"scatter\", \"x\": [21.346641540527344, 21.965612411499023, 22.414840698242188, -7.1126861572265625, 22.501680374145508, 11.824459075927734, -20.416284561157227, -12.582695960998535, 8.45720100402832, 21.862079620361328, 22.977800369262695, -44.66605758666992, 34.1467399597168, -15.133413314819336, -12.799661636352539, -23.38040542602539, -43.34465026855469, 39.16899108886719, -1.4824278354644775, 34.374122619628906, 40.30632400512695, 5.808440208435059, 11.97880744934082, 22.968042373657227, 11.846138954162598, -12.303084373474121, 26.71110725402832, 18.727048873901367, -9.430423736572266, -8.430245399475098, -14.0488920211792, -14.56089973449707, -14.163656234741211, 21.01972198486328, 34.8159294128418, -23.4573917388916, 12.636616706848145, 19.698766708374023, 22.380205154418945, 23.14824676513672, -22.38528060913086, 18.406803131103516, -1.605232834815979, 21.583337783813477, -0.817771315574646, -11.777094841003418, 32.058128356933594, -10.907161712646484, 21.655975341796875, -8.368470191955566, -11.749577522277832, -9.983880043029785, 8.454235076904297, -13.388678550720215, 26.946630477905273, 23.68012237548828, -34.092716217041016, -43.691287994384766, -0.36330080032348633, -11.83651351928711, -14.783352851867676, -12.710395812988281, 19.767559051513672, 12.817913055419922, 8.79811954498291, -0.6804072856903076, 19.6286678314209, -10.685516357421875, 17.224308013916016, 12.680745124816895, 16.170934677124023, 40.45867156982422, 40.041595458984375], \"y\": [31.956605911254883, 33.0709342956543, 32.06820297241211, 58.05869674682617, 31.84593391418457, 5.812809944152832, 55.14445877075195, -32.72466278076172, 1.980685830116272, 28.93214225769043, 28.463939666748047, -41.85478973388672, -5.944809436798096, 51.84494400024414, 65.92213439941406, -7.064587593078613, -34.147735595703125, 17.71869659423828, -12.56021785736084, -5.985795497894287, 15.920406341552734, -31.692270278930664, 7.868458271026611, 31.621349334716797, 5.286492824554443, 66.0651626586914, 33.79769515991211, 3.905020236968994, 58.202247619628906, -34.743309020996094, 59.290042877197266, 66.81777954101562, 66.69039154052734, 1.7002087831497192, -6.002038955688477, -42.10874938964844, -21.428977966308594, 29.229198455810547, 30.380929946899414, 27.299983978271484, -35.4405403137207, 23.710391998291016, -19.6826114654541, 27.41352653503418, -20.2711124420166, -34.07232666015625, -3.1907906532287598, -33.38405990600586, 31.309032440185547, -34.512718200683594, -33.73775863647461, 8.551783561706543, 1.895150065422058, 60.69523620605469, 33.76654052734375, 28.635854721069336, -22.249942779541016, -39.15385055541992, -20.97197151184082, -32.81451416015625, 61.03815841674805, 10.227298736572266, 1.840477705001831, 6.556972503662109, -12.066033363342285, -8.118922233581543, 23.881420135498047, -35.50579071044922, 23.332897186279297, -21.486007690429688, 6.229173183441162, 15.891777038574219, 16.137710571289062]}],\n",
       "                        {\"autosize\": false, \"height\": 1000, \"template\": {\"data\": {\"bar\": [{\"error_x\": {\"color\": \"#2a3f5f\"}, \"error_y\": {\"color\": \"#2a3f5f\"}, \"marker\": {\"line\": {\"color\": \"#E5ECF6\", \"width\": 0.5}}, \"type\": \"bar\"}], \"barpolar\": [{\"marker\": {\"line\": {\"color\": \"#E5ECF6\", \"width\": 0.5}}, \"type\": \"barpolar\"}], \"carpet\": [{\"aaxis\": {\"endlinecolor\": \"#2a3f5f\", \"gridcolor\": \"white\", \"linecolor\": \"white\", \"minorgridcolor\": \"white\", \"startlinecolor\": \"#2a3f5f\"}, \"baxis\": {\"endlinecolor\": \"#2a3f5f\", \"gridcolor\": \"white\", \"linecolor\": \"white\", \"minorgridcolor\": \"white\", \"startlinecolor\": \"#2a3f5f\"}, \"type\": \"carpet\"}], \"choropleth\": [{\"colorbar\": {\"outlinewidth\": 0, \"ticks\": \"\"}, \"type\": \"choropleth\"}], \"contour\": [{\"colorbar\": {\"outlinewidth\": 0, \"ticks\": \"\"}, \"colorscale\": [[0.0, \"#0d0887\"], [0.1111111111111111, \"#46039f\"], [0.2222222222222222, \"#7201a8\"], [0.3333333333333333, \"#9c179e\"], [0.4444444444444444, \"#bd3786\"], [0.5555555555555556, \"#d8576b\"], [0.6666666666666666, \"#ed7953\"], [0.7777777777777778, \"#fb9f3a\"], [0.8888888888888888, \"#fdca26\"], [1.0, \"#f0f921\"]], \"type\": \"contour\"}], \"contourcarpet\": [{\"colorbar\": {\"outlinewidth\": 0, \"ticks\": \"\"}, \"type\": \"contourcarpet\"}], \"heatmap\": [{\"colorbar\": {\"outlinewidth\": 0, \"ticks\": \"\"}, \"colorscale\": [[0.0, \"#0d0887\"], [0.1111111111111111, \"#46039f\"], [0.2222222222222222, \"#7201a8\"], [0.3333333333333333, \"#9c179e\"], [0.4444444444444444, \"#bd3786\"], [0.5555555555555556, \"#d8576b\"], [0.6666666666666666, \"#ed7953\"], [0.7777777777777778, \"#fb9f3a\"], [0.8888888888888888, \"#fdca26\"], [1.0, \"#f0f921\"]], \"type\": \"heatmap\"}], \"heatmapgl\": [{\"colorbar\": {\"outlinewidth\": 0, \"ticks\": \"\"}, \"colorscale\": [[0.0, \"#0d0887\"], [0.1111111111111111, \"#46039f\"], [0.2222222222222222, \"#7201a8\"], [0.3333333333333333, \"#9c179e\"], [0.4444444444444444, \"#bd3786\"], [0.5555555555555556, \"#d8576b\"], [0.6666666666666666, \"#ed7953\"], [0.7777777777777778, \"#fb9f3a\"], [0.8888888888888888, \"#fdca26\"], [1.0, \"#f0f921\"]], \"type\": \"heatmapgl\"}], \"histogram\": [{\"marker\": {\"colorbar\": {\"outlinewidth\": 0, \"ticks\": \"\"}}, \"type\": \"histogram\"}], \"histogram2d\": [{\"colorbar\": {\"outlinewidth\": 0, \"ticks\": \"\"}, \"colorscale\": [[0.0, \"#0d0887\"], [0.1111111111111111, \"#46039f\"], [0.2222222222222222, \"#7201a8\"], [0.3333333333333333, \"#9c179e\"], [0.4444444444444444, \"#bd3786\"], [0.5555555555555556, \"#d8576b\"], [0.6666666666666666, \"#ed7953\"], [0.7777777777777778, \"#fb9f3a\"], [0.8888888888888888, \"#fdca26\"], [1.0, \"#f0f921\"]], \"type\": \"histogram2d\"}], \"histogram2dcontour\": [{\"colorbar\": {\"outlinewidth\": 0, \"ticks\": \"\"}, \"colorscale\": [[0.0, \"#0d0887\"], [0.1111111111111111, \"#46039f\"], [0.2222222222222222, \"#7201a8\"], [0.3333333333333333, \"#9c179e\"], [0.4444444444444444, \"#bd3786\"], [0.5555555555555556, \"#d8576b\"], [0.6666666666666666, \"#ed7953\"], [0.7777777777777778, \"#fb9f3a\"], [0.8888888888888888, \"#fdca26\"], [1.0, \"#f0f921\"]], \"type\": \"histogram2dcontour\"}], \"mesh3d\": [{\"colorbar\": {\"outlinewidth\": 0, \"ticks\": \"\"}, \"type\": \"mesh3d\"}], \"parcoords\": [{\"line\": {\"colorbar\": {\"outlinewidth\": 0, \"ticks\": \"\"}}, \"type\": \"parcoords\"}], \"pie\": [{\"automargin\": true, \"type\": \"pie\"}], \"scatter\": [{\"marker\": {\"colorbar\": {\"outlinewidth\": 0, \"ticks\": \"\"}}, \"type\": \"scatter\"}], \"scatter3d\": [{\"line\": {\"colorbar\": {\"outlinewidth\": 0, \"ticks\": \"\"}}, \"marker\": {\"colorbar\": {\"outlinewidth\": 0, \"ticks\": \"\"}}, \"type\": \"scatter3d\"}], \"scattercarpet\": [{\"marker\": {\"colorbar\": {\"outlinewidth\": 0, \"ticks\": \"\"}}, \"type\": \"scattercarpet\"}], \"scattergeo\": [{\"marker\": {\"colorbar\": {\"outlinewidth\": 0, \"ticks\": \"\"}}, \"type\": \"scattergeo\"}], \"scattergl\": [{\"marker\": {\"colorbar\": {\"outlinewidth\": 0, \"ticks\": \"\"}}, \"type\": \"scattergl\"}], \"scattermapbox\": [{\"marker\": {\"colorbar\": {\"outlinewidth\": 0, \"ticks\": \"\"}}, \"type\": \"scattermapbox\"}], \"scatterpolar\": [{\"marker\": {\"colorbar\": {\"outlinewidth\": 0, \"ticks\": \"\"}}, \"type\": \"scatterpolar\"}], \"scatterpolargl\": [{\"marker\": {\"colorbar\": {\"outlinewidth\": 0, \"ticks\": \"\"}}, \"type\": \"scatterpolargl\"}], \"scatterternary\": [{\"marker\": {\"colorbar\": {\"outlinewidth\": 0, \"ticks\": \"\"}}, \"type\": \"scatterternary\"}], \"surface\": [{\"colorbar\": {\"outlinewidth\": 0, \"ticks\": \"\"}, \"colorscale\": [[0.0, \"#0d0887\"], [0.1111111111111111, \"#46039f\"], [0.2222222222222222, \"#7201a8\"], [0.3333333333333333, \"#9c179e\"], [0.4444444444444444, \"#bd3786\"], [0.5555555555555556, \"#d8576b\"], [0.6666666666666666, \"#ed7953\"], [0.7777777777777778, \"#fb9f3a\"], [0.8888888888888888, \"#fdca26\"], [1.0, \"#f0f921\"]], \"type\": \"surface\"}], \"table\": [{\"cells\": {\"fill\": {\"color\": \"#EBF0F8\"}, \"line\": {\"color\": \"white\"}}, \"header\": {\"fill\": {\"color\": \"#C8D4E3\"}, \"line\": {\"color\": \"white\"}}, \"type\": \"table\"}]}, \"layout\": {\"annotationdefaults\": {\"arrowcolor\": \"#2a3f5f\", \"arrowhead\": 0, \"arrowwidth\": 1}, \"coloraxis\": {\"colorbar\": {\"outlinewidth\": 0, \"ticks\": \"\"}}, \"colorscale\": {\"diverging\": [[0, \"#8e0152\"], [0.1, \"#c51b7d\"], [0.2, \"#de77ae\"], [0.3, \"#f1b6da\"], [0.4, \"#fde0ef\"], [0.5, \"#f7f7f7\"], [0.6, \"#e6f5d0\"], [0.7, \"#b8e186\"], [0.8, \"#7fbc41\"], [0.9, \"#4d9221\"], [1, \"#276419\"]], \"sequential\": [[0.0, \"#0d0887\"], [0.1111111111111111, \"#46039f\"], [0.2222222222222222, \"#7201a8\"], [0.3333333333333333, \"#9c179e\"], [0.4444444444444444, \"#bd3786\"], [0.5555555555555556, \"#d8576b\"], [0.6666666666666666, \"#ed7953\"], [0.7777777777777778, \"#fb9f3a\"], [0.8888888888888888, \"#fdca26\"], [1.0, \"#f0f921\"]], \"sequentialminus\": [[0.0, \"#0d0887\"], [0.1111111111111111, \"#46039f\"], [0.2222222222222222, \"#7201a8\"], [0.3333333333333333, \"#9c179e\"], [0.4444444444444444, \"#bd3786\"], [0.5555555555555556, \"#d8576b\"], [0.6666666666666666, \"#ed7953\"], [0.7777777777777778, \"#fb9f3a\"], [0.8888888888888888, \"#fdca26\"], [1.0, \"#f0f921\"]]}, \"colorway\": [\"#636efa\", \"#EF553B\", \"#00cc96\", \"#ab63fa\", \"#FFA15A\", \"#19d3f3\", \"#FF6692\", \"#B6E880\", \"#FF97FF\", \"#FECB52\"], \"font\": {\"color\": \"#2a3f5f\"}, \"geo\": {\"bgcolor\": \"white\", \"lakecolor\": \"white\", \"landcolor\": \"#E5ECF6\", \"showlakes\": true, \"showland\": true, \"subunitcolor\": \"white\"}, \"hoverlabel\": {\"align\": \"left\"}, \"hovermode\": \"closest\", \"mapbox\": {\"style\": \"light\"}, \"paper_bgcolor\": \"white\", \"plot_bgcolor\": \"#E5ECF6\", \"polar\": {\"angularaxis\": {\"gridcolor\": \"white\", \"linecolor\": \"white\", \"ticks\": \"\"}, \"bgcolor\": \"#E5ECF6\", \"radialaxis\": {\"gridcolor\": \"white\", \"linecolor\": \"white\", \"ticks\": \"\"}}, \"scene\": {\"xaxis\": {\"backgroundcolor\": \"#E5ECF6\", \"gridcolor\": \"white\", \"gridwidth\": 2, \"linecolor\": \"white\", \"showbackground\": true, \"ticks\": \"\", \"zerolinecolor\": \"white\"}, \"yaxis\": {\"backgroundcolor\": \"#E5ECF6\", \"gridcolor\": \"white\", \"gridwidth\": 2, \"linecolor\": \"white\", \"showbackground\": true, \"ticks\": \"\", \"zerolinecolor\": \"white\"}, \"zaxis\": {\"backgroundcolor\": \"#E5ECF6\", \"gridcolor\": \"white\", \"gridwidth\": 2, \"linecolor\": \"white\", \"showbackground\": true, \"ticks\": \"\", \"zerolinecolor\": \"white\"}}, \"shapedefaults\": {\"line\": {\"color\": \"#2a3f5f\"}}, \"ternary\": {\"aaxis\": {\"gridcolor\": \"white\", \"linecolor\": \"white\", \"ticks\": \"\"}, \"baxis\": {\"gridcolor\": \"white\", \"linecolor\": \"white\", \"ticks\": \"\"}, \"bgcolor\": \"#E5ECF6\", \"caxis\": {\"gridcolor\": \"white\", \"linecolor\": \"white\", \"ticks\": \"\"}}, \"title\": {\"x\": 0.05}, \"xaxis\": {\"automargin\": true, \"gridcolor\": \"white\", \"linecolor\": \"white\", \"ticks\": \"\", \"title\": {\"standoff\": 15}, \"zerolinecolor\": \"white\", \"zerolinewidth\": 2}, \"yaxis\": {\"automargin\": true, \"gridcolor\": \"white\", \"linecolor\": \"white\", \"ticks\": \"\", \"title\": {\"standoff\": 15}, \"zerolinecolor\": \"white\", \"zerolinewidth\": 2}}}, \"title\": {\"font\": {\"size\": 20}, \"text\": \"Visualizaci\\u00f3n de la base en el espacio tsne\"}, \"width\": 1000, \"xaxis\": {\"title\": {\"text\": \"componente 1\"}}, \"yaxis\": {\"title\": {\"text\": \"componente 2\"}}},\n",
       "                        {\"responsive\": true}\n",
       "                    ).then(function(){\n",
       "                            \n",
       "var gd = document.getElementById('00ba6273-d140-4ee6-b8ce-7e1cb4f086b0');\n",
       "var x = new MutationObserver(function (mutations, observer) {{\n",
       "        var display = window.getComputedStyle(gd).display;\n",
       "        if (!display || display === 'none') {{\n",
       "            console.log([gd, 'removed!']);\n",
       "            Plotly.purge(gd);\n",
       "            observer.disconnect();\n",
       "        }}\n",
       "}});\n",
       "\n",
       "// Listen for the removal of the full notebook cells\n",
       "var notebookContainer = gd.closest('#notebook-container');\n",
       "if (notebookContainer) {{\n",
       "    x.observe(notebookContainer, {childList: true});\n",
       "}}\n",
       "\n",
       "// Listen for the clearing of the current output cell\n",
       "var outputEl = gd.closest('.output');\n",
       "if (outputEl) {{\n",
       "    x.observe(outputEl, {childList: true});\n",
       "}}\n",
       "\n",
       "                        })\n",
       "                };\n",
       "                });\n",
       "            </script>\n",
       "        </div>"
      ]
     },
     "metadata": {},
     "output_type": "display_data"
    }
   ],
   "source": [
    "data=[]\n",
    "bool_crack=df_sne[\"overall\"] > 85 #diferenciamos a los mejores jugadores\n",
    "\n",
    "#graficamos los datos en el espacio transformado: las dos componentes tsne\n",
    "\n",
    "graf1 = go.Scatter(x=X_tsne[:,0], y=X_tsne[:,1],\n",
    "                           mode='markers',\n",
    "                        text=df_sne.loc[:,'player_positions'], #'Height', 'Weight', 'Club', 'Age', 'Name','Position'\n",
    "                           marker=dict(\n",
    "                                size=5)\n",
    "                           )\n",
    "\n",
    "crack =go.Scatter(x=X_tsne[bool_crack,0], y=X_tsne[bool_crack,1],name='Los más mejores',\n",
    "                      text=df_sne.loc[bool_crack,'short_name'],\n",
    "                      textfont=dict(family='sans serif',size=10,color='black'),\n",
    "                      opacity=0.9,mode='text')\n",
    "\n",
    "data=[graf1,crack]\n",
    "\n",
    "layout = go.Layout(title=\"Visualización de la base en el espacio tsne\",titlefont=dict(size=20),\n",
    "                xaxis=dict(title='componente 1'),\n",
    "                yaxis=dict(title='componente 2'),\n",
    "                autosize=False, width=1000,height=1000)\n",
    "\n",
    "fig = go.Figure(data=data, layout=layout)\n",
    "\n",
    "iplot(fig)\n",
    "#plot(fig)"
   ]
  },
  {
   "cell_type": "code",
   "execution_count": 219,
   "metadata": {},
   "outputs": [],
   "source": [
    "def sanitize_player_positions(df):\n",
    "        df[\"player_positions\"]=df.player_positions.apply(lambda x: x.split(\",\"))\n",
    "sanitize_player_positions(df_sne)"
   ]
  },
  {
   "cell_type": "code",
   "execution_count": 225,
   "metadata": {},
   "outputs": [],
   "source": [
    "goalkeepers=['GK']\n",
    "forwards = [\"ST\",\"LF\",\"CF\",\"RF\",\"LW\",\"RW\"]\n",
    "midfielders=[\"LM\",\"CAM\",\"CM\",\"RM\"]\n",
    "defenders=[\"LWB\",\"LB\",\"CB\",\"CDM\",\"RB\",\"RWB\"]\n",
    "\n",
    "inverse_position_map = {\n",
    "    \"goalkeepers\":0,\n",
    "    \"forwards\":1,\n",
    "    \"midfielders\":2,\n",
    "    \"defenders\":3\n",
    "}\n",
    "position_map = {0:\"Goalkeeper\",\n",
    "                1:\"Forward\",\n",
    "                2:\"Midfielder\",\n",
    "                3:\"Defender\"}\n",
    "\n",
    "def pos2(position_list):\n",
    "    res = [0,0,0,0]\n",
    "    for x in position_list:\n",
    "        #print(x)\n",
    "        if x in goalkeepers:\n",
    "            res[inverse_position_map[\"goalkeepers\"]]+=1\n",
    "        elif x in forwards:\n",
    "            res[inverse_position_map[\"forwards\"]]+=1\n",
    "        elif x in midfielders:\n",
    "            res[inverse_position_map[\"midfielders\"]]+=1\n",
    "        elif x in defenders:\n",
    "            res[inverse_position_map[\"defenders\"]]+=1\n",
    "    try:\n",
    "        position = position_map[res.index(max(res))]\n",
    "        return position\n",
    "    except:\n",
    "        return 'nan'"
   ]
  },
  {
   "cell_type": "code",
   "execution_count": 221,
   "metadata": {},
   "outputs": [
    {
     "data": {
      "text/plain": [
       "Defender      763\n",
       "Midfielder    613\n",
       "Forward       419\n",
       "Goalkeeper    206\n",
       "Name: Position2, dtype: int64"
      ]
     },
     "execution_count": 221,
     "metadata": {},
     "output_type": "execute_result"
    }
   ],
   "source": [
    "df_sne[\"Position2\"]=df_sne[\"player_positions\"].apply(lambda x: pos2(x))\n",
    "\n",
    "df_sne[\"Position2\"].value_counts()"
   ]
  },
  {
   "cell_type": "code",
   "execution_count": 226,
   "metadata": {},
   "outputs": [
    {
     "data": {
      "application/vnd.plotly.v1+json": {
       "config": {
        "linkText": "Export to plot.ly",
        "plotlyServerURL": "https://plot.ly",
        "showLink": false
       },
       "data": [
        {
         "marker": {
          "color": "#A2D5F2",
          "size": 5
         },
         "mode": "markers",
         "name": "Striker",
         "opacity": 0.9,
         "text": [
          "L. Messi",
          "Cristiano Ronaldo",
          "Neymar Jr",
          "E. Hazard",
          "M. Salah",
          "K. Mbappé",
          "H. Kane",
          "S. Agüero",
          "L. Suárez",
          "R. Lewandowski",
          "A. Griezmann",
          "R. Sterling",
          "E. Cavani",
          "P. Aubameyang",
          "S. Mané",
          "Bernardo Silva",
          "H. Son",
          "K. Benzema",
          "D. Mertens",
          "L. Insigne",
          "L. Sané",
          "Roberto Firmino",
          "A. Di María",
          "Coutinho",
          "C. Immobile",
          "A. Lacazette",
          "R. Lukaku",
          "M. Icardi",
          "Z. Ibrahimović",
          "G. Higuaín",
          "G. Bale",
          "Iago Aspas",
          "O. Dembélé",
          "M. Depay",
          "E. Džeko",
          "M. Mandžukić",
          "J. Iličić",
          "R. Mahrez",
          "L. Jović",
          "A. Milik",
          "A. Martial",
          "M. Rashford",
          "T. Werner",
          "Marco Asensio",
          "Borja Iglesias",
          "W. Zaha",
          "Paco Alcácer",
          "Morata",
          "S. Haller",
          "Lucas Moura",
          "F. Thauvin",
          "F. Quagliarella",
          "Falcao",
          "C. Vela",
          "Diego Costa",
          "M. Kruse",
          "Rodrigo",
          "W. Ben Yedder",
          "A. Kramarić",
          "Louri Beretta",
          "Ronaldo Cabrais",
          "Oyarzabal",
          "L. Bailey",
          "Gabriel Jesus",
          "A. Belotti",
          "S. Bergwijn",
          "Iñaki Williams",
          "H. Lozano",
          "Suso",
          "M. Götze",
          "Willian José",
          "K. Volland",
          "Aduriz",
          "O. Giroud",
          "Willian",
          "M. Arnautović",
          "A. Sánchez",
          "M. Balotelli",
          "B. Dost",
          "Pedro",
          "L. de Jong",
          "S. El Shaarawy",
          "X. Shaqiri",
          "C. Bakambu",
          "K. Bellarabi",
          "Q. Promes",
          "J. Vardy",
          "D. Zapata",
          "Morales",
          "L. Martínez",
          "David Neres",
          "J. Martínez",
          "A. Plea",
          "Y. Poulsen",
          "Gerard Moreno",
          "W. Weghorst",
          "L. López",
          "B. Gomis",
          "K. Gameiro",
          "S. Giovinco",
          "E. Zahavi",
          "Lucas Vázquez",
          "M. Acuña",
          "L. Dálves",
          "S. Mandíquez",
          "João Félix",
          "K. Piątek",
          "Diogo Jota",
          "M. Dembélé",
          "Santi Mina",
          "J. Correa",
          "M. Gómez",
          "Loren",
          "Deulofeu",
          "A. Rebić",
          "M. Almirón",
          "C. Wilson",
          "Portu",
          "H. Çalhanoğlu",
          "M. Dabbur",
          "W. Rooney",
          "Nani",
          "A. Gignac",
          "Jorge Molina",
          "Charles",
          "I. Piatti",
          "D. Perotti",
          "L. Pratto",
          "L. Stindl",
          "F. Smolov",
          "Sergi Enrich",
          "L. Muriel",
          "S. Berghuis",
          "S. Zaza",
          "R. Jiménez",
          "Mata",
          "M. Marega",
          "Vinícius Jr.",
          "F. Chiesa",
          "A. Saint-Maximin",
          "C. Pavón",
          "C. Pulisic",
          "De Tomás",
          "M. Rashica",
          "Wesley",
          "A. Januzaj",
          "Munir",
          "André Silva",
          "Raphinha",
          "L. Trossard",
          "M. Batshuayi",
          "Ricardo Horta",
          "L. Alario",
          "Mariano",
          "M. Samatta",
          "K. Toko-Ekambi",
          "J. King",
          "H. Seferović",
          "Leo Baptistao",
          "Wu Lei",
          "David Villa",
          "B. Yılmaz",
          "E. Lavezzi",
          "K. Boateng",
          "Ángel",
          "Éder",
          "A. Modeste",
          "M. Gradel",
          "N. Kalinić",
          "C. Stuani",
          "Alex Teixeira",
          "S. Rondón",
          "Iago Falqué",
          "Elkeson",
          "Kike García",
          "I. Belfodil",
          "W. Khazri",
          "Zé Luís",
          "C. Bacca",
          "A. Hamdallah",
          "D. Benedetto",
          "Dyego Sousa",
          "Soares",
          "Luimo Boas Santos",
          "E. Aguerro",
          "C. Ünder",
          "M. Ødegaard",
          "J. Mateta",
          "Joelinton",
          "G. Laborde",
          "R. De Paul",
          "D. Selke",
          "D. Origi",
          "B. Traoré",
          "A. Mitrović",
          "D. Berardi",
          "Ayoze Pérez",
          "Bruma",
          "A. Delort",
          "V. Aboubakar",
          "M. Uth",
          "M. Diagne",
          "Raffael",
          "M. Zárate",
          "G. Hoarau",
          "Gervinho",
          "F. Caicedo",
          "D. Mbokani",
          "J. Hernández",
          "S. Jovetić",
          "T. Deeney",
          "N. Petersen",
          "S. Wagner",
          "D. Welbeck",
          "A. Barnes",
          "A. Dzyuba",
          "Alan Carvalho",
          "A. Mehmedi",
          "D. Ginczek",
          "A. Finnbogason",
          "G. Defrel",
          "S. García",
          "Djaniny",
          "L. Pavoletti",
          "G. Cano",
          "O. Al Soma",
          "Júnior Moraes",
          "P. Cutrone",
          "M. Vargas",
          "G. Simeone",
          "A. Sanabria",
          "R. Borré",
          "E. Ünal",
          "E. Boateng",
          "Galeno",
          "P. Sisto",
          "D. Calvert-Lewin",
          "Borja Mayoral",
          "Córdoba",
          "F. Acheampong",
          "A. Petagna",
          "M. Niang",
          "B. Fernández",
          "I. Bebou",
          "Paulinho",
          "Trezeguet",
          "C. Wood",
          "Juanmi",
          "N. Füllkrug",
          "Rubén Sobrino",
          "M. Meza",
          "K. Lasagna",
          "Jô",
          "K. Huntelaar",
          "D. Cvitanich",
          "V. Ibišević",
          "G. Pellè",
          "B. Wright-Phillips",
          "I. Scocco",
          "G. Murray",
          "M. Berg",
          "L. Rémy",
          "G. Sio",
          "M. Dossevi",
          "Alan Kardec",
          "O. Ighalo",
          "M. Suárez",
          "G. Bou",
          "T. Pukki",
          "Johnathan",
          "L. Rodríguez",
          "C. Tosun",
          "G. Burgstaller",
          "Y. El Arabi",
          "R. Funes Mori",
          "Sergio León",
          "Lucas Pérez",
          "Wilson Eduardo",
          "Roger",
          "F. Ferreyra",
          "R. Ábila",
          "Sergi Guardiola",
          "Formosandrinho",
          "M. Kean",
          "Rodrygo",
          "B. Embolo",
          "T. Abraham",
          "D. Malen",
          "F. Chalov",
          "I. Pussetto",
          "K. Dolberg",
          "J. Brekalo",
          "M. Terrier",
          "J. Augustin",
          "P. Schick",
          "Y. En-Nesyri",
          "M. Cornet",
          "Gonçalo Paciência",
          "L. Waldschmidt",
          "M. Livaja",
          "F. Kamano",
          "J. Locadia",
          "J. Córdoba",
          "F. Di Francesco",
          "F. Andone",
          "D. Ings",
          "M. Gabbiadini",
          "J. Guidetti",
          "F. Klaus",
          "J. Campbell",
          "Luiz Phellype",
          "J. Defoe",
          "J. Briand",
          "Soldado",
          "M. Gómez",
          "J. Sand",
          "R. Palacio",
          "J. Rodriguez",
          "Adrián",
          "J. Altidore",
          "O. Toivonen",
          "E. Choupo-Moting",
          "S. Terodde",
          "A. Szalai",
          "F. Borini",
          "L. Acosta",
          "D. Quintero",
          "Y. Ōsako",
          "A. Schürrle",
          "A. Gray",
          "D. Pabón",
          "J. Martínez",
          "T. Gutiérrez",
          "João Pedro",
          "R. Inglese",
          "N. Jørgensen",
          "E. Gigliotti",
          "A. Knockaert",
          "R. Ruidíaz",
          "D. Gayle",
          "R. Steffen",
          "J. Izquierdo",
          "E. Valencia",
          "A. Mena",
          "Dênildo Stein",
          "Y. Kobayashi",
          "A. Vera",
          "C. Stengs",
          "J. Kluivert",
          "Manu Vallejo",
          "Rafael Leão",
          "H. Wilson",
          "H. Barnes",
          "K. Diatta",
          "Carlos Fernández",
          "A. Morelos",
          "Bruno Tabata",
          "G. Tutino",
          "L. Dimata",
          "C. Kouamé",
          "E. Dennis",
          "Jovane Cabral",
          "R. Skov",
          "D. Lukébakio",
          "J. Hernández",
          "S. Schrijvers",
          "N. Maupay",
          "W. Saïd",
          "Sandro",
          "E. Ponce",
          "D. Gray",
          "R. Assalé",
          "E. Ávila",
          "O. Idrissi",
          "S. Ghoddos",
          "L. Ajorque",
          "V. Muriqi",
          "M. Pjaca",
          "A. Mitriță",
          "O. Kharbin",
          "Borja Bastón",
          "M. Krmenčík",
          "R. Quaison",
          "M. Konaté",
          "Ivan Cavaleiro",
          "N. Castillo",
          "J. Rodríguez",
          "P. Tau",
          "V. Janssen",
          "J. Drmić",
          "N. Sansone",
          "Jesé",
          "S. Larsson",
          "Fran Sol",
          "A. Jahanbakhsh",
          "Y. Mutō",
          "Borja Valle",
          "K. Onisiwo",
          "J. Ito",
          "C. Pizarro",
          "Jonatan Soriano",
          "H. Rodallega",
          "M. Harnik",
          "P. Cissé",
          "S. Okaka",
          "O. Kamara",
          "O. Cardozo",
          "D. N'Doye",
          "A. Carroll",
          "K. Mitroglou",
          "C. Benteke",
          "R. van Wolfswinkel",
          "A. Paloschi",
          "F. Caputo",
          "Jonathas",
          "A. Prijović",
          "Éder",
          "Quique",
          "W. Bony"
         ],
         "type": "scatter",
         "x": [
          21.346641540527344,
          21.965612411499023,
          22.414840698242188,
          22.501680374145508,
          21.862079620361328,
          22.977800369262695,
          34.1467399597168,
          39.16899108886719,
          34.374122619628906,
          40.30632400512695,
          11.97880744934082,
          26.71110725402832,
          34.8159294128418,
          22.380205154418945,
          23.14824676513672,
          18.406803131103516,
          21.583337783813477,
          32.058128356933594,
          21.655975341796875,
          26.946630477905273,
          23.68012237548828,
          12.817913055419922,
          19.6286678314209,
          17.224308013916016,
          40.45867156982422,
          40.041595458984375,
          49.35601806640625,
          51.06580352783203,
          52.759544372558594,
          46.90489196777344,
          13.927803993225098,
          38.46488571166992,
          24.288320541381836,
          38.18183135986328,
          54.081722259521484,
          18.61408042907715,
          30.424457550048828,
          20.272869110107422,
          38.58332824707031,
          49.16714096069336,
          23.194997787475586,
          22.534103393554688,
          24.470233917236328,
          31.254039764404297,
          56.673526763916016,
          34.66857147216797,
          34.42084503173828,
          47.006797790527344,
          50.07256317138672,
          26.556116104125977,
          20.001056671142578,
          40.68906021118164,
          48.24811935424805,
          36.026878356933594,
          39.49641418457031,
          31.41570472717285,
          25.024032592773438,
          21.33568000793457,
          39.7508659362793,
          55.39990997314453,
          24.349340438842773,
          38.67486572265625,
          27.464168548583984,
          22.64936637878418,
          38.98074722290039,
          30.831737518310547,
          26.768274307250977,
          23.870086669921875,
          47.22864532470703,
          10.402763366699219,
          49.57654571533203,
          34.60451889038086,
          56.36903381347656,
          59.57035446166992,
          18.277883529663086,
          36.704673767089844,
          33.26009750366211,
          49.001583099365234,
          59.98551940917969,
          23.723251342773438,
          54.22420120239258,
          19.389198303222656,
          30.97661590576172,
          26.023059844970703,
          31.611438751220703,
          25.023086547851562,
          37.700408935546875,
          55.469486236572266,
          13.656941413879395,
          37.7902717590332,
          24.990163803100586,
          35.6700325012207,
          36.368038177490234,
          11.46731185913086,
          40.52113342285156,
          56.85566329956055,
          42.21268081665039,
          54.228641510009766,
          36.743648529052734,
          37.12158966064453,
          36.31371307373047,
          10.274031639099121,
          -3.0735960006713867,
          55.398441314697266,
          52.877262115478516,
          37.536895751953125,
          50.59357452392578,
          11.672616958618164,
          41.55356216430664,
          15.223706245422363,
          31.947265625,
          54.39982604980469,
          39.32439422607422,
          28.044036865234375,
          39.43105697631836,
          23.705663681030273,
          42.55305099487305,
          11.227226257324219,
          14.174429893493652,
          43.0760383605957,
          17.01959991455078,
          42.011783599853516,
          47.63916015625,
          60.88994216918945,
          47.85542678833008,
          13.059553146362305,
          37.24403381347656,
          18.41546058654785,
          16.774423599243164,
          37.51871871948242,
          56.642295837402344,
          40.97170639038086,
          33.697059631347656,
          38.19979476928711,
          36.55280303955078,
          55.393524169921875,
          39.78419494628906,
          33.325199127197266,
          20.922077178955078,
          36.589454650878906,
          15.667962074279785,
          33.880126953125,
          51.418819427490234,
          21.308473587036133,
          46.59028244018555,
          44.37669372558594,
          34.97945022583008,
          33.66154861450195,
          22.918663024902344,
          41.32746124267578,
          48.1799201965332,
          31.735015869140625,
          55.60858917236328,
          36.61686706542969,
          41.69498825073242,
          46.7395133972168,
          42.24876022338867,
          43.684356689453125,
          46.3922233581543,
          36.163997650146484,
          51.825008392333984,
          51.89655685424805,
          35.49082565307617,
          13.763937950134277,
          51.99260330200195,
          39.714447021484375,
          53.416900634765625,
          30.333715438842773,
          46.53551483154297,
          51.062259674072266,
          16.95535659790039,
          47.70370101928711,
          36.82240676879883,
          32.16835021972656,
          57.04153823852539,
          49.242984771728516,
          33.36186218261719,
          49.50490188598633,
          43.021820068359375,
          41.91615676879883,
          40.62812423706055,
          59.04063415527344,
          38.03993606567383,
          41.86320495605469,
          41.88140106201172,
          46.606014251708984,
          27.83718490600586,
          54.07061004638672,
          51.079227447509766,
          48.54477310180664,
          42.3685188293457,
          39.64426803588867,
          53.10014724731445,
          24.767013549804688,
          57.15682601928711,
          41.36188507080078,
          14.157238006591797,
          29.394956588745117,
          55.915122985839844,
          42.48359680175781,
          51.95286178588867,
          61.78968048095703,
          44.81755828857422,
          37.94108200073242,
          58.604331970214844,
          29.204200744628906,
          50.03791427612305,
          46.36700439453125,
          48.9605712890625,
          41.44837188720703,
          52.44080352783203,
          54.4315299987793,
          58.26463317871094,
          42.30322265625,
          51.906795501708984,
          53.991371154785156,
          20.610149383544922,
          45.02063751220703,
          57.75455856323242,
          54.04224395751953,
          36.17451095581055,
          52.78691864013672,
          30.05005645751953,
          55.97843933105469,
          40.67535400390625,
          47.48550033569336,
          52.69438552856445,
          47.74238586425781,
          26.05156135559082,
          39.484886169433594,
          47.475955963134766,
          34.63212203979492,
          50.56315231323242,
          26.86041259765625,
          37.27467727661133,
          25.81444549560547,
          43.908931732177734,
          50.06300735473633,
          4.639003276824951,
          24.547452926635742,
          54.93648147583008,
          39.1938591003418,
          35.51861572265625,
          38.459415435791016,
          43.41646194458008,
          49.24620819091797,
          50.52153015136719,
          49.1225700378418,
          55.00939178466797,
          38.769798278808594,
          22.011432647705078,
          38.990962982177734,
          54.14405822753906,
          58.805450439453125,
          57.23244094848633,
          61.063636779785156,
          60.066978454589844,
          45.30152893066406,
          45.41633224487305,
          60.49771499633789,
          48.77674102783203,
          42.46168899536133,
          41.64585494995117,
          32.29545974731445,
          52.731109619140625,
          44.721763610839844,
          47.794185638427734,
          52.976680755615234,
          52.18459701538086,
          27.265623092651367,
          47.706783294677734,
          50.802696228027344,
          48.43798828125,
          39.579986572265625,
          34.289520263671875,
          38.52312469482422,
          47.19692611694336,
          43.507843017578125,
          52.19068908691406,
          56.8597297668457,
          55.65505599975586,
          48.97787094116211,
          48.05815124511719,
          47.35881423950195,
          35.11532211303711,
          50.133670806884766,
          49.790592193603516,
          33.70635223388672,
          52.691017150878906,
          50.72798538208008,
          47.56196975708008,
          35.72361755371094,
          37.49409866333008,
          49.43705368041992,
          34.83678436279297,
          50.304656982421875,
          27.651853561401367,
          52.481605529785156,
          46.0404167175293,
          45.68988037109375,
          36.56543731689453,
          49.461490631103516,
          44.19389343261719,
          32.18475341796875,
          39.14095687866211,
          52.53645324707031,
          46.96443176269531,
          55.45167541503906,
          27.107410430908203,
          31.62062644958496,
          54.347442626953125,
          48.77632522583008,
          46.35221481323242,
          57.48676681518555,
          58.39188766479492,
          60.10306930541992,
          42.5436897277832,
          24.424232482910156,
          46.527339935302734,
          51.75983810424805,
          58.12429428100586,
          32.64366149902344,
          57.968650817871094,
          59.423828125,
          37.271949768066406,
          14.588367462158203,
          32.491355895996094,
          38.6070442199707,
          42.2904167175293,
          43.75886917114258,
          29.162006378173828,
          51.302406311035156,
          58.12323760986328,
          48.025150299072266,
          61.74558639526367,
          47.87677764892578,
          54.030845642089844,
          30.574813842773438,
          41.32933807373047,
          53.15031051635742,
          24.161401748657227,
          37.311546325683594,
          29.344547271728516,
          52.5847053527832,
          54.70826721191406,
          53.150081634521484,
          54.695945739746094,
          37.718116760253906,
          31.729679107666016,
          46.10166931152344,
          36.26830291748047,
          47.12372970581055,
          26.79620933532715,
          14.644222259521484,
          56.84162521362305,
          45.10655975341797,
          29.585805892944336,
          45.5775146484375,
          55.3006591796875,
          29.110151290893555,
          31.003271102905273,
          32.54082107543945,
          34.79739761352539,
          47.91053009033203,
          43.883628845214844,
          32.22924041748047,
          50.783599853515625,
          48.450828552246094,
          45.62505340576172,
          30.19584083557129,
          35.367618560791016,
          37.09418869018555,
          43.2375602722168,
          36.07544708251953,
          26.351032257080078,
          59.93753433227539,
          61.298255920410156,
          33.37069320678711,
          34.21989822387695,
          38.8471565246582,
          55.40639877319336,
          53.30978012084961,
          24.369169235229492,
          51.79155349731445,
          32.518592834472656,
          50.97681427001953,
          43.9174919128418,
          44.95595169067383,
          57.66997528076172,
          48.058807373046875,
          35.72869873046875,
          42.526519775390625,
          27.915613174438477,
          50.28036880493164,
          26.639902114868164,
          29.65613555908203,
          23.14215850830078,
          4.206733226776123,
          -23.196144104003906,
          61.65704345703125,
          43.62409591674805,
          31.500165939331055,
          41.819698333740234,
          27.593412399291992,
          59.09571838378906,
          47.22850036621094,
          62.03473663330078,
          46.788883209228516,
          59.83266830444336,
          60.7510986328125,
          61.425228118896484,
          42.062931060791016,
          52.17056655883789,
          50.15886306762695,
          57.74065017700195,
          58.56341552734375,
          44.39729309082031,
          26.305999755859375,
          60.44951248168945
         ],
         "y": [
          31.956605911254883,
          33.0709342956543,
          32.06820297241211,
          31.84593391418457,
          28.93214225769043,
          28.463939666748047,
          -5.944809436798096,
          17.71869659423828,
          -5.985795497894287,
          15.920406341552734,
          7.868458271026611,
          33.79769515991211,
          -6.002038955688477,
          30.380929946899414,
          27.299983978271484,
          23.710391998291016,
          27.41352653503418,
          -3.1907906532287598,
          31.309032440185547,
          33.76654052734375,
          28.635854721069336,
          6.556972503662109,
          23.881420135498047,
          23.332897186279297,
          15.891777038574219,
          16.137710571289062,
          1.9985095262527466,
          16.138019561767578,
          2.613438129425049,
          14.12360954284668,
          9.742846488952637,
          16.499582290649414,
          28.815603256225586,
          19.4871883392334,
          -3.0989632606506348,
          -11.748188018798828,
          -3.178830146789551,
          25.562843322753906,
          20.688209533691406,
          1.036813497543335,
          29.980140686035156,
          26.687665939331055,
          26.161863327026367,
          35.13874435424805,
          7.407639503479004,
          23.582916259765625,
          18.716550827026367,
          18.45884132385254,
          0.38045549392700195,
          25.437646865844727,
          27.067729949951172,
          12.416604995727539,
          -0.14194375276565552,
          19.86592674255371,
          -4.456813335418701,
          -3.685952663421631,
          28.299846649169922,
          30.66301727294922,
          17.87256622314453,
          13.60421371459961,
          30.340862274169922,
          7.8928985595703125,
          29.522079467773438,
          26.356882095336914,
          -2.1650161743164062,
          33.8045539855957,
          28.736528396606445,
          24.458003997802734,
          31.348567962646484,
          2.6052730083465576,
          0.9221765398979187,
          5.126955509185791,
          2.1448028087615967,
          -0.5586044192314148,
          26.045930862426758,
          -2.9986305236816406,
          7.126663684844971,
          10.735586166381836,
          -1.4659628868103027,
          3.3539879322052,
          -2.7318828105926514,
          20.093202590942383,
          8.411751747131348,
          26.367517471313477,
          23.95393180847168,
          25.920639038085938,
          -4.169253826141357,
          6.32445764541626,
          9.740100860595703,
          -1.2202626466751099,
          25.11368179321289,
          23.120756149291992,
          19.684457778930664,
          12.17687702178955,
          7.454316139221191,
          7.100658416748047,
          6.815311908721924,
          18.080347061157227,
          1.9714475870132446,
          17.946685791015625,
          19.363176345825195,
          11.614428520202637,
          0.1827549785375595,
          13.61037540435791,
          11.464645385742188,
          19.805185317993164,
          19.616634368896484,
          12.11979866027832,
          18.765670776367188,
          5.747428894042969,
          34.253929138183594,
          2.2737479209899902,
          6.070205211639404,
          32.61722946166992,
          19.669694900512695,
          23.211151123046875,
          17.502395629882812,
          12.216672897338867,
          -3.7961385250091553,
          24.30528450012207,
          -11.504055976867676,
          -1.8251922130584717,
          -1.4896348714828491,
          0.6588943600654602,
          13.214574813842773,
          7.257073402404785,
          10.042335510253906,
          -11.6780366897583,
          -11.455147743225098,
          21.327726364135742,
          5.102642059326172,
          24.815488815307617,
          9.42014217376709,
          -2.8500218391418457,
          -4.2958221435546875,
          8.427064895629883,
          -3.142486810684204,
          31.770275115966797,
          18.2921085357666,
          32.16233444213867,
          20.676206588745117,
          33.03681182861328,
          15.554669380187988,
          19.748544692993164,
          5.822889804840088,
          29.458223342895508,
          26.576547622680664,
          5.548464775085449,
          22.903366088867188,
          25.73834800720215,
          16.374340057373047,
          7.306532382965088,
          9.227049827575684,
          -1.8829108476638794,
          20.619871139526367,
          24.550554275512695,
          17.757585525512695,
          0.3489169478416443,
          27.344894409179688,
          26.87714195251465,
          2.9112837314605713,
          8.45910358428955,
          17.6066951751709,
          -9.656793594360352,
          14.897720336914062,
          22.643007278442383,
          7.274297714233398,
          21.094566345214844,
          1.1983932256698608,
          -0.0816950723528862,
          26.81711196899414,
          4.537497043609619,
          11.0048828125,
          6.3141984939575195,
          6.208587169647217,
          5.899441719055176,
          6.097446441650391,
          7.333618640899658,
          8.103584289550781,
          23.07670783996582,
          5.573936462402344,
          5.572730541229248,
          -2.876258611679077,
          24.797117233276367,
          24.802108764648438,
          31.232595443725586,
          11.930719375610352,
          11.454187393188477,
          10.227027893066406,
          5.770226955413818,
          27.22447967529297,
          -1.9848664999008179,
          11.490849494934082,
          24.37734031677246,
          8.508780479431152,
          3.500296115875244,
          6.974464416503906,
          24.52216148376465,
          9.291769981384277,
          1.9151108264923096,
          18.22018051147461,
          8.779206275939941,
          -2.9162747859954834,
          2.5984179973602295,
          -0.4987828731536865,
          26.372325897216797,
          4.050815105438232,
          2.1938745975494385,
          14.867060661315918,
          11.868361473083496,
          0.6082687377929688,
          -2.1524605751037598,
          5.662379741668701,
          4.234880447387695,
          0.3194934129714966,
          4.744632244110107,
          26.08061981201172,
          1.552764654159546,
          9.769598960876465,
          8.82313060760498,
          7.796308994293213,
          5.364623069763184,
          20.660358428955078,
          5.844391345977783,
          8.85171127319336,
          2.9279723167419434,
          20.81867790222168,
          16.75507926940918,
          22.798505783081055,
          4.82065486907959,
          29.597076416015625,
          0.14799989759922028,
          6.582036972045898,
          22.60444450378418,
          29.82975959777832,
          10.492443084716797,
          16.09300422668457,
          18.67294692993164,
          7.083510875701904,
          22.8187255859375,
          -0.6070289611816406,
          29.824710845947266,
          30.212257385253906,
          31.398155212402344,
          0.6734975576400757,
          26.43936538696289,
          1.5647822618484497,
          16.504968643188477,
          0.9063149094581604,
          4.801377773284912,
          16.746612548828125,
          31.01049041748047,
          17.842226028442383,
          2.4234721660614014,
          0.9047163724899292,
          -0.4851841628551483,
          4.415968418121338,
          1.2643108367919922,
          -0.8242104649543762,
          -0.16156615316867828,
          15.6448335647583,
          7.28398323059082,
          19.377521514892578,
          15.592571258544922,
          19.17880630493164,
          18.580108642578125,
          14.91651439666748,
          20.098848342895508,
          19.303682327270508,
          18.27613067626953,
          12.194402694702148,
          5.861784934997559,
          4.014421463012695,
          10.314618110656738,
          5.319217681884766,
          3.050410509109497,
          8.285574913024902,
          22.264873504638672,
          14.807707786560059,
          11.3936185836792,
          8.165546417236328,
          6.615732192993164,
          23.530263900756836,
          25.203083038330078,
          30.359399795532227,
          9.184560775756836,
          22.91824722290039,
          24.611648559570312,
          22.02639389038086,
          24.509395599365234,
          25.983617782592773,
          34.5212287902832,
          26.6928768157959,
          24.69713020324707,
          15.275796890258789,
          8.132153511047363,
          21.585552215576172,
          4.925965309143066,
          25.413951873779297,
          5.79926061630249,
          27.29854393005371,
          8.049247741699219,
          3.990851879119873,
          15.950052261352539,
          -0.2438732087612152,
          17.860504150390625,
          12.790656089782715,
          0.9389479160308838,
          18.007144927978516,
          21.880958557128906,
          4.3782572746276855,
          13.688958168029785,
          1.372859001159668,
          0.5104870796203613,
          2.9780867099761963,
          -0.935750424861908,
          -1.3758783340454102,
          6.882854461669922,
          11.856902122497559,
          5.253442764282227,
          -0.7647464871406555,
          12.395299911499023,
          5.953742980957031,
          -0.019553860649466515,
          3.8393805027008057,
          14.465895652770996,
          26.55865478515625,
          4.03854513168335,
          2.1357057094573975,
          17.636816024780273,
          21.82853126525879,
          4.614596843719482,
          2.2306642532348633,
          7.240140914916992,
          8.314517974853516,
          5.1723246574401855,
          -1.794492244720459,
          1.557383418083191,
          21.347393035888672,
          23.962583541870117,
          19.23600959777832,
          35.71015548706055,
          22.47301483154297,
          28.34303092956543,
          15.847174644470215,
          23.97776985168457,
          15.806772232055664,
          24.151992797851562,
          29.167829513549805,
          26.082054138183594,
          27.88268280029297,
          30.756338119506836,
          13.2120943069458,
          19.79888343811035,
          11.163261413574219,
          5.698424816131592,
          9.396777153015137,
          25.08710289001465,
          10.428803443908691,
          16.95560646057129,
          29.245771408081055,
          28.60923194885254,
          -0.9063074588775635,
          27.53056526184082,
          15.547351837158203,
          1.3201682567596436,
          7.632111072540283,
          24.32847023010254,
          11.337937355041504,
          15.187602996826172,
          34.12587356567383,
          32.016056060791016,
          4.285802841186523,
          25.396686553955078,
          17.703052520751953,
          8.065536499023438,
          8.387298583984375,
          14.731837272644043,
          29.03771209716797,
          5.1789984703063965,
          -0.5210729837417603,
          10.716099739074707,
          11.28482437133789,
          24.318323135375977,
          21.85749626159668,
          1.450923204421997,
          17.684072494506836,
          30.045534133911133,
          3.7730984687805176,
          7.421897888183594,
          8.614639282226562,
          30.401338577270508,
          10.060364723205566,
          17.88909149169922,
          17.37005043029785,
          14.193510055541992,
          6.035752773284912,
          12.084524154663086,
          8.094472885131836,
          0.13166175782680511,
          9.993898391723633,
          12.363465309143066,
          0.683193564414978,
          3.731562852859497,
          6.986203193664551,
          4.686859607696533,
          0.9609092473983765,
          4.184396266937256,
          0.7358301877975464,
          4.735245704650879,
          7.057614326477051,
          9.016928672790527,
          6.540984153747559,
          26.192481994628906,
          9.485309600830078,
          7.666772842407227,
          3.922197103500366,
          8.758073806762695,
          1.3308523893356323
         ]
        },
        {
         "marker": {
          "color": "red",
          "size": 5
         },
         "mode": "markers",
         "name": "Midfielder",
         "opacity": 0.6,
         "text": [
          "K. De Bruyne",
          "L. Modrić",
          "P. Dybala",
          "P. Pogba",
          "C. Eriksen",
          "David Silva",
          "T. Kroos",
          "M. Reus",
          "Thiago",
          "M. Verratti",
          "Isco",
          "I. Rakitić",
          "M. Pjanić",
          "Parejo",
          "T. Müller",
          "F. de Jong",
          "S. Milinković-Savić",
          "Saúl",
          "Bruno Fernandes",
          "H. Ziyech",
          "A. Gómez",
          "Koke",
          "J. Rodríguez",
          "Allan",
          "J. Sancho",
          "K. Havertz",
          "D. Alli",
          "Arthur",
          "L. Goretzka",
          "J. Brandt",
          "K. Coman",
          "S. Gnabry",
          "N. Fekir",
          "Luis Alberto",
          "Felipe Anderson",
          "João Moutinho",
          "M. Hamšík",
          "M. Özil",
          "G. Wijnaldum",
          "I. Perišić",
          "A. Vidal",
          "José Callejón",
          "I. Gündoğan",
          "Paulinho",
          "Canales",
          "Douglas Costa",
          "Pizzi",
          "D. Tadić",
          "E. Višća",
          "Fabián",
          "G. Lo Celso",
          "Anderson Talisca",
          "C. Tolisso",
          "Gonçalo Guedes",
          "N. Pépé",
          "A. Rabiot",
          "T. Lemar",
          "J. Draxler",
          "Y. Carrasco",
          "F. Bernardeschi",
          "Oscar",
          "Pablo Sarabia",
          "Jorginho",
          "R. Nainggolan",
          "S. Khedira",
          "G. Sigurðsson",
          "A. Ramsey",
          "J. Cuadrado",
          "K. Kampl",
          "C. Aránguiz",
          "M. Kovačić",
          "N. Keïta",
          "Rúben Neves",
          "A. Correa",
          "Gelson Martins",
          "T. Partey",
          "K. Demirbay",
          "Muniain",
          "T. Hazard",
          "E. Forsberg",
          "F. Kostić",
          "M. Politano",
          "Rafa",
          "Jesús Navas",
          "Santi Cazorla",
          "H. Herrera",
          "Juan Mata",
          "Giuliano",
          "Marlos",
          "Taison",
          "G. Bonaventura",
          "Ander Herrera",
          "J. Lingard",
          "J. Sildero",
          "H. Aouar",
          "T. Ndombele",
          "D. van de Beek",
          "Dani Ceballos",
          "Pablo Fornals",
          "E. Can",
          "P. Zieliński",
          "G. Xhaka",
          "Rafinha",
          "G. Kondogbia",
          "M. Sabitzer",
          "R. Fraser",
          "R. Guerreiro",
          "João Mário",
          "A. Ljajić",
          "J. Corona",
          "Quaresma",
          "J. Milner",
          "M. Dembélé",
          "Cesc Fàbregas",
          "Renato Augusto",
          "A. Guardado",
          "D. Payet",
          "Beñat",
          "M. Sissoko",
          "N. Gaitán",
          "H. Mkhitaryan",
          "F. Vázquez",
          "Dani García",
          "Laure Santeiro",
          "S. Ardero",
          "N. Barella",
          "Y. Tielemans",
          "Carlos Soler",
          "H. Winks",
          "Melendo",
          "Rony Lopes",
          "M. Eggestein",
          "Sergi Darder",
          "L. Paredes",
          "K. Baldé",
          "V. Rongier",
          "A. Oxlade-Chamberlain",
          "Campaña",
          "J. Quintero",
          "Samu Castillejo",
          "M. Lazzari",
          "M. Lanzini",
          "H. Vanaken",
          "Gabriel",
          "D. Klaassen",
          "Manu Trigueros",
          "Joaquín",
          "E. Lamela",
          "Raúl García",
          "D. Wass",
          "Pedro León",
          "M. Valbuena",
          "S. Feghouli",
          "F. Coquelin",
          "Hulk",
          "K. Strootman",
          "E. Salvio",
          "R. Pereyra",
          "Y. Belhanda",
          "S. Verdi",
          "Ibai Gómez",
          "Cristian Tello",
          "Pozuelo",
          "Bernard",
          "Jony",
          "R. Bentancur",
          "Lucas Paquetá",
          "Merino",
          "L. Pellegrini",
          "Dani Olmo",
          "F. Kessié",
          "V. Tsygankov",
          "R. Loftus-Cheek",
          "S. Lobotka",
          "A. Golovin",
          "J. Ward-Prowse",
          "Otávio",
          "A. Iwobi",
          "J. Maddison",
          "Richarlison",
          "S. Nakajima",
          "M. Sanson",
          "F. Grillitsch",
          "R. Barkley",
          "M. Arnold",
          "Fred",
          "R. Malinovskyi",
          "L. Spinazzola",
          "D. Baselli",
          "T. Savanier",
          "S. Kalou",
          "Borja Valero",
          "D. Valeri",
          "A. Candreva",
          "A. Fernández",
          "Granero",
          "R. Vormer",
          "A. Lallana",
          "S. Lulić",
          "S. Kagawa",
          "J. Wilshere",
          "J. Pastore",
          "F. Orellana",
          "A. Yarmolenko",
          "Vitolo",
          "T. Inui",
          "D. Cheryshev",
          "Rubén Alcaraz",
          "I. Sarr",
          "F. Neuhaus",
          "M. Zaracho",
          "D. Zakaria",
          "H. Onyekuru",
          "J. Ikoné",
          "J. Bamba",
          "N. Amiri",
          "B. Cristante",
          "L. Dendoncker",
          "M. Dahoud",
          "Daniel Podence",
          "E. Bardhi",
          "N. Maksimović",
          "Óliver Torres",
          "M. Lemina",
          "A. Miranchuk",
          "Joan Jordán",
          "Y. Yazıcı",
          "M. Gregoritsch",
          "T. Vilhena",
          "Denis Suárez",
          "M. Meyer",
          "J. Veretout",
          "V. Fischer",
          "S. Meïté",
          "J. Boëtius",
          "H. Hateboer",
          "B. Verbič",
          "G. Martínez",
          "K. Fortounis",
          "Sérgio Oliveira",
          "R. Freuler",
          "F. Mollet",
          "J. Hofmann",
          "V. Grifo",
          "F. Tait",
          "D. Laxalt",
          "C. Tévez",
          "J. Sosa",
          "R. Babel",
          "S. Nasri",
          "J. dos Santos",
          "S. Defour",
          "K. Mirallas",
          "Manu García",
          "V. Moses",
          "C. Ansaldi",
          "V. Birsa",
          "M. Sulejmani",
          "N. Amrabat",
          "P. Piatti",
          "Bruno",
          "Adrien Silva",
          "Mikel San José",
          "C. Grenier",
          "R. Boudebouz",
          "Iborra",
          "B. André",
          "M. Antonio",
          "P. Groß",
          "J. Guðmundsson",
          "R. Soriano",
          "D. Didavi",
          "A. Townsend",
          "T. Cairney",
          "N. Lodeiro",
          "Nolito",
          "G. Ramírez",
          "A. Carrillo",
          "M. de Roon",
          "G. Kanga",
          "I. Fernández",
          "J. Seri",
          "R. Battaglia",
          "Claudio Coíntra",
          "F. Contedo",
          "E. Palacios",
          "D. Brooks",
          "Brais Méndez",
          "J. Grealish",
          "A. Miranchuk",
          "C. Nkunku",
          "Wendel",
          "F. Valverde",
          "N. Vlašić",
          "M. Pašalić",
          "L. Cook",
          "N. Nández",
          "A. Barák",
          "M. Rojas",
          "Chiquinho",
          "O. Duda",
          "M. Lopez",
          "K. Laimer",
          "W. Hughes",
          "Andreas Pereira",
          "M. Benassi",
          "W. Cyprien",
          "N. Bentaleb",
          "P. Højbjerg",
          "L. Miranda",
          "Alex Berenguer",
          "S. Sensi",
          "M. Gaćinović",
          "R. Marin",
          "R. Pizarro",
          "G. Pereiro",
          "N. Redmond",
          "L. Ocampos",
          "J. Lukaku",
          "S. Boufal",
          "Y. Gerhardt",
          "B. Bourigeaud",
          "A. Schöpf",
          "D. Kuzyaev",
          "C. Domínguez",
          "O. Özyakup",
          "L. Bittencourt",
          "K. Stöger",
          "P. Lees-Melou",
          "J. Shelvey",
          "D. Pröpper",
          "M. van Ginkel",
          "A. Younes",
          "R. Centurión",
          "E. Akbaba",
          "P. Hrošovský",
          "J. Farfán",
          "T. Walcott",
          "E. Elia",
          "L. Schøne",
          "Z. Junuzović",
          "V. Odjidja-Ofoe",
          "Miguel Veloso",
          "J. Lens",
          "I. Traoré",
          "M. Carcela-González",
          "R. Alessandrini",
          "A. Poli",
          "D. Drinkwater",
          "A. Dzagoev",
          "A. Westwood",
          "D. Latza",
          "Victor Sánchez",
          "J. Kucka",
          "T. Rincón",
          "Y. Mallı",
          "Carlos Eduardo",
          "Rômulo",
          "Fransérgio",
          "J. Martin",
          "P. Herrmann",
          "Tomás Pina",
          "André André",
          "P. Hernández",
          "J. Forrest",
          "R. Saponara",
          "A. Trebel",
          "M. Pereyra",
          "F. Fajr",
          "L. Castro",
          "E. Vargas",
          "P. Pérez",
          "A. Marušić",
          "Simão Acunha",
          "A. Píriz",
          "P. Foden",
          "A. Maier",
          "R. Mandragora",
          "A. Lookman",
          "R. Orsolini",
          "W. McKennie",
          "A. Mac Allister",
          "Kangin Lee",
          "T. Castagne",
          "Edu Expósito",
          "Aleñá",
          "A. Ndiaye",
          "Gedson Fernandes",
          "S. Chukwueze",
          "X. Schlager",
          "A. Danjuma Groeneveld",
          "A. Haidara",
          "K. Linetty",
          "A. Živković",
          "L. Blas",
          "A. Harit",
          "T. Bongonda",
          "Matheus Pereira",
          "Toni Villa",
          "Eduardo Henrique",
          "Y. Aït Bennasser",
          "D. Praet",
          "I. Kahveci",
          "Pedraza",
          "V. Guzmán",
          "B. Raman",
          "Paulinho",
          "A. Rusnák",
          "M. Benítez",
          "Camarasa",
          "L. Acosta",
          "A. Maher",
          "R. Morrison",
          "M. Elyounoussi",
          "Fernandinho",
          "Pere Pons",
          "F. Cervi",
          "R. Gosens",
          "Caio",
          "A. Thomasson",
          "E. Cardona",
          "V. Claesson",
          "D. Türüç",
          "G. Shibasaki",
          "B. Džemaili",
          "J. Dátolo",
          "A. Turan",
          "Diego Castro",
          "M. Noble",
          "R. Snodgrass",
          "A. Hunt",
          "A. Mierzejewski",
          "S. Sessègnon",
          "A. Diamanti",
          "F. Higuaín",
          "J. Cork",
          "G. dos Santos",
          "J. McArthur",
          "D. Zurutuza",
          "A. Ayew",
          "Mossoró",
          "M. Fellaini",
          "F. Johnson",
          "J. De Guzmán",
          "D. Biseswar",
          "T. Mangani",
          "Pablo Hernández",
          "Ki Sung Yueng",
          "B. Dočkal",
          "A. Ekdal",
          "D. Stephens",
          "B. Dzsudzsák",
          "M. Albrighton",
          "M. Moralez",
          "I. Popov",
          "M. Stoch",
          "E. Hernández",
          "O. El Kaddouri",
          "Rochina",
          "C. Villanueva",
          "Iturraspe",
          "T. Cleverley",
          "S. Zuber",
          "S. Blanco",
          "I. Brizuela",
          "M. Jajalo",
          "R. Hamouma",
          "Portillo",
          "H. Pérez",
          "A. Mooy",
          "G. Moreno",
          "Héldon",
          "S. Taïder",
          "J. Clasie",
          "V. Darida",
          "R. Brady",
          "R. Ibarra",
          "N. Sliti",
          "D. Garmash",
          "Garry Rodrigues",
          "A. Szymanowski",
          "M. Uribe",
          "F. Mancuello",
          "Embarba",
          "O. Romero",
          "B. Ndiaye",
          "Davidson",
          "A. Nwakaeme",
          "A. Zamorado",
          "N. Domínguez",
          "M. Mount",
          "R. Sessegnon",
          "M. Guendouzi",
          "L. Díaz",
          "J. Larsen",
          "Ferrán Torres",
          "O. Aina",
          "J. Jankto",
          "Renato Sanches",
          "A. Ounas",
          "Y. Karamoh",
          "S. Kalu",
          "Cucurella",
          "J. Bowen",
          "A. Diawara",
          "Luiz Araújo",
          "Kenedy",
          "S. Fofana",
          "Kaku",
          "A. Fulgini",
          "M. Vlap",
          "T. Davies",
          "S. Serdar",
          "R. Oudin",
          "G. Til",
          "A. Elis",
          "T. Boyd",
          "M. Simon",
          "A. Grassi",
          "G. Donsah",
          "Gabriel Boschilia",
          "Marcos Guilherme",
          "V. Koziello",
          "D. Barbona",
          "M. Thuram",
          "M. Jensen",
          "F. Krovinović",
          "Y. Bissouma",
          "E. Gnahoré",
          "L. Andersen",
          "L. Schaub",
          "J. McGinn",
          "E. Gutiérrez",
          "Danilo",
          "M. Coco",
          "T. Minamino",
          "M. Zajc",
          "Fede Vico",
          "D. Cataldi",
          "D. Valdés",
          "R. Christie",
          "A. Zeneli",
          "D. Bouanga",
          "S. Thioub",
          "M. Rog",
          "M. Rits",
          "G. Imbula",
          "F. Midtsjø",
          "S. Sturaro",
          "S. March",
          "T. Rogić",
          "D. Pelkas",
          "K. Möhwald",
          "J. Haberer",
          "Kwon Chang Hoon",
          "N. Stanciu",
          "Medrán",
          "A. Tameze",
          "H. Villalba",
          "Jason",
          "L. Lerager",
          "A. Conti",
          "João Novais",
          "C. Fassnacht",
          "V. Buyalskyi",
          "Z. Labyad",
          "D. Bessa",
          "A. Duncan",
          "V. Berisha",
          "F. Kainz",
          "R. Falk",
          "S. Armstrong",
          "P. Klement",
          "P. Mantalos",
          "Carles Gil",
          "G. Fernández",
          "A. Roa",
          "J. Lolley",
          "D. Brašanac",
          "L. Masopust",
          "R. Cohade",
          "L. Rigoni",
          "L. Podolski",
          "R. Sambueza",
          "M. Wolff Eikrem",
          "J. Valdivia",
          "Salva Sevilla",
          "L. Refaelov",
          "J. Błaszczykowski",
          "G. Castro",
          "Zeca",
          "L. De Silvestri",
          "D. Buonanotte",
          "Mario Suárez",
          "A. Surman",
          "M. Fernández",
          "S. Kums",
          "N. Dirar",
          "A. Taarabt",
          "O. Akhmedov",
          "F. Bartels",
          "Y. Sankharé",
          "L. Montes",
          "J. Allen",
          "D. Gosling",
          "O. Norwood",
          "M. Fabián",
          "M. Phillips",
          "M. Wakaso",
          "Y. Bolasie",
          "J. Durmaz",
          "J. Stanislas",
          "Y. Salibur"
         ],
         "type": "scatter",
         "x": [
          11.824459075927734,
          8.45720100402832,
          22.968042373657227,
          11.846138954162598,
          18.727048873901367,
          21.01972198486328,
          12.636616706848145,
          19.698766708374023,
          8.454235076904297,
          -0.36330080032348633,
          19.767559051513672,
          8.79811954498291,
          -0.6804072856903076,
          12.680745124816895,
          16.170934677124023,
          -12.523431777954102,
          4.18602991104126,
          4.048727989196777,
          10.605511665344238,
          18.57588768005371,
          20.84980583190918,
          1.996705412864685,
          23.923667907714844,
          -22.65420150756836,
          32.667606353759766,
          30.868053436279297,
          2.018148899078369,
          -1.7814728021621704,
          -8.874348640441895,
          31.543996810913086,
          28.26787567138672,
          24.467527389526367,
          38.14852523803711,
          31.99591636657715,
          14.624167442321777,
          9.223275184631348,
          7.772470951080322,
          42.884910583496094,
          -3.1520607471466064,
          9.9926176071167,
          -0.16696251928806305,
          16.43907356262207,
          8.532332420349121,
          1.0577166080474854,
          19.655332565307617,
          21.564678192138672,
          10.369324684143066,
          31.63961410522461,
          15.87534236907959,
          6.711863040924072,
          6.8634033203125,
          14.735928535461426,
          1.0237715244293213,
          27.273441314697266,
          24.793413162231445,
          -2.009958505630493,
          8.1192626953125,
          23.45644187927246,
          27.245439529418945,
          7.637558460235596,
          20.925949096679688,
          19.647132873535156,
          3.5404281616210938,
          0.21753273904323578,
          2.6898109912872314,
          12.965269088745117,
          2.790910243988037,
          -6.465028762817383,
          -1.82234787940979,
          0.4773848056793213,
          -7.491925239562988,
          -4.430877208709717,
          0.7765058875083923,
          18.36382484436035,
          21.565645217895508,
          -16.518680572509766,
          8.367451667785645,
          19.216781616210938,
          18.06702423095703,
          32.784461975097656,
          -4.271972179412842,
          20.307260513305664,
          15.42772102355957,
          -10.57838249206543,
          11.085536003112793,
          0.28049761056900024,
          41.49442672729492,
          36.51694107055664,
          18.9847354888916,
          26.352697372436523,
          1.9949657917022705,
          -0.14223963022232056,
          12.918495178222656,
          19.886764526367188,
          6.070278167724609,
          -7.725934028625488,
          3.7611730098724365,
          -3.7926228046417236,
          5.657196521759033,
          -17.250205993652344,
          -2.7489285469055176,
          -0.645087718963623,
          19.126020431518555,
          -16.50369644165039,
          13.926817893981934,
          22.363361358642578,
          -2.6516828536987305,
          11.012601852416992,
          34.67458724975586,
          8.167476654052734,
          36.787384033203125,
          -1.2358707189559937,
          -13.07060718536377,
          20.234445571899414,
          7.392578125,
          1.5351251363754272,
          42.06696701049805,
          9.09861946105957,
          -13.57992935180664,
          33.65930938720703,
          14.635810852050781,
          13.289505004882812,
          6.009652137756348,
          52.46873474121094,
          52.46360397338867,
          -3.155404567718506,
          10.011990547180176,
          5.84341287612915,
          -18.61205291748047,
          2.371919870376587,
          44.42152404785156,
          -14.975994110107422,
          -1.555461049079895,
          -10.002363204956055,
          36.788169860839844,
          8.226225852966309,
          -3.5516304969787598,
          8.666045188903809,
          36.92391586303711,
          22.600141525268555,
          14.113570213317871,
          42.473262786865234,
          13.569986343383789,
          -0.4017196595668793,
          2.9062135219573975,
          10.088096618652344,
          28.419754028320312,
          36.51659393310547,
          4.50933313369751,
          1.4259480237960815,
          25.612960815429688,
          35.01206970214844,
          32.68178939819336,
          -13.51076602935791,
          36.58580017089844,
          3.2751474380493164,
          14.727167129516602,
          12.208730697631836,
          12.697060585021973,
          19.61293601989746,
          19.746837615966797,
          18.587202072143555,
          23.838300704956055,
          38.88186264038086,
          15.201908111572266,
          -9.638290405273438,
          13.277178764343262,
          -3.4688167572021484,
          -6.146527290344238,
          22.337482452392578,
          -3.2896080017089844,
          20.75946617126465,
          -16.096965789794922,
          8.537515640258789,
          -9.174078941345215,
          11.254768371582031,
          30.732831954956055,
          38.28369903564453,
          32.36404800415039,
          37.196571350097656,
          29.031841278076172,
          4.810394763946533,
          -17.93402862548828,
          27.767539978027344,
          5.784104824066162,
          -1.887514591217041,
          5.5775275230407715,
          -16.301605224609375,
          6.861011028289795,
          2.1363027095794678,
          39.58394241333008,
          11.883407592773438,
          41.7296028137207,
          7.645751476287842,
          -7.171410083770752,
          12.828486442565918,
          0.48531821370124817,
          13.440711975097656,
          -14.374049186706543,
          21.52313804626465,
          13.394529342651367,
          24.22120475769043,
          37.692848205566406,
          46.405460357666016,
          37.101226806640625,
          18.462621688842773,
          16.001157760620117,
          -0.8075349926948547,
          35.89889144897461,
          0.3108375072479248,
          13.648038864135742,
          -27.19985580444336,
          34.282676696777344,
          32.168025970458984,
          33.66408157348633,
          16.54815673828125,
          -10.516494750976562,
          -9.506143569946289,
          -18.277666091918945,
          31.381179809570312,
          10.476540565490723,
          -11.497217178344727,
          10.626778602600098,
          -6.247973918914795,
          44.34667205810547,
          8.944389343261719,
          33.49614334106445,
          43.401397705078125,
          -7.941665172576904,
          18.587766647338867,
          -5.476617813110352,
          5.010988235473633,
          27.40334129333496,
          -22.734312057495117,
          32.13751983642578,
          -22.96599769592285,
          39.86357498168945,
          27.233177185058594,
          35.48856735229492,
          8.174680709838867,
          -13.0061616897583,
          19.585620880126953,
          23.56980323791504,
          24.179595947265625,
          37.6937141418457,
          -23.50413703918457,
          45.25593566894531,
          14.610629081726074,
          32.74583435058594,
          37.75595474243164,
          0.13183049857616425,
          8.10549545288086,
          34.244197845458984,
          3.276170253753662,
          2.8793842792510986,
          -11.207799911499023,
          18.78059196472168,
          44.179527282714844,
          32.4874382019043,
          22.296953201293945,
          2.7363669872283936,
          9.256019592285156,
          -20.45405387878418,
          13.532557487487793,
          37.2348747253418,
          2.208590507507324,
          -8.036428451538086,
          37.57691192626953,
          11.911696434020996,
          10.607449531555176,
          12.20836353302002,
          44.983306884765625,
          34.696224212646484,
          21.937660217285156,
          26.36333656311035,
          45.04498291015625,
          46.132389068603516,
          40.11167526245117,
          -3.2788636684417725,
          28.280311584472656,
          4.311776161193848,
          7.012453079223633,
          -21.756744384765625,
          42.17338943481445,
          42.16573715209961,
          -6.716607093811035,
          29.128087997436523,
          24.45929718017578,
          27.3579158782959,
          47.73930740356445,
          5.386025428771973,
          -9.094609260559082,
          -20.707683563232422,
          38.33668899536133,
          -9.385821342468262,
          -14.141777992248535,
          -22.583311080932617,
          44.14295959472656,
          7.236806392669678,
          21.20382308959961,
          30.41498565673828,
          5.585666656494141,
          -10.421936988830566,
          5.578984260559082,
          5.180301666259766,
          -11.287878036499023,
          -1.0855636596679688,
          4.651724338531494,
          -10.571224212646484,
          -15.504741668701172,
          4.377673625946045,
          6.611003875732422,
          -0.22748854756355286,
          5.569604873657227,
          1.9215128421783447,
          43.678565979003906,
          39.699371337890625,
          -4.850154399871826,
          -30.257848739624023,
          42.06326675415039,
          -12.798096656799316,
          12.07810115814209,
          1.879868745803833,
          -10.211465835571289,
          19.61135482788086,
          7.90693998336792,
          17.965335845947266,
          26.73040008544922,
          0.21064534783363342,
          4.835457801818848,
          2.6072921752929688,
          15.25540542602539,
          29.474382400512695,
          28.444828033447266,
          17.783143997192383,
          1.0196764469146729,
          33.98853302001953,
          32.342742919921875,
          30.57596778869629,
          11.831815719604492,
          5.7840070724487305,
          4.2411346435546875,
          13.824196815490723,
          37.7512092590332,
          20.698009490966797,
          40.76116943359375,
          38.26261901855469,
          -6.764978885650635,
          -4.728001594543457,
          2.265760898590088,
          -2.338744640350342,
          -25.821529388427734,
          -3.9123711585998535,
          -3.498821496963501,
          -25.497394561767578,
          32.176517486572266,
          15.945291519165039,
          4.745588302612305,
          3.8395373821258545,
          5.951178550720215,
          39.559078216552734,
          -1.2617697715759277,
          3.7600595951080322,
          12.890844345092773,
          18.29269790649414,
          25.812021255493164,
          -11.721200942993164,
          14.850529670715332,
          10.17254638671875,
          12.683676719665527,
          40.7327880859375,
          -4.778221130371094,
          -10.865877151489258,
          29.956087112426758,
          29.96330451965332,
          1.0247641801834106,
          -17.963300704956055,
          -12.424911499023438,
          32.00001907348633,
          27.77814292907715,
          -19.592437744140625,
          22.229984283447266,
          42.85258865356445,
          -26.677263259887695,
          -18.072986602783203,
          17.85413360595703,
          28.825891494750977,
          -7.596704959869385,
          33.929256439208984,
          -7.849081516265869,
          36.53208541870117,
          4.128039360046387,
          -14.660086631774902,
          15.746376991271973,
          14.835972785949707,
          27.222570419311523,
          39.911746978759766,
          33.65982437133789,
          19.76266098022461,
          -4.047244071960449,
          -0.5698227882385254,
          11.59834098815918,
          0.7284889817237854,
          -10.29011344909668,
          1.2570509910583496,
          32.820892333984375,
          44.53999710083008,
          28.842966079711914,
          17.952795028686523,
          5.611966133117676,
          24.01711082458496,
          11.195158958435059,
          22.515056610107422,
          30.68784523010254,
          19.7000675201416,
          -18.220491409301758,
          15.024364471435547,
          -18.113367080688477,
          40.46309280395508,
          11.384580612182617,
          47.660919189453125,
          33.518856048583984,
          12.241486549377441,
          5.562704563140869,
          7.963764667510986,
          22.95234489440918,
          13.669866561889648,
          27.290842056274414,
          1.2023104429244995,
          47.31388854980469,
          24.888425827026367,
          29.91638946533203,
          13.321399688720703,
          45.30699157714844,
          26.083934783935547,
          6.707496643066406,
          39.72280502319336,
          -5.434991836547852,
          9.953883171081543,
          30.644474029541016,
          43.66054153442383,
          3.834568977355957,
          2.112051486968994,
          23.5952091217041,
          34.521827697753906,
          6.689976215362549,
          24.1224308013916,
          14.263538360595703,
          24.992555618286133,
          -0.30472418665885925,
          -15.369961738586426,
          35.856441497802734,
          0.8844385743141174,
          29.098960876464844,
          40.13711929321289,
          20.602706909179688,
          24.70406723022461,
          16.12643814086914,
          24.373136520385742,
          20.933399200439453,
          1.1185579299926758,
          5.698671340942383,
          0.87907475233078,
          34.06739044189453,
          25.294206619262695,
          -6.590314865112305,
          42.776893615722656,
          23.123123168945312,
          4.728641986846924,
          7.309856414794922,
          40.573699951171875,
          40.482547760009766,
          3.6458635330200195,
          -3.1959776878356934,
          7.398542881011963,
          15.263019561767578,
          -23.422706604003906,
          33.05000686645508,
          -20.575294494628906,
          25.82968521118164,
          39.77085494995117,
          0.6829506754875183,
          10.585192680358887,
          24.423830032348633,
          30.86981201171875,
          -5.362449645996094,
          34.2419319152832,
          40.82411575317383,
          22.82677459716797,
          -23.563976287841797,
          27.685577392578125,
          4.708824157714844,
          -20.46904182434082,
          34.931636810302734,
          3.028512716293335,
          48.43141555786133,
          -28.61207389831543,
          1.429369568824768,
          -6.690043926239014,
          30.701976776123047,
          44.19949722290039,
          35.191368103027344,
          -25.373014450073242,
          29.957857131958008,
          -29.684602737426758,
          33.030460357666016,
          17.805994033813477,
          -14.136821746826172,
          19.513347625732422,
          0.21933966875076294,
          23.12217903137207,
          -15.868167877197266,
          -21.823835372924805,
          46.377540588378906,
          0.7524996399879456,
          33.61873245239258,
          34.22114562988281,
          38.30939865112305,
          -11.780890464782715,
          -16.235145568847656,
          34.63336944580078,
          34.629852294921875,
          -5.243327617645264,
          38.30773162841797,
          28.980173110961914,
          0.22027982771396637,
          12.053664207458496,
          -16.4114990234375,
          -12.632368087768555,
          39.6887092590332,
          26.62285614013672,
          -18.56793212890625,
          2.726550340652466,
          -11.463334083557129,
          24.575639724731445,
          26.1498966217041,
          25.728778839111328,
          25.862211227416992,
          11.204263687133789,
          20.544525146484375,
          -8.068242073059082,
          30.021411895751953,
          37.68223571777344,
          47.71344757080078,
          -12.36120891571045,
          -11.442350387573242,
          -1.1282804012298584,
          -18.525222778320312,
          -8.931840896606445,
          22.634811401367188,
          26.385927200317383,
          32.31675338745117,
          10.265933990478516,
          9.518745422363281,
          15.738473892211914,
          44.979156494140625,
          19.758792877197266,
          -18.70868492126465,
          25.295804977416992,
          25.524646759033203,
          -19.016206741333008,
          -18.96003532409668,
          24.561813354492188,
          49.68044662475586,
          -1.150002121925354,
          36.08738327026367,
          21.46865463256836,
          -25.234769821166992,
          4.377962112426758,
          35.76445388793945,
          -23.222740173339844,
          1.0939278602600098,
          27.698272705078125,
          19.633949279785156,
          37.15790557861328,
          9.217279434204102,
          19.734880447387695,
          19.473251342773438,
          0.33475953340530396,
          13.706612586975098,
          -0.44626641273498535,
          -19.614501953125,
          41.98902893066406,
          47.68959045410156,
          26.771242141723633,
          26.110780715942383,
          15.46774673461914,
          37.701412200927734,
          15.672091484069824,
          10.479811668395996,
          -20.85040855407715,
          -13.007877349853516,
          44.47157669067383,
          0.6649317145347595,
          0.5890641212463379,
          16.767547607421875,
          6.9912919998168945,
          3.339669704437256,
          27.23605728149414,
          -17.122718811035156,
          26.871858596801758,
          -7.5610222816467285,
          13.525541305541992,
          -6.88957405090332,
          0.55755615234375,
          6.867745399475098,
          45.87771987915039,
          31.747692108154297,
          -24.475749969482422,
          48.700923919677734,
          46.511871337890625,
          27.316518783569336,
          24.394487380981445
         ],
         "y": [
          5.812809944152832,
          1.980685830116272,
          31.621349334716797,
          5.286492824554443,
          3.905020236968994,
          1.7002087831497192,
          -21.428977966308594,
          29.229198455810547,
          1.895150065422058,
          -20.97197151184082,
          1.840477705001831,
          -12.066033363342285,
          -8.118922233581543,
          -21.486007690429688,
          6.229173183441162,
          8.707693099975586,
          -12.787064552307129,
          -12.600113868713379,
          4.447468280792236,
          23.61618423461914,
          24.994237899780273,
          -15.109347343444824,
          -6.3298115730285645,
          -6.547266960144043,
          32.44253921508789,
          35.178287506103516,
          -10.17057991027832,
          -5.237493991851807,
          7.462273120880127,
          34.776695251464844,
          32.85739517211914,
          25.54355239868164,
          19.22486686706543,
          37.27926254272461,
          16.30914306640625,
          -15.404159545898438,
          -10.050498962402344,
          26.948822021484375,
          1.1139273643493652,
          5.17319393157959,
          -12.605199813842773,
          20.77975082397461,
          -11.636265754699707,
          -10.518224716186523,
          4.1399993896484375,
          24.04656982421875,
          4.355105400085449,
          -3.456458806991577,
          21.41941261291504,
          -11.892762184143066,
          4.575262546539307,
          7.14340353012085,
          -9.985106468200684,
          25.38739776611328,
          32.53257751464844,
          -4.86232852935791,
          6.656702518463135,
          9.90807819366455,
          29.442638397216797,
          6.67773962020874,
          3.572343349456787,
          3.1531622409820557,
          -18.56354331970215,
          -11.361977577209473,
          -30.582799911499023,
          -13.322552680969238,
          -9.642590522766113,
          8.999007225036621,
          4.243594169616699,
          -14.241233825683594,
          -0.9059773087501526,
          -2.3902273178100586,
          -17.973758697509766,
          18.630647659301758,
          22.806777954101562,
          -16.954349517822266,
          -11.3072509765625,
          18.401704788208008,
          26.849559783935547,
          9.36341381072998,
          4.973477363586426,
          19.100341796875,
          18.59162712097168,
          7.580021381378174,
          -18.545610427856445,
          -10.98676586151123,
          10.633543014526367,
          0.8698132634162903,
          26.808460235595703,
          23.241573333740234,
          -2.8779544830322266,
          -12.702286720275879,
          7.10348653793335,
          27.149991989135742,
          4.189509868621826,
          0.44662824273109436,
          -12.695999145507812,
          -2.6768765449523926,
          -12.04776668548584,
          -15.995542526245117,
          8.820387840270996,
          -32.6867790222168,
          -0.9821879863739014,
          -17.05219078063965,
          5.922929286956787,
          23.600683212280273,
          9.011048316955566,
          -3.0394787788391113,
          11.548032760620117,
          7.280202865600586,
          17.118104934692383,
          -14.953167915344238,
          -8.470032691955566,
          -5.642336845397949,
          -8.749878883361816,
          -4.239720344543457,
          11.423761367797852,
          -16.95072364807129,
          2.580610513687134,
          8.948819160461426,
          7.811989784240723,
          -17.45121955871582,
          -31.925445556640625,
          26.394161224365234,
          26.419902801513672,
          -5.800429821014404,
          -13.559087753295898,
          2.2064120769500732,
          -5.6358442306518555,
          13.059187889099121,
          29.379941940307617,
          -0.9782195091247559,
          -28.34666633605957,
          -4.520421504974365,
          29.737625122070312,
          -8.452277183532715,
          3.008059024810791,
          -14.082451820373535,
          12.149517059326172,
          12.712325096130371,
          18.72148895263672,
          28.006662368774414,
          -15.099991798400879,
          -17.44441795349121,
          -9.656431198120117,
          -15.431839942932129,
          -4.766338348388672,
          -3.2498972415924072,
          -29.268766403198242,
          -2.7914860248565674,
          -4.424624443054199,
          12.291308403015137,
          25.241777420043945,
          -10.891731262207031,
          -3.358987808227539,
          -24.180381774902344,
          8.87682819366455,
          0.7645301222801208,
          1.3356196880340576,
          20.9007625579834,
          4.973026275634766,
          19.837556838989258,
          -0.18555845320224762,
          34.34798049926758,
          17.563228607177734,
          -14.615585327148438,
          5.737913131713867,
          -2.8561317920684814,
          -5.69451904296875,
          10.056937217712402,
          -13.489075660705566,
          17.839141845703125,
          -13.933422088623047,
          -5.356051445007324,
          4.372045516967773,
          -12.927814483642578,
          2.308035135269165,
          25.368501663208008,
          9.766498565673828,
          -1.5759285688400269,
          25.02779769897461,
          2.131927967071533,
          -26.569799423217773,
          -1.1088846921920776,
          -12.543641090393066,
          -3.1903648376464844,
          -5.361800670623779,
          -0.14791549742221832,
          -2.811626672744751,
          -5.743817329406738,
          12.143760681152344,
          -19.947120666503906,
          10.178401947021484,
          -0.2779538929462433,
          -18.328060150146484,
          -18.939451217651367,
          -15.440104484558105,
          -8.482933044433594,
          2.971433162689209,
          -3.1268997192382812,
          -8.868896484375,
          -4.713736057281494,
          11.324095726013184,
          -2.4231925010681152,
          4.144445419311523,
          17.481399536132812,
          3.401078462600708,
          -17.55734634399414,
          29.057239532470703,
          11.618875503540039,
          18.65619468688965,
          -10.301061630249023,
          30.44464111328125,
          27.55671501159668,
          25.85731315612793,
          -0.1795511245727539,
          -19.585899353027344,
          -16.83229637145996,
          -3.6527304649353027,
          28.1353702545166,
          2.378840684890747,
          -19.58995819091797,
          -3.5517494678497314,
          -6.093180179595947,
          27.580036163330078,
          -13.973731994628906,
          0.7148839831352234,
          11.981350898742676,
          3.4155192375183105,
          0.08520800620317459,
          -2.608097791671753,
          -18.09410858154297,
          20.01165008544922,
          -20.099306106567383,
          33.64249801635742,
          -1.1635911464691162,
          3.7884745597839355,
          31.26987075805664,
          10.158583641052246,
          -19.3140926361084,
          -18.427749633789062,
          9.89028263092041,
          8.37452507019043,
          3.157235860824585,
          25.442045211791992,
          6.58241605758667,
          -1.1620832681655884,
          -5.340980529785156,
          19.723859786987305,
          13.554917335510254,
          -0.5317248106002808,
          -18.71955680847168,
          12.038089752197266,
          -29.94808578491211,
          -1.8592768907546997,
          -5.84623908996582,
          -4.830207824707031,
          31.46440887451172,
          6.590354919433594,
          12.702554702758789,
          -33.36090087890625,
          -19.28412628173828,
          -49.7682991027832,
          -15.02612018585205,
          10.321442604064941,
          -32.6988410949707,
          -12.763651847839355,
          0.010723862797021866,
          -14.735343933105469,
          -0.8965097665786743,
          -6.480692386627197,
          -3.379199743270874,
          0.14910025894641876,
          -1.7241413593292236,
          0.6010864973068237,
          -2.5752148628234863,
          10.600550651550293,
          29.475017547607422,
          -14.035065650939941,
          1.8459105491638184,
          -2.4122400283813477,
          -3.3510711193084717,
          -22.73134422302246,
          31.600479125976562,
          31.595441818237305,
          1.9970463514328003,
          5.754817485809326,
          9.504594802856445,
          13.36939811706543,
          25.56099510192871,
          3.8785791397094727,
          -0.2838030755519867,
          -27.039705276489258,
          5.388166427612305,
          -19.02128028869629,
          -13.42001724243164,
          -3.045694351196289,
          -7.192201137542725,
          5.2463788986206055,
          3.4551706314086914,
          4.7822585105896,
          -3.322002410888672,
          4.084240436553955,
          -16.921632766723633,
          -3.5582470893859863,
          -18.04543685913086,
          -3.5732474327087402,
          -18.2436466217041,
          -20.782445907592773,
          -2.2287087440490723,
          3.1857690811157227,
          -22.479970932006836,
          7.167205810546875,
          -4.534875869750977,
          5.373485088348389,
          12.51530647277832,
          33.22360610961914,
          3.07305908203125,
          3.879498243331909,
          29.001632690429688,
          -16.576602935791016,
          0.45539042353630066,
          4.580021381378174,
          0.16720198094844818,
          11.758909225463867,
          -2.5312461853027344,
          15.367218971252441,
          12.348227500915527,
          -0.3420850336551666,
          -20.742813110351562,
          -20.37641716003418,
          -12.644325256347656,
          9.98569393157959,
          23.058454513549805,
          7.141851425170898,
          2.0919382572174072,
          21.165754318237305,
          21.18427848815918,
          26.91461753845215,
          -19.898462295532227,
          -1.1385656595230103,
          -25.453712463378906,
          -19.024150848388672,
          27.864709854125977,
          14.274759292602539,
          30.997291564941406,
          2.0708975791931152,
          -6.962287425994873,
          -25.754732131958008,
          0.42115318775177,
          -22.705474853515625,
          -18.383268356323242,
          -29.438566207885742,
          -18.55234718322754,
          -15.623388290405273,
          10.88962459564209,
          -11.296916007995605,
          -1.0539698600769043,
          -26.832700729370117,
          -19.984760284423828,
          26.7203426361084,
          -29.46092987060547,
          -6.299048900604248,
          -16.96246337890625,
          21.21723747253418,
          4.425207614898682,
          -4.970246315002441,
          2.069112539291382,
          -15.363533020019531,
          -2.7880117893218994,
          22.08522605895996,
          -20.065460205078125,
          2.5112452507019043,
          10.869571685791016,
          10.885990142822266,
          12.298565864562988,
          -26.682178497314453,
          -24.17122459411621,
          25.459474563598633,
          13.440282821655273,
          -19.45928192138672,
          4.3343915939331055,
          28.274784088134766,
          2.7292354106903076,
          -25.577150344848633,
          -1.3234068155288696,
          18.538732528686523,
          1.1826679706573486,
          33.21177291870117,
          2.449096918106079,
          25.163726806640625,
          2.0227103233337402,
          -15.010210990905762,
          -1.5777348279953003,
          0.4486362040042877,
          14.140820503234863,
          33.32311248779297,
          10.124031066894531,
          14.410774230957031,
          -6.643695831298828,
          12.027694702148438,
          -4.478377342224121,
          9.32193374633789,
          1.783447027206421,
          2.302166223526001,
          26.673709869384766,
          27.808725357055664,
          5.671389579772949,
          -0.8182470798492432,
          -17.140342712402344,
          18.798982620239258,
          -3.896148681640625,
          16.07098388671875,
          13.914852142333984,
          10.146053314208984,
          -21.957292556762695,
          15.784697532653809,
          0.5285714268684387,
          29.455595016479492,
          -3.5622990131378174,
          -3.955707550048828,
          1.6607205867767334,
          -0.8788132071495056,
          -15.664714813232422,
          -19.867807388305664,
          -3.631639242172241,
          -9.706305503845215,
          -4.977123737335205,
          -31.85110092163086,
          -3.761551856994629,
          -3.718182325363159,
          -0.06764167547225952,
          1.2726396322250366,
          9.857242584228516,
          -4.6469926834106445,
          -33.05015563964844,
          28.316848754882812,
          -19.106170654296875,
          -21.97519302368164,
          1.2276049852371216,
          -1.9082152843475342,
          -29.94452667236328,
          10.022502899169922,
          -0.4407402276992798,
          14.501615524291992,
          -20.615598678588867,
          0.5733067393302917,
          -14.584436416625977,
          -3.7232398986816406,
          -31.391239166259766,
          -21.732994079589844,
          10.762085914611816,
          -0.1690106838941574,
          2.6469593048095703,
          0.9108893275260925,
          20.701274871826172,
          7.413173198699951,
          -2.280167818069458,
          -1.707807183265686,
          -2.0638344287872314,
          -34.37355041503906,
          -15.946697235107422,
          -2.0011467933654785,
          2.713080883026123,
          20.691024780273438,
          -20.870634078979492,
          10.643057823181152,
          -1.8021214008331299,
          12.25009822845459,
          -19.594533920288086,
          0.7521234750747681,
          29.931764602661133,
          -3.8938167095184326,
          -24.14731788635254,
          -7.352719306945801,
          -3.4515726566314697,
          7.519197940826416,
          12.623010635375977,
          -21.191753387451172,
          19.786006927490234,
          27.759353637695312,
          2.921048879623413,
          -1.3810365200042725,
          11.739937782287598,
          13.548233985900879,
          4.759868144989014,
          1.8121368885040283,
          23.97772216796875,
          -3.977247953414917,
          0.22697129845619202,
          12.147517204284668,
          4.950459957122803,
          -12.670943260192871,
          28.93326187133789,
          12.521352767944336,
          27.17414665222168,
          4.490820407867432,
          10.526569366455078,
          0.6946810483932495,
          24.621444702148438,
          26.53064727783203,
          28.31275177001953,
          4.588816165924072,
          15.13485050201416,
          -19.527652740478516,
          29.00981903076172,
          -0.13186267018318176,
          -13.613702774047852,
          16.306079864501953,
          10.706533432006836,
          6.019614219665527,
          -14.017833709716797,
          -21.16976547241211,
          27.48581314086914,
          3.4221041202545166,
          24.145015716552734,
          27.499719619750977,
          32.68643569946289,
          -14.632638931274414,
          -3.6680760383605957,
          14.95982551574707,
          33.45173263549805,
          -1.0640382766723633,
          24.419809341430664,
          16.694334030151367,
          5.658788681030273,
          -5.797781944274902,
          -8.176615715026855,
          -18.865070343017578,
          35.22040939331055,
          16.234506607055664,
          -2.2994987964630127,
          2.6358139514923096,
          -17.566997528076172,
          14.19775676727295,
          22.0571346282959,
          4.696781635284424,
          9.692117691040039,
          -7.028846263885498,
          10.32426929473877,
          4.452996253967285,
          24.10491943359375,
          26.006763458251953,
          28.414094924926758,
          -13.880232810974121,
          -17.006837844848633,
          12.654857635498047,
          -2.2560338973999023,
          -11.310275077819824,
          15.973694801330566,
          5.844590663909912,
          15.964456558227539,
          -5.853174686431885,
          -4.5754594802856445,
          2.562272548675537,
          11.280923843383789,
          -5.507380485534668,
          -21.37505340576172,
          21.22340202331543,
          9.936335563659668,
          -23.017459869384766,
          -1.0127294063568115,
          0.9586817622184753,
          25.022659301757812,
          10.63162899017334,
          14.414840698242188,
          -0.9625937342643738,
          -14.632131576538086,
          7.163789749145508,
          35.62507629394531,
          7.4384002685546875,
          8.95378589630127,
          8.6265287399292,
          9.843576431274414,
          13.652714729309082,
          -0.784508466720581,
          15.254498481750488,
          16.21907615661621,
          -30.02992820739746,
          13.552790641784668,
          -31.461580276489258,
          -25.507976531982422,
          0.512054979801178,
          -4.391480445861816,
          6.461924076080322,
          -2.8135643005371094,
          -18.617551803588867,
          13.214731216430664,
          -3.8784093856811523,
          -16.974380493164062,
          -2.547987699508667,
          -16.51377296447754,
          31.96133041381836,
          -28.11455535888672,
          -28.227008819580078,
          -3.0899806022644043,
          -21.293468475341797,
          10.701716423034668,
          -5.585893154144287,
          -23.582727432250977,
          -6.952469348907471,
          -19.153064727783203,
          -7.608513832092285,
          -12.72225284576416,
          -28.26813316345215,
          -21.79999542236328,
          10.919578552246094,
          14.956796646118164,
          2.2407453060150146,
          8.653010368347168,
          9.559089660644531,
          10.146870613098145,
          13.85049819946289
         ]
        },
        {
         "marker": {
          "color": "orange",
          "size": 5
         },
         "mode": "markers",
         "name": "Defender",
         "opacity": 0.7,
         "text": [
          "V. van Dijk",
          "K. Koulibaly",
          "N. Kanté",
          "G. Chiellini",
          "Sergio Ramos",
          "Sergio Busquets",
          "Piqué",
          "D. Godín",
          "A. Laporte",
          "Casemiro",
          "Fernandinho",
          "Thiago Silva",
          "J. Vertonghen",
          "M. Hummels",
          "T. Alderweireld",
          "Jordi Alba",
          "Marquinhos",
          "M. Škriniar",
          "S. Umtiti",
          "J. Kimmich",
          "L. Bonucci",
          "M. de Ligt",
          "R. Varane",
          "N. Süle",
          "Rodri",
          "Fabinho",
          "A. Robertson",
          "J. Giménez",
          "C. Lenglet",
          "K. Manolas",
          "D. Alaba",
          "Carvajal",
          "B. Matuidi",
          "Marcelo",
          "A. Witsel",
          "Alex Sandro",
          "João Cancelo",
          "L. Hernández",
          "Alex Telles",
          "S. de Vrij",
          "Pepe",
          "Sokratis",
          "Lucas Leiva",
          "Javi Martínez",
          "J. Boateng",
          "Azpilicueta",
          "K. Walker",
          "Felipe",
          "A. Romagnoli",
          "T. Alexander-Arnold",
          "J. Tah",
          "M. Akanji",
          "J. Stones",
          "Grimaldo",
          "D. Sánchez",
          "L. Digne",
          "William Carvalho",
          "D. Djené",
          "Bartra",
          "V. Kompany",
          "Raúl Albiol",
          "Miranda",
          "E. Garay",
          "E. Banega",
          "David Luiz",
          "J. Henderson",
          "Illarramendi",
          "D. Blind",
          "N. Otamendi",
          "I. Gueye",
          "F. Acerbi",
          "Danilo Pereira",
          "Josué Chiamulera",
          "L. Torreira",
          "P. Kimpembe",
          "Nélson Semedo",
          "D. Rugani",
          "J. Matip",
          "S. Savić",
          "A. Rüdiger",
          "Ricardo Pereira",
          "N. Tagliafico",
          "T. Delaney",
          "Sergi Roberto",
          "N. Schulz",
          "Nacho Fernández",
          "Gabriel Paulista",
          "J. Roussillon",
          "H. Maguire",
          "D. De Rossi",
          "L. Biglia",
          "S. Kjær",
          "V. Ćorluka",
          "A. Kolarov",
          "Mário Fernandes",
          "S. Coates",
          "T. Meunier",
          "Juiano Mestres",
          "Rosberto Dourado",
          "E. Schetino",
          "Éder Militão",
          "V. Lindelöf",
          "Gayà",
          "L. Shaw",
          "A. Doucouré",
          "W. Ndidi",
          "W. Orban",
          "M. Ginter",
          "Thiago Mendes",
          "A. Izzo",
          "M. Brozović",
          "L. Milivojević",
          "J. Mathieu",
          "L. Koscielny",
          "Jardel",
          "José Fonte",
          "L. Piszczek",
          "B. Höwedes",
          "M. Parolo",
          "Fernando",
          "Luiz Gustavo",
          "N. Nkoulou",
          "N. Matić",
          "Marcos Alonso",
          "André Almeida",
          "A. Florenzi",
          "J. Frendado",
          "J. Gomez",
          "A. Christensen",
          "Mario Hermoso",
          "M. Caldara",
          "Marcos Llorente",
          "F. Mendy",
          "Rúben Dias",
          "Héctor Bellerín",
          "B. Mendy",
          "T. Bakayoko",
          "Odriozola",
          "K. Zouma",
          "N. Aké",
          "E. Hysaj",
          "André Gomes",
          "J. Weigl",
          "Yeray",
          "R. Rodríguez",
          "A. Mandi",
          "Bernat",
          "M. Keane",
          "E. Bailly",
          "Sergi Gómez",
          "M. Hinteregger",
          "M. Nastasić",
          "J. Guilavogui",
          "P. Kadeřábek",
          "C. Kramer",
          "Iñigo Martínez",
          "M. Halstenberg",
          "M. Vecino",
          "J. Mascherano",
          "L. Perrin",
          "S. Radu",
          "D. Rose",
          "Naldo",
          "M. Díaz",
          "L. Bender",
          "S. Bender",
          "E. Capoue",
          "Antunes",
          "F. Fazio",
          "M. Hasebe",
          "Sidnei",
          "K. Trippier",
          "M. Musacchio",
          "Y. M'Vila",
          "S. Nzonzi",
          "C. Smalling",
          "K. Glik",
          "K. Vogt",
          "D. Lovren",
          "D. Vida",
          "Ismaily",
          "F. Ghoulam",
          "S. Sané",
          "S. Vrsaljko",
          "T. Stepanenko",
          "I. Marcone",
          "Everton Andrão",
          "Welington Dano",
          "M. Baldona",
          "M. Nérez",
          "A. Wan-Bissaka",
          "I. Konaté",
          "S. Berge",
          "R. Zobnin",
          "T. Kehrer",
          "A. Hakimi",
          "D. Samassékou",
          "Marc Roca",
          "D. Zagadou",
          "J. Denayer",
          "L. Klostermann",
          "A. Diallo",
          "B. Pavard",
          "B. Chilwell",
          "T. Souček",
          "Junior Firpo",
          "N. Stark",
          "J. Gbamin",
          "Angeliño",
          "E. Dier",
          "Jonny",
          "J. Lerma",
          "L. Dubois",
          "L. Cabrera",
          "J. Murillo",
          "J. Tarkowski",
          "J. Brooks",
          "S. Kolašinac",
          "F. Schär",
          "R. Aguilar",
          "F. Balbuena",
          "S. Mustafi",
          "G. Pezzella",
          "D. da Costa",
          "W. Boly",
          "B. Davies",
          "Diego Carlos",
          "M. Sakho",
          "Laguardia",
          "P. Jones",
          "S. Aurier",
          "K. Lala",
          "S. Arias",
          "J. Veltman",
          "D. Zappacosta",
          "Dante",
          "M. Debuchy",
          "M. Škrtel",
          "J. Evans",
          "N. Moisander",
          "D. Criscito",
          "Marcano",
          "Nacho Monreal",
          "S. Coleman",
          "Yuri Berchiche",
          "Mariano",
          "O. Toprak",
          "K. Asamoah",
          "Cote",
          "Maicon",
          "Escudero",
          "Mario Gaspar",
          "Víctor Ruiz",
          "E. Pérez",
          "D. Caligiuri",
          "Danilo",
          "N. Pallois",
          "M. Badelj",
          "D. Suárez",
          "Roque Mesa",
          "Mário Rui",
          "A. Samaris",
          "J. Hector",
          "Rubén Peña",
          "L. Sigali",
          "Raúl",
          "Petros",
          "Maikel Catarino",
          "Antônio Chiamuloira",
          "Melvin Parrela",
          "D. Lenzado",
          "E. Riquero",
          "D. Rice",
          "Ferro",
          "J. Andersen",
          "I. Diop",
          "O. Zinchenko",
          "O. Yokuşlu",
          "N. Elvedi",
          "G. Dzhikiya",
          "Aarón Martín",
          "Calero",
          "E. Pulgar",
          "W. Barrios",
          "Rúben Vezo",
          "B. Santamaria",
          "Y. Mina",
          "L. Tousart",
          "J. Lascelles",
          "K. Rekik",
          "I. Amadou",
          "G. Maripán",
          "E. Skhiri",
          "D. Dumfries",
          "Bruno Viana",
          "A. Soumaoro",
          "R. Gagliardini",
          "R. Saravia",
          "Rafael Tolói",
          "S. Duffy",
          "F. Lejeune",
          "L. Dunk",
          "Pedro Mendes",
          "Fernando",
          "C. Hérelle",
          "Omar Mascarell",
          "S. Deli",
          "M. Ngadeu",
          "V. Wanyama",
          "C. Kabasele",
          "M. Doherty",
          "David López",
          "D. Demme",
          "J. Vestergaard",
          "N. Maksimović",
          "Capa",
          "Bastos",
          "J. Pinola",
          "Hilton",
          "A. Granqvist",
          "T. Vermaelen",
          "D. Abraham",
          "A. Masiello",
          "R. Bertrand",
          "N. Şahin",
          "Coke",
          "H. Moreno",
          "J. Tomkins",
          "C. Zapata",
          "P. Diop",
          "D. Da Silva",
          "Marcelo",
          "M. Cáceres",
          "J. Holebas",
          "L. Fejsa",
          "D. Schwaab",
          "Camacho",
          "Rafael Carioca",
          "Daniel Carriço",
          "S. Rudy",
          "Souza",
          "B. Hübner",
          "J. Baumgartlinger",
          "Rafael",
          "B. Mee",
          "De Marcos",
          "N. Clyne",
          "S. Cook",
          "Jaume Costa",
          "G. Medel",
          "Hugo Mallo",
          "G. Krychowiak",
          "B. Stambouli",
          "K. Malcuit",
          "S. Rode",
          "M. Rojo",
          "Naldo",
          "J. Gouweleeuw",
          "Álvaro",
          "Z. Feddal",
          "G. Pizarro",
          "H. Sakai",
          "F. Fabra",
          "C. Izquierdoz",
          "A. Donatti",
          "N. Domínguez",
          "Marcelo Goiano",
          "Ronaldo Esler",
          "Everticinho",
          "Sidney Pessinho",
          "E. Guichón",
          "G. Quintana",
          "D. Upamecano",
          "D. Calabria",
          "M. Grujić",
          "Luiz Felipe",
          "Y. Atal",
          "Jorge Meré",
          "N. Mukiele",
          "L. Martínez",
          "Reguilón",
          "Renan Lodi",
          "J. Mæhle",
          "N. Mazraoui",
          "F. Bustos",
          "S. McTominay",
          "K. Mbabu",
          "J. Bednarek",
          "Vallejo",
          "P. Rosario",
          "M. Weiser",
          "Emerson",
          "A. Djiku",
          "Diego Llorente",
          "K. Tete",
          "G. Escalante",
          "O. Colley",
          "M. Diakhaby",
          "M. Arambarri",
          "O. Selnæs",
          "C. Salcedo",
          "R. Bensebaini",
          "Aritz Elustondo",
          "K. Ayhan",
          "P. Max",
          "B. Mechele",
          "Wendell",
          "Pedro Henrique",
          "G. Rodríguez",
          "C. Luyindama",
          "S. Aziz",
          "C. Piccini",
          "C. Coady",
          "R. Knoche",
          "S. Lainer",
          "M. Plattenhardt",
          "N. Gudelj",
          "R. Funes Mori",
          "Pedro Obiang",
          "Bruno",
          "D. Sidibé",
          "Pablo",
          "L. Kurzawa",
          "M. De Sciglio",
          "M. Elneny",
          "D. Baier",
          "Iván Ramis",
          "G. Clichy",
          "A. Young",
          "R. Civelli",
          "Gelson Fernandes",
          "Javi García",
          "G. Cahill",
          "Danilo",
          "P. Wernbloom",
          "M. Schneiderlin",
          "M. Layún",
          "Varela",
          "M. Suchý",
          "S. De Maio",
          "P. Aguilar",
          "F. Delph",
          "N. Subotić",
          "A. Ogbonna",
          "Maurício",
          "Claudemir",
          "D. Janmaat",
          "A. Dragović",
          "Arbilla",
          "L. Tonelli",
          "E. Bičakčić",
          "Luís Neto",
          "V. Chiricheș",
          "S. Ristovski",
          "Marçal",
          "T. Strobl",
          "R. Saïss",
          "Nacho",
          "L. López",
          "M. Casco",
          "J. Palomino",
          "Gazzolisco",
          "Vieirundinho",
          "L. Baezo",
          "S. Luna",
          "V. Castro",
          "J. Monsario",
          "Florentino",
          "K. Tierney",
          "G. Mancini",
          "T. Adams",
          "E. N'Dicka",
          "J. Koundé",
          "I. Sangaré",
          "F. Benković",
          "M. Locatelli",
          "M. Çelik",
          "I. Doumbia",
          "M. Sarr",
          "E. Álvarez",
          "T. Koopmeiners",
          "I. Hayden",
          "R. Holding",
          "W. Anton",
          "Zubeldia",
          "A. Franco",
          "N. Milenković",
          "Unai Núñez",
          "B. Engels",
          "D. Ćaleta-Car",
          "F. Guilbert",
          "S. Ascacíbar",
          "T. Hernández",
          "Y. Osorio",
          "L. Augustinsson",
          "Rúben Semedo",
          "S. Gigot",
          "Rubén Duarte",
          "Palhinha",
          "A. Barboza",
          "Xeka",
          "S. Denswil",
          "J. Hendrix",
          "Wallace",
          "M. Nakamba",
          "D. Reyes",
          "N. Araújo",
          "C. Taylor",
          "S. Kverkvelia",
          "R. Khedira",
          "D. Kohr",
          "A. Masuaku",
          "D. Yedlin",
          "Otávio",
          "A. Briançon",
          "Bustinza",
          "Dalbert",
          "Pablo Santos",
          "V. Coufal",
          "E. Mangala",
          "Oriol Romeu",
          "D. Heintz",
          "C. McGregor",
          "S. Widmer",
          "M. Jørgensen",
          "T. Kolodziejczak",
          "P. Jansson",
          "A. Wakaso",
          "Cédric",
          "O. Onazi",
          "T. Monconduit",
          "Alberto Moreno",
          "Guilherme",
          "Paulo Oliveira",
          "Ricardo Esgaio",
          "Y. Gómez Andrade",
          "R. Aliendro",
          "P. Jagielka",
          "B. Schweinsteiger",
          "M. Topal",
          "H. Kaldırım",
          "A. Hutchinson",
          "L. Ponzio",
          "R. Klavan",
          "O. Wendt",
          "P. Skjelbred",
          "Y. Zhirkov",
          "M. Bradley",
          "Markel Bergara",
          "Léo Matos",
          "K. El Ahmadi",
          "D. Basta",
          "S. Bocchetti",
          "J. Maidana",
          "S. Bamba",
          "W. Reid",
          "D. Chygrynskyi",
          "F. Lustenberger",
          "Vieirinha",
          "R. Donk",
          "C. Cathcart",
          "R. Rosales",
          "F. Roncaglia",
          "K. Papadopoulos",
          "M. Lang",
          "N. Sánchez",
          "P. van Aanholt",
          "T. Gebre Selassie",
          "I. Radovanović",
          "Kiko Olivas",
          "C. Kouyaté",
          "Diogo Viana",
          "M. Schmelzer",
          "Miguel Lopes",
          "A. Cresswell",
          "Kiko Femenía",
          "Rubén Pérez",
          "T. Jantschke",
          "K. Théophile-Catherine",
          "A. Smith",
          "Júnior Caiçara",
          "N. Viergever",
          "Montoya",
          "Mexer",
          "D. Boyata",
          "M. Höger",
          "C. Ortíz",
          "Raúl Navas",
          "C. Schindler",
          "Juan Jesus",
          "F. Fernández",
          "Aleix Vidal",
          "J. Bořil",
          "S. Sanogo",
          "Toño García",
          "Y. Abdelhamid",
          "G. González",
          "D. Siovas",
          "E. Mena",
          "O. Duarte",
          "Sequeira",
          "Alexo Baia",
          "Juli Freitinho",
          "Eltildo Correia",
          "Emilio Piodão",
          "Andeson Trigo",
          "Victildinho",
          "Davi Parrela",
          "David Seijalbo",
          "Rafael Cachoira",
          "G. Ichazo",
          "M. Fagundez",
          "A. Aguilmera",
          "K. Berlaso",
          "S. Tonali",
          "B. Kamara",
          "Diogo Dalot",
          "P. Retsos",
          "A. Maitland-Niles",
          "L. Martínez Quarta",
          "J. Lucumi",
          "Ivanildo Fernandes",
          "B. Henrichs",
          "Fran Beltrán",
          "K. Omeruo",
          "T. Jedvaj",
          "Y. Koné",
          "Anuar",
          "Thiago Maia",
          "G. Montiel",
          "M. Saracchi",
          "I. Šunjić",
          "M. Burda",
          "M. Kempf",
          "K. Akpoguma",
          "G. Conti",
          "M. Veljković",
          "K. Phillips",
          "M. Holgate",
          "E. Velázquez",
          "M. Niakhaté",
          "Melero",
          "F. Sacko",
          "K. Amian",
          "J. Gnagnon",
          "F. Uduokhai",
          "G. Konan",
          "E. Cabaco",
          "Alfa Semedo",
          "Luis Milla",
          "C. Chambers",
          "T. Foket",
          "T. Kędziora",
          "B. Pearson",
          "E. Balanta",
          "L. Olaza",
          "A. Long",
          "R. Karsdorp",
          "T. Baumgartl",
          "M. Wolf",
          "A. Nagy",
          "F. Ricca",
          "Bernardo",
          "Marcão",
          "D. Bronn",
          "K. Malong",
          "Martín",
          "Rodrigo Ely",
          "T. Kongolo",
          "N. Chalobah",
          "V. Lazaro",
          "W. Troost-Ekong",
          "W. Hoedt",
          "S. Cristóforo",
          "G. Shoji",
          "Cláudio Falcão",
          "Sergio Álvarez",
          "L. González Pirez",
          "K. Stafylidis",
          "B. Zuculini",
          "J. Willems",
          "Clinton Mata",
          "A. Touré",
          "L. Menossi",
          "Álex Moreno",
          "N. Vukčević",
          "C. Borja",
          "Rodrigo",
          "J. Svensson",
          "C. Biraghi",
          "K. Djidji",
          "J. Brenet",
          "André Ramalho",
          "R. Haps",
          "L. Magallán",
          "Jemerson",
          "K. Laifis",
          "C. Clark",
          "M. Kelly",
          "S. Dewaest",
          "T. Kádár",
          "O. Elabdellaoui",
          "J. Tavernier",
          "P. Dummett",
          "B. Sarr",
          "A. Ring",
          "S. Kryvtsov",
          "S. Mitrović",
          "C. Günter",
          "A. Hegazi",
          "J. Mojica",
          "Y. Sabaly",
          "M. Mevlja",
          "H. Traoré",
          "Zaldúa",
          "S. Sydorchuk",
          "S. Brown",
          "S. Francis",
          "W. Morgan",
          "J. Morel",
          "P. Zabaleta",
          "G. Gönül",
          "S. Dann",
          "A. Romao",
          "V. Behrami",
          "F. Haroun",
          "L. Baines",
          "D. Congré",
          "G. Cabral",
          "N. Domingo",
          "Barragán",
          "C. Erkin",
          "H. Ayala",
          "M. Fritzler",
          "A. Mariappa",
          "Manuel da Costa",
          "W. Vainqueur",
          "A. Epureanu",
          "A. Ranocchia",
          "M. Tekdemir",
          "C. Sánchez",
          "H. Nordtveit",
          "J. Hogg",
          "S. Langkamp",
          "L. Koné",
          "R. Thomas",
          "M. Darmian",
          "I. Traoré",
          "K. Gibbs",
          "M. Ritchie",
          "B. Espinosa",
          "J. Hernández",
          "V. Vasin",
          "M. Isla",
          "J. McCarthy",
          "D. Brosinski",
          "João Aurélio",
          "B. Oczipka",
          "D. Santon",
          "D. Le Tallec",
          "M. Gulde",
          "T. Arslan",
          "O. Alonso"
         ],
         "type": "scatter",
         "x": [
          -12.582695960998535,
          -44.66605758666992,
          -23.38040542602539,
          -43.34465026855469,
          -1.4824278354644775,
          5.808440208435059,
          -8.430245399475098,
          -23.4573917388916,
          -22.38528060913086,
          -1.605232834815979,
          -0.817771315574646,
          -11.777094841003418,
          -10.907161712646484,
          -8.368470191955566,
          -11.749577522277832,
          -9.983880043029785,
          -34.092716217041016,
          -43.691287994384766,
          -11.83651351928711,
          -12.710395812988281,
          -10.685516357421875,
          -22.679994583129883,
          -41.838470458984375,
          -42.979671478271484,
          -16.118749618530273,
          -1.8759504556655884,
          -14.691313743591309,
          -43.72313690185547,
          -33.832942962646484,
          -45.32474136352539,
          -2.180053234100342,
          -26.58538246154785,
          -23.321470260620117,
          -9.282508850097656,
          -1.524084210395813,
          -15.077645301818848,
          -13.804253578186035,
          -27.505308151245117,
          -2.2034406661987305,
          -42.61372756958008,
          -39.788909912109375,
          -39.69928741455078,
          -0.4841671288013458,
          -22.67572784423828,
          -33.7275276184082,
          -10.467145919799805,
          -15.86591625213623,
          -43.51863098144531,
          -43.69148635864258,
          -13.854779243469238,
          -42.7527961730957,
          -41.738887786865234,
          -36.19218826293945,
          -14.225687026977539,
          -42.090476989746094,
          -14.064766883850098,
          0.11398710310459137,
          -38.80587387084961,
          -14.2060546875,
          -17.807003021240234,
          -31.570266723632812,
          -35.71617126464844,
          -17.53253173828125,
          7.8513054847717285,
          -8.848560333251953,
          0.6528889536857605,
          -0.5996688604354858,
          -0.7213755249977112,
          -22.97657585144043,
          -24.069255828857422,
          -25.775367736816406,
          -22.125171661376953,
          -41.43052673339844,
          -23.40213966369629,
          -40.69702911376953,
          -28.57402992248535,
          -42.686683654785156,
          -23.989830017089844,
          -33.62002944946289,
          -40.16222381591797,
          -13.164728164672852,
          -23.630048751831055,
          -13.013968467712402,
          -14.944877624511719,
          -31.5734920501709,
          -40.628517150878906,
          -32.51908493041992,
          -12.87154483795166,
          -22.551359176635742,
          -9.376936912536621,
          -8.476845741271973,
          -28.186138153076172,
          -23.609695434570312,
          -1.0099742412567139,
          -23.50165367126465,
          -21.126094818115234,
          -13.342330932617188,
          -10.860220909118652,
          -20.422147750854492,
          -41.40924835205078,
          -25.42068862915039,
          -32.64250946044922,
          -12.47724723815918,
          -26.923595428466797,
          -20.8553524017334,
          -25.081884384155273,
          -31.77420997619629,
          -20.64359474182129,
          -13.990591049194336,
          -44.769840240478516,
          -0.014507308602333069,
          -1.863665223121643,
          -9.397930145263672,
          -35.34954833984375,
          -34.76408004760742,
          -28.406599044799805,
          -5.497782230377197,
          -21.169801712036133,
          -15.513734817504883,
          -15.69972038269043,
          -25.00209617614746,
          -38.025840759277344,
          0.7991294860839844,
          1.4024715423583984,
          -16.01179313659668,
          -3.3542845249176025,
          -11.02999496459961,
          -36.612464904785156,
          -42.37354278564453,
          -28.12087631225586,
          -43.30265808105469,
          -14.338571548461914,
          -12.888788223266602,
          -43.66992950439453,
          -31.5572566986084,
          -28.263416290283203,
          -32.37588882446289,
          -31.637170791625977,
          -26.195964813232422,
          -32.716556549072266,
          -35.713138580322266,
          -9.889801979064941,
          -28.78346824645996,
          -26.801437377929688,
          -0.6995344161987305,
          -22.370155334472656,
          -11.46585750579834,
          -29.47629737854004,
          -38.9253044128418,
          -33.74470901489258,
          -24.371028900146484,
          -42.97898483276367,
          -24.720529556274414,
          -31.69849395751953,
          -16.61487579345703,
          -35.01640701293945,
          -4.4447922706604,
          -12.533282279968262,
          -29.859216690063477,
          -5.883685111999512,
          -28.42157745361328,
          -12.903852462768555,
          -20.430458068847656,
          -2.149658203125,
          -22.523847579956055,
          -38.852142333984375,
          1.1636406183242798,
          -9.742164611816406,
          -25.639421463012695,
          -6.820150852203369,
          -25.926769256591797,
          -16.899951934814453,
          -29.351951599121094,
          -10.211536407470703,
          0.3478856682777405,
          -27.09684944152832,
          -31.163227081298828,
          -27.048786163330078,
          -34.486236572265625,
          -39.9039421081543,
          -16.74135398864746,
          -5.701582908630371,
          -35.842247009277344,
          -29.848371505737305,
          -24.214847564697266,
          -15.817540168762207,
          -22.7067928314209,
          -16.661823272705078,
          -22.7067928314209,
          -16.69247817993164,
          -33.04254150390625,
          -41.29298400878906,
          -31.646209716796875,
          -14.989784240722656,
          -33.98329162597656,
          -27.342178344726562,
          -31.252336502075195,
          -12.178988456726074,
          -41.983497619628906,
          -41.54791259765625,
          -37.21770477294922,
          -34.96663284301758,
          -31.664255142211914,
          -29.50906753540039,
          -4.4418792724609375,
          -26.058605194091797,
          -33.656349182128906,
          -28.788206100463867,
          -13.326326370239258,
          -5.975921154022217,
          -27.696674346923828,
          -11.464447021484375,
          -21.20527458190918,
          -34.72856903076172,
          -39.5777587890625,
          -27.016748428344727,
          -38.2846794128418,
          -25.470439910888672,
          -8.574004173278809,
          -28.424680709838867,
          -34.64639663696289,
          -27.703659057617188,
          -23.048995971679688,
          -31.127534866333008,
          -32.20561218261719,
          -15.364056587219238,
          -38.33501052856445,
          -31.393056869506836,
          -23.37454605102539,
          -24.250898361206055,
          -12.037314414978027,
          -5.292083740234375,
          -35.94536590576172,
          -28.703506469726562,
          -14.87073802947998,
          -17.91718101501465,
          -6.6819634437561035,
          -32.51982879638672,
          -34.831703186035156,
          -13.709769248962402,
          -6.59099817276001,
          -35.02281188964844,
          -3.308309555053711,
          -13.409516334533691,
          -10.410907745361328,
          -15.478193283081055,
          -39.072410583496094,
          -11.8569917678833,
          -21.38485336303711,
          -22.267578125,
          -7.539125919342041,
          -15.29910659790039,
          -23.153661727905273,
          -4.144873142242432,
          4.033864498138428,
          -6.1510539054870605,
          -33.078338623046875,
          -6.071568965911865,
          -10.40156078338623,
          -21.362483978271484,
          -32.22539138793945,
          -2.696378469467163,
          -7.956284046173096,
          -10.685104370117188,
          -36.49747085571289,
          -23.77448844909668,
          -8.053929328918457,
          -34.33741760253906,
          -28.070762634277344,
          -4.299450397491455,
          -28.069990158081055,
          -20.44829559326172,
          -36.62276840209961,
          -27.505760192871094,
          -35.03263473510742,
          -39.189884185791016,
          -8.34276294708252,
          -9.241113662719727,
          -35.46615219116211,
          -32.568824768066406,
          -32.754600524902344,
          -32.34584426879883,
          -4.521601676940918,
          -36.62668991088867,
          -33.324546813964844,
          -18.989791870117188,
          -23.461538314819336,
          -33.9656982421875,
          -43.97328186035156,
          -39.45378112792969,
          -31.865360260009766,
          -30.41172218322754,
          -12.12192440032959,
          -29.023921966552734,
          -34.01231002807617,
          -35.19668197631836,
          -15.585594177246094,
          -31.126314163208008,
          -32.02568054199219,
          -22.923765182495117,
          -22.54106330871582,
          -31.421112060546875,
          -33.62642288208008,
          -10.331036567687988,
          -31.713748931884766,
          -9.88669490814209,
          -40.42775344848633,
          -30.107534408569336,
          -3.5880393981933594,
          -26.167463302612305,
          -19.26982307434082,
          -21.15736961364746,
          -26.631763458251953,
          -21.504350662231445,
          -41.932308197021484,
          -22.44012451171875,
          -40.15108108520508,
          -29.85726547241211,
          -17.3897705078125,
          -17.612133026123047,
          -18.9832706451416,
          -31.585914611816406,
          -32.52136993408203,
          -19.115991592407227,
          -3.227534532546997,
          -3.812420606613159,
          -28.192914962768555,
          -29.3851375579834,
          -34.253360748291016,
          -3.058730125427246,
          -34.9371452331543,
          -24.205059051513672,
          -33.89699172973633,
          -4.867947101593018,
          -23.37998390197754,
          -31.086963653564453,
          -4.509823799133301,
          -8.442980766296387,
          -17.914810180664062,
          7.664970874786377,
          -8.663969993591309,
          -29.948257446289062,
          -30.95825958251953,
          -10.984044075012207,
          -33.31269073486328,
          -14.739297866821289,
          -19.079927444458008,
          -32.54590606689453,
          -13.257189750671387,
          -31.093997955322266,
          -35.62165451049805,
          -22.697397232055664,
          -28.51546859741211,
          -22.447433471679688,
          -22.644147872924805,
          -18.249441146850586,
          -26.66106414794922,
          -29.559370040893555,
          -38.79164123535156,
          -24.285097122192383,
          6.701641082763672,
          -31.366151809692383,
          -22.63813018798828,
          -24.598073959350586,
          -16.744348526000977,
          -19.666118621826172,
          -31.480995178222656,
          -32.02013397216797,
          -5.251962661743164,
          -9.410680770874023,
          -32.00205612182617,
          -34.34198760986328,
          -39.80728530883789,
          -33.6433219909668,
          -10.510855674743652,
          -40.642391204833984,
          -9.383763313293457,
          -38.57890319824219,
          -33.49021530151367,
          -27.502521514892578,
          -29.398555755615234,
          -11.022786140441895,
          -27.68534278869629,
          -25.82868003845215,
          -24.884326934814453,
          -10.309550285339355,
          -28.154808044433594,
          -42.28874206542969,
          -37.90127182006836,
          -21.44365119934082,
          -8.767377853393555,
          -33.16345977783203,
          -33.73759460449219,
          -34.19677734375,
          -32.90791702270508,
          -8.579381942749023,
          -43.00391387939453,
          -28.39105224609375,
          -15.048972129821777,
          -19.914154052734375,
          -42.62126541137695,
          -25.457725524902344,
          -33.243133544921875,
          -35.50296401977539,
          -29.537527084350586,
          -42.73752212524414,
          -14.559414863586426,
          -32.04452133178711,
          -22.65370750427246,
          -43.21637725830078,
          -42.72917556762695,
          -33.67562484741211,
          -16.88487434387207,
          -30.743757247924805,
          -24.593196868896484,
          -19.816089630126953,
          -1.987044334411621,
          -29.637874603271484,
          -14.288689613342285,
          -25.807449340820312,
          -19.861236572265625,
          -28.739503860473633,
          -0.9174884557723999,
          -31.663711547851562,
          -7.510819435119629,
          -4.9893879890441895,
          -16.472217559814453,
          -34.09409713745117,
          -9.070959091186523,
          -21.268320083618164,
          -16.184097290039062,
          -4.139217853546143,
          -18.669870376586914,
          -30.278011322021484,
          2.983055591583252,
          -5.919055461883545,
          -3.67561936378479,
          -30.03848648071289,
          -32.60431671142578,
          -37.55142593383789,
          -29.940937042236328,
          -6.914600372314453,
          -28.163488388061523,
          -32.58700942993164,
          1.2532496452331543,
          -7.762313365936279,
          -8.635287284851074,
          -25.209674835205078,
          -17.504016876220703,
          -45.186405181884766,
          -34.98883056640625,
          -31.36812400817871,
          -29.846437454223633,
          -24.88837432861328,
          -26.707176208496094,
          -27.27106475830078,
          -28.42624282836914,
          -30.298337936401367,
          -36.0218391418457,
          -22.358009338378906,
          -31.456758499145508,
          -8.971302032470703,
          -35.86849594116211,
          -4.31936502456665,
          -5.177662372589111,
          -9.428435325622559,
          -22.91398811340332,
          -34.86027526855469,
          -27.637121200561523,
          -24.748432159423828,
          -27.741418838500977,
          -37.44133758544922,
          -39.366004943847656,
          -12.292143821716309,
          -33.99415588378906,
          -11.901941299438477,
          -29.54376220703125,
          -25.298688888549805,
          -29.932695388793945,
          -22.87287139892578,
          -5.01475191116333,
          -24.921140670776367,
          -39.364532470703125,
          -32.42565155029297,
          -4.503058910369873,
          -39.592620849609375,
          -39.92516326904297,
          -41.115936279296875,
          -28.76729393005371,
          -37.10755157470703,
          -32.89117431640625,
          -41.22926330566406,
          -29.319440841674805,
          -35.34523391723633,
          -15.703539848327637,
          -38.39859390258789,
          -37.10350799560547,
          -33.78384017944336,
          -18.793222427368164,
          -25.044130325317383,
          -6.841266632080078,
          -18.21674919128418,
          -22.3527774810791,
          -38.039459228515625,
          -35.6998405456543,
          -30.89318084716797,
          -35.233360290527344,
          -21.645702362060547,
          -40.2678337097168,
          -33.92031478881836,
          -27.140380859375,
          -28.454450607299805,
          -29.58810806274414,
          -29.158100128173828,
          -33.97241973876953,
          -34.98402786254883,
          -28.942626953125,
          -42.878082275390625,
          -19.995813369750977,
          -35.58921432495117,
          -26.826465606689453,
          -32.77854919433594,
          -6.62641716003418,
          -16.312442779541016,
          -39.06574249267578,
          -32.63731384277344,
          -33.52124786376953,
          -37.26411437988281,
          -16.922868728637695,
          -19.18330955505371,
          -13.786945343017578,
          -22.885440826416016,
          -14.430395126342773,
          -38.364078521728516,
          5.181412220001221,
          -32.97615432739258,
          -11.44430923461914,
          -27.909616470336914,
          2.064265012741089,
          -6.804365634918213,
          -30.584014892578125,
          -8.571892738342285,
          -4.279780864715576,
          -27.988758087158203,
          -7.013049125671387,
          -13.451260566711426,
          0.6738583445549011,
          -6.476871490478516,
          -1.612762451171875,
          -11.154085159301758,
          -5.572414398193359,
          -17.257692337036133,
          -36.384788513183594,
          -27.67909049987793,
          -32.151065826416016,
          -25.00600242614746,
          -29.430498123168945,
          -36.04331970214844,
          -0.9758787751197815,
          -19.419797897338867,
          -29.857685089111328,
          -18.347095489501953,
          -32.367225646972656,
          -36.4952507019043,
          -17.649723052978516,
          -16.661632537841797,
          -23.759864807128906,
          -23.333019256591797,
          -16.98772430419922,
          -28.220251083374023,
          -20.899093627929688,
          -5.354835510253906,
          -34.808265686035156,
          -30.370868682861328,
          -18.260229110717773,
          -15.903502464294434,
          -15.239901542663574,
          -31.85036277770996,
          -35.638736724853516,
          -18.35585594177246,
          -14.338486671447754,
          -27.15385627746582,
          -19.434919357299805,
          -30.09323501586914,
          -44.43363571166992,
          3.469202756881714,
          -23.236080169677734,
          -28.2243595123291,
          -35.08439636230469,
          -38.99967575073242,
          -30.062847137451172,
          -22.078447341918945,
          -21.413776397705078,
          -25.563129425048828,
          -3.754455327987671,
          -25.445466995239258,
          -34.803043365478516,
          -25.167116165161133,
          -31.07648277282715,
          -34.68095779418945,
          -6.10811710357666,
          -22.197084426879883,
          -20.23834800720215,
          -21.008745193481445,
          -10.206565856933594,
          -5.3592729568481445,
          -15.278985977172852,
          -37.19704055786133,
          -22.600961685180664,
          -23.47388458251953,
          -21.0064697265625,
          -22.597536087036133,
          -23.396038055419922,
          -27.418737411499023,
          -8.2638578414917,
          -30.79648208618164,
          -27.398029327392578,
          -40.74113082885742,
          -28.66118049621582,
          -22.507139205932617,
          -41.60895919799805,
          -40.19171142578125,
          -18.407209396362305,
          -29.839345932006836,
          -41.66099548339844,
          -28.5036563873291,
          -29.019105911254883,
          -19.077417373657227,
          -23.68951988220215,
          -35.827388763427734,
          -22.016010284423828,
          -29.131771087646484,
          -41.073646545410156,
          -37.955875396728516,
          -37.975555419921875,
          -35.05086135864258,
          -40.04918670654297,
          -19.745643615722656,
          -33.96408462524414,
          -24.914066314697266,
          -40.51924133300781,
          5.871570587158203,
          -30.289684295654297,
          -29.540660858154297,
          -39.58992004394531,
          -40.01710891723633,
          -29.043956756591797,
          -36.355552673339844,
          -25.561220169067383,
          -15.768261909484863,
          -28.441911697387695,
          -27.330284118652344,
          -33.753604888916016,
          -28.934385299682617,
          -37.4197998046875,
          2.761752128601074,
          -35.63187789916992,
          -25.43339729309082,
          -40.93866729736328,
          -11.19719409942627,
          -18.50791358947754,
          -37.166934967041016,
          -34.982723236083984,
          -36.891109466552734,
          -11.307371139526367,
          -13.580307960510254,
          -35.146697998046875,
          -37.97982406616211,
          -33.59528350830078,
          -20.798341751098633,
          4.464806079864502,
          -40.307167053222656,
          -32.99888229370117,
          -13.160783767700195,
          -42.373046875,
          -5.940928936004639,
          -17.587890625,
          -31.857755661010742,
          -35.58384704589844,
          -22.970287322998047,
          -20.6776065826416,
          -26.72637939453125,
          -23.03951072692871,
          -19.3516788482666,
          1.9170862436294556,
          -15.782591819763184,
          -34.57462692260742,
          -15.61205005645752,
          -20.11297607421875,
          -16.894813537597656,
          -39.8218994140625,
          -35.635684967041016,
          -13.610804557800293,
          -29.6625919342041,
          -33.9722785949707,
          -38.051753997802734,
          -13.337804794311523,
          -20.780593872070312,
          -18.820232391357422,
          -32.6981315612793,
          -37.771793365478516,
          -28.808059692382812,
          4.3649396896362305,
          -32.3379020690918,
          -10.235091209411621,
          -11.470978736877441,
          -37.557334899902344,
          -29.842552185058594,
          -30.476909637451172,
          -35.146034240722656,
          -9.987987518310547,
          -33.97357940673828,
          -38.778221130371094,
          -27.734188079833984,
          -34.71894073486328,
          -18.568973541259766,
          -22.493114471435547,
          -28.324506759643555,
          -28.919836044311523,
          -30.190574645996094,
          -4.110370635986328,
          -13.107205390930176,
          -28.71161460876465,
          -24.687957763671875,
          -4.783782958984375,
          3.54892635345459,
          9.847907066345215,
          -29.651121139526367,
          -28.563364028930664,
          -6.165754318237305,
          -22.259544372558594,
          2.7572691440582275,
          -29.566694259643555,
          -15.331171989440918,
          -29.103620529174805,
          -34.518428802490234,
          -27.501806259155273,
          -21.510303497314453,
          -29.115013122558594,
          -26.74901580810547,
          -19.47932243347168,
          -16.897048950195312,
          -27.744277954101562,
          -37.562557220458984,
          -29.3975830078125,
          -29.855892181396484,
          -18.543712615966797,
          -33.67145538330078,
          -15.889751434326172,
          3.6175224781036377,
          -27.0570125579834,
          -6.207961082458496,
          -25.867185592651367,
          -14.325202941894531,
          -4.444421291351318,
          0.5983197093009949,
          -5.466982364654541,
          -9.422616958618164,
          -19.568439483642578,
          -9.182065963745117,
          -31.379854202270508,
          1.134437918663025,
          -4.877728462219238
         ],
         "y": [
          -32.72466278076172,
          -41.85478973388672,
          -7.064587593078613,
          -34.147735595703125,
          -12.56021785736084,
          -31.692270278930664,
          -34.743309020996094,
          -42.10874938964844,
          -35.4405403137207,
          -19.6826114654541,
          -20.2711124420166,
          -34.07232666015625,
          -33.38405990600586,
          -34.512718200683594,
          -33.73775863647461,
          8.551783561706543,
          -22.249942779541016,
          -39.15385055541992,
          -32.81451416015625,
          10.227298736572266,
          -35.50579071044922,
          -35.29793167114258,
          -30.793237686157227,
          -51.676513671875,
          -17.42017364501953,
          -13.089574813842773,
          6.9057793617248535,
          -40.96746826171875,
          -22.0026798248291,
          -43.01639175415039,
          1.0683083534240723,
          -6.278345108032227,
          -6.460254192352295,
          7.890684604644775,
          -10.339691162109375,
          6.615055561065674,
          7.9215803146362305,
          -9.974300384521484,
          0.971767783164978,
          -41.803062438964844,
          -32.24488067626953,
          -37.11386489868164,
          -20.855052947998047,
          -44.24544906616211,
          -32.68232727050781,
          -12.061020851135254,
          6.787700653076172,
          -38.56986618041992,
          -41.618858337402344,
          5.587667942047119,
          -50.834381103515625,
          -30.976472854614258,
          -31.03052520751953,
          8.069994926452637,
          -39.209041595458984,
          4.87952995300293,
          -35.31966781616211,
          -28.33795738220215,
          -9.692458152770996,
          -44.19223403930664,
          -50.74287414550781,
          -39.57652282714844,
          -44.651668548583984,
          -17.766176223754883,
          -32.76081848144531,
          -16.295583724975586,
          -24.274324417114258,
          -24.200214385986328,
          -43.14521789550781,
          -8.590832710266113,
          -40.254066467285156,
          -22.846160888671875,
          -28.85594940185547,
          -5.677769660949707,
          -28.67745590209961,
          0.5827059149742126,
          -41.97053909301758,
          -37.493309020996094,
          -50.168739318847656,
          -39.95476150512695,
          6.548079013824463,
          -4.90770959854126,
          0.9679520726203918,
          1.7755869626998901,
          3.7928409576416016,
          -30.79344940185547,
          -21.983741760253906,
          6.8790974617004395,
          -46.17704391479492,
          -33.3914680480957,
          -32.686710357666016,
          -39.343021392822266,
          -37.8184700012207,
          -14.262686729431152,
          -4.402510166168213,
          -41.92767333984375,
          2.6424782276153564,
          -30.26407241821289,
          -15.916106224060059,
          -28.88184928894043,
          -10.944792747497559,
          -21.366167068481445,
          6.93859338760376,
          -6.446173191070557,
          -22.838825225830078,
          -10.951498985290527,
          -53.17660140991211,
          -29.595190048217773,
          0.3186940550804138,
          -45.823875427246094,
          -17.05352020263672,
          -15.328117370605469,
          -28.12639808654785,
          -39.45117950439453,
          -54.094139099121094,
          -53.98933029174805,
          -8.291954040527344,
          -45.09755325317383,
          -17.63697624206543,
          -28.672855377197266,
          -33.99246597290039,
          -30.45646095275879,
          -34.510658264160156,
          -15.737519264221191,
          -18.934782028198242,
          1.2368234395980835,
          -30.707054138183594,
          -29.059898376464844,
          -43.484493255615234,
          -8.213997840881348,
          -43.69696807861328,
          -26.32425308227539,
          7.504775524139404,
          -38.156280517578125,
          4.2375993728637695,
          -6.6533050537109375,
          -25.13296127319336,
          4.715914249420166,
          -36.55103302001953,
          -20.472196578979492,
          -24.306289672851562,
          -17.554447174072266,
          -18.609830856323242,
          -37.5322380065918,
          -8.146117210388184,
          -10.906071662902832,
          7.1760573387146,
          -38.815673828125,
          -29.548770904541016,
          -32.331729888916016,
          -27.87825584411621,
          -33.00761795043945,
          -33.510040283203125,
          -10.547934532165527,
          -29.97397804260254,
          -18.309494018554688,
          -15.619348526000977,
          -17.972265243530273,
          -22.414091110229492,
          -31.883033752441406,
          -29.488561630249023,
          -10.043400764465332,
          -46.23944854736328,
          -22.597318649291992,
          -22.468311309814453,
          -36.773441314697266,
          -34.708282470703125,
          -6.285834789276123,
          -55.674293518066406,
          -32.95090103149414,
          -31.700851440429688,
          3.9818038940429688,
          -29.896045684814453,
          -11.197915077209473,
          -35.19135284423828,
          -31.59073829650879,
          -55.87872314453125,
          -30.81839370727539,
          -53.0224609375,
          -31.35897445678711,
          0.5631725192070007,
          -10.413796424865723,
          -38.10198211669922,
          -7.911911487579346,
          -23.026336669921875,
          -29.80003547668457,
          -17.406269073486328,
          4.573715686798096,
          -17.406259536743164,
          4.587270736694336,
          2.7615156173706055,
          -44.27473449707031,
          -8.811997413635254,
          -0.5749469995498657,
          -24.3991756439209,
          4.320831775665283,
          -19.54672622680664,
          -24.315502166748047,
          -51.801780700683594,
          -38.98814392089844,
          -4.847274303436279,
          -24.985023498535156,
          -20.850011825561523,
          -7.834805965423584,
          -13.572569847106934,
          3.0818047523498535,
          -26.621381759643555,
          -9.332493782043457,
          6.040526866912842,
          -34.72574996948242,
          -8.844833374023438,
          -11.821106910705566,
          -9.512643814086914,
          -47.118507385253906,
          -29.371959686279297,
          -37.3115348815918,
          -40.442588806152344,
          -21.190534591674805,
          -25.449588775634766,
          0.12922802567481995,
          -53.36559295654297,
          -33.29157638549805,
          -48.768280029296875,
          -7.9999213218688965,
          -42.57350540161133,
          -10.966222763061523,
          -29.021236419677734,
          -49.26850891113281,
          -47.21018981933594,
          -46.23694610595703,
          -9.963127136230469,
          -9.96428108215332,
          1.4257310628890991,
          -27.09905433654785,
          0.9786653518676758,
          -45.75505828857422,
          -8.534289360046387,
          -53.8776969909668,
          -52.516868591308594,
          -38.79901123046875,
          -10.32019329071045,
          -42.16938400268555,
          -24.49378776550293,
          -10.616639137268066,
          -9.483612060546875,
          4.191234111785889,
          -43.33647918701172,
          -6.754118919372559,
          -10.420975685119629,
          -39.213558197021484,
          -9.675704002380371,
          -11.583146095275879,
          -39.03178787231445,
          -18.368602752685547,
          -5.256711483001709,
          -8.362174034118652,
          -52.977840423583984,
          -31.524778366088867,
          -10.444616317749023,
          -20.101490020751953,
          -3.345082998275757,
          -31.574951171875,
          -9.908456802368164,
          -0.009038761258125305,
          -40.00115203857422,
          -44.94933319091797,
          -14.945257186889648,
          -1.8910751342773438,
          -39.83843231201172,
          -12.163559913635254,
          -39.83918762207031,
          -15.934025764465332,
          -36.25918960571289,
          -46.450984954833984,
          -43.49593734741211,
          -40.49736785888672,
          -4.6282267570495605,
          -16.761310577392578,
          -29.3520450592041,
          -13.466292381286621,
          -5.7332024574279785,
          -19.989757537841797,
          -16.212238311767578,
          -25.102203369140625,
          -20.50344467163086,
          -22.587980270385742,
          -46.2061882019043,
          -35.20010757446289,
          -48.89756774902344,
          -39.51007080078125,
          -21.968088150024414,
          -56.278221130371094,
          -22.630680084228516,
          -11.363667488098145,
          -43.39824676513672,
          -50.89933395385742,
          -20.410303115844727,
          0.45977455377578735,
          -43.12363815307617,
          -49.147735595703125,
          -45.43486404418945,
          -54.254661560058594,
          -46.42235565185547,
          -9.091573715209961,
          -32.736331939697266,
          -23.868881225585938,
          -30.414121627807617,
          -21.315767288208008,
          -31.78987693786621,
          -31.62933349609375,
          -0.5867327451705933,
          -46.20014953613281,
          -17.936674118041992,
          -52.37782287597656,
          -50.27726364135742,
          -1.804154396057129,
          -42.81316375732422,
          -21.54280662536621,
          -46.32611846923828,
          -47.61827850341797,
          -34.725791931152344,
          -40.108638763427734,
          -49.57183837890625,
          -8.710171699523926,
          -36.15733337402344,
          -8.326238632202148,
          -35.611976623535156,
          -54.33394241333008,
          -49.55751037597656,
          -32.54974365234375,
          -49.39313507080078,
          -45.25251007080078,
          -18.564193725585938,
          -22.695621490478516,
          -44.38541030883789,
          -31.570436477661133,
          -29.656177520751953,
          -12.234636306762695,
          -47.504032135009766,
          -8.47464656829834,
          -13.221495628356934,
          -49.94192886352539,
          -25.194290161132812,
          -4.363593101501465,
          -37.285823822021484,
          3.333994150161743,
          -11.6312837600708,
          -49.05197525024414,
          -9.577218055725098,
          -25.927318572998047,
          -16.122236251831055,
          -29.840734481811523,
          -27.773744583129883,
          2.982805013656616,
          -21.22862434387207,
          -33.61764907836914,
          -54.85953903198242,
          -27.982454299926758,
          -27.15632438659668,
          -47.396873474121094,
          -33.040462493896484,
          -7.127869129180908,
          5.679373741149902,
          -49.9956169128418,
          -41.52278518676758,
          -24.34823226928711,
          -6.8019304275512695,
          2.386908769607544,
          4.392825603485107,
          -28.051687240600586,
          2.3861496448516846,
          -1.9086130857467651,
          -41.28720474243164,
          -16.989519119262695,
          -19.31516456604004,
          -43.006473541259766,
          5.665425777435303,
          -44.95077896118164,
          -10.520527839660645,
          -12.775074005126953,
          -5.778014659881592,
          5.678845405578613,
          1.722598671913147,
          4.8570556640625,
          4.116817474365234,
          -21.13028335571289,
          1.363271713256836,
          -49.85772705078125,
          -41.33382797241211,
          -25.324562072753906,
          1.128953456878662,
          1.3453648090362549,
          -23.98647117614746,
          -38.62379837036133,
          -23.852596282958984,
          -20.332489013671875,
          -46.80816650390625,
          -45.35307693481445,
          -41.87151336669922,
          -13.054795265197754,
          -44.94819259643555,
          -22.388216018676758,
          -45.48363494873047,
          -17.590883255004883,
          -2.916900873184204,
          -44.67671585083008,
          -5.370123863220215,
          -54.30725860595703,
          -44.86456298828125,
          -47.904109954833984,
          -45.969547271728516,
          -9.869400978088379,
          -42.04690933227539,
          -53.40439224243164,
          1.2917766571044922,
          -7.140409469604492,
          -17.279661178588867,
          -33.45071792602539,
          -26.285327911376953,
          -54.84403991699219,
          -0.13250160217285156,
          -36.11126708984375,
          -1.2095177173614502,
          -5.8923258781433105,
          -22.425888061523438,
          -32.544857025146484,
          -45.6900749206543,
          -7.443547248840332,
          -7.478296279907227,
          -50.923004150390625,
          -29.53314208984375,
          -31.731298446655273,
          -46.82809066772461,
          -51.92302322387695,
          -29.653785705566406,
          -26.07037353515625,
          -8.217585563659668,
          -32.77024459838867,
          -39.44038772583008,
          -53.366912841796875,
          -39.74533462524414,
          -12.608070373535156,
          -47.64672088623047,
          -48.19688415527344,
          -3.8255786895751953,
          -20.986085891723633,
          -20.828601837158203,
          -30.148029327392578,
          -39.32460021972656,
          -45.97690200805664,
          -50.439292907714844,
          -34.95674514770508,
          -39.174598693847656,
          1.766313910484314,
          -8.737433433532715,
          -47.376224517822266,
          -33.1536865234375,
          -2.41094708442688,
          -40.660743713378906,
          5.518450736999512,
          -48.21416473388672,
          -9.213582038879395,
          -47.07763671875,
          -12.167984008789062,
          4.345998287200928,
          -27.898849487304688,
          -53.34907150268555,
          -28.120939254760742,
          0.9432090520858765,
          -50.38392639160156,
          -12.72924518585205,
          -36.97353744506836,
          -44.111148834228516,
          -17.95595932006836,
          -43.319236755371094,
          -24.75518226623535,
          -7.050031661987305,
          -21.900177001953125,
          -17.521066665649414,
          -27.83139419555664,
          -14.270572662353516,
          -24.810016632080078,
          -46.509681701660156,
          -33.43717575073242,
          -25.995067596435547,
          -50.18092727661133,
          -49.08701705932617,
          -51.96186447143555,
          -43.07103729248047,
          -36.527835845947266,
          -8.718860626220703,
          -27.8740291595459,
          3.6274728775024414,
          -51.734920501708984,
          -2.753998041152954,
          -37.933319091796875,
          -45.350311279296875,
          -29.706125259399414,
          -45.061763763427734,
          -44.59739685058594,
          -23.896648406982422,
          -43.150291442871094,
          -20.462617874145508,
          -51.81073760986328,
          -25.337404251098633,
          -36.49341583251953,
          -44.55316925048828,
          -12.423413276672363,
          -48.82863998413086,
          -37.75383758544922,
          -26.649398803710938,
          4.564188003540039,
          0.7259003520011902,
          -27.341909408569336,
          -36.26888656616211,
          -33.00639343261719,
          1.9659063816070557,
          -44.604652404785156,
          -1.8511604070663452,
          -48.809837341308594,
          -48.65861892700195,
          -47.30261993408203,
          4.278419017791748,
          -0.7873402237892151,
          -37.72213363647461,
          -10.571640014648438,
          -46.367027282714844,
          -26.142072677612305,
          -1.8085516691207886,
          2.5859317779541016,
          -21.097684860229492,
          2.7907872200012207,
          -15.022180557250977,
          -47.88645935058594,
          -1.4382818937301636,
          -56.525413513183594,
          -0.8510775566101074,
          -50.96437072753906,
          -32.60209274291992,
          -30.44125747680664,
          -6.557564735412598,
          -24.621795654296875,
          -33.28799819946289,
          -52.2442626953125,
          -7.159778594970703,
          -28.548547744750977,
          -4.666181564331055,
          -22.93255615234375,
          -29.99041175842285,
          0.09981328994035721,
          -21.169340133666992,
          -10.342474937438965,
          -41.30223083496094,
          -49.65397262573242,
          -56.8903923034668,
          -47.129127502441406,
          -51.098026275634766,
          -46.1484375,
          -3.559147834777832,
          -23.745920181274414,
          -54.205650329589844,
          -11.157012939453125,
          -30.212543487548828,
          -51.71167755126953,
          -23.613191604614258,
          -43.69268798828125,
          3.5132553577423096,
          -14.700369834899902,
          -39.83551788330078,
          -43.12701416015625,
          -22.541297912597656,
          6.744722843170166,
          -17.6533203125,
          -7.4150166511535645,
          -8.82078742980957,
          -6.49191427230835,
          -37.968929290771484,
          -34.98068618774414,
          -19.792842864990234,
          -9.662346839904785,
          -4.856368541717529,
          -26.1944637298584,
          -8.36904239654541,
          -34.43560791015625,
          -47.91123962402344,
          -25.141437530517578,
          -12.965813636779785,
          -52.73206329345703,
          -46.02206802368164,
          -27.09773063659668,
          -50.288917541503906,
          3.064112901687622,
          -2.3623273372650146,
          -15.553409576416016,
          7.676905155181885,
          -54.53512191772461,
          -41.526832580566406,
          -54.81258773803711,
          -10.703718185424805,
          -41.762874603271484,
          -16.481618881225586,
          -16.936635971069336,
          -47.5324821472168,
          -41.16011047363281,
          -7.925308704376221,
          6.768163204193115,
          -7.148813724517822,
          -50.98707580566406,
          -31.737422943115234,
          -39.267215728759766,
          -41.14384078979492,
          -31.72293472290039,
          -53.60546112060547,
          -1.39841628074646,
          -2.67453670501709,
          -29.946189880371094,
          -4.254159450531006,
          -45.60950469970703,
          5.150001525878906,
          -26.915573120117188,
          -45.829566955566406,
          -51.55094909667969,
          -6.721105575561523,
          -17.448871612548828,
          -45.98237991333008,
          -31.671411514282227,
          -4.534040927886963,
          -2.385347604751587,
          -26.59763526916504,
          1.4016927480697632,
          0.8188465237617493,
          -25.388004302978516,
          -51.54930877685547,
          -44.8818244934082,
          -40.03611373901367,
          -43.76402282714844,
          -46.852455139160156,
          -20.177366256713867,
          -30.56416893005371,
          -51.2978630065918,
          -44.46230697631836,
          -18.98130226135254,
          0.6225359439849854,
          -6.129461288452148,
          -52.234474182128906,
          -45.29503631591797,
          -2.172636032104492,
          -42.61170196533203,
          -22.928878784179688,
          -3.4782485961914062,
          -33.36660385131836,
          -3.2289540767669678,
          -8.86999797821045,
          -24.9753475189209,
          -34.070335388183594,
          -0.9968820810317993,
          -26.181476593017578,
          -2.110624074935913,
          -47.099246978759766,
          3.544754981994629,
          -6.68516206741333,
          -33.447303771972656,
          -29.256179809570312,
          -49.366825103759766,
          -24.699609756469727,
          -14.121448516845703,
          -28.779491424560547,
          -53.48735046386719,
          -29.42146110534668,
          -26.98105812072754,
          4.331033706665039,
          -51.88959503173828,
          -55.5152587890625,
          -27.991044998168945,
          -47.190616607666016,
          -14.643073081970215,
          -21.637725830078125,
          -23.933460235595703,
          -19.113128662109375,
          -28.763547897338867,
          -8.676863670349121,
          -0.4190026819705963,
          -49.86555480957031,
          2.5160179138183594,
          5.516085624694824,
          -38.006141662597656,
          -0.22484979033470154,
          -3.8817341327667236,
          -0.9865833520889282,
          -6.837144374847412,
          -46.0037841796875,
          0.3098162114620209,
          -38.64015579223633,
          2.2102904319763184,
          -51.516117095947266,
          -45.73856735229492,
          -21.285247802734375,
          -44.98593521118164,
          -43.18669891357422,
          -55.32386779785156,
          -35.07960510253906,
          -1.6202020645141602,
          -0.4005395770072937,
          -31.484622955322266,
          1.2273356914520264,
          -8.622050285339355,
          -36.19395446777344,
          -55.080326080322266,
          -5.1811113357543945,
          -55.66436767578125,
          2.5920233726501465,
          -8.248817443847656,
          -43.39080810546875,
          -3.1571760177612305,
          -31.663110733032227,
          -24.893278121948242,
          -30.893199920654297,
          -49.7061767578125,
          -57.03627014160156,
          -32.40941619873047,
          -32.972267150878906,
          -6.548304080963135,
          -56.66731643676758,
          -43.663917541503906,
          -21.645845413208008,
          -27.23775291442871,
          -19.865665435791016,
          -46.69886779785156,
          -54.292484283447266,
          -31.262361526489258,
          -13.972982406616211,
          -4.807367324829102,
          -36.427127838134766,
          -37.977169036865234,
          -47.4033203125,
          -51.62334442138672,
          -25.0047664642334,
          -49.60882568359375,
          -55.555992126464844,
          -27.793222427368164,
          -34.40958786010742,
          -40.64494705200195,
          -25.367420196533203,
          -53.72209930419922,
          -46.691864013671875,
          -51.89720916748047,
          -11.240276336669922,
          -47.961158752441406,
          -6.28535270690918,
          -3.8693034648895264,
          -51.78171157836914,
          -16.496681213378906,
          -40.16029739379883,
          -4.715639591217041,
          -29.634111404418945,
          -6.452258110046387,
          -24.52675437927246,
          -23.351806640625,
          -10.056805610656738,
          -22.86463165283203,
          -36.502037048339844,
          -5.868216514587402,
          -21.694107055664062
         ]
        },
        {
         "marker": {
          "color": "green",
          "size": 5
         },
         "mode": "markers",
         "name": "GK",
         "opacity": 0.4,
         "text": [],
         "type": "scatter",
         "x": [],
         "y": []
        },
        {
         "mode": "text",
         "name": "Top player",
         "opacity": 0.9,
         "text": [
          "L. Messi",
          "Cristiano Ronaldo",
          "Neymar Jr",
          "J. Oblak",
          "E. Hazard",
          "K. De Bruyne",
          "M. ter Stegen",
          "V. van Dijk",
          "L. Modrić",
          "M. Salah",
          "K. Mbappé",
          "K. Koulibaly",
          "H. Kane",
          "Alisson",
          "De Gea",
          "N. Kanté",
          "G. Chiellini",
          "S. Agüero",
          "Sergio Ramos",
          "L. Suárez",
          "R. Lewandowski",
          "Sergio Busquets",
          "A. Griezmann",
          "P. Dybala",
          "P. Pogba",
          "Ederson",
          "R. Sterling",
          "C. Eriksen",
          "T. Courtois",
          "Piqué",
          "S. Handanovič",
          "M. Neuer",
          "H. Lloris",
          "David Silva",
          "E. Cavani",
          "D. Godín",
          "T. Kroos",
          "M. Reus",
          "P. Aubameyang",
          "S. Mané",
          "A. Laporte",
          "Bernardo Silva",
          "Casemiro",
          "H. Son",
          "Fernandinho",
          "Thiago Silva",
          "K. Benzema",
          "J. Vertonghen",
          "D. Mertens",
          "M. Hummels",
          "T. Alderweireld",
          "Jordi Alba",
          "Thiago",
          "K. Navas",
          "L. Insigne",
          "L. Sané",
          "Marquinhos",
          "M. Škriniar",
          "M. Verratti",
          "S. Umtiti",
          "W. Szczęsny",
          "J. Kimmich",
          "Isco",
          "Roberto Firmino",
          "I. Rakitić",
          "M. Pjanić",
          "A. Di María",
          "L. Bonucci",
          "Coutinho",
          "Parejo",
          "T. Müller",
          "C. Immobile",
          "A. Lacazette"
         ],
         "textfont": {
          "color": "black",
          "family": "sans serif",
          "size": 16
         },
         "type": "scatter",
         "x": [
          21.346641540527344,
          21.965612411499023,
          22.414840698242188,
          -7.1126861572265625,
          22.501680374145508,
          11.824459075927734,
          -20.416284561157227,
          -12.582695960998535,
          8.45720100402832,
          21.862079620361328,
          22.977800369262695,
          -44.66605758666992,
          34.1467399597168,
          -15.133413314819336,
          -12.799661636352539,
          -23.38040542602539,
          -43.34465026855469,
          39.16899108886719,
          -1.4824278354644775,
          34.374122619628906,
          40.30632400512695,
          5.808440208435059,
          11.97880744934082,
          22.968042373657227,
          11.846138954162598,
          -12.303084373474121,
          26.71110725402832,
          18.727048873901367,
          -9.430423736572266,
          -8.430245399475098,
          -14.0488920211792,
          -14.56089973449707,
          -14.163656234741211,
          21.01972198486328,
          34.8159294128418,
          -23.4573917388916,
          12.636616706848145,
          19.698766708374023,
          22.380205154418945,
          23.14824676513672,
          -22.38528060913086,
          18.406803131103516,
          -1.605232834815979,
          21.583337783813477,
          -0.817771315574646,
          -11.777094841003418,
          32.058128356933594,
          -10.907161712646484,
          21.655975341796875,
          -8.368470191955566,
          -11.749577522277832,
          -9.983880043029785,
          8.454235076904297,
          -13.388678550720215,
          26.946630477905273,
          23.68012237548828,
          -34.092716217041016,
          -43.691287994384766,
          -0.36330080032348633,
          -11.83651351928711,
          -14.783352851867676,
          -12.710395812988281,
          19.767559051513672,
          12.817913055419922,
          8.79811954498291,
          -0.6804072856903076,
          19.6286678314209,
          -10.685516357421875,
          17.224308013916016,
          12.680745124816895,
          16.170934677124023,
          40.45867156982422,
          40.041595458984375
         ],
         "y": [
          31.956605911254883,
          33.0709342956543,
          32.06820297241211,
          58.05869674682617,
          31.84593391418457,
          5.812809944152832,
          55.14445877075195,
          -32.72466278076172,
          1.980685830116272,
          28.93214225769043,
          28.463939666748047,
          -41.85478973388672,
          -5.944809436798096,
          51.84494400024414,
          65.92213439941406,
          -7.064587593078613,
          -34.147735595703125,
          17.71869659423828,
          -12.56021785736084,
          -5.985795497894287,
          15.920406341552734,
          -31.692270278930664,
          7.868458271026611,
          31.621349334716797,
          5.286492824554443,
          66.0651626586914,
          33.79769515991211,
          3.905020236968994,
          58.202247619628906,
          -34.743309020996094,
          59.290042877197266,
          66.81777954101562,
          66.69039154052734,
          1.7002087831497192,
          -6.002038955688477,
          -42.10874938964844,
          -21.428977966308594,
          29.229198455810547,
          30.380929946899414,
          27.299983978271484,
          -35.4405403137207,
          23.710391998291016,
          -19.6826114654541,
          27.41352653503418,
          -20.2711124420166,
          -34.07232666015625,
          -3.1907906532287598,
          -33.38405990600586,
          31.309032440185547,
          -34.512718200683594,
          -33.73775863647461,
          8.551783561706543,
          1.895150065422058,
          60.69523620605469,
          33.76654052734375,
          28.635854721069336,
          -22.249942779541016,
          -39.15385055541992,
          -20.97197151184082,
          -32.81451416015625,
          61.03815841674805,
          10.227298736572266,
          1.840477705001831,
          6.556972503662109,
          -12.066033363342285,
          -8.118922233581543,
          23.881420135498047,
          -35.50579071044922,
          23.332897186279297,
          -21.486007690429688,
          6.229173183441162,
          15.891777038574219,
          16.137710571289062
         ]
        }
       ],
       "layout": {
        "autosize": false,
        "height": 1150,
        "template": {
         "data": {
          "bar": [
           {
            "error_x": {
             "color": "#2a3f5f"
            },
            "error_y": {
             "color": "#2a3f5f"
            },
            "marker": {
             "line": {
              "color": "#E5ECF6",
              "width": 0.5
             }
            },
            "type": "bar"
           }
          ],
          "barpolar": [
           {
            "marker": {
             "line": {
              "color": "#E5ECF6",
              "width": 0.5
             }
            },
            "type": "barpolar"
           }
          ],
          "carpet": [
           {
            "aaxis": {
             "endlinecolor": "#2a3f5f",
             "gridcolor": "white",
             "linecolor": "white",
             "minorgridcolor": "white",
             "startlinecolor": "#2a3f5f"
            },
            "baxis": {
             "endlinecolor": "#2a3f5f",
             "gridcolor": "white",
             "linecolor": "white",
             "minorgridcolor": "white",
             "startlinecolor": "#2a3f5f"
            },
            "type": "carpet"
           }
          ],
          "choropleth": [
           {
            "colorbar": {
             "outlinewidth": 0,
             "ticks": ""
            },
            "type": "choropleth"
           }
          ],
          "contour": [
           {
            "colorbar": {
             "outlinewidth": 0,
             "ticks": ""
            },
            "colorscale": [
             [
              0,
              "#0d0887"
             ],
             [
              0.1111111111111111,
              "#46039f"
             ],
             [
              0.2222222222222222,
              "#7201a8"
             ],
             [
              0.3333333333333333,
              "#9c179e"
             ],
             [
              0.4444444444444444,
              "#bd3786"
             ],
             [
              0.5555555555555556,
              "#d8576b"
             ],
             [
              0.6666666666666666,
              "#ed7953"
             ],
             [
              0.7777777777777778,
              "#fb9f3a"
             ],
             [
              0.8888888888888888,
              "#fdca26"
             ],
             [
              1,
              "#f0f921"
             ]
            ],
            "type": "contour"
           }
          ],
          "contourcarpet": [
           {
            "colorbar": {
             "outlinewidth": 0,
             "ticks": ""
            },
            "type": "contourcarpet"
           }
          ],
          "heatmap": [
           {
            "colorbar": {
             "outlinewidth": 0,
             "ticks": ""
            },
            "colorscale": [
             [
              0,
              "#0d0887"
             ],
             [
              0.1111111111111111,
              "#46039f"
             ],
             [
              0.2222222222222222,
              "#7201a8"
             ],
             [
              0.3333333333333333,
              "#9c179e"
             ],
             [
              0.4444444444444444,
              "#bd3786"
             ],
             [
              0.5555555555555556,
              "#d8576b"
             ],
             [
              0.6666666666666666,
              "#ed7953"
             ],
             [
              0.7777777777777778,
              "#fb9f3a"
             ],
             [
              0.8888888888888888,
              "#fdca26"
             ],
             [
              1,
              "#f0f921"
             ]
            ],
            "type": "heatmap"
           }
          ],
          "heatmapgl": [
           {
            "colorbar": {
             "outlinewidth": 0,
             "ticks": ""
            },
            "colorscale": [
             [
              0,
              "#0d0887"
             ],
             [
              0.1111111111111111,
              "#46039f"
             ],
             [
              0.2222222222222222,
              "#7201a8"
             ],
             [
              0.3333333333333333,
              "#9c179e"
             ],
             [
              0.4444444444444444,
              "#bd3786"
             ],
             [
              0.5555555555555556,
              "#d8576b"
             ],
             [
              0.6666666666666666,
              "#ed7953"
             ],
             [
              0.7777777777777778,
              "#fb9f3a"
             ],
             [
              0.8888888888888888,
              "#fdca26"
             ],
             [
              1,
              "#f0f921"
             ]
            ],
            "type": "heatmapgl"
           }
          ],
          "histogram": [
           {
            "marker": {
             "colorbar": {
              "outlinewidth": 0,
              "ticks": ""
             }
            },
            "type": "histogram"
           }
          ],
          "histogram2d": [
           {
            "colorbar": {
             "outlinewidth": 0,
             "ticks": ""
            },
            "colorscale": [
             [
              0,
              "#0d0887"
             ],
             [
              0.1111111111111111,
              "#46039f"
             ],
             [
              0.2222222222222222,
              "#7201a8"
             ],
             [
              0.3333333333333333,
              "#9c179e"
             ],
             [
              0.4444444444444444,
              "#bd3786"
             ],
             [
              0.5555555555555556,
              "#d8576b"
             ],
             [
              0.6666666666666666,
              "#ed7953"
             ],
             [
              0.7777777777777778,
              "#fb9f3a"
             ],
             [
              0.8888888888888888,
              "#fdca26"
             ],
             [
              1,
              "#f0f921"
             ]
            ],
            "type": "histogram2d"
           }
          ],
          "histogram2dcontour": [
           {
            "colorbar": {
             "outlinewidth": 0,
             "ticks": ""
            },
            "colorscale": [
             [
              0,
              "#0d0887"
             ],
             [
              0.1111111111111111,
              "#46039f"
             ],
             [
              0.2222222222222222,
              "#7201a8"
             ],
             [
              0.3333333333333333,
              "#9c179e"
             ],
             [
              0.4444444444444444,
              "#bd3786"
             ],
             [
              0.5555555555555556,
              "#d8576b"
             ],
             [
              0.6666666666666666,
              "#ed7953"
             ],
             [
              0.7777777777777778,
              "#fb9f3a"
             ],
             [
              0.8888888888888888,
              "#fdca26"
             ],
             [
              1,
              "#f0f921"
             ]
            ],
            "type": "histogram2dcontour"
           }
          ],
          "mesh3d": [
           {
            "colorbar": {
             "outlinewidth": 0,
             "ticks": ""
            },
            "type": "mesh3d"
           }
          ],
          "parcoords": [
           {
            "line": {
             "colorbar": {
              "outlinewidth": 0,
              "ticks": ""
             }
            },
            "type": "parcoords"
           }
          ],
          "pie": [
           {
            "automargin": true,
            "type": "pie"
           }
          ],
          "scatter": [
           {
            "marker": {
             "colorbar": {
              "outlinewidth": 0,
              "ticks": ""
             }
            },
            "type": "scatter"
           }
          ],
          "scatter3d": [
           {
            "line": {
             "colorbar": {
              "outlinewidth": 0,
              "ticks": ""
             }
            },
            "marker": {
             "colorbar": {
              "outlinewidth": 0,
              "ticks": ""
             }
            },
            "type": "scatter3d"
           }
          ],
          "scattercarpet": [
           {
            "marker": {
             "colorbar": {
              "outlinewidth": 0,
              "ticks": ""
             }
            },
            "type": "scattercarpet"
           }
          ],
          "scattergeo": [
           {
            "marker": {
             "colorbar": {
              "outlinewidth": 0,
              "ticks": ""
             }
            },
            "type": "scattergeo"
           }
          ],
          "scattergl": [
           {
            "marker": {
             "colorbar": {
              "outlinewidth": 0,
              "ticks": ""
             }
            },
            "type": "scattergl"
           }
          ],
          "scattermapbox": [
           {
            "marker": {
             "colorbar": {
              "outlinewidth": 0,
              "ticks": ""
             }
            },
            "type": "scattermapbox"
           }
          ],
          "scatterpolar": [
           {
            "marker": {
             "colorbar": {
              "outlinewidth": 0,
              "ticks": ""
             }
            },
            "type": "scatterpolar"
           }
          ],
          "scatterpolargl": [
           {
            "marker": {
             "colorbar": {
              "outlinewidth": 0,
              "ticks": ""
             }
            },
            "type": "scatterpolargl"
           }
          ],
          "scatterternary": [
           {
            "marker": {
             "colorbar": {
              "outlinewidth": 0,
              "ticks": ""
             }
            },
            "type": "scatterternary"
           }
          ],
          "surface": [
           {
            "colorbar": {
             "outlinewidth": 0,
             "ticks": ""
            },
            "colorscale": [
             [
              0,
              "#0d0887"
             ],
             [
              0.1111111111111111,
              "#46039f"
             ],
             [
              0.2222222222222222,
              "#7201a8"
             ],
             [
              0.3333333333333333,
              "#9c179e"
             ],
             [
              0.4444444444444444,
              "#bd3786"
             ],
             [
              0.5555555555555556,
              "#d8576b"
             ],
             [
              0.6666666666666666,
              "#ed7953"
             ],
             [
              0.7777777777777778,
              "#fb9f3a"
             ],
             [
              0.8888888888888888,
              "#fdca26"
             ],
             [
              1,
              "#f0f921"
             ]
            ],
            "type": "surface"
           }
          ],
          "table": [
           {
            "cells": {
             "fill": {
              "color": "#EBF0F8"
             },
             "line": {
              "color": "white"
             }
            },
            "header": {
             "fill": {
              "color": "#C8D4E3"
             },
             "line": {
              "color": "white"
             }
            },
            "type": "table"
           }
          ]
         },
         "layout": {
          "annotationdefaults": {
           "arrowcolor": "#2a3f5f",
           "arrowhead": 0,
           "arrowwidth": 1
          },
          "coloraxis": {
           "colorbar": {
            "outlinewidth": 0,
            "ticks": ""
           }
          },
          "colorscale": {
           "diverging": [
            [
             0,
             "#8e0152"
            ],
            [
             0.1,
             "#c51b7d"
            ],
            [
             0.2,
             "#de77ae"
            ],
            [
             0.3,
             "#f1b6da"
            ],
            [
             0.4,
             "#fde0ef"
            ],
            [
             0.5,
             "#f7f7f7"
            ],
            [
             0.6,
             "#e6f5d0"
            ],
            [
             0.7,
             "#b8e186"
            ],
            [
             0.8,
             "#7fbc41"
            ],
            [
             0.9,
             "#4d9221"
            ],
            [
             1,
             "#276419"
            ]
           ],
           "sequential": [
            [
             0,
             "#0d0887"
            ],
            [
             0.1111111111111111,
             "#46039f"
            ],
            [
             0.2222222222222222,
             "#7201a8"
            ],
            [
             0.3333333333333333,
             "#9c179e"
            ],
            [
             0.4444444444444444,
             "#bd3786"
            ],
            [
             0.5555555555555556,
             "#d8576b"
            ],
            [
             0.6666666666666666,
             "#ed7953"
            ],
            [
             0.7777777777777778,
             "#fb9f3a"
            ],
            [
             0.8888888888888888,
             "#fdca26"
            ],
            [
             1,
             "#f0f921"
            ]
           ],
           "sequentialminus": [
            [
             0,
             "#0d0887"
            ],
            [
             0.1111111111111111,
             "#46039f"
            ],
            [
             0.2222222222222222,
             "#7201a8"
            ],
            [
             0.3333333333333333,
             "#9c179e"
            ],
            [
             0.4444444444444444,
             "#bd3786"
            ],
            [
             0.5555555555555556,
             "#d8576b"
            ],
            [
             0.6666666666666666,
             "#ed7953"
            ],
            [
             0.7777777777777778,
             "#fb9f3a"
            ],
            [
             0.8888888888888888,
             "#fdca26"
            ],
            [
             1,
             "#f0f921"
            ]
           ]
          },
          "colorway": [
           "#636efa",
           "#EF553B",
           "#00cc96",
           "#ab63fa",
           "#FFA15A",
           "#19d3f3",
           "#FF6692",
           "#B6E880",
           "#FF97FF",
           "#FECB52"
          ],
          "font": {
           "color": "#2a3f5f"
          },
          "geo": {
           "bgcolor": "white",
           "lakecolor": "white",
           "landcolor": "#E5ECF6",
           "showlakes": true,
           "showland": true,
           "subunitcolor": "white"
          },
          "hoverlabel": {
           "align": "left"
          },
          "hovermode": "closest",
          "mapbox": {
           "style": "light"
          },
          "paper_bgcolor": "white",
          "plot_bgcolor": "#E5ECF6",
          "polar": {
           "angularaxis": {
            "gridcolor": "white",
            "linecolor": "white",
            "ticks": ""
           },
           "bgcolor": "#E5ECF6",
           "radialaxis": {
            "gridcolor": "white",
            "linecolor": "white",
            "ticks": ""
           }
          },
          "scene": {
           "xaxis": {
            "backgroundcolor": "#E5ECF6",
            "gridcolor": "white",
            "gridwidth": 2,
            "linecolor": "white",
            "showbackground": true,
            "ticks": "",
            "zerolinecolor": "white"
           },
           "yaxis": {
            "backgroundcolor": "#E5ECF6",
            "gridcolor": "white",
            "gridwidth": 2,
            "linecolor": "white",
            "showbackground": true,
            "ticks": "",
            "zerolinecolor": "white"
           },
           "zaxis": {
            "backgroundcolor": "#E5ECF6",
            "gridcolor": "white",
            "gridwidth": 2,
            "linecolor": "white",
            "showbackground": true,
            "ticks": "",
            "zerolinecolor": "white"
           }
          },
          "shapedefaults": {
           "line": {
            "color": "#2a3f5f"
           }
          },
          "ternary": {
           "aaxis": {
            "gridcolor": "white",
            "linecolor": "white",
            "ticks": ""
           },
           "baxis": {
            "gridcolor": "white",
            "linecolor": "white",
            "ticks": ""
           },
           "bgcolor": "#E5ECF6",
           "caxis": {
            "gridcolor": "white",
            "linecolor": "white",
            "ticks": ""
           }
          },
          "title": {
           "x": 0.05
          },
          "xaxis": {
           "automargin": true,
           "gridcolor": "white",
           "linecolor": "white",
           "ticks": "",
           "title": {
            "standoff": 15
           },
           "zerolinecolor": "white",
           "zerolinewidth": 2
          },
          "yaxis": {
           "automargin": true,
           "gridcolor": "white",
           "linecolor": "white",
           "ticks": "",
           "title": {
            "standoff": 15
           },
           "zerolinecolor": "white",
           "zerolinewidth": 2
          }
         }
        },
        "title": {
         "font": {
          "size": 20
         },
         "text": "t-SNE - Fifa Players"
        },
        "width": 1150
       }
      },
      "text/html": [
       "<div>\n",
       "        \n",
       "        \n",
       "            <div id=\"a673b497-a814-48cd-b7a6-907f46765e12\" class=\"plotly-graph-div\" style=\"height:1150px; width:1150px;\"></div>\n",
       "            <script type=\"text/javascript\">\n",
       "                require([\"plotly\"], function(Plotly) {\n",
       "                    window.PLOTLYENV=window.PLOTLYENV || {};\n",
       "                    \n",
       "                if (document.getElementById(\"a673b497-a814-48cd-b7a6-907f46765e12\")) {\n",
       "                    Plotly.newPlot(\n",
       "                        'a673b497-a814-48cd-b7a6-907f46765e12',\n",
       "                        [{\"marker\": {\"color\": \"#A2D5F2\", \"size\": 5}, \"mode\": \"markers\", \"name\": \"Striker\", \"opacity\": 0.9, \"text\": [\"L. Messi\", \"Cristiano Ronaldo\", \"Neymar Jr\", \"E. Hazard\", \"M. Salah\", \"K. Mbapp\\u00e9\", \"H. Kane\", \"S. Ag\\u00fcero\", \"L. Su\\u00e1rez\", \"R. Lewandowski\", \"A. Griezmann\", \"R. Sterling\", \"E. Cavani\", \"P. Aubameyang\", \"S. Man\\u00e9\", \"Bernardo Silva\", \"H. Son\", \"K. Benzema\", \"D. Mertens\", \"L. Insigne\", \"L. San\\u00e9\", \"Roberto Firmino\", \"A. Di Mar\\u00eda\", \"Coutinho\", \"C. Immobile\", \"A. Lacazette\", \"R. Lukaku\", \"M. Icardi\", \"Z. Ibrahimovi\\u0107\", \"G. Higua\\u00edn\", \"G. Bale\", \"Iago Aspas\", \"O. Demb\\u00e9l\\u00e9\", \"M. Depay\", \"E. D\\u017eeko\", \"M. Mand\\u017euki\\u0107\", \"J. Ili\\u010di\\u0107\", \"R. Mahrez\", \"L. Jovi\\u0107\", \"A. Milik\", \"A. Martial\", \"M. Rashford\", \"T. Werner\", \"Marco Asensio\", \"Borja Iglesias\", \"W. Zaha\", \"Paco Alc\\u00e1cer\", \"Morata\", \"S. Haller\", \"Lucas Moura\", \"F. Thauvin\", \"F. Quagliarella\", \"Falcao\", \"C. Vela\", \"Diego Costa\", \"M. Kruse\", \"Rodrigo\", \"W. Ben Yedder\", \"A. Kramari\\u0107\", \"Louri Beretta\", \"Ronaldo Cabrais\", \"Oyarzabal\", \"L. Bailey\", \"Gabriel Jesus\", \"A. Belotti\", \"S. Bergwijn\", \"I\\u00f1aki Williams\", \"H. Lozano\", \"Suso\", \"M. G\\u00f6tze\", \"Willian Jos\\u00e9\", \"K. Volland\", \"Aduriz\", \"O. Giroud\", \"Willian\", \"M. Arnautovi\\u0107\", \"A. S\\u00e1nchez\", \"M. Balotelli\", \"B. Dost\", \"Pedro\", \"L. de Jong\", \"S. El Shaarawy\", \"X. Shaqiri\", \"C. Bakambu\", \"K. Bellarabi\", \"Q. Promes\", \"J. Vardy\", \"D. Zapata\", \"Morales\", \"L. Mart\\u00ednez\", \"David Neres\", \"J. Mart\\u00ednez\", \"A. Plea\", \"Y. Poulsen\", \"Gerard Moreno\", \"W. Weghorst\", \"L. L\\u00f3pez\", \"B. Gomis\", \"K. Gameiro\", \"S. Giovinco\", \"E. Zahavi\", \"Lucas V\\u00e1zquez\", \"M. Acu\\u00f1a\", \"L. D\\u00e1lves\", \"S. Mand\\u00edquez\", \"Jo\\u00e3o F\\u00e9lix\", \"K. Pi\\u0105tek\", \"Diogo Jota\", \"M. Demb\\u00e9l\\u00e9\", \"Santi Mina\", \"J. Correa\", \"M. G\\u00f3mez\", \"Loren\", \"Deulofeu\", \"A. Rebi\\u0107\", \"M. Almir\\u00f3n\", \"C. Wilson\", \"Portu\", \"H. \\u00c7alhano\\u011flu\", \"M. Dabbur\", \"W. Rooney\", \"Nani\", \"A. Gignac\", \"Jorge Molina\", \"Charles\", \"I. Piatti\", \"D. Perotti\", \"L. Pratto\", \"L. Stindl\", \"F. Smolov\", \"Sergi Enrich\", \"L. Muriel\", \"S. Berghuis\", \"S. Zaza\", \"R. Jim\\u00e9nez\", \"Mata\", \"M. Marega\", \"Vin\\u00edcius Jr.\", \"F. Chiesa\", \"A. Saint-Maximin\", \"C. Pav\\u00f3n\", \"C. Pulisic\", \"De Tom\\u00e1s\", \"M. Rashica\", \"Wesley\", \"A. Januzaj\", \"Munir\", \"Andr\\u00e9 Silva\", \"Raphinha\", \"L. Trossard\", \"M. Batshuayi\", \"Ricardo Horta\", \"L. Alario\", \"Mariano\", \"M. Samatta\", \"K. Toko-Ekambi\", \"J. King\", \"H. Seferovi\\u0107\", \"Leo Baptistao\", \"Wu Lei\", \"David Villa\", \"B. Y\\u0131lmaz\", \"E. Lavezzi\", \"K. Boateng\", \"\\u00c1ngel\", \"\\u00c9der\", \"A. Modeste\", \"M. Gradel\", \"N. Kalini\\u0107\", \"C. Stuani\", \"Alex Teixeira\", \"S. Rond\\u00f3n\", \"Iago Falqu\\u00e9\", \"Elkeson\", \"Kike Garc\\u00eda\", \"I. Belfodil\", \"W. Khazri\", \"Z\\u00e9 Lu\\u00eds\", \"C. Bacca\", \"A. Hamdallah\", \"D. Benedetto\", \"Dyego Sousa\", \"Soares\", \"Luimo Boas Santos\", \"E. Aguerro\", \"C. \\u00dcnder\", \"M. \\u00d8degaard\", \"J. Mateta\", \"Joelinton\", \"G. Laborde\", \"R. De Paul\", \"D. Selke\", \"D. Origi\", \"B. Traor\\u00e9\", \"A. Mitrovi\\u0107\", \"D. Berardi\", \"Ayoze P\\u00e9rez\", \"Bruma\", \"A. Delort\", \"V. Aboubakar\", \"M. Uth\", \"M. Diagne\", \"Raffael\", \"M. Z\\u00e1rate\", \"G. Hoarau\", \"Gervinho\", \"F. Caicedo\", \"D. Mbokani\", \"J. Hern\\u00e1ndez\", \"S. Joveti\\u0107\", \"T. Deeney\", \"N. Petersen\", \"S. Wagner\", \"D. Welbeck\", \"A. Barnes\", \"A. Dzyuba\", \"Alan Carvalho\", \"A. Mehmedi\", \"D. Ginczek\", \"A. Finnbogason\", \"G. Defrel\", \"S. Garc\\u00eda\", \"Djaniny\", \"L. Pavoletti\", \"G. Cano\", \"O. Al Soma\", \"J\\u00fanior Moraes\", \"P. Cutrone\", \"M. Vargas\", \"G. Simeone\", \"A. Sanabria\", \"R. Borr\\u00e9\", \"E. \\u00dcnal\", \"E. Boateng\", \"Galeno\", \"P. Sisto\", \"D. Calvert-Lewin\", \"Borja Mayoral\", \"C\\u00f3rdoba\", \"F. Acheampong\", \"A. Petagna\", \"M. Niang\", \"B. Fern\\u00e1ndez\", \"I. Bebou\", \"Paulinho\", \"Trezeguet\", \"C. Wood\", \"Juanmi\", \"N. F\\u00fcllkrug\", \"Rub\\u00e9n Sobrino\", \"M. Meza\", \"K. Lasagna\", \"J\\u00f4\", \"K. Huntelaar\", \"D. Cvitanich\", \"V. Ibi\\u0161evi\\u0107\", \"G. Pell\\u00e8\", \"B. Wright-Phillips\", \"I. Scocco\", \"G. Murray\", \"M. Berg\", \"L. R\\u00e9my\", \"G. Sio\", \"M. Dossevi\", \"Alan Kardec\", \"O. Ighalo\", \"M. Su\\u00e1rez\", \"G. Bou\", \"T. Pukki\", \"Johnathan\", \"L. Rodr\\u00edguez\", \"C. Tosun\", \"G. Burgstaller\", \"Y. El Arabi\", \"R. Funes Mori\", \"Sergio Le\\u00f3n\", \"Lucas P\\u00e9rez\", \"Wilson Eduardo\", \"Roger\", \"F. Ferreyra\", \"R. \\u00c1bila\", \"Sergi Guardiola\", \"Formosandrinho\", \"M. Kean\", \"Rodrygo\", \"B. Embolo\", \"T. Abraham\", \"D. Malen\", \"F. Chalov\", \"I. Pussetto\", \"K. Dolberg\", \"J. Brekalo\", \"M. Terrier\", \"J. Augustin\", \"P. Schick\", \"Y. En-Nesyri\", \"M. Cornet\", \"Gon\\u00e7alo Paci\\u00eancia\", \"L. Waldschmidt\", \"M. Livaja\", \"F. Kamano\", \"J. Locadia\", \"J. C\\u00f3rdoba\", \"F. Di Francesco\", \"F. Andone\", \"D. Ings\", \"M. Gabbiadini\", \"J. Guidetti\", \"F. Klaus\", \"J. Campbell\", \"Luiz Phellype\", \"J. Defoe\", \"J. Briand\", \"Soldado\", \"M. G\\u00f3mez\", \"J. Sand\", \"R. Palacio\", \"J. Rodriguez\", \"Adri\\u00e1n\", \"J. Altidore\", \"O. Toivonen\", \"E. Choupo-Moting\", \"S. Terodde\", \"A. Szalai\", \"F. Borini\", \"L. Acosta\", \"D. Quintero\", \"Y. \\u014csako\", \"A. Sch\\u00fcrrle\", \"A. Gray\", \"D. Pab\\u00f3n\", \"J. Mart\\u00ednez\", \"T. Guti\\u00e9rrez\", \"Jo\\u00e3o Pedro\", \"R. Inglese\", \"N. J\\u00f8rgensen\", \"E. Gigliotti\", \"A. Knockaert\", \"R. Ruid\\u00edaz\", \"D. Gayle\", \"R. Steffen\", \"J. Izquierdo\", \"E. Valencia\", \"A. Mena\", \"D\\u00eanildo Stein\", \"Y. Kobayashi\", \"A. Vera\", \"C. Stengs\", \"J. Kluivert\", \"Manu Vallejo\", \"Rafael Le\\u00e3o\", \"H. Wilson\", \"H. Barnes\", \"K. Diatta\", \"Carlos Fern\\u00e1ndez\", \"A. Morelos\", \"Bruno Tabata\", \"G. Tutino\", \"L. Dimata\", \"C. Kouam\\u00e9\", \"E. Dennis\", \"Jovane Cabral\", \"R. Skov\", \"D. Luk\\u00e9bakio\", \"J. Hern\\u00e1ndez\", \"S. Schrijvers\", \"N. Maupay\", \"W. Sa\\u00efd\", \"Sandro\", \"E. Ponce\", \"D. Gray\", \"R. Assal\\u00e9\", \"E. \\u00c1vila\", \"O. Idrissi\", \"S. Ghoddos\", \"L. Ajorque\", \"V. Muriqi\", \"M. Pjaca\", \"A. Mitri\\u021b\\u0103\", \"O. Kharbin\", \"Borja Bast\\u00f3n\", \"M. Krmen\\u010d\\u00edk\", \"R. Quaison\", \"M. Konat\\u00e9\", \"Ivan Cavaleiro\", \"N. Castillo\", \"J. Rodr\\u00edguez\", \"P. Tau\", \"V. Janssen\", \"J. Drmi\\u0107\", \"N. Sansone\", \"Jes\\u00e9\", \"S. Larsson\", \"Fran Sol\", \"A. Jahanbakhsh\", \"Y. Mut\\u014d\", \"Borja Valle\", \"K. Onisiwo\", \"J. Ito\", \"C. Pizarro\", \"Jonatan Soriano\", \"H. Rodallega\", \"M. Harnik\", \"P. Ciss\\u00e9\", \"S. Okaka\", \"O. Kamara\", \"O. Cardozo\", \"D. N'Doye\", \"A. Carroll\", \"K. Mitroglou\", \"C. Benteke\", \"R. van Wolfswinkel\", \"A. Paloschi\", \"F. Caputo\", \"Jonathas\", \"A. Prijovi\\u0107\", \"\\u00c9der\", \"Quique\", \"W. Bony\"], \"type\": \"scatter\", \"x\": [21.346641540527344, 21.965612411499023, 22.414840698242188, 22.501680374145508, 21.862079620361328, 22.977800369262695, 34.1467399597168, 39.16899108886719, 34.374122619628906, 40.30632400512695, 11.97880744934082, 26.71110725402832, 34.8159294128418, 22.380205154418945, 23.14824676513672, 18.406803131103516, 21.583337783813477, 32.058128356933594, 21.655975341796875, 26.946630477905273, 23.68012237548828, 12.817913055419922, 19.6286678314209, 17.224308013916016, 40.45867156982422, 40.041595458984375, 49.35601806640625, 51.06580352783203, 52.759544372558594, 46.90489196777344, 13.927803993225098, 38.46488571166992, 24.288320541381836, 38.18183135986328, 54.081722259521484, 18.61408042907715, 30.424457550048828, 20.272869110107422, 38.58332824707031, 49.16714096069336, 23.194997787475586, 22.534103393554688, 24.470233917236328, 31.254039764404297, 56.673526763916016, 34.66857147216797, 34.42084503173828, 47.006797790527344, 50.07256317138672, 26.556116104125977, 20.001056671142578, 40.68906021118164, 48.24811935424805, 36.026878356933594, 39.49641418457031, 31.41570472717285, 25.024032592773438, 21.33568000793457, 39.7508659362793, 55.39990997314453, 24.349340438842773, 38.67486572265625, 27.464168548583984, 22.64936637878418, 38.98074722290039, 30.831737518310547, 26.768274307250977, 23.870086669921875, 47.22864532470703, 10.402763366699219, 49.57654571533203, 34.60451889038086, 56.36903381347656, 59.57035446166992, 18.277883529663086, 36.704673767089844, 33.26009750366211, 49.001583099365234, 59.98551940917969, 23.723251342773438, 54.22420120239258, 19.389198303222656, 30.97661590576172, 26.023059844970703, 31.611438751220703, 25.023086547851562, 37.700408935546875, 55.469486236572266, 13.656941413879395, 37.7902717590332, 24.990163803100586, 35.6700325012207, 36.368038177490234, 11.46731185913086, 40.52113342285156, 56.85566329956055, 42.21268081665039, 54.228641510009766, 36.743648529052734, 37.12158966064453, 36.31371307373047, 10.274031639099121, -3.0735960006713867, 55.398441314697266, 52.877262115478516, 37.536895751953125, 50.59357452392578, 11.672616958618164, 41.55356216430664, 15.223706245422363, 31.947265625, 54.39982604980469, 39.32439422607422, 28.044036865234375, 39.43105697631836, 23.705663681030273, 42.55305099487305, 11.227226257324219, 14.174429893493652, 43.0760383605957, 17.01959991455078, 42.011783599853516, 47.63916015625, 60.88994216918945, 47.85542678833008, 13.059553146362305, 37.24403381347656, 18.41546058654785, 16.774423599243164, 37.51871871948242, 56.642295837402344, 40.97170639038086, 33.697059631347656, 38.19979476928711, 36.55280303955078, 55.393524169921875, 39.78419494628906, 33.325199127197266, 20.922077178955078, 36.589454650878906, 15.667962074279785, 33.880126953125, 51.418819427490234, 21.308473587036133, 46.59028244018555, 44.37669372558594, 34.97945022583008, 33.66154861450195, 22.918663024902344, 41.32746124267578, 48.1799201965332, 31.735015869140625, 55.60858917236328, 36.61686706542969, 41.69498825073242, 46.7395133972168, 42.24876022338867, 43.684356689453125, 46.3922233581543, 36.163997650146484, 51.825008392333984, 51.89655685424805, 35.49082565307617, 13.763937950134277, 51.99260330200195, 39.714447021484375, 53.416900634765625, 30.333715438842773, 46.53551483154297, 51.062259674072266, 16.95535659790039, 47.70370101928711, 36.82240676879883, 32.16835021972656, 57.04153823852539, 49.242984771728516, 33.36186218261719, 49.50490188598633, 43.021820068359375, 41.91615676879883, 40.62812423706055, 59.04063415527344, 38.03993606567383, 41.86320495605469, 41.88140106201172, 46.606014251708984, 27.83718490600586, 54.07061004638672, 51.079227447509766, 48.54477310180664, 42.3685188293457, 39.64426803588867, 53.10014724731445, 24.767013549804688, 57.15682601928711, 41.36188507080078, 14.157238006591797, 29.394956588745117, 55.915122985839844, 42.48359680175781, 51.95286178588867, 61.78968048095703, 44.81755828857422, 37.94108200073242, 58.604331970214844, 29.204200744628906, 50.03791427612305, 46.36700439453125, 48.9605712890625, 41.44837188720703, 52.44080352783203, 54.4315299987793, 58.26463317871094, 42.30322265625, 51.906795501708984, 53.991371154785156, 20.610149383544922, 45.02063751220703, 57.75455856323242, 54.04224395751953, 36.17451095581055, 52.78691864013672, 30.05005645751953, 55.97843933105469, 40.67535400390625, 47.48550033569336, 52.69438552856445, 47.74238586425781, 26.05156135559082, 39.484886169433594, 47.475955963134766, 34.63212203979492, 50.56315231323242, 26.86041259765625, 37.27467727661133, 25.81444549560547, 43.908931732177734, 50.06300735473633, 4.639003276824951, 24.547452926635742, 54.93648147583008, 39.1938591003418, 35.51861572265625, 38.459415435791016, 43.41646194458008, 49.24620819091797, 50.52153015136719, 49.1225700378418, 55.00939178466797, 38.769798278808594, 22.011432647705078, 38.990962982177734, 54.14405822753906, 58.805450439453125, 57.23244094848633, 61.063636779785156, 60.066978454589844, 45.30152893066406, 45.41633224487305, 60.49771499633789, 48.77674102783203, 42.46168899536133, 41.64585494995117, 32.29545974731445, 52.731109619140625, 44.721763610839844, 47.794185638427734, 52.976680755615234, 52.18459701538086, 27.265623092651367, 47.706783294677734, 50.802696228027344, 48.43798828125, 39.579986572265625, 34.289520263671875, 38.52312469482422, 47.19692611694336, 43.507843017578125, 52.19068908691406, 56.8597297668457, 55.65505599975586, 48.97787094116211, 48.05815124511719, 47.35881423950195, 35.11532211303711, 50.133670806884766, 49.790592193603516, 33.70635223388672, 52.691017150878906, 50.72798538208008, 47.56196975708008, 35.72361755371094, 37.49409866333008, 49.43705368041992, 34.83678436279297, 50.304656982421875, 27.651853561401367, 52.481605529785156, 46.0404167175293, 45.68988037109375, 36.56543731689453, 49.461490631103516, 44.19389343261719, 32.18475341796875, 39.14095687866211, 52.53645324707031, 46.96443176269531, 55.45167541503906, 27.107410430908203, 31.62062644958496, 54.347442626953125, 48.77632522583008, 46.35221481323242, 57.48676681518555, 58.39188766479492, 60.10306930541992, 42.5436897277832, 24.424232482910156, 46.527339935302734, 51.75983810424805, 58.12429428100586, 32.64366149902344, 57.968650817871094, 59.423828125, 37.271949768066406, 14.588367462158203, 32.491355895996094, 38.6070442199707, 42.2904167175293, 43.75886917114258, 29.162006378173828, 51.302406311035156, 58.12323760986328, 48.025150299072266, 61.74558639526367, 47.87677764892578, 54.030845642089844, 30.574813842773438, 41.32933807373047, 53.15031051635742, 24.161401748657227, 37.311546325683594, 29.344547271728516, 52.5847053527832, 54.70826721191406, 53.150081634521484, 54.695945739746094, 37.718116760253906, 31.729679107666016, 46.10166931152344, 36.26830291748047, 47.12372970581055, 26.79620933532715, 14.644222259521484, 56.84162521362305, 45.10655975341797, 29.585805892944336, 45.5775146484375, 55.3006591796875, 29.110151290893555, 31.003271102905273, 32.54082107543945, 34.79739761352539, 47.91053009033203, 43.883628845214844, 32.22924041748047, 50.783599853515625, 48.450828552246094, 45.62505340576172, 30.19584083557129, 35.367618560791016, 37.09418869018555, 43.2375602722168, 36.07544708251953, 26.351032257080078, 59.93753433227539, 61.298255920410156, 33.37069320678711, 34.21989822387695, 38.8471565246582, 55.40639877319336, 53.30978012084961, 24.369169235229492, 51.79155349731445, 32.518592834472656, 50.97681427001953, 43.9174919128418, 44.95595169067383, 57.66997528076172, 48.058807373046875, 35.72869873046875, 42.526519775390625, 27.915613174438477, 50.28036880493164, 26.639902114868164, 29.65613555908203, 23.14215850830078, 4.206733226776123, -23.196144104003906, 61.65704345703125, 43.62409591674805, 31.500165939331055, 41.819698333740234, 27.593412399291992, 59.09571838378906, 47.22850036621094, 62.03473663330078, 46.788883209228516, 59.83266830444336, 60.7510986328125, 61.425228118896484, 42.062931060791016, 52.17056655883789, 50.15886306762695, 57.74065017700195, 58.56341552734375, 44.39729309082031, 26.305999755859375, 60.44951248168945], \"y\": [31.956605911254883, 33.0709342956543, 32.06820297241211, 31.84593391418457, 28.93214225769043, 28.463939666748047, -5.944809436798096, 17.71869659423828, -5.985795497894287, 15.920406341552734, 7.868458271026611, 33.79769515991211, -6.002038955688477, 30.380929946899414, 27.299983978271484, 23.710391998291016, 27.41352653503418, -3.1907906532287598, 31.309032440185547, 33.76654052734375, 28.635854721069336, 6.556972503662109, 23.881420135498047, 23.332897186279297, 15.891777038574219, 16.137710571289062, 1.9985095262527466, 16.138019561767578, 2.613438129425049, 14.12360954284668, 9.742846488952637, 16.499582290649414, 28.815603256225586, 19.4871883392334, -3.0989632606506348, -11.748188018798828, -3.178830146789551, 25.562843322753906, 20.688209533691406, 1.036813497543335, 29.980140686035156, 26.687665939331055, 26.161863327026367, 35.13874435424805, 7.407639503479004, 23.582916259765625, 18.716550827026367, 18.45884132385254, 0.38045549392700195, 25.437646865844727, 27.067729949951172, 12.416604995727539, -0.14194375276565552, 19.86592674255371, -4.456813335418701, -3.685952663421631, 28.299846649169922, 30.66301727294922, 17.87256622314453, 13.60421371459961, 30.340862274169922, 7.8928985595703125, 29.522079467773438, 26.356882095336914, -2.1650161743164062, 33.8045539855957, 28.736528396606445, 24.458003997802734, 31.348567962646484, 2.6052730083465576, 0.9221765398979187, 5.126955509185791, 2.1448028087615967, -0.5586044192314148, 26.045930862426758, -2.9986305236816406, 7.126663684844971, 10.735586166381836, -1.4659628868103027, 3.3539879322052, -2.7318828105926514, 20.093202590942383, 8.411751747131348, 26.367517471313477, 23.95393180847168, 25.920639038085938, -4.169253826141357, 6.32445764541626, 9.740100860595703, -1.2202626466751099, 25.11368179321289, 23.120756149291992, 19.684457778930664, 12.17687702178955, 7.454316139221191, 7.100658416748047, 6.815311908721924, 18.080347061157227, 1.9714475870132446, 17.946685791015625, 19.363176345825195, 11.614428520202637, 0.1827549785375595, 13.61037540435791, 11.464645385742188, 19.805185317993164, 19.616634368896484, 12.11979866027832, 18.765670776367188, 5.747428894042969, 34.253929138183594, 2.2737479209899902, 6.070205211639404, 32.61722946166992, 19.669694900512695, 23.211151123046875, 17.502395629882812, 12.216672897338867, -3.7961385250091553, 24.30528450012207, -11.504055976867676, -1.8251922130584717, -1.4896348714828491, 0.6588943600654602, 13.214574813842773, 7.257073402404785, 10.042335510253906, -11.6780366897583, -11.455147743225098, 21.327726364135742, 5.102642059326172, 24.815488815307617, 9.42014217376709, -2.8500218391418457, -4.2958221435546875, 8.427064895629883, -3.142486810684204, 31.770275115966797, 18.2921085357666, 32.16233444213867, 20.676206588745117, 33.03681182861328, 15.554669380187988, 19.748544692993164, 5.822889804840088, 29.458223342895508, 26.576547622680664, 5.548464775085449, 22.903366088867188, 25.73834800720215, 16.374340057373047, 7.306532382965088, 9.227049827575684, -1.8829108476638794, 20.619871139526367, 24.550554275512695, 17.757585525512695, 0.3489169478416443, 27.344894409179688, 26.87714195251465, 2.9112837314605713, 8.45910358428955, 17.6066951751709, -9.656793594360352, 14.897720336914062, 22.643007278442383, 7.274297714233398, 21.094566345214844, 1.1983932256698608, -0.0816950723528862, 26.81711196899414, 4.537497043609619, 11.0048828125, 6.3141984939575195, 6.208587169647217, 5.899441719055176, 6.097446441650391, 7.333618640899658, 8.103584289550781, 23.07670783996582, 5.573936462402344, 5.572730541229248, -2.876258611679077, 24.797117233276367, 24.802108764648438, 31.232595443725586, 11.930719375610352, 11.454187393188477, 10.227027893066406, 5.770226955413818, 27.22447967529297, -1.9848664999008179, 11.490849494934082, 24.37734031677246, 8.508780479431152, 3.500296115875244, 6.974464416503906, 24.52216148376465, 9.291769981384277, 1.9151108264923096, 18.22018051147461, 8.779206275939941, -2.9162747859954834, 2.5984179973602295, -0.4987828731536865, 26.372325897216797, 4.050815105438232, 2.1938745975494385, 14.867060661315918, 11.868361473083496, 0.6082687377929688, -2.1524605751037598, 5.662379741668701, 4.234880447387695, 0.3194934129714966, 4.744632244110107, 26.08061981201172, 1.552764654159546, 9.769598960876465, 8.82313060760498, 7.796308994293213, 5.364623069763184, 20.660358428955078, 5.844391345977783, 8.85171127319336, 2.9279723167419434, 20.81867790222168, 16.75507926940918, 22.798505783081055, 4.82065486907959, 29.597076416015625, 0.14799989759922028, 6.582036972045898, 22.60444450378418, 29.82975959777832, 10.492443084716797, 16.09300422668457, 18.67294692993164, 7.083510875701904, 22.8187255859375, -0.6070289611816406, 29.824710845947266, 30.212257385253906, 31.398155212402344, 0.6734975576400757, 26.43936538696289, 1.5647822618484497, 16.504968643188477, 0.9063149094581604, 4.801377773284912, 16.746612548828125, 31.01049041748047, 17.842226028442383, 2.4234721660614014, 0.9047163724899292, -0.4851841628551483, 4.415968418121338, 1.2643108367919922, -0.8242104649543762, -0.16156615316867828, 15.6448335647583, 7.28398323059082, 19.377521514892578, 15.592571258544922, 19.17880630493164, 18.580108642578125, 14.91651439666748, 20.098848342895508, 19.303682327270508, 18.27613067626953, 12.194402694702148, 5.861784934997559, 4.014421463012695, 10.314618110656738, 5.319217681884766, 3.050410509109497, 8.285574913024902, 22.264873504638672, 14.807707786560059, 11.3936185836792, 8.165546417236328, 6.615732192993164, 23.530263900756836, 25.203083038330078, 30.359399795532227, 9.184560775756836, 22.91824722290039, 24.611648559570312, 22.02639389038086, 24.509395599365234, 25.983617782592773, 34.5212287902832, 26.6928768157959, 24.69713020324707, 15.275796890258789, 8.132153511047363, 21.585552215576172, 4.925965309143066, 25.413951873779297, 5.79926061630249, 27.29854393005371, 8.049247741699219, 3.990851879119873, 15.950052261352539, -0.2438732087612152, 17.860504150390625, 12.790656089782715, 0.9389479160308838, 18.007144927978516, 21.880958557128906, 4.3782572746276855, 13.688958168029785, 1.372859001159668, 0.5104870796203613, 2.9780867099761963, -0.935750424861908, -1.3758783340454102, 6.882854461669922, 11.856902122497559, 5.253442764282227, -0.7647464871406555, 12.395299911499023, 5.953742980957031, -0.019553860649466515, 3.8393805027008057, 14.465895652770996, 26.55865478515625, 4.03854513168335, 2.1357057094573975, 17.636816024780273, 21.82853126525879, 4.614596843719482, 2.2306642532348633, 7.240140914916992, 8.314517974853516, 5.1723246574401855, -1.794492244720459, 1.557383418083191, 21.347393035888672, 23.962583541870117, 19.23600959777832, 35.71015548706055, 22.47301483154297, 28.34303092956543, 15.847174644470215, 23.97776985168457, 15.806772232055664, 24.151992797851562, 29.167829513549805, 26.082054138183594, 27.88268280029297, 30.756338119506836, 13.2120943069458, 19.79888343811035, 11.163261413574219, 5.698424816131592, 9.396777153015137, 25.08710289001465, 10.428803443908691, 16.95560646057129, 29.245771408081055, 28.60923194885254, -0.9063074588775635, 27.53056526184082, 15.547351837158203, 1.3201682567596436, 7.632111072540283, 24.32847023010254, 11.337937355041504, 15.187602996826172, 34.12587356567383, 32.016056060791016, 4.285802841186523, 25.396686553955078, 17.703052520751953, 8.065536499023438, 8.387298583984375, 14.731837272644043, 29.03771209716797, 5.1789984703063965, -0.5210729837417603, 10.716099739074707, 11.28482437133789, 24.318323135375977, 21.85749626159668, 1.450923204421997, 17.684072494506836, 30.045534133911133, 3.7730984687805176, 7.421897888183594, 8.614639282226562, 30.401338577270508, 10.060364723205566, 17.88909149169922, 17.37005043029785, 14.193510055541992, 6.035752773284912, 12.084524154663086, 8.094472885131836, 0.13166175782680511, 9.993898391723633, 12.363465309143066, 0.683193564414978, 3.731562852859497, 6.986203193664551, 4.686859607696533, 0.9609092473983765, 4.184396266937256, 0.7358301877975464, 4.735245704650879, 7.057614326477051, 9.016928672790527, 6.540984153747559, 26.192481994628906, 9.485309600830078, 7.666772842407227, 3.922197103500366, 8.758073806762695, 1.3308523893356323]}, {\"marker\": {\"color\": \"red\", \"size\": 5}, \"mode\": \"markers\", \"name\": \"Midfielder\", \"opacity\": 0.6, \"text\": [\"K. De Bruyne\", \"L. Modri\\u0107\", \"P. Dybala\", \"P. Pogba\", \"C. Eriksen\", \"David Silva\", \"T. Kroos\", \"M. Reus\", \"Thiago\", \"M. Verratti\", \"Isco\", \"I. Rakiti\\u0107\", \"M. Pjani\\u0107\", \"Parejo\", \"T. M\\u00fcller\", \"F. de Jong\", \"S. Milinkovi\\u0107-Savi\\u0107\", \"Sa\\u00fal\", \"Bruno Fernandes\", \"H. Ziyech\", \"A. G\\u00f3mez\", \"Koke\", \"J. Rodr\\u00edguez\", \"Allan\", \"J. Sancho\", \"K. Havertz\", \"D. Alli\", \"Arthur\", \"L. Goretzka\", \"J. Brandt\", \"K. Coman\", \"S. Gnabry\", \"N. Fekir\", \"Luis Alberto\", \"Felipe Anderson\", \"Jo\\u00e3o Moutinho\", \"M. Ham\\u0161\\u00edk\", \"M. \\u00d6zil\", \"G. Wijnaldum\", \"I. Peri\\u0161i\\u0107\", \"A. Vidal\", \"Jos\\u00e9 Callej\\u00f3n\", \"I. G\\u00fcndo\\u011fan\", \"Paulinho\", \"Canales\", \"Douglas Costa\", \"Pizzi\", \"D. Tadi\\u0107\", \"E. Vi\\u0161\\u0107a\", \"Fabi\\u00e1n\", \"G. Lo Celso\", \"Anderson Talisca\", \"C. Tolisso\", \"Gon\\u00e7alo Guedes\", \"N. P\\u00e9p\\u00e9\", \"A. Rabiot\", \"T. Lemar\", \"J. Draxler\", \"Y. Carrasco\", \"F. Bernardeschi\", \"Oscar\", \"Pablo Sarabia\", \"Jorginho\", \"R. Nainggolan\", \"S. Khedira\", \"G. Sigur\\u00f0sson\", \"A. Ramsey\", \"J. Cuadrado\", \"K. Kampl\", \"C. Ar\\u00e1nguiz\", \"M. Kova\\u010di\\u0107\", \"N. Ke\\u00efta\", \"R\\u00faben Neves\", \"A. Correa\", \"Gelson Martins\", \"T. Partey\", \"K. Demirbay\", \"Muniain\", \"T. Hazard\", \"E. Forsberg\", \"F. Kosti\\u0107\", \"M. Politano\", \"Rafa\", \"Jes\\u00fas Navas\", \"Santi Cazorla\", \"H. Herrera\", \"Juan Mata\", \"Giuliano\", \"Marlos\", \"Taison\", \"G. Bonaventura\", \"Ander Herrera\", \"J. Lingard\", \"J. Sildero\", \"H. Aouar\", \"T. Ndombele\", \"D. van de Beek\", \"Dani Ceballos\", \"Pablo Fornals\", \"E. Can\", \"P. Zieli\\u0144ski\", \"G. Xhaka\", \"Rafinha\", \"G. Kondogbia\", \"M. Sabitzer\", \"R. Fraser\", \"R. Guerreiro\", \"Jo\\u00e3o M\\u00e1rio\", \"A. Ljaji\\u0107\", \"J. Corona\", \"Quaresma\", \"J. Milner\", \"M. Demb\\u00e9l\\u00e9\", \"Cesc F\\u00e0bregas\", \"Renato Augusto\", \"A. Guardado\", \"D. Payet\", \"Be\\u00f1at\", \"M. Sissoko\", \"N. Gait\\u00e1n\", \"H. Mkhitaryan\", \"F. V\\u00e1zquez\", \"Dani Garc\\u00eda\", \"Laure Santeiro\", \"S. Ardero\", \"N. Barella\", \"Y. Tielemans\", \"Carlos Soler\", \"H. Winks\", \"Melendo\", \"Rony Lopes\", \"M. Eggestein\", \"Sergi Darder\", \"L. Paredes\", \"K. Bald\\u00e9\", \"V. Rongier\", \"A. Oxlade-Chamberlain\", \"Campa\\u00f1a\", \"J. Quintero\", \"Samu Castillejo\", \"M. Lazzari\", \"M. Lanzini\", \"H. Vanaken\", \"Gabriel\", \"D. Klaassen\", \"Manu Trigueros\", \"Joaqu\\u00edn\", \"E. Lamela\", \"Ra\\u00fal Garc\\u00eda\", \"D. Wass\", \"Pedro Le\\u00f3n\", \"M. Valbuena\", \"S. Feghouli\", \"F. Coquelin\", \"Hulk\", \"K. Strootman\", \"E. Salvio\", \"R. Pereyra\", \"Y. Belhanda\", \"S. Verdi\", \"Ibai G\\u00f3mez\", \"Cristian Tello\", \"Pozuelo\", \"Bernard\", \"Jony\", \"R. Bentancur\", \"Lucas Paquet\\u00e1\", \"Merino\", \"L. Pellegrini\", \"Dani Olmo\", \"F. Kessi\\u00e9\", \"V. Tsygankov\", \"R. Loftus-Cheek\", \"S. Lobotka\", \"A. Golovin\", \"J. Ward-Prowse\", \"Ot\\u00e1vio\", \"A. Iwobi\", \"J. Maddison\", \"Richarlison\", \"S. Nakajima\", \"M. Sanson\", \"F. Grillitsch\", \"R. Barkley\", \"M. Arnold\", \"Fred\", \"R. Malinovskyi\", \"L. Spinazzola\", \"D. Baselli\", \"T. Savanier\", \"S. Kalou\", \"Borja Valero\", \"D. Valeri\", \"A. Candreva\", \"A. Fern\\u00e1ndez\", \"Granero\", \"R. Vormer\", \"A. Lallana\", \"S. Luli\\u0107\", \"S. Kagawa\", \"J. Wilshere\", \"J. Pastore\", \"F. Orellana\", \"A. Yarmolenko\", \"Vitolo\", \"T. Inui\", \"D. Cheryshev\", \"Rub\\u00e9n Alcaraz\", \"I. Sarr\", \"F. Neuhaus\", \"M. Zaracho\", \"D. Zakaria\", \"H. Onyekuru\", \"J. Ikon\\u00e9\", \"J. Bamba\", \"N. Amiri\", \"B. Cristante\", \"L. Dendoncker\", \"M. Dahoud\", \"Daniel Podence\", \"E. Bardhi\", \"N. Maksimovi\\u0107\", \"\\u00d3liver Torres\", \"M. Lemina\", \"A. Miranchuk\", \"Joan Jord\\u00e1n\", \"Y. Yaz\\u0131c\\u0131\", \"M. Gregoritsch\", \"T. Vilhena\", \"Denis Su\\u00e1rez\", \"M. Meyer\", \"J. Veretout\", \"V. Fischer\", \"S. Me\\u00eft\\u00e9\", \"J. Bo\\u00ebtius\", \"H. Hateboer\", \"B. Verbi\\u010d\", \"G. Mart\\u00ednez\", \"K. Fortounis\", \"S\\u00e9rgio Oliveira\", \"R. Freuler\", \"F. Mollet\", \"J. Hofmann\", \"V. Grifo\", \"F. Tait\", \"D. Laxalt\", \"C. T\\u00e9vez\", \"J. Sosa\", \"R. Babel\", \"S. Nasri\", \"J. dos Santos\", \"S. Defour\", \"K. Mirallas\", \"Manu Garc\\u00eda\", \"V. Moses\", \"C. Ansaldi\", \"V. Birsa\", \"M. Sulejmani\", \"N. Amrabat\", \"P. Piatti\", \"Bruno\", \"Adrien Silva\", \"Mikel San Jos\\u00e9\", \"C. Grenier\", \"R. Boudebouz\", \"Iborra\", \"B. Andr\\u00e9\", \"M. Antonio\", \"P. Gro\\u00df\", \"J. Gu\\u00f0mundsson\", \"R. Soriano\", \"D. Didavi\", \"A. Townsend\", \"T. Cairney\", \"N. Lodeiro\", \"Nolito\", \"G. Ram\\u00edrez\", \"A. Carrillo\", \"M. de Roon\", \"G. Kanga\", \"I. Fern\\u00e1ndez\", \"J. Seri\", \"R. Battaglia\", \"Claudio Co\\u00edntra\", \"F. Contedo\", \"E. Palacios\", \"D. Brooks\", \"Brais M\\u00e9ndez\", \"J. Grealish\", \"A. Miranchuk\", \"C. Nkunku\", \"Wendel\", \"F. Valverde\", \"N. Vla\\u0161i\\u0107\", \"M. Pa\\u0161ali\\u0107\", \"L. Cook\", \"N. N\\u00e1ndez\", \"A. Bar\\u00e1k\", \"M. Rojas\", \"Chiquinho\", \"O. Duda\", \"M. Lopez\", \"K. Laimer\", \"W. Hughes\", \"Andreas Pereira\", \"M. Benassi\", \"W. Cyprien\", \"N. Bentaleb\", \"P. H\\u00f8jbjerg\", \"L. Miranda\", \"Alex Berenguer\", \"S. Sensi\", \"M. Ga\\u0107inovi\\u0107\", \"R. Marin\", \"R. Pizarro\", \"G. Pereiro\", \"N. Redmond\", \"L. Ocampos\", \"J. Lukaku\", \"S. Boufal\", \"Y. Gerhardt\", \"B. Bourigeaud\", \"A. Sch\\u00f6pf\", \"D. Kuzyaev\", \"C. Dom\\u00ednguez\", \"O. \\u00d6zyakup\", \"L. Bittencourt\", \"K. St\\u00f6ger\", \"P. Lees-Melou\", \"J. Shelvey\", \"D. Pr\\u00f6pper\", \"M. van Ginkel\", \"A. Younes\", \"R. Centuri\\u00f3n\", \"E. Akbaba\", \"P. Hro\\u0161ovsk\\u00fd\", \"J. Farf\\u00e1n\", \"T. Walcott\", \"E. Elia\", \"L. Sch\\u00f8ne\", \"Z. Junuzovi\\u0107\", \"V. Odjidja-Ofoe\", \"Miguel Veloso\", \"J. Lens\", \"I. Traor\\u00e9\", \"M. Carcela-Gonz\\u00e1lez\", \"R. Alessandrini\", \"A. Poli\", \"D. Drinkwater\", \"A. Dzagoev\", \"A. Westwood\", \"D. Latza\", \"Victor S\\u00e1nchez\", \"J. Kucka\", \"T. Rinc\\u00f3n\", \"Y. Mall\\u0131\", \"Carlos Eduardo\", \"R\\u00f4mulo\", \"Frans\\u00e9rgio\", \"J. Martin\", \"P. Herrmann\", \"Tom\\u00e1s Pina\", \"Andr\\u00e9 Andr\\u00e9\", \"P. Hern\\u00e1ndez\", \"J. Forrest\", \"R. Saponara\", \"A. Trebel\", \"M. Pereyra\", \"F. Fajr\", \"L. Castro\", \"E. Vargas\", \"P. P\\u00e9rez\", \"A. Maru\\u0161i\\u0107\", \"Sim\\u00e3o Acunha\", \"A. P\\u00edriz\", \"P. Foden\", \"A. Maier\", \"R. Mandragora\", \"A. Lookman\", \"R. Orsolini\", \"W. McKennie\", \"A. Mac Allister\", \"Kangin Lee\", \"T. Castagne\", \"Edu Exp\\u00f3sito\", \"Ale\\u00f1\\u00e1\", \"A. Ndiaye\", \"Gedson Fernandes\", \"S. Chukwueze\", \"X. Schlager\", \"A. Danjuma Groeneveld\", \"A. Haidara\", \"K. Linetty\", \"A. \\u017divkovi\\u0107\", \"L. Blas\", \"A. Harit\", \"T. Bongonda\", \"Matheus Pereira\", \"Toni Villa\", \"Eduardo Henrique\", \"Y. A\\u00eft Bennasser\", \"D. Praet\", \"I. Kahveci\", \"Pedraza\", \"V. Guzm\\u00e1n\", \"B. Raman\", \"Paulinho\", \"A. Rusn\\u00e1k\", \"M. Ben\\u00edtez\", \"Camarasa\", \"L. Acosta\", \"A. Maher\", \"R. Morrison\", \"M. Elyounoussi\", \"Fernandinho\", \"Pere Pons\", \"F. Cervi\", \"R. Gosens\", \"Caio\", \"A. Thomasson\", \"E. Cardona\", \"V. Claesson\", \"D. T\\u00fcr\\u00fc\\u00e7\", \"G. Shibasaki\", \"B. D\\u017eemaili\", \"J. D\\u00e1tolo\", \"A. Turan\", \"Diego Castro\", \"M. Noble\", \"R. Snodgrass\", \"A. Hunt\", \"A. Mierzejewski\", \"S. Sess\\u00e8gnon\", \"A. Diamanti\", \"F. Higua\\u00edn\", \"J. Cork\", \"G. dos Santos\", \"J. McArthur\", \"D. Zurutuza\", \"A. Ayew\", \"Mossor\\u00f3\", \"M. Fellaini\", \"F. Johnson\", \"J. De Guzm\\u00e1n\", \"D. Biseswar\", \"T. Mangani\", \"Pablo Hern\\u00e1ndez\", \"Ki Sung Yueng\", \"B. Do\\u010dkal\", \"A. Ekdal\", \"D. Stephens\", \"B. Dzsudzs\\u00e1k\", \"M. Albrighton\", \"M. Moralez\", \"I. Popov\", \"M. Stoch\", \"E. Hern\\u00e1ndez\", \"O. El Kaddouri\", \"Rochina\", \"C. Villanueva\", \"Iturraspe\", \"T. Cleverley\", \"S. Zuber\", \"S. Blanco\", \"I. Brizuela\", \"M. Jajalo\", \"R. Hamouma\", \"Portillo\", \"H. P\\u00e9rez\", \"A. Mooy\", \"G. Moreno\", \"H\\u00e9ldon\", \"S. Ta\\u00efder\", \"J. Clasie\", \"V. Darida\", \"R. Brady\", \"R. Ibarra\", \"N. Sliti\", \"D. Garmash\", \"Garry Rodrigues\", \"A. Szymanowski\", \"M. Uribe\", \"F. Mancuello\", \"Embarba\", \"O. Romero\", \"B. Ndiaye\", \"Davidson\", \"A. Nwakaeme\", \"A. Zamorado\", \"N. Dom\\u00ednguez\", \"M. Mount\", \"R. Sessegnon\", \"M. Guendouzi\", \"L. D\\u00edaz\", \"J. Larsen\", \"Ferr\\u00e1n Torres\", \"O. Aina\", \"J. Jankto\", \"Renato Sanches\", \"A. Ounas\", \"Y. Karamoh\", \"S. Kalu\", \"Cucurella\", \"J. Bowen\", \"A. Diawara\", \"Luiz Ara\\u00fajo\", \"Kenedy\", \"S. Fofana\", \"Kaku\", \"A. Fulgini\", \"M. Vlap\", \"T. Davies\", \"S. Serdar\", \"R. Oudin\", \"G. Til\", \"A. Elis\", \"T. Boyd\", \"M. Simon\", \"A. Grassi\", \"G. Donsah\", \"Gabriel Boschilia\", \"Marcos Guilherme\", \"V. Koziello\", \"D. Barbona\", \"M. Thuram\", \"M. Jensen\", \"F. Krovinovi\\u0107\", \"Y. Bissouma\", \"E. Gnahor\\u00e9\", \"L. Andersen\", \"L. Schaub\", \"J. McGinn\", \"E. Guti\\u00e9rrez\", \"Danilo\", \"M. Coco\", \"T. Minamino\", \"M. Zajc\", \"Fede Vico\", \"D. Cataldi\", \"D. Vald\\u00e9s\", \"R. Christie\", \"A. Zeneli\", \"D. Bouanga\", \"S. Thioub\", \"M. Rog\", \"M. Rits\", \"G. Imbula\", \"F. Midtsj\\u00f8\", \"S. Sturaro\", \"S. March\", \"T. Rogi\\u0107\", \"D. Pelkas\", \"K. M\\u00f6hwald\", \"J. Haberer\", \"Kwon Chang Hoon\", \"N. Stanciu\", \"Medr\\u00e1n\", \"A. Tameze\", \"H. Villalba\", \"Jason\", \"L. Lerager\", \"A. Conti\", \"Jo\\u00e3o Novais\", \"C. Fassnacht\", \"V. Buyalskyi\", \"Z. Labyad\", \"D. Bessa\", \"A. Duncan\", \"V. Berisha\", \"F. Kainz\", \"R. Falk\", \"S. Armstrong\", \"P. Klement\", \"P. Mantalos\", \"Carles Gil\", \"G. Fern\\u00e1ndez\", \"A. Roa\", \"J. Lolley\", \"D. Bra\\u0161anac\", \"L. Masopust\", \"R. Cohade\", \"L. Rigoni\", \"L. Podolski\", \"R. Sambueza\", \"M. Wolff Eikrem\", \"J. Valdivia\", \"Salva Sevilla\", \"L. Refaelov\", \"J. B\\u0142aszczykowski\", \"G. Castro\", \"Zeca\", \"L. De Silvestri\", \"D. Buonanotte\", \"Mario Su\\u00e1rez\", \"A. Surman\", \"M. Fern\\u00e1ndez\", \"S. Kums\", \"N. Dirar\", \"A. Taarabt\", \"O. Akhmedov\", \"F. Bartels\", \"Y. Sankhar\\u00e9\", \"L. Montes\", \"J. Allen\", \"D. Gosling\", \"O. Norwood\", \"M. Fabi\\u00e1n\", \"M. Phillips\", \"M. Wakaso\", \"Y. Bolasie\", \"J. Durmaz\", \"J. Stanislas\", \"Y. Salibur\"], \"type\": \"scatter\", \"x\": [11.824459075927734, 8.45720100402832, 22.968042373657227, 11.846138954162598, 18.727048873901367, 21.01972198486328, 12.636616706848145, 19.698766708374023, 8.454235076904297, -0.36330080032348633, 19.767559051513672, 8.79811954498291, -0.6804072856903076, 12.680745124816895, 16.170934677124023, -12.523431777954102, 4.18602991104126, 4.048727989196777, 10.605511665344238, 18.57588768005371, 20.84980583190918, 1.996705412864685, 23.923667907714844, -22.65420150756836, 32.667606353759766, 30.868053436279297, 2.018148899078369, -1.7814728021621704, -8.874348640441895, 31.543996810913086, 28.26787567138672, 24.467527389526367, 38.14852523803711, 31.99591636657715, 14.624167442321777, 9.223275184631348, 7.772470951080322, 42.884910583496094, -3.1520607471466064, 9.9926176071167, -0.16696251928806305, 16.43907356262207, 8.532332420349121, 1.0577166080474854, 19.655332565307617, 21.564678192138672, 10.369324684143066, 31.63961410522461, 15.87534236907959, 6.711863040924072, 6.8634033203125, 14.735928535461426, 1.0237715244293213, 27.273441314697266, 24.793413162231445, -2.009958505630493, 8.1192626953125, 23.45644187927246, 27.245439529418945, 7.637558460235596, 20.925949096679688, 19.647132873535156, 3.5404281616210938, 0.21753273904323578, 2.6898109912872314, 12.965269088745117, 2.790910243988037, -6.465028762817383, -1.82234787940979, 0.4773848056793213, -7.491925239562988, -4.430877208709717, 0.7765058875083923, 18.36382484436035, 21.565645217895508, -16.518680572509766, 8.367451667785645, 19.216781616210938, 18.06702423095703, 32.784461975097656, -4.271972179412842, 20.307260513305664, 15.42772102355957, -10.57838249206543, 11.085536003112793, 0.28049761056900024, 41.49442672729492, 36.51694107055664, 18.9847354888916, 26.352697372436523, 1.9949657917022705, -0.14223963022232056, 12.918495178222656, 19.886764526367188, 6.070278167724609, -7.725934028625488, 3.7611730098724365, -3.7926228046417236, 5.657196521759033, -17.250205993652344, -2.7489285469055176, -0.645087718963623, 19.126020431518555, -16.50369644165039, 13.926817893981934, 22.363361358642578, -2.6516828536987305, 11.012601852416992, 34.67458724975586, 8.167476654052734, 36.787384033203125, -1.2358707189559937, -13.07060718536377, 20.234445571899414, 7.392578125, 1.5351251363754272, 42.06696701049805, 9.09861946105957, -13.57992935180664, 33.65930938720703, 14.635810852050781, 13.289505004882812, 6.009652137756348, 52.46873474121094, 52.46360397338867, -3.155404567718506, 10.011990547180176, 5.84341287612915, -18.61205291748047, 2.371919870376587, 44.42152404785156, -14.975994110107422, -1.555461049079895, -10.002363204956055, 36.788169860839844, 8.226225852966309, -3.5516304969787598, 8.666045188903809, 36.92391586303711, 22.600141525268555, 14.113570213317871, 42.473262786865234, 13.569986343383789, -0.4017196595668793, 2.9062135219573975, 10.088096618652344, 28.419754028320312, 36.51659393310547, 4.50933313369751, 1.4259480237960815, 25.612960815429688, 35.01206970214844, 32.68178939819336, -13.51076602935791, 36.58580017089844, 3.2751474380493164, 14.727167129516602, 12.208730697631836, 12.697060585021973, 19.61293601989746, 19.746837615966797, 18.587202072143555, 23.838300704956055, 38.88186264038086, 15.201908111572266, -9.638290405273438, 13.277178764343262, -3.4688167572021484, -6.146527290344238, 22.337482452392578, -3.2896080017089844, 20.75946617126465, -16.096965789794922, 8.537515640258789, -9.174078941345215, 11.254768371582031, 30.732831954956055, 38.28369903564453, 32.36404800415039, 37.196571350097656, 29.031841278076172, 4.810394763946533, -17.93402862548828, 27.767539978027344, 5.784104824066162, -1.887514591217041, 5.5775275230407715, -16.301605224609375, 6.861011028289795, 2.1363027095794678, 39.58394241333008, 11.883407592773438, 41.7296028137207, 7.645751476287842, -7.171410083770752, 12.828486442565918, 0.48531821370124817, 13.440711975097656, -14.374049186706543, 21.52313804626465, 13.394529342651367, 24.22120475769043, 37.692848205566406, 46.405460357666016, 37.101226806640625, 18.462621688842773, 16.001157760620117, -0.8075349926948547, 35.89889144897461, 0.3108375072479248, 13.648038864135742, -27.19985580444336, 34.282676696777344, 32.168025970458984, 33.66408157348633, 16.54815673828125, -10.516494750976562, -9.506143569946289, -18.277666091918945, 31.381179809570312, 10.476540565490723, -11.497217178344727, 10.626778602600098, -6.247973918914795, 44.34667205810547, 8.944389343261719, 33.49614334106445, 43.401397705078125, -7.941665172576904, 18.587766647338867, -5.476617813110352, 5.010988235473633, 27.40334129333496, -22.734312057495117, 32.13751983642578, -22.96599769592285, 39.86357498168945, 27.233177185058594, 35.48856735229492, 8.174680709838867, -13.0061616897583, 19.585620880126953, 23.56980323791504, 24.179595947265625, 37.6937141418457, -23.50413703918457, 45.25593566894531, 14.610629081726074, 32.74583435058594, 37.75595474243164, 0.13183049857616425, 8.10549545288086, 34.244197845458984, 3.276170253753662, 2.8793842792510986, -11.207799911499023, 18.78059196472168, 44.179527282714844, 32.4874382019043, 22.296953201293945, 2.7363669872283936, 9.256019592285156, -20.45405387878418, 13.532557487487793, 37.2348747253418, 2.208590507507324, -8.036428451538086, 37.57691192626953, 11.911696434020996, 10.607449531555176, 12.20836353302002, 44.983306884765625, 34.696224212646484, 21.937660217285156, 26.36333656311035, 45.04498291015625, 46.132389068603516, 40.11167526245117, -3.2788636684417725, 28.280311584472656, 4.311776161193848, 7.012453079223633, -21.756744384765625, 42.17338943481445, 42.16573715209961, -6.716607093811035, 29.128087997436523, 24.45929718017578, 27.3579158782959, 47.73930740356445, 5.386025428771973, -9.094609260559082, -20.707683563232422, 38.33668899536133, -9.385821342468262, -14.141777992248535, -22.583311080932617, 44.14295959472656, 7.236806392669678, 21.20382308959961, 30.41498565673828, 5.585666656494141, -10.421936988830566, 5.578984260559082, 5.180301666259766, -11.287878036499023, -1.0855636596679688, 4.651724338531494, -10.571224212646484, -15.504741668701172, 4.377673625946045, 6.611003875732422, -0.22748854756355286, 5.569604873657227, 1.9215128421783447, 43.678565979003906, 39.699371337890625, -4.850154399871826, -30.257848739624023, 42.06326675415039, -12.798096656799316, 12.07810115814209, 1.879868745803833, -10.211465835571289, 19.61135482788086, 7.90693998336792, 17.965335845947266, 26.73040008544922, 0.21064534783363342, 4.835457801818848, 2.6072921752929688, 15.25540542602539, 29.474382400512695, 28.444828033447266, 17.783143997192383, 1.0196764469146729, 33.98853302001953, 32.342742919921875, 30.57596778869629, 11.831815719604492, 5.7840070724487305, 4.2411346435546875, 13.824196815490723, 37.7512092590332, 20.698009490966797, 40.76116943359375, 38.26261901855469, -6.764978885650635, -4.728001594543457, 2.265760898590088, -2.338744640350342, -25.821529388427734, -3.9123711585998535, -3.498821496963501, -25.497394561767578, 32.176517486572266, 15.945291519165039, 4.745588302612305, 3.8395373821258545, 5.951178550720215, 39.559078216552734, -1.2617697715759277, 3.7600595951080322, 12.890844345092773, 18.29269790649414, 25.812021255493164, -11.721200942993164, 14.850529670715332, 10.17254638671875, 12.683676719665527, 40.7327880859375, -4.778221130371094, -10.865877151489258, 29.956087112426758, 29.96330451965332, 1.0247641801834106, -17.963300704956055, -12.424911499023438, 32.00001907348633, 27.77814292907715, -19.592437744140625, 22.229984283447266, 42.85258865356445, -26.677263259887695, -18.072986602783203, 17.85413360595703, 28.825891494750977, -7.596704959869385, 33.929256439208984, -7.849081516265869, 36.53208541870117, 4.128039360046387, -14.660086631774902, 15.746376991271973, 14.835972785949707, 27.222570419311523, 39.911746978759766, 33.65982437133789, 19.76266098022461, -4.047244071960449, -0.5698227882385254, 11.59834098815918, 0.7284889817237854, -10.29011344909668, 1.2570509910583496, 32.820892333984375, 44.53999710083008, 28.842966079711914, 17.952795028686523, 5.611966133117676, 24.01711082458496, 11.195158958435059, 22.515056610107422, 30.68784523010254, 19.7000675201416, -18.220491409301758, 15.024364471435547, -18.113367080688477, 40.46309280395508, 11.384580612182617, 47.660919189453125, 33.518856048583984, 12.241486549377441, 5.562704563140869, 7.963764667510986, 22.95234489440918, 13.669866561889648, 27.290842056274414, 1.2023104429244995, 47.31388854980469, 24.888425827026367, 29.91638946533203, 13.321399688720703, 45.30699157714844, 26.083934783935547, 6.707496643066406, 39.72280502319336, -5.434991836547852, 9.953883171081543, 30.644474029541016, 43.66054153442383, 3.834568977355957, 2.112051486968994, 23.5952091217041, 34.521827697753906, 6.689976215362549, 24.1224308013916, 14.263538360595703, 24.992555618286133, -0.30472418665885925, -15.369961738586426, 35.856441497802734, 0.8844385743141174, 29.098960876464844, 40.13711929321289, 20.602706909179688, 24.70406723022461, 16.12643814086914, 24.373136520385742, 20.933399200439453, 1.1185579299926758, 5.698671340942383, 0.87907475233078, 34.06739044189453, 25.294206619262695, -6.590314865112305, 42.776893615722656, 23.123123168945312, 4.728641986846924, 7.309856414794922, 40.573699951171875, 40.482547760009766, 3.6458635330200195, -3.1959776878356934, 7.398542881011963, 15.263019561767578, -23.422706604003906, 33.05000686645508, -20.575294494628906, 25.82968521118164, 39.77085494995117, 0.6829506754875183, 10.585192680358887, 24.423830032348633, 30.86981201171875, -5.362449645996094, 34.2419319152832, 40.82411575317383, 22.82677459716797, -23.563976287841797, 27.685577392578125, 4.708824157714844, -20.46904182434082, 34.931636810302734, 3.028512716293335, 48.43141555786133, -28.61207389831543, 1.429369568824768, -6.690043926239014, 30.701976776123047, 44.19949722290039, 35.191368103027344, -25.373014450073242, 29.957857131958008, -29.684602737426758, 33.030460357666016, 17.805994033813477, -14.136821746826172, 19.513347625732422, 0.21933966875076294, 23.12217903137207, -15.868167877197266, -21.823835372924805, 46.377540588378906, 0.7524996399879456, 33.61873245239258, 34.22114562988281, 38.30939865112305, -11.780890464782715, -16.235145568847656, 34.63336944580078, 34.629852294921875, -5.243327617645264, 38.30773162841797, 28.980173110961914, 0.22027982771396637, 12.053664207458496, -16.4114990234375, -12.632368087768555, 39.6887092590332, 26.62285614013672, -18.56793212890625, 2.726550340652466, -11.463334083557129, 24.575639724731445, 26.1498966217041, 25.728778839111328, 25.862211227416992, 11.204263687133789, 20.544525146484375, -8.068242073059082, 30.021411895751953, 37.68223571777344, 47.71344757080078, -12.36120891571045, -11.442350387573242, -1.1282804012298584, -18.525222778320312, -8.931840896606445, 22.634811401367188, 26.385927200317383, 32.31675338745117, 10.265933990478516, 9.518745422363281, 15.738473892211914, 44.979156494140625, 19.758792877197266, -18.70868492126465, 25.295804977416992, 25.524646759033203, -19.016206741333008, -18.96003532409668, 24.561813354492188, 49.68044662475586, -1.150002121925354, 36.08738327026367, 21.46865463256836, -25.234769821166992, 4.377962112426758, 35.76445388793945, -23.222740173339844, 1.0939278602600098, 27.698272705078125, 19.633949279785156, 37.15790557861328, 9.217279434204102, 19.734880447387695, 19.473251342773438, 0.33475953340530396, 13.706612586975098, -0.44626641273498535, -19.614501953125, 41.98902893066406, 47.68959045410156, 26.771242141723633, 26.110780715942383, 15.46774673461914, 37.701412200927734, 15.672091484069824, 10.479811668395996, -20.85040855407715, -13.007877349853516, 44.47157669067383, 0.6649317145347595, 0.5890641212463379, 16.767547607421875, 6.9912919998168945, 3.339669704437256, 27.23605728149414, -17.122718811035156, 26.871858596801758, -7.5610222816467285, 13.525541305541992, -6.88957405090332, 0.55755615234375, 6.867745399475098, 45.87771987915039, 31.747692108154297, -24.475749969482422, 48.700923919677734, 46.511871337890625, 27.316518783569336, 24.394487380981445], \"y\": [5.812809944152832, 1.980685830116272, 31.621349334716797, 5.286492824554443, 3.905020236968994, 1.7002087831497192, -21.428977966308594, 29.229198455810547, 1.895150065422058, -20.97197151184082, 1.840477705001831, -12.066033363342285, -8.118922233581543, -21.486007690429688, 6.229173183441162, 8.707693099975586, -12.787064552307129, -12.600113868713379, 4.447468280792236, 23.61618423461914, 24.994237899780273, -15.109347343444824, -6.3298115730285645, -6.547266960144043, 32.44253921508789, 35.178287506103516, -10.17057991027832, -5.237493991851807, 7.462273120880127, 34.776695251464844, 32.85739517211914, 25.54355239868164, 19.22486686706543, 37.27926254272461, 16.30914306640625, -15.404159545898438, -10.050498962402344, 26.948822021484375, 1.1139273643493652, 5.17319393157959, -12.605199813842773, 20.77975082397461, -11.636265754699707, -10.518224716186523, 4.1399993896484375, 24.04656982421875, 4.355105400085449, -3.456458806991577, 21.41941261291504, -11.892762184143066, 4.575262546539307, 7.14340353012085, -9.985106468200684, 25.38739776611328, 32.53257751464844, -4.86232852935791, 6.656702518463135, 9.90807819366455, 29.442638397216797, 6.67773962020874, 3.572343349456787, 3.1531622409820557, -18.56354331970215, -11.361977577209473, -30.582799911499023, -13.322552680969238, -9.642590522766113, 8.999007225036621, 4.243594169616699, -14.241233825683594, -0.9059773087501526, -2.3902273178100586, -17.973758697509766, 18.630647659301758, 22.806777954101562, -16.954349517822266, -11.3072509765625, 18.401704788208008, 26.849559783935547, 9.36341381072998, 4.973477363586426, 19.100341796875, 18.59162712097168, 7.580021381378174, -18.545610427856445, -10.98676586151123, 10.633543014526367, 0.8698132634162903, 26.808460235595703, 23.241573333740234, -2.8779544830322266, -12.702286720275879, 7.10348653793335, 27.149991989135742, 4.189509868621826, 0.44662824273109436, -12.695999145507812, -2.6768765449523926, -12.04776668548584, -15.995542526245117, 8.820387840270996, -32.6867790222168, -0.9821879863739014, -17.05219078063965, 5.922929286956787, 23.600683212280273, 9.011048316955566, -3.0394787788391113, 11.548032760620117, 7.280202865600586, 17.118104934692383, -14.953167915344238, -8.470032691955566, -5.642336845397949, -8.749878883361816, -4.239720344543457, 11.423761367797852, -16.95072364807129, 2.580610513687134, 8.948819160461426, 7.811989784240723, -17.45121955871582, -31.925445556640625, 26.394161224365234, 26.419902801513672, -5.800429821014404, -13.559087753295898, 2.2064120769500732, -5.6358442306518555, 13.059187889099121, 29.379941940307617, -0.9782195091247559, -28.34666633605957, -4.520421504974365, 29.737625122070312, -8.452277183532715, 3.008059024810791, -14.082451820373535, 12.149517059326172, 12.712325096130371, 18.72148895263672, 28.006662368774414, -15.099991798400879, -17.44441795349121, -9.656431198120117, -15.431839942932129, -4.766338348388672, -3.2498972415924072, -29.268766403198242, -2.7914860248565674, -4.424624443054199, 12.291308403015137, 25.241777420043945, -10.891731262207031, -3.358987808227539, -24.180381774902344, 8.87682819366455, 0.7645301222801208, 1.3356196880340576, 20.9007625579834, 4.973026275634766, 19.837556838989258, -0.18555845320224762, 34.34798049926758, 17.563228607177734, -14.615585327148438, 5.737913131713867, -2.8561317920684814, -5.69451904296875, 10.056937217712402, -13.489075660705566, 17.839141845703125, -13.933422088623047, -5.356051445007324, 4.372045516967773, -12.927814483642578, 2.308035135269165, 25.368501663208008, 9.766498565673828, -1.5759285688400269, 25.02779769897461, 2.131927967071533, -26.569799423217773, -1.1088846921920776, -12.543641090393066, -3.1903648376464844, -5.361800670623779, -0.14791549742221832, -2.811626672744751, -5.743817329406738, 12.143760681152344, -19.947120666503906, 10.178401947021484, -0.2779538929462433, -18.328060150146484, -18.939451217651367, -15.440104484558105, -8.482933044433594, 2.971433162689209, -3.1268997192382812, -8.868896484375, -4.713736057281494, 11.324095726013184, -2.4231925010681152, 4.144445419311523, 17.481399536132812, 3.401078462600708, -17.55734634399414, 29.057239532470703, 11.618875503540039, 18.65619468688965, -10.301061630249023, 30.44464111328125, 27.55671501159668, 25.85731315612793, -0.1795511245727539, -19.585899353027344, -16.83229637145996, -3.6527304649353027, 28.1353702545166, 2.378840684890747, -19.58995819091797, -3.5517494678497314, -6.093180179595947, 27.580036163330078, -13.973731994628906, 0.7148839831352234, 11.981350898742676, 3.4155192375183105, 0.08520800620317459, -2.608097791671753, -18.09410858154297, 20.01165008544922, -20.099306106567383, 33.64249801635742, -1.1635911464691162, 3.7884745597839355, 31.26987075805664, 10.158583641052246, -19.3140926361084, -18.427749633789062, 9.89028263092041, 8.37452507019043, 3.157235860824585, 25.442045211791992, 6.58241605758667, -1.1620832681655884, -5.340980529785156, 19.723859786987305, 13.554917335510254, -0.5317248106002808, -18.71955680847168, 12.038089752197266, -29.94808578491211, -1.8592768907546997, -5.84623908996582, -4.830207824707031, 31.46440887451172, 6.590354919433594, 12.702554702758789, -33.36090087890625, -19.28412628173828, -49.7682991027832, -15.02612018585205, 10.321442604064941, -32.6988410949707, -12.763651847839355, 0.010723862797021866, -14.735343933105469, -0.8965097665786743, -6.480692386627197, -3.379199743270874, 0.14910025894641876, -1.7241413593292236, 0.6010864973068237, -2.5752148628234863, 10.600550651550293, 29.475017547607422, -14.035065650939941, 1.8459105491638184, -2.4122400283813477, -3.3510711193084717, -22.73134422302246, 31.600479125976562, 31.595441818237305, 1.9970463514328003, 5.754817485809326, 9.504594802856445, 13.36939811706543, 25.56099510192871, 3.8785791397094727, -0.2838030755519867, -27.039705276489258, 5.388166427612305, -19.02128028869629, -13.42001724243164, -3.045694351196289, -7.192201137542725, 5.2463788986206055, 3.4551706314086914, 4.7822585105896, -3.322002410888672, 4.084240436553955, -16.921632766723633, -3.5582470893859863, -18.04543685913086, -3.5732474327087402, -18.2436466217041, -20.782445907592773, -2.2287087440490723, 3.1857690811157227, -22.479970932006836, 7.167205810546875, -4.534875869750977, 5.373485088348389, 12.51530647277832, 33.22360610961914, 3.07305908203125, 3.879498243331909, 29.001632690429688, -16.576602935791016, 0.45539042353630066, 4.580021381378174, 0.16720198094844818, 11.758909225463867, -2.5312461853027344, 15.367218971252441, 12.348227500915527, -0.3420850336551666, -20.742813110351562, -20.37641716003418, -12.644325256347656, 9.98569393157959, 23.058454513549805, 7.141851425170898, 2.0919382572174072, 21.165754318237305, 21.18427848815918, 26.91461753845215, -19.898462295532227, -1.1385656595230103, -25.453712463378906, -19.024150848388672, 27.864709854125977, 14.274759292602539, 30.997291564941406, 2.0708975791931152, -6.962287425994873, -25.754732131958008, 0.42115318775177, -22.705474853515625, -18.383268356323242, -29.438566207885742, -18.55234718322754, -15.623388290405273, 10.88962459564209, -11.296916007995605, -1.0539698600769043, -26.832700729370117, -19.984760284423828, 26.7203426361084, -29.46092987060547, -6.299048900604248, -16.96246337890625, 21.21723747253418, 4.425207614898682, -4.970246315002441, 2.069112539291382, -15.363533020019531, -2.7880117893218994, 22.08522605895996, -20.065460205078125, 2.5112452507019043, 10.869571685791016, 10.885990142822266, 12.298565864562988, -26.682178497314453, -24.17122459411621, 25.459474563598633, 13.440282821655273, -19.45928192138672, 4.3343915939331055, 28.274784088134766, 2.7292354106903076, -25.577150344848633, -1.3234068155288696, 18.538732528686523, 1.1826679706573486, 33.21177291870117, 2.449096918106079, 25.163726806640625, 2.0227103233337402, -15.010210990905762, -1.5777348279953003, 0.4486362040042877, 14.140820503234863, 33.32311248779297, 10.124031066894531, 14.410774230957031, -6.643695831298828, 12.027694702148438, -4.478377342224121, 9.32193374633789, 1.783447027206421, 2.302166223526001, 26.673709869384766, 27.808725357055664, 5.671389579772949, -0.8182470798492432, -17.140342712402344, 18.798982620239258, -3.896148681640625, 16.07098388671875, 13.914852142333984, 10.146053314208984, -21.957292556762695, 15.784697532653809, 0.5285714268684387, 29.455595016479492, -3.5622990131378174, -3.955707550048828, 1.6607205867767334, -0.8788132071495056, -15.664714813232422, -19.867807388305664, -3.631639242172241, -9.706305503845215, -4.977123737335205, -31.85110092163086, -3.761551856994629, -3.718182325363159, -0.06764167547225952, 1.2726396322250366, 9.857242584228516, -4.6469926834106445, -33.05015563964844, 28.316848754882812, -19.106170654296875, -21.97519302368164, 1.2276049852371216, -1.9082152843475342, -29.94452667236328, 10.022502899169922, -0.4407402276992798, 14.501615524291992, -20.615598678588867, 0.5733067393302917, -14.584436416625977, -3.7232398986816406, -31.391239166259766, -21.732994079589844, 10.762085914611816, -0.1690106838941574, 2.6469593048095703, 0.9108893275260925, 20.701274871826172, 7.413173198699951, -2.280167818069458, -1.707807183265686, -2.0638344287872314, -34.37355041503906, -15.946697235107422, -2.0011467933654785, 2.713080883026123, 20.691024780273438, -20.870634078979492, 10.643057823181152, -1.8021214008331299, 12.25009822845459, -19.594533920288086, 0.7521234750747681, 29.931764602661133, -3.8938167095184326, -24.14731788635254, -7.352719306945801, -3.4515726566314697, 7.519197940826416, 12.623010635375977, -21.191753387451172, 19.786006927490234, 27.759353637695312, 2.921048879623413, -1.3810365200042725, 11.739937782287598, 13.548233985900879, 4.759868144989014, 1.8121368885040283, 23.97772216796875, -3.977247953414917, 0.22697129845619202, 12.147517204284668, 4.950459957122803, -12.670943260192871, 28.93326187133789, 12.521352767944336, 27.17414665222168, 4.490820407867432, 10.526569366455078, 0.6946810483932495, 24.621444702148438, 26.53064727783203, 28.31275177001953, 4.588816165924072, 15.13485050201416, -19.527652740478516, 29.00981903076172, -0.13186267018318176, -13.613702774047852, 16.306079864501953, 10.706533432006836, 6.019614219665527, -14.017833709716797, -21.16976547241211, 27.48581314086914, 3.4221041202545166, 24.145015716552734, 27.499719619750977, 32.68643569946289, -14.632638931274414, -3.6680760383605957, 14.95982551574707, 33.45173263549805, -1.0640382766723633, 24.419809341430664, 16.694334030151367, 5.658788681030273, -5.797781944274902, -8.176615715026855, -18.865070343017578, 35.22040939331055, 16.234506607055664, -2.2994987964630127, 2.6358139514923096, -17.566997528076172, 14.19775676727295, 22.0571346282959, 4.696781635284424, 9.692117691040039, -7.028846263885498, 10.32426929473877, 4.452996253967285, 24.10491943359375, 26.006763458251953, 28.414094924926758, -13.880232810974121, -17.006837844848633, 12.654857635498047, -2.2560338973999023, -11.310275077819824, 15.973694801330566, 5.844590663909912, 15.964456558227539, -5.853174686431885, -4.5754594802856445, 2.562272548675537, 11.280923843383789, -5.507380485534668, -21.37505340576172, 21.22340202331543, 9.936335563659668, -23.017459869384766, -1.0127294063568115, 0.9586817622184753, 25.022659301757812, 10.63162899017334, 14.414840698242188, -0.9625937342643738, -14.632131576538086, 7.163789749145508, 35.62507629394531, 7.4384002685546875, 8.95378589630127, 8.6265287399292, 9.843576431274414, 13.652714729309082, -0.784508466720581, 15.254498481750488, 16.21907615661621, -30.02992820739746, 13.552790641784668, -31.461580276489258, -25.507976531982422, 0.512054979801178, -4.391480445861816, 6.461924076080322, -2.8135643005371094, -18.617551803588867, 13.214731216430664, -3.8784093856811523, -16.974380493164062, -2.547987699508667, -16.51377296447754, 31.96133041381836, -28.11455535888672, -28.227008819580078, -3.0899806022644043, -21.293468475341797, 10.701716423034668, -5.585893154144287, -23.582727432250977, -6.952469348907471, -19.153064727783203, -7.608513832092285, -12.72225284576416, -28.26813316345215, -21.79999542236328, 10.919578552246094, 14.956796646118164, 2.2407453060150146, 8.653010368347168, 9.559089660644531, 10.146870613098145, 13.85049819946289]}, {\"marker\": {\"color\": \"orange\", \"size\": 5}, \"mode\": \"markers\", \"name\": \"Defender\", \"opacity\": 0.7, \"text\": [\"V. van Dijk\", \"K. Koulibaly\", \"N. Kant\\u00e9\", \"G. Chiellini\", \"Sergio Ramos\", \"Sergio Busquets\", \"Piqu\\u00e9\", \"D. God\\u00edn\", \"A. Laporte\", \"Casemiro\", \"Fernandinho\", \"Thiago Silva\", \"J. Vertonghen\", \"M. Hummels\", \"T. Alderweireld\", \"Jordi Alba\", \"Marquinhos\", \"M. \\u0160kriniar\", \"S. Umtiti\", \"J. Kimmich\", \"L. Bonucci\", \"M. de Ligt\", \"R. Varane\", \"N. S\\u00fcle\", \"Rodri\", \"Fabinho\", \"A. Robertson\", \"J. Gim\\u00e9nez\", \"C. Lenglet\", \"K. Manolas\", \"D. Alaba\", \"Carvajal\", \"B. Matuidi\", \"Marcelo\", \"A. Witsel\", \"Alex Sandro\", \"Jo\\u00e3o Cancelo\", \"L. Hern\\u00e1ndez\", \"Alex Telles\", \"S. de Vrij\", \"Pepe\", \"Sokratis\", \"Lucas Leiva\", \"Javi Mart\\u00ednez\", \"J. Boateng\", \"Azpilicueta\", \"K. Walker\", \"Felipe\", \"A. Romagnoli\", \"T. Alexander-Arnold\", \"J. Tah\", \"M. Akanji\", \"J. Stones\", \"Grimaldo\", \"D. S\\u00e1nchez\", \"L. Digne\", \"William Carvalho\", \"D. Djen\\u00e9\", \"Bartra\", \"V. Kompany\", \"Ra\\u00fal Albiol\", \"Miranda\", \"E. Garay\", \"E. Banega\", \"David Luiz\", \"J. Henderson\", \"Illarramendi\", \"D. Blind\", \"N. Otamendi\", \"I. Gueye\", \"F. Acerbi\", \"Danilo Pereira\", \"Josu\\u00e9 Chiamulera\", \"L. Torreira\", \"P. Kimpembe\", \"N\\u00e9lson Semedo\", \"D. Rugani\", \"J. Matip\", \"S. Savi\\u0107\", \"A. R\\u00fcdiger\", \"Ricardo Pereira\", \"N. Tagliafico\", \"T. Delaney\", \"Sergi Roberto\", \"N. Schulz\", \"Nacho Fern\\u00e1ndez\", \"Gabriel Paulista\", \"J. Roussillon\", \"H. Maguire\", \"D. De Rossi\", \"L. Biglia\", \"S. Kj\\u00e6r\", \"V. \\u0106orluka\", \"A. Kolarov\", \"M\\u00e1rio Fernandes\", \"S. Coates\", \"T. Meunier\", \"Juiano Mestres\", \"Rosberto Dourado\", \"E. Schetino\", \"\\u00c9der Milit\\u00e3o\", \"V. Lindel\\u00f6f\", \"Gay\\u00e0\", \"L. Shaw\", \"A. Doucour\\u00e9\", \"W. Ndidi\", \"W. Orban\", \"M. Ginter\", \"Thiago Mendes\", \"A. Izzo\", \"M. Brozovi\\u0107\", \"L. Milivojevi\\u0107\", \"J. Mathieu\", \"L. Koscielny\", \"Jardel\", \"Jos\\u00e9 Fonte\", \"L. Piszczek\", \"B. H\\u00f6wedes\", \"M. Parolo\", \"Fernando\", \"Luiz Gustavo\", \"N. Nkoulou\", \"N. Mati\\u0107\", \"Marcos Alonso\", \"Andr\\u00e9 Almeida\", \"A. Florenzi\", \"J. Frendado\", \"J. Gomez\", \"A. Christensen\", \"Mario Hermoso\", \"M. Caldara\", \"Marcos Llorente\", \"F. Mendy\", \"R\\u00faben Dias\", \"H\\u00e9ctor Beller\\u00edn\", \"B. Mendy\", \"T. Bakayoko\", \"Odriozola\", \"K. Zouma\", \"N. Ak\\u00e9\", \"E. Hysaj\", \"Andr\\u00e9 Gomes\", \"J. Weigl\", \"Yeray\", \"R. Rodr\\u00edguez\", \"A. Mandi\", \"Bernat\", \"M. Keane\", \"E. Bailly\", \"Sergi G\\u00f3mez\", \"M. Hinteregger\", \"M. Nastasi\\u0107\", \"J. Guilavogui\", \"P. Kade\\u0159\\u00e1bek\", \"C. Kramer\", \"I\\u00f1igo Mart\\u00ednez\", \"M. Halstenberg\", \"M. Vecino\", \"J. Mascherano\", \"L. Perrin\", \"S. Radu\", \"D. Rose\", \"Naldo\", \"M. D\\u00edaz\", \"L. Bender\", \"S. Bender\", \"E. Capoue\", \"Antunes\", \"F. Fazio\", \"M. Hasebe\", \"Sidnei\", \"K. Trippier\", \"M. Musacchio\", \"Y. M'Vila\", \"S. Nzonzi\", \"C. Smalling\", \"K. Glik\", \"K. Vogt\", \"D. Lovren\", \"D. Vida\", \"Ismaily\", \"F. Ghoulam\", \"S. San\\u00e9\", \"S. Vrsaljko\", \"T. Stepanenko\", \"I. Marcone\", \"Everton Andr\\u00e3o\", \"Welington Dano\", \"M. Baldona\", \"M. N\\u00e9rez\", \"A. Wan-Bissaka\", \"I. Konat\\u00e9\", \"S. Berge\", \"R. Zobnin\", \"T. Kehrer\", \"A. Hakimi\", \"D. Samass\\u00e9kou\", \"Marc Roca\", \"D. Zagadou\", \"J. Denayer\", \"L. Klostermann\", \"A. Diallo\", \"B. Pavard\", \"B. Chilwell\", \"T. Sou\\u010dek\", \"Junior Firpo\", \"N. Stark\", \"J. Gbamin\", \"Angeli\\u00f1o\", \"E. Dier\", \"Jonny\", \"J. Lerma\", \"L. Dubois\", \"L. Cabrera\", \"J. Murillo\", \"J. Tarkowski\", \"J. Brooks\", \"S. Kola\\u0161inac\", \"F. Sch\\u00e4r\", \"R. Aguilar\", \"F. Balbuena\", \"S. Mustafi\", \"G. Pezzella\", \"D. da Costa\", \"W. Boly\", \"B. Davies\", \"Diego Carlos\", \"M. Sakho\", \"Laguardia\", \"P. Jones\", \"S. Aurier\", \"K. Lala\", \"S. Arias\", \"J. Veltman\", \"D. Zappacosta\", \"Dante\", \"M. Debuchy\", \"M. \\u0160krtel\", \"J. Evans\", \"N. Moisander\", \"D. Criscito\", \"Marcano\", \"Nacho Monreal\", \"S. Coleman\", \"Yuri Berchiche\", \"Mariano\", \"O. Toprak\", \"K. Asamoah\", \"Cote\", \"Maicon\", \"Escudero\", \"Mario Gaspar\", \"V\\u00edctor Ruiz\", \"E. P\\u00e9rez\", \"D. Caligiuri\", \"Danilo\", \"N. Pallois\", \"M. Badelj\", \"D. Su\\u00e1rez\", \"Roque Mesa\", \"M\\u00e1rio Rui\", \"A. Samaris\", \"J. Hector\", \"Rub\\u00e9n Pe\\u00f1a\", \"L. Sigali\", \"Ra\\u00fal\", \"Petros\", \"Maikel Catarino\", \"Ant\\u00f4nio Chiamuloira\", \"Melvin Parrela\", \"D. Lenzado\", \"E. Riquero\", \"D. Rice\", \"Ferro\", \"J. Andersen\", \"I. Diop\", \"O. Zinchenko\", \"O. Yoku\\u015flu\", \"N. Elvedi\", \"G. Dzhikiya\", \"Aar\\u00f3n Mart\\u00edn\", \"Calero\", \"E. Pulgar\", \"W. Barrios\", \"R\\u00faben Vezo\", \"B. Santamaria\", \"Y. Mina\", \"L. Tousart\", \"J. Lascelles\", \"K. Rekik\", \"I. Amadou\", \"G. Marip\\u00e1n\", \"E. Skhiri\", \"D. Dumfries\", \"Bruno Viana\", \"A. Soumaoro\", \"R. Gagliardini\", \"R. Saravia\", \"Rafael Tol\\u00f3i\", \"S. Duffy\", \"F. Lejeune\", \"L. Dunk\", \"Pedro Mendes\", \"Fernando\", \"C. H\\u00e9relle\", \"Omar Mascarell\", \"S. Deli\", \"M. Ngadeu\", \"V. Wanyama\", \"C. Kabasele\", \"M. Doherty\", \"David L\\u00f3pez\", \"D. Demme\", \"J. Vestergaard\", \"N. Maksimovi\\u0107\", \"Capa\", \"Bastos\", \"J. Pinola\", \"Hilton\", \"A. Granqvist\", \"T. Vermaelen\", \"D. Abraham\", \"A. Masiello\", \"R. Bertrand\", \"N. \\u015eahin\", \"Coke\", \"H. Moreno\", \"J. Tomkins\", \"C. Zapata\", \"P. Diop\", \"D. Da Silva\", \"Marcelo\", \"M. C\\u00e1ceres\", \"J. Holebas\", \"L. Fejsa\", \"D. Schwaab\", \"Camacho\", \"Rafael Carioca\", \"Daniel Carri\\u00e7o\", \"S. Rudy\", \"Souza\", \"B. H\\u00fcbner\", \"J. Baumgartlinger\", \"Rafael\", \"B. Mee\", \"De Marcos\", \"N. Clyne\", \"S. Cook\", \"Jaume Costa\", \"G. Medel\", \"Hugo Mallo\", \"G. Krychowiak\", \"B. Stambouli\", \"K. Malcuit\", \"S. Rode\", \"M. Rojo\", \"Naldo\", \"J. Gouweleeuw\", \"\\u00c1lvaro\", \"Z. Feddal\", \"G. Pizarro\", \"H. Sakai\", \"F. Fabra\", \"C. Izquierdoz\", \"A. Donatti\", \"N. Dom\\u00ednguez\", \"Marcelo Goiano\", \"Ronaldo Esler\", \"Everticinho\", \"Sidney Pessinho\", \"E. Guich\\u00f3n\", \"G. Quintana\", \"D. Upamecano\", \"D. Calabria\", \"M. Gruji\\u0107\", \"Luiz Felipe\", \"Y. Atal\", \"Jorge Mer\\u00e9\", \"N. Mukiele\", \"L. Mart\\u00ednez\", \"Reguil\\u00f3n\", \"Renan Lodi\", \"J. M\\u00e6hle\", \"N. Mazraoui\", \"F. Bustos\", \"S. McTominay\", \"K. Mbabu\", \"J. Bednarek\", \"Vallejo\", \"P. Rosario\", \"M. Weiser\", \"Emerson\", \"A. Djiku\", \"Diego Llorente\", \"K. Tete\", \"G. Escalante\", \"O. Colley\", \"M. Diakhaby\", \"M. Arambarri\", \"O. Seln\\u00e6s\", \"C. Salcedo\", \"R. Bensebaini\", \"Aritz Elustondo\", \"K. Ayhan\", \"P. Max\", \"B. Mechele\", \"Wendell\", \"Pedro Henrique\", \"G. Rodr\\u00edguez\", \"C. Luyindama\", \"S. Aziz\", \"C. Piccini\", \"C. Coady\", \"R. Knoche\", \"S. Lainer\", \"M. Plattenhardt\", \"N. Gudelj\", \"R. Funes Mori\", \"Pedro Obiang\", \"Bruno\", \"D. Sidib\\u00e9\", \"Pablo\", \"L. Kurzawa\", \"M. De Sciglio\", \"M. Elneny\", \"D. Baier\", \"Iv\\u00e1n Ramis\", \"G. Clichy\", \"A. Young\", \"R. Civelli\", \"Gelson Fernandes\", \"Javi Garc\\u00eda\", \"G. Cahill\", \"Danilo\", \"P. Wernbloom\", \"M. Schneiderlin\", \"M. Lay\\u00fan\", \"Varela\", \"M. Such\\u00fd\", \"S. De Maio\", \"P. Aguilar\", \"F. Delph\", \"N. Suboti\\u0107\", \"A. Ogbonna\", \"Maur\\u00edcio\", \"Claudemir\", \"D. Janmaat\", \"A. Dragovi\\u0107\", \"Arbilla\", \"L. Tonelli\", \"E. Bi\\u010dak\\u010di\\u0107\", \"Lu\\u00eds Neto\", \"V. Chiriche\\u0219\", \"S. Ristovski\", \"Mar\\u00e7al\", \"T. Strobl\", \"R. Sa\\u00efss\", \"Nacho\", \"L. L\\u00f3pez\", \"M. Casco\", \"J. Palomino\", \"Gazzolisco\", \"Vieirundinho\", \"L. Baezo\", \"S. Luna\", \"V. Castro\", \"J. Monsario\", \"Florentino\", \"K. Tierney\", \"G. Mancini\", \"T. Adams\", \"E. N'Dicka\", \"J. Kound\\u00e9\", \"I. Sangar\\u00e9\", \"F. Benkovi\\u0107\", \"M. Locatelli\", \"M. \\u00c7elik\", \"I. Doumbia\", \"M. Sarr\", \"E. \\u00c1lvarez\", \"T. Koopmeiners\", \"I. Hayden\", \"R. Holding\", \"W. Anton\", \"Zubeldia\", \"A. Franco\", \"N. Milenkovi\\u0107\", \"Unai N\\u00fa\\u00f1ez\", \"B. Engels\", \"D. \\u0106aleta-Car\", \"F. Guilbert\", \"S. Ascac\\u00edbar\", \"T. Hern\\u00e1ndez\", \"Y. Osorio\", \"L. Augustinsson\", \"R\\u00faben Semedo\", \"S. Gigot\", \"Rub\\u00e9n Duarte\", \"Palhinha\", \"A. Barboza\", \"Xeka\", \"S. Denswil\", \"J. Hendrix\", \"Wallace\", \"M. Nakamba\", \"D. Reyes\", \"N. Ara\\u00fajo\", \"C. Taylor\", \"S. Kverkvelia\", \"R. Khedira\", \"D. Kohr\", \"A. Masuaku\", \"D. Yedlin\", \"Ot\\u00e1vio\", \"A. Brian\\u00e7on\", \"Bustinza\", \"Dalbert\", \"Pablo Santos\", \"V. Coufal\", \"E. Mangala\", \"Oriol Romeu\", \"D. Heintz\", \"C. McGregor\", \"S. Widmer\", \"M. J\\u00f8rgensen\", \"T. Kolodziejczak\", \"P. Jansson\", \"A. Wakaso\", \"C\\u00e9dric\", \"O. Onazi\", \"T. Monconduit\", \"Alberto Moreno\", \"Guilherme\", \"Paulo Oliveira\", \"Ricardo Esgaio\", \"Y. G\\u00f3mez Andrade\", \"R. Aliendro\", \"P. Jagielka\", \"B. Schweinsteiger\", \"M. Topal\", \"H. Kald\\u0131r\\u0131m\", \"A. Hutchinson\", \"L. Ponzio\", \"R. Klavan\", \"O. Wendt\", \"P. Skjelbred\", \"Y. Zhirkov\", \"M. Bradley\", \"Markel Bergara\", \"L\\u00e9o Matos\", \"K. El Ahmadi\", \"D. Basta\", \"S. Bocchetti\", \"J. Maidana\", \"S. Bamba\", \"W. Reid\", \"D. Chygrynskyi\", \"F. Lustenberger\", \"Vieirinha\", \"R. Donk\", \"C. Cathcart\", \"R. Rosales\", \"F. Roncaglia\", \"K. Papadopoulos\", \"M. Lang\", \"N. S\\u00e1nchez\", \"P. van Aanholt\", \"T. Gebre Selassie\", \"I. Radovanovi\\u0107\", \"Kiko Olivas\", \"C. Kouyat\\u00e9\", \"Diogo Viana\", \"M. Schmelzer\", \"Miguel Lopes\", \"A. Cresswell\", \"Kiko Femen\\u00eda\", \"Rub\\u00e9n P\\u00e9rez\", \"T. Jantschke\", \"K. Th\\u00e9ophile-Catherine\", \"A. Smith\", \"J\\u00fanior Cai\\u00e7ara\", \"N. Viergever\", \"Montoya\", \"Mexer\", \"D. Boyata\", \"M. H\\u00f6ger\", \"C. Ort\\u00edz\", \"Ra\\u00fal Navas\", \"C. Schindler\", \"Juan Jesus\", \"F. Fern\\u00e1ndez\", \"Aleix Vidal\", \"J. Bo\\u0159il\", \"S. Sanogo\", \"To\\u00f1o Garc\\u00eda\", \"Y. Abdelhamid\", \"G. Gonz\\u00e1lez\", \"D. Siovas\", \"E. Mena\", \"O. Duarte\", \"Sequeira\", \"Alexo Baia\", \"Juli Freitinho\", \"Eltildo Correia\", \"Emilio Piod\\u00e3o\", \"Andeson Trigo\", \"Victildinho\", \"Davi Parrela\", \"David Seijalbo\", \"Rafael Cachoira\", \"G. Ichazo\", \"M. Fagundez\", \"A. Aguilmera\", \"K. Berlaso\", \"S. Tonali\", \"B. Kamara\", \"Diogo Dalot\", \"P. Retsos\", \"A. Maitland-Niles\", \"L. Mart\\u00ednez Quarta\", \"J. Lucumi\", \"Ivanildo Fernandes\", \"B. Henrichs\", \"Fran Beltr\\u00e1n\", \"K. Omeruo\", \"T. Jedvaj\", \"Y. Kon\\u00e9\", \"Anuar\", \"Thiago Maia\", \"G. Montiel\", \"M. Saracchi\", \"I. \\u0160unji\\u0107\", \"M. Burda\", \"M. Kempf\", \"K. Akpoguma\", \"G. Conti\", \"M. Veljkovi\\u0107\", \"K. Phillips\", \"M. Holgate\", \"E. Vel\\u00e1zquez\", \"M. Niakhat\\u00e9\", \"Melero\", \"F. Sacko\", \"K. Amian\", \"J. Gnagnon\", \"F. Uduokhai\", \"G. Konan\", \"E. Cabaco\", \"Alfa Semedo\", \"Luis Milla\", \"C. Chambers\", \"T. Foket\", \"T. K\\u0119dziora\", \"B. Pearson\", \"E. Balanta\", \"L. Olaza\", \"A. Long\", \"R. Karsdorp\", \"T. Baumgartl\", \"M. Wolf\", \"A. Nagy\", \"F. Ricca\", \"Bernardo\", \"Marc\\u00e3o\", \"D. Bronn\", \"K. Malong\", \"Mart\\u00edn\", \"Rodrigo Ely\", \"T. Kongolo\", \"N. Chalobah\", \"V. Lazaro\", \"W. Troost-Ekong\", \"W. Hoedt\", \"S. Crist\\u00f3foro\", \"G. Shoji\", \"Cl\\u00e1udio Falc\\u00e3o\", \"Sergio \\u00c1lvarez\", \"L. Gonz\\u00e1lez Pirez\", \"K. Stafylidis\", \"B. Zuculini\", \"J. Willems\", \"Clinton Mata\", \"A. Tour\\u00e9\", \"L. Menossi\", \"\\u00c1lex Moreno\", \"N. Vuk\\u010devi\\u0107\", \"C. Borja\", \"Rodrigo\", \"J. Svensson\", \"C. Biraghi\", \"K. Djidji\", \"J. Brenet\", \"Andr\\u00e9 Ramalho\", \"R. Haps\", \"L. Magall\\u00e1n\", \"Jemerson\", \"K. Laifis\", \"C. Clark\", \"M. Kelly\", \"S. Dewaest\", \"T. K\\u00e1d\\u00e1r\", \"O. Elabdellaoui\", \"J. Tavernier\", \"P. Dummett\", \"B. Sarr\", \"A. Ring\", \"S. Kryvtsov\", \"S. Mitrovi\\u0107\", \"C. G\\u00fcnter\", \"A. Hegazi\", \"J. Mojica\", \"Y. Sabaly\", \"M. Mevlja\", \"H. Traor\\u00e9\", \"Zald\\u00faa\", \"S. Sydorchuk\", \"S. Brown\", \"S. Francis\", \"W. Morgan\", \"J. Morel\", \"P. Zabaleta\", \"G. G\\u00f6n\\u00fcl\", \"S. Dann\", \"A. Romao\", \"V. Behrami\", \"F. Haroun\", \"L. Baines\", \"D. Congr\\u00e9\", \"G. Cabral\", \"N. Domingo\", \"Barrag\\u00e1n\", \"C. Erkin\", \"H. Ayala\", \"M. Fritzler\", \"A. Mariappa\", \"Manuel da Costa\", \"W. Vainqueur\", \"A. Epureanu\", \"A. Ranocchia\", \"M. Tekdemir\", \"C. S\\u00e1nchez\", \"H. Nordtveit\", \"J. Hogg\", \"S. Langkamp\", \"L. Kon\\u00e9\", \"R. Thomas\", \"M. Darmian\", \"I. Traor\\u00e9\", \"K. Gibbs\", \"M. Ritchie\", \"B. Espinosa\", \"J. Hern\\u00e1ndez\", \"V. Vasin\", \"M. Isla\", \"J. McCarthy\", \"D. Brosinski\", \"Jo\\u00e3o Aur\\u00e9lio\", \"B. Oczipka\", \"D. Santon\", \"D. Le Tallec\", \"M. Gulde\", \"T. Arslan\", \"O. Alonso\"], \"type\": \"scatter\", \"x\": [-12.582695960998535, -44.66605758666992, -23.38040542602539, -43.34465026855469, -1.4824278354644775, 5.808440208435059, -8.430245399475098, -23.4573917388916, -22.38528060913086, -1.605232834815979, -0.817771315574646, -11.777094841003418, -10.907161712646484, -8.368470191955566, -11.749577522277832, -9.983880043029785, -34.092716217041016, -43.691287994384766, -11.83651351928711, -12.710395812988281, -10.685516357421875, -22.679994583129883, -41.838470458984375, -42.979671478271484, -16.118749618530273, -1.8759504556655884, -14.691313743591309, -43.72313690185547, -33.832942962646484, -45.32474136352539, -2.180053234100342, -26.58538246154785, -23.321470260620117, -9.282508850097656, -1.524084210395813, -15.077645301818848, -13.804253578186035, -27.505308151245117, -2.2034406661987305, -42.61372756958008, -39.788909912109375, -39.69928741455078, -0.4841671288013458, -22.67572784423828, -33.7275276184082, -10.467145919799805, -15.86591625213623, -43.51863098144531, -43.69148635864258, -13.854779243469238, -42.7527961730957, -41.738887786865234, -36.19218826293945, -14.225687026977539, -42.090476989746094, -14.064766883850098, 0.11398710310459137, -38.80587387084961, -14.2060546875, -17.807003021240234, -31.570266723632812, -35.71617126464844, -17.53253173828125, 7.8513054847717285, -8.848560333251953, 0.6528889536857605, -0.5996688604354858, -0.7213755249977112, -22.97657585144043, -24.069255828857422, -25.775367736816406, -22.125171661376953, -41.43052673339844, -23.40213966369629, -40.69702911376953, -28.57402992248535, -42.686683654785156, -23.989830017089844, -33.62002944946289, -40.16222381591797, -13.164728164672852, -23.630048751831055, -13.013968467712402, -14.944877624511719, -31.5734920501709, -40.628517150878906, -32.51908493041992, -12.87154483795166, -22.551359176635742, -9.376936912536621, -8.476845741271973, -28.186138153076172, -23.609695434570312, -1.0099742412567139, -23.50165367126465, -21.126094818115234, -13.342330932617188, -10.860220909118652, -20.422147750854492, -41.40924835205078, -25.42068862915039, -32.64250946044922, -12.47724723815918, -26.923595428466797, -20.8553524017334, -25.081884384155273, -31.77420997619629, -20.64359474182129, -13.990591049194336, -44.769840240478516, -0.014507308602333069, -1.863665223121643, -9.397930145263672, -35.34954833984375, -34.76408004760742, -28.406599044799805, -5.497782230377197, -21.169801712036133, -15.513734817504883, -15.69972038269043, -25.00209617614746, -38.025840759277344, 0.7991294860839844, 1.4024715423583984, -16.01179313659668, -3.3542845249176025, -11.02999496459961, -36.612464904785156, -42.37354278564453, -28.12087631225586, -43.30265808105469, -14.338571548461914, -12.888788223266602, -43.66992950439453, -31.5572566986084, -28.263416290283203, -32.37588882446289, -31.637170791625977, -26.195964813232422, -32.716556549072266, -35.713138580322266, -9.889801979064941, -28.78346824645996, -26.801437377929688, -0.6995344161987305, -22.370155334472656, -11.46585750579834, -29.47629737854004, -38.9253044128418, -33.74470901489258, -24.371028900146484, -42.97898483276367, -24.720529556274414, -31.69849395751953, -16.61487579345703, -35.01640701293945, -4.4447922706604, -12.533282279968262, -29.859216690063477, -5.883685111999512, -28.42157745361328, -12.903852462768555, -20.430458068847656, -2.149658203125, -22.523847579956055, -38.852142333984375, 1.1636406183242798, -9.742164611816406, -25.639421463012695, -6.820150852203369, -25.926769256591797, -16.899951934814453, -29.351951599121094, -10.211536407470703, 0.3478856682777405, -27.09684944152832, -31.163227081298828, -27.048786163330078, -34.486236572265625, -39.9039421081543, -16.74135398864746, -5.701582908630371, -35.842247009277344, -29.848371505737305, -24.214847564697266, -15.817540168762207, -22.7067928314209, -16.661823272705078, -22.7067928314209, -16.69247817993164, -33.04254150390625, -41.29298400878906, -31.646209716796875, -14.989784240722656, -33.98329162597656, -27.342178344726562, -31.252336502075195, -12.178988456726074, -41.983497619628906, -41.54791259765625, -37.21770477294922, -34.96663284301758, -31.664255142211914, -29.50906753540039, -4.4418792724609375, -26.058605194091797, -33.656349182128906, -28.788206100463867, -13.326326370239258, -5.975921154022217, -27.696674346923828, -11.464447021484375, -21.20527458190918, -34.72856903076172, -39.5777587890625, -27.016748428344727, -38.2846794128418, -25.470439910888672, -8.574004173278809, -28.424680709838867, -34.64639663696289, -27.703659057617188, -23.048995971679688, -31.127534866333008, -32.20561218261719, -15.364056587219238, -38.33501052856445, -31.393056869506836, -23.37454605102539, -24.250898361206055, -12.037314414978027, -5.292083740234375, -35.94536590576172, -28.703506469726562, -14.87073802947998, -17.91718101501465, -6.6819634437561035, -32.51982879638672, -34.831703186035156, -13.709769248962402, -6.59099817276001, -35.02281188964844, -3.308309555053711, -13.409516334533691, -10.410907745361328, -15.478193283081055, -39.072410583496094, -11.8569917678833, -21.38485336303711, -22.267578125, -7.539125919342041, -15.29910659790039, -23.153661727905273, -4.144873142242432, 4.033864498138428, -6.1510539054870605, -33.078338623046875, -6.071568965911865, -10.40156078338623, -21.362483978271484, -32.22539138793945, -2.696378469467163, -7.956284046173096, -10.685104370117188, -36.49747085571289, -23.77448844909668, -8.053929328918457, -34.33741760253906, -28.070762634277344, -4.299450397491455, -28.069990158081055, -20.44829559326172, -36.62276840209961, -27.505760192871094, -35.03263473510742, -39.189884185791016, -8.34276294708252, -9.241113662719727, -35.46615219116211, -32.568824768066406, -32.754600524902344, -32.34584426879883, -4.521601676940918, -36.62668991088867, -33.324546813964844, -18.989791870117188, -23.461538314819336, -33.9656982421875, -43.97328186035156, -39.45378112792969, -31.865360260009766, -30.41172218322754, -12.12192440032959, -29.023921966552734, -34.01231002807617, -35.19668197631836, -15.585594177246094, -31.126314163208008, -32.02568054199219, -22.923765182495117, -22.54106330871582, -31.421112060546875, -33.62642288208008, -10.331036567687988, -31.713748931884766, -9.88669490814209, -40.42775344848633, -30.107534408569336, -3.5880393981933594, -26.167463302612305, -19.26982307434082, -21.15736961364746, -26.631763458251953, -21.504350662231445, -41.932308197021484, -22.44012451171875, -40.15108108520508, -29.85726547241211, -17.3897705078125, -17.612133026123047, -18.9832706451416, -31.585914611816406, -32.52136993408203, -19.115991592407227, -3.227534532546997, -3.812420606613159, -28.192914962768555, -29.3851375579834, -34.253360748291016, -3.058730125427246, -34.9371452331543, -24.205059051513672, -33.89699172973633, -4.867947101593018, -23.37998390197754, -31.086963653564453, -4.509823799133301, -8.442980766296387, -17.914810180664062, 7.664970874786377, -8.663969993591309, -29.948257446289062, -30.95825958251953, -10.984044075012207, -33.31269073486328, -14.739297866821289, -19.079927444458008, -32.54590606689453, -13.257189750671387, -31.093997955322266, -35.62165451049805, -22.697397232055664, -28.51546859741211, -22.447433471679688, -22.644147872924805, -18.249441146850586, -26.66106414794922, -29.559370040893555, -38.79164123535156, -24.285097122192383, 6.701641082763672, -31.366151809692383, -22.63813018798828, -24.598073959350586, -16.744348526000977, -19.666118621826172, -31.480995178222656, -32.02013397216797, -5.251962661743164, -9.410680770874023, -32.00205612182617, -34.34198760986328, -39.80728530883789, -33.6433219909668, -10.510855674743652, -40.642391204833984, -9.383763313293457, -38.57890319824219, -33.49021530151367, -27.502521514892578, -29.398555755615234, -11.022786140441895, -27.68534278869629, -25.82868003845215, -24.884326934814453, -10.309550285339355, -28.154808044433594, -42.28874206542969, -37.90127182006836, -21.44365119934082, -8.767377853393555, -33.16345977783203, -33.73759460449219, -34.19677734375, -32.90791702270508, -8.579381942749023, -43.00391387939453, -28.39105224609375, -15.048972129821777, -19.914154052734375, -42.62126541137695, -25.457725524902344, -33.243133544921875, -35.50296401977539, -29.537527084350586, -42.73752212524414, -14.559414863586426, -32.04452133178711, -22.65370750427246, -43.21637725830078, -42.72917556762695, -33.67562484741211, -16.88487434387207, -30.743757247924805, -24.593196868896484, -19.816089630126953, -1.987044334411621, -29.637874603271484, -14.288689613342285, -25.807449340820312, -19.861236572265625, -28.739503860473633, -0.9174884557723999, -31.663711547851562, -7.510819435119629, -4.9893879890441895, -16.472217559814453, -34.09409713745117, -9.070959091186523, -21.268320083618164, -16.184097290039062, -4.139217853546143, -18.669870376586914, -30.278011322021484, 2.983055591583252, -5.919055461883545, -3.67561936378479, -30.03848648071289, -32.60431671142578, -37.55142593383789, -29.940937042236328, -6.914600372314453, -28.163488388061523, -32.58700942993164, 1.2532496452331543, -7.762313365936279, -8.635287284851074, -25.209674835205078, -17.504016876220703, -45.186405181884766, -34.98883056640625, -31.36812400817871, -29.846437454223633, -24.88837432861328, -26.707176208496094, -27.27106475830078, -28.42624282836914, -30.298337936401367, -36.0218391418457, -22.358009338378906, -31.456758499145508, -8.971302032470703, -35.86849594116211, -4.31936502456665, -5.177662372589111, -9.428435325622559, -22.91398811340332, -34.86027526855469, -27.637121200561523, -24.748432159423828, -27.741418838500977, -37.44133758544922, -39.366004943847656, -12.292143821716309, -33.99415588378906, -11.901941299438477, -29.54376220703125, -25.298688888549805, -29.932695388793945, -22.87287139892578, -5.01475191116333, -24.921140670776367, -39.364532470703125, -32.42565155029297, -4.503058910369873, -39.592620849609375, -39.92516326904297, -41.115936279296875, -28.76729393005371, -37.10755157470703, -32.89117431640625, -41.22926330566406, -29.319440841674805, -35.34523391723633, -15.703539848327637, -38.39859390258789, -37.10350799560547, -33.78384017944336, -18.793222427368164, -25.044130325317383, -6.841266632080078, -18.21674919128418, -22.3527774810791, -38.039459228515625, -35.6998405456543, -30.89318084716797, -35.233360290527344, -21.645702362060547, -40.2678337097168, -33.92031478881836, -27.140380859375, -28.454450607299805, -29.58810806274414, -29.158100128173828, -33.97241973876953, -34.98402786254883, -28.942626953125, -42.878082275390625, -19.995813369750977, -35.58921432495117, -26.826465606689453, -32.77854919433594, -6.62641716003418, -16.312442779541016, -39.06574249267578, -32.63731384277344, -33.52124786376953, -37.26411437988281, -16.922868728637695, -19.18330955505371, -13.786945343017578, -22.885440826416016, -14.430395126342773, -38.364078521728516, 5.181412220001221, -32.97615432739258, -11.44430923461914, -27.909616470336914, 2.064265012741089, -6.804365634918213, -30.584014892578125, -8.571892738342285, -4.279780864715576, -27.988758087158203, -7.013049125671387, -13.451260566711426, 0.6738583445549011, -6.476871490478516, -1.612762451171875, -11.154085159301758, -5.572414398193359, -17.257692337036133, -36.384788513183594, -27.67909049987793, -32.151065826416016, -25.00600242614746, -29.430498123168945, -36.04331970214844, -0.9758787751197815, -19.419797897338867, -29.857685089111328, -18.347095489501953, -32.367225646972656, -36.4952507019043, -17.649723052978516, -16.661632537841797, -23.759864807128906, -23.333019256591797, -16.98772430419922, -28.220251083374023, -20.899093627929688, -5.354835510253906, -34.808265686035156, -30.370868682861328, -18.260229110717773, -15.903502464294434, -15.239901542663574, -31.85036277770996, -35.638736724853516, -18.35585594177246, -14.338486671447754, -27.15385627746582, -19.434919357299805, -30.09323501586914, -44.43363571166992, 3.469202756881714, -23.236080169677734, -28.2243595123291, -35.08439636230469, -38.99967575073242, -30.062847137451172, -22.078447341918945, -21.413776397705078, -25.563129425048828, -3.754455327987671, -25.445466995239258, -34.803043365478516, -25.167116165161133, -31.07648277282715, -34.68095779418945, -6.10811710357666, -22.197084426879883, -20.23834800720215, -21.008745193481445, -10.206565856933594, -5.3592729568481445, -15.278985977172852, -37.19704055786133, -22.600961685180664, -23.47388458251953, -21.0064697265625, -22.597536087036133, -23.396038055419922, -27.418737411499023, -8.2638578414917, -30.79648208618164, -27.398029327392578, -40.74113082885742, -28.66118049621582, -22.507139205932617, -41.60895919799805, -40.19171142578125, -18.407209396362305, -29.839345932006836, -41.66099548339844, -28.5036563873291, -29.019105911254883, -19.077417373657227, -23.68951988220215, -35.827388763427734, -22.016010284423828, -29.131771087646484, -41.073646545410156, -37.955875396728516, -37.975555419921875, -35.05086135864258, -40.04918670654297, -19.745643615722656, -33.96408462524414, -24.914066314697266, -40.51924133300781, 5.871570587158203, -30.289684295654297, -29.540660858154297, -39.58992004394531, -40.01710891723633, -29.043956756591797, -36.355552673339844, -25.561220169067383, -15.768261909484863, -28.441911697387695, -27.330284118652344, -33.753604888916016, -28.934385299682617, -37.4197998046875, 2.761752128601074, -35.63187789916992, -25.43339729309082, -40.93866729736328, -11.19719409942627, -18.50791358947754, -37.166934967041016, -34.982723236083984, -36.891109466552734, -11.307371139526367, -13.580307960510254, -35.146697998046875, -37.97982406616211, -33.59528350830078, -20.798341751098633, 4.464806079864502, -40.307167053222656, -32.99888229370117, -13.160783767700195, -42.373046875, -5.940928936004639, -17.587890625, -31.857755661010742, -35.58384704589844, -22.970287322998047, -20.6776065826416, -26.72637939453125, -23.03951072692871, -19.3516788482666, 1.9170862436294556, -15.782591819763184, -34.57462692260742, -15.61205005645752, -20.11297607421875, -16.894813537597656, -39.8218994140625, -35.635684967041016, -13.610804557800293, -29.6625919342041, -33.9722785949707, -38.051753997802734, -13.337804794311523, -20.780593872070312, -18.820232391357422, -32.6981315612793, -37.771793365478516, -28.808059692382812, 4.3649396896362305, -32.3379020690918, -10.235091209411621, -11.470978736877441, -37.557334899902344, -29.842552185058594, -30.476909637451172, -35.146034240722656, -9.987987518310547, -33.97357940673828, -38.778221130371094, -27.734188079833984, -34.71894073486328, -18.568973541259766, -22.493114471435547, -28.324506759643555, -28.919836044311523, -30.190574645996094, -4.110370635986328, -13.107205390930176, -28.71161460876465, -24.687957763671875, -4.783782958984375, 3.54892635345459, 9.847907066345215, -29.651121139526367, -28.563364028930664, -6.165754318237305, -22.259544372558594, 2.7572691440582275, -29.566694259643555, -15.331171989440918, -29.103620529174805, -34.518428802490234, -27.501806259155273, -21.510303497314453, -29.115013122558594, -26.74901580810547, -19.47932243347168, -16.897048950195312, -27.744277954101562, -37.562557220458984, -29.3975830078125, -29.855892181396484, -18.543712615966797, -33.67145538330078, -15.889751434326172, 3.6175224781036377, -27.0570125579834, -6.207961082458496, -25.867185592651367, -14.325202941894531, -4.444421291351318, 0.5983197093009949, -5.466982364654541, -9.422616958618164, -19.568439483642578, -9.182065963745117, -31.379854202270508, 1.134437918663025, -4.877728462219238], \"y\": [-32.72466278076172, -41.85478973388672, -7.064587593078613, -34.147735595703125, -12.56021785736084, -31.692270278930664, -34.743309020996094, -42.10874938964844, -35.4405403137207, -19.6826114654541, -20.2711124420166, -34.07232666015625, -33.38405990600586, -34.512718200683594, -33.73775863647461, 8.551783561706543, -22.249942779541016, -39.15385055541992, -32.81451416015625, 10.227298736572266, -35.50579071044922, -35.29793167114258, -30.793237686157227, -51.676513671875, -17.42017364501953, -13.089574813842773, 6.9057793617248535, -40.96746826171875, -22.0026798248291, -43.01639175415039, 1.0683083534240723, -6.278345108032227, -6.460254192352295, 7.890684604644775, -10.339691162109375, 6.615055561065674, 7.9215803146362305, -9.974300384521484, 0.971767783164978, -41.803062438964844, -32.24488067626953, -37.11386489868164, -20.855052947998047, -44.24544906616211, -32.68232727050781, -12.061020851135254, 6.787700653076172, -38.56986618041992, -41.618858337402344, 5.587667942047119, -50.834381103515625, -30.976472854614258, -31.03052520751953, 8.069994926452637, -39.209041595458984, 4.87952995300293, -35.31966781616211, -28.33795738220215, -9.692458152770996, -44.19223403930664, -50.74287414550781, -39.57652282714844, -44.651668548583984, -17.766176223754883, -32.76081848144531, -16.295583724975586, -24.274324417114258, -24.200214385986328, -43.14521789550781, -8.590832710266113, -40.254066467285156, -22.846160888671875, -28.85594940185547, -5.677769660949707, -28.67745590209961, 0.5827059149742126, -41.97053909301758, -37.493309020996094, -50.168739318847656, -39.95476150512695, 6.548079013824463, -4.90770959854126, 0.9679520726203918, 1.7755869626998901, 3.7928409576416016, -30.79344940185547, -21.983741760253906, 6.8790974617004395, -46.17704391479492, -33.3914680480957, -32.686710357666016, -39.343021392822266, -37.8184700012207, -14.262686729431152, -4.402510166168213, -41.92767333984375, 2.6424782276153564, -30.26407241821289, -15.916106224060059, -28.88184928894043, -10.944792747497559, -21.366167068481445, 6.93859338760376, -6.446173191070557, -22.838825225830078, -10.951498985290527, -53.17660140991211, -29.595190048217773, 0.3186940550804138, -45.823875427246094, -17.05352020263672, -15.328117370605469, -28.12639808654785, -39.45117950439453, -54.094139099121094, -53.98933029174805, -8.291954040527344, -45.09755325317383, -17.63697624206543, -28.672855377197266, -33.99246597290039, -30.45646095275879, -34.510658264160156, -15.737519264221191, -18.934782028198242, 1.2368234395980835, -30.707054138183594, -29.059898376464844, -43.484493255615234, -8.213997840881348, -43.69696807861328, -26.32425308227539, 7.504775524139404, -38.156280517578125, 4.2375993728637695, -6.6533050537109375, -25.13296127319336, 4.715914249420166, -36.55103302001953, -20.472196578979492, -24.306289672851562, -17.554447174072266, -18.609830856323242, -37.5322380065918, -8.146117210388184, -10.906071662902832, 7.1760573387146, -38.815673828125, -29.548770904541016, -32.331729888916016, -27.87825584411621, -33.00761795043945, -33.510040283203125, -10.547934532165527, -29.97397804260254, -18.309494018554688, -15.619348526000977, -17.972265243530273, -22.414091110229492, -31.883033752441406, -29.488561630249023, -10.043400764465332, -46.23944854736328, -22.597318649291992, -22.468311309814453, -36.773441314697266, -34.708282470703125, -6.285834789276123, -55.674293518066406, -32.95090103149414, -31.700851440429688, 3.9818038940429688, -29.896045684814453, -11.197915077209473, -35.19135284423828, -31.59073829650879, -55.87872314453125, -30.81839370727539, -53.0224609375, -31.35897445678711, 0.5631725192070007, -10.413796424865723, -38.10198211669922, -7.911911487579346, -23.026336669921875, -29.80003547668457, -17.406269073486328, 4.573715686798096, -17.406259536743164, 4.587270736694336, 2.7615156173706055, -44.27473449707031, -8.811997413635254, -0.5749469995498657, -24.3991756439209, 4.320831775665283, -19.54672622680664, -24.315502166748047, -51.801780700683594, -38.98814392089844, -4.847274303436279, -24.985023498535156, -20.850011825561523, -7.834805965423584, -13.572569847106934, 3.0818047523498535, -26.621381759643555, -9.332493782043457, 6.040526866912842, -34.72574996948242, -8.844833374023438, -11.821106910705566, -9.512643814086914, -47.118507385253906, -29.371959686279297, -37.3115348815918, -40.442588806152344, -21.190534591674805, -25.449588775634766, 0.12922802567481995, -53.36559295654297, -33.29157638549805, -48.768280029296875, -7.9999213218688965, -42.57350540161133, -10.966222763061523, -29.021236419677734, -49.26850891113281, -47.21018981933594, -46.23694610595703, -9.963127136230469, -9.96428108215332, 1.4257310628890991, -27.09905433654785, 0.9786653518676758, -45.75505828857422, -8.534289360046387, -53.8776969909668, -52.516868591308594, -38.79901123046875, -10.32019329071045, -42.16938400268555, -24.49378776550293, -10.616639137268066, -9.483612060546875, 4.191234111785889, -43.33647918701172, -6.754118919372559, -10.420975685119629, -39.213558197021484, -9.675704002380371, -11.583146095275879, -39.03178787231445, -18.368602752685547, -5.256711483001709, -8.362174034118652, -52.977840423583984, -31.524778366088867, -10.444616317749023, -20.101490020751953, -3.345082998275757, -31.574951171875, -9.908456802368164, -0.009038761258125305, -40.00115203857422, -44.94933319091797, -14.945257186889648, -1.8910751342773438, -39.83843231201172, -12.163559913635254, -39.83918762207031, -15.934025764465332, -36.25918960571289, -46.450984954833984, -43.49593734741211, -40.49736785888672, -4.6282267570495605, -16.761310577392578, -29.3520450592041, -13.466292381286621, -5.7332024574279785, -19.989757537841797, -16.212238311767578, -25.102203369140625, -20.50344467163086, -22.587980270385742, -46.2061882019043, -35.20010757446289, -48.89756774902344, -39.51007080078125, -21.968088150024414, -56.278221130371094, -22.630680084228516, -11.363667488098145, -43.39824676513672, -50.89933395385742, -20.410303115844727, 0.45977455377578735, -43.12363815307617, -49.147735595703125, -45.43486404418945, -54.254661560058594, -46.42235565185547, -9.091573715209961, -32.736331939697266, -23.868881225585938, -30.414121627807617, -21.315767288208008, -31.78987693786621, -31.62933349609375, -0.5867327451705933, -46.20014953613281, -17.936674118041992, -52.37782287597656, -50.27726364135742, -1.804154396057129, -42.81316375732422, -21.54280662536621, -46.32611846923828, -47.61827850341797, -34.725791931152344, -40.108638763427734, -49.57183837890625, -8.710171699523926, -36.15733337402344, -8.326238632202148, -35.611976623535156, -54.33394241333008, -49.55751037597656, -32.54974365234375, -49.39313507080078, -45.25251007080078, -18.564193725585938, -22.695621490478516, -44.38541030883789, -31.570436477661133, -29.656177520751953, -12.234636306762695, -47.504032135009766, -8.47464656829834, -13.221495628356934, -49.94192886352539, -25.194290161132812, -4.363593101501465, -37.285823822021484, 3.333994150161743, -11.6312837600708, -49.05197525024414, -9.577218055725098, -25.927318572998047, -16.122236251831055, -29.840734481811523, -27.773744583129883, 2.982805013656616, -21.22862434387207, -33.61764907836914, -54.85953903198242, -27.982454299926758, -27.15632438659668, -47.396873474121094, -33.040462493896484, -7.127869129180908, 5.679373741149902, -49.9956169128418, -41.52278518676758, -24.34823226928711, -6.8019304275512695, 2.386908769607544, 4.392825603485107, -28.051687240600586, 2.3861496448516846, -1.9086130857467651, -41.28720474243164, -16.989519119262695, -19.31516456604004, -43.006473541259766, 5.665425777435303, -44.95077896118164, -10.520527839660645, -12.775074005126953, -5.778014659881592, 5.678845405578613, 1.722598671913147, 4.8570556640625, 4.116817474365234, -21.13028335571289, 1.363271713256836, -49.85772705078125, -41.33382797241211, -25.324562072753906, 1.128953456878662, 1.3453648090362549, -23.98647117614746, -38.62379837036133, -23.852596282958984, -20.332489013671875, -46.80816650390625, -45.35307693481445, -41.87151336669922, -13.054795265197754, -44.94819259643555, -22.388216018676758, -45.48363494873047, -17.590883255004883, -2.916900873184204, -44.67671585083008, -5.370123863220215, -54.30725860595703, -44.86456298828125, -47.904109954833984, -45.969547271728516, -9.869400978088379, -42.04690933227539, -53.40439224243164, 1.2917766571044922, -7.140409469604492, -17.279661178588867, -33.45071792602539, -26.285327911376953, -54.84403991699219, -0.13250160217285156, -36.11126708984375, -1.2095177173614502, -5.8923258781433105, -22.425888061523438, -32.544857025146484, -45.6900749206543, -7.443547248840332, -7.478296279907227, -50.923004150390625, -29.53314208984375, -31.731298446655273, -46.82809066772461, -51.92302322387695, -29.653785705566406, -26.07037353515625, -8.217585563659668, -32.77024459838867, -39.44038772583008, -53.366912841796875, -39.74533462524414, -12.608070373535156, -47.64672088623047, -48.19688415527344, -3.8255786895751953, -20.986085891723633, -20.828601837158203, -30.148029327392578, -39.32460021972656, -45.97690200805664, -50.439292907714844, -34.95674514770508, -39.174598693847656, 1.766313910484314, -8.737433433532715, -47.376224517822266, -33.1536865234375, -2.41094708442688, -40.660743713378906, 5.518450736999512, -48.21416473388672, -9.213582038879395, -47.07763671875, -12.167984008789062, 4.345998287200928, -27.898849487304688, -53.34907150268555, -28.120939254760742, 0.9432090520858765, -50.38392639160156, -12.72924518585205, -36.97353744506836, -44.111148834228516, -17.95595932006836, -43.319236755371094, -24.75518226623535, -7.050031661987305, -21.900177001953125, -17.521066665649414, -27.83139419555664, -14.270572662353516, -24.810016632080078, -46.509681701660156, -33.43717575073242, -25.995067596435547, -50.18092727661133, -49.08701705932617, -51.96186447143555, -43.07103729248047, -36.527835845947266, -8.718860626220703, -27.8740291595459, 3.6274728775024414, -51.734920501708984, -2.753998041152954, -37.933319091796875, -45.350311279296875, -29.706125259399414, -45.061763763427734, -44.59739685058594, -23.896648406982422, -43.150291442871094, -20.462617874145508, -51.81073760986328, -25.337404251098633, -36.49341583251953, -44.55316925048828, -12.423413276672363, -48.82863998413086, -37.75383758544922, -26.649398803710938, 4.564188003540039, 0.7259003520011902, -27.341909408569336, -36.26888656616211, -33.00639343261719, 1.9659063816070557, -44.604652404785156, -1.8511604070663452, -48.809837341308594, -48.65861892700195, -47.30261993408203, 4.278419017791748, -0.7873402237892151, -37.72213363647461, -10.571640014648438, -46.367027282714844, -26.142072677612305, -1.8085516691207886, 2.5859317779541016, -21.097684860229492, 2.7907872200012207, -15.022180557250977, -47.88645935058594, -1.4382818937301636, -56.525413513183594, -0.8510775566101074, -50.96437072753906, -32.60209274291992, -30.44125747680664, -6.557564735412598, -24.621795654296875, -33.28799819946289, -52.2442626953125, -7.159778594970703, -28.548547744750977, -4.666181564331055, -22.93255615234375, -29.99041175842285, 0.09981328994035721, -21.169340133666992, -10.342474937438965, -41.30223083496094, -49.65397262573242, -56.8903923034668, -47.129127502441406, -51.098026275634766, -46.1484375, -3.559147834777832, -23.745920181274414, -54.205650329589844, -11.157012939453125, -30.212543487548828, -51.71167755126953, -23.613191604614258, -43.69268798828125, 3.5132553577423096, -14.700369834899902, -39.83551788330078, -43.12701416015625, -22.541297912597656, 6.744722843170166, -17.6533203125, -7.4150166511535645, -8.82078742980957, -6.49191427230835, -37.968929290771484, -34.98068618774414, -19.792842864990234, -9.662346839904785, -4.856368541717529, -26.1944637298584, -8.36904239654541, -34.43560791015625, -47.91123962402344, -25.141437530517578, -12.965813636779785, -52.73206329345703, -46.02206802368164, -27.09773063659668, -50.288917541503906, 3.064112901687622, -2.3623273372650146, -15.553409576416016, 7.676905155181885, -54.53512191772461, -41.526832580566406, -54.81258773803711, -10.703718185424805, -41.762874603271484, -16.481618881225586, -16.936635971069336, -47.5324821472168, -41.16011047363281, -7.925308704376221, 6.768163204193115, -7.148813724517822, -50.98707580566406, -31.737422943115234, -39.267215728759766, -41.14384078979492, -31.72293472290039, -53.60546112060547, -1.39841628074646, -2.67453670501709, -29.946189880371094, -4.254159450531006, -45.60950469970703, 5.150001525878906, -26.915573120117188, -45.829566955566406, -51.55094909667969, -6.721105575561523, -17.448871612548828, -45.98237991333008, -31.671411514282227, -4.534040927886963, -2.385347604751587, -26.59763526916504, 1.4016927480697632, 0.8188465237617493, -25.388004302978516, -51.54930877685547, -44.8818244934082, -40.03611373901367, -43.76402282714844, -46.852455139160156, -20.177366256713867, -30.56416893005371, -51.2978630065918, -44.46230697631836, -18.98130226135254, 0.6225359439849854, -6.129461288452148, -52.234474182128906, -45.29503631591797, -2.172636032104492, -42.61170196533203, -22.928878784179688, -3.4782485961914062, -33.36660385131836, -3.2289540767669678, -8.86999797821045, -24.9753475189209, -34.070335388183594, -0.9968820810317993, -26.181476593017578, -2.110624074935913, -47.099246978759766, 3.544754981994629, -6.68516206741333, -33.447303771972656, -29.256179809570312, -49.366825103759766, -24.699609756469727, -14.121448516845703, -28.779491424560547, -53.48735046386719, -29.42146110534668, -26.98105812072754, 4.331033706665039, -51.88959503173828, -55.5152587890625, -27.991044998168945, -47.190616607666016, -14.643073081970215, -21.637725830078125, -23.933460235595703, -19.113128662109375, -28.763547897338867, -8.676863670349121, -0.4190026819705963, -49.86555480957031, 2.5160179138183594, 5.516085624694824, -38.006141662597656, -0.22484979033470154, -3.8817341327667236, -0.9865833520889282, -6.837144374847412, -46.0037841796875, 0.3098162114620209, -38.64015579223633, 2.2102904319763184, -51.516117095947266, -45.73856735229492, -21.285247802734375, -44.98593521118164, -43.18669891357422, -55.32386779785156, -35.07960510253906, -1.6202020645141602, -0.4005395770072937, -31.484622955322266, 1.2273356914520264, -8.622050285339355, -36.19395446777344, -55.080326080322266, -5.1811113357543945, -55.66436767578125, 2.5920233726501465, -8.248817443847656, -43.39080810546875, -3.1571760177612305, -31.663110733032227, -24.893278121948242, -30.893199920654297, -49.7061767578125, -57.03627014160156, -32.40941619873047, -32.972267150878906, -6.548304080963135, -56.66731643676758, -43.663917541503906, -21.645845413208008, -27.23775291442871, -19.865665435791016, -46.69886779785156, -54.292484283447266, -31.262361526489258, -13.972982406616211, -4.807367324829102, -36.427127838134766, -37.977169036865234, -47.4033203125, -51.62334442138672, -25.0047664642334, -49.60882568359375, -55.555992126464844, -27.793222427368164, -34.40958786010742, -40.64494705200195, -25.367420196533203, -53.72209930419922, -46.691864013671875, -51.89720916748047, -11.240276336669922, -47.961158752441406, -6.28535270690918, -3.8693034648895264, -51.78171157836914, -16.496681213378906, -40.16029739379883, -4.715639591217041, -29.634111404418945, -6.452258110046387, -24.52675437927246, -23.351806640625, -10.056805610656738, -22.86463165283203, -36.502037048339844, -5.868216514587402, -21.694107055664062]}, {\"marker\": {\"color\": \"green\", \"size\": 5}, \"mode\": \"markers\", \"name\": \"GK\", \"opacity\": 0.4, \"text\": [], \"type\": \"scatter\", \"x\": [], \"y\": []}, {\"mode\": \"text\", \"name\": \"Top player\", \"opacity\": 0.9, \"text\": [\"L. Messi\", \"Cristiano Ronaldo\", \"Neymar Jr\", \"J. Oblak\", \"E. Hazard\", \"K. De Bruyne\", \"M. ter Stegen\", \"V. van Dijk\", \"L. Modri\\u0107\", \"M. Salah\", \"K. Mbapp\\u00e9\", \"K. Koulibaly\", \"H. Kane\", \"Alisson\", \"De Gea\", \"N. Kant\\u00e9\", \"G. Chiellini\", \"S. Ag\\u00fcero\", \"Sergio Ramos\", \"L. Su\\u00e1rez\", \"R. Lewandowski\", \"Sergio Busquets\", \"A. Griezmann\", \"P. Dybala\", \"P. Pogba\", \"Ederson\", \"R. Sterling\", \"C. Eriksen\", \"T. Courtois\", \"Piqu\\u00e9\", \"S. Handanovi\\u010d\", \"M. Neuer\", \"H. Lloris\", \"David Silva\", \"E. Cavani\", \"D. God\\u00edn\", \"T. Kroos\", \"M. Reus\", \"P. Aubameyang\", \"S. Man\\u00e9\", \"A. Laporte\", \"Bernardo Silva\", \"Casemiro\", \"H. Son\", \"Fernandinho\", \"Thiago Silva\", \"K. Benzema\", \"J. Vertonghen\", \"D. Mertens\", \"M. Hummels\", \"T. Alderweireld\", \"Jordi Alba\", \"Thiago\", \"K. Navas\", \"L. Insigne\", \"L. San\\u00e9\", \"Marquinhos\", \"M. \\u0160kriniar\", \"M. Verratti\", \"S. Umtiti\", \"W. Szcz\\u0119sny\", \"J. Kimmich\", \"Isco\", \"Roberto Firmino\", \"I. Rakiti\\u0107\", \"M. Pjani\\u0107\", \"A. Di Mar\\u00eda\", \"L. Bonucci\", \"Coutinho\", \"Parejo\", \"T. M\\u00fcller\", \"C. Immobile\", \"A. Lacazette\"], \"textfont\": {\"color\": \"black\", \"family\": \"sans serif\", \"size\": 16}, \"type\": \"scatter\", \"x\": [21.346641540527344, 21.965612411499023, 22.414840698242188, -7.1126861572265625, 22.501680374145508, 11.824459075927734, -20.416284561157227, -12.582695960998535, 8.45720100402832, 21.862079620361328, 22.977800369262695, -44.66605758666992, 34.1467399597168, -15.133413314819336, -12.799661636352539, -23.38040542602539, -43.34465026855469, 39.16899108886719, -1.4824278354644775, 34.374122619628906, 40.30632400512695, 5.808440208435059, 11.97880744934082, 22.968042373657227, 11.846138954162598, -12.303084373474121, 26.71110725402832, 18.727048873901367, -9.430423736572266, -8.430245399475098, -14.0488920211792, -14.56089973449707, -14.163656234741211, 21.01972198486328, 34.8159294128418, -23.4573917388916, 12.636616706848145, 19.698766708374023, 22.380205154418945, 23.14824676513672, -22.38528060913086, 18.406803131103516, -1.605232834815979, 21.583337783813477, -0.817771315574646, -11.777094841003418, 32.058128356933594, -10.907161712646484, 21.655975341796875, -8.368470191955566, -11.749577522277832, -9.983880043029785, 8.454235076904297, -13.388678550720215, 26.946630477905273, 23.68012237548828, -34.092716217041016, -43.691287994384766, -0.36330080032348633, -11.83651351928711, -14.783352851867676, -12.710395812988281, 19.767559051513672, 12.817913055419922, 8.79811954498291, -0.6804072856903076, 19.6286678314209, -10.685516357421875, 17.224308013916016, 12.680745124816895, 16.170934677124023, 40.45867156982422, 40.041595458984375], \"y\": [31.956605911254883, 33.0709342956543, 32.06820297241211, 58.05869674682617, 31.84593391418457, 5.812809944152832, 55.14445877075195, -32.72466278076172, 1.980685830116272, 28.93214225769043, 28.463939666748047, -41.85478973388672, -5.944809436798096, 51.84494400024414, 65.92213439941406, -7.064587593078613, -34.147735595703125, 17.71869659423828, -12.56021785736084, -5.985795497894287, 15.920406341552734, -31.692270278930664, 7.868458271026611, 31.621349334716797, 5.286492824554443, 66.0651626586914, 33.79769515991211, 3.905020236968994, 58.202247619628906, -34.743309020996094, 59.290042877197266, 66.81777954101562, 66.69039154052734, 1.7002087831497192, -6.002038955688477, -42.10874938964844, -21.428977966308594, 29.229198455810547, 30.380929946899414, 27.299983978271484, -35.4405403137207, 23.710391998291016, -19.6826114654541, 27.41352653503418, -20.2711124420166, -34.07232666015625, -3.1907906532287598, -33.38405990600586, 31.309032440185547, -34.512718200683594, -33.73775863647461, 8.551783561706543, 1.895150065422058, 60.69523620605469, 33.76654052734375, 28.635854721069336, -22.249942779541016, -39.15385055541992, -20.97197151184082, -32.81451416015625, 61.03815841674805, 10.227298736572266, 1.840477705001831, 6.556972503662109, -12.066033363342285, -8.118922233581543, 23.881420135498047, -35.50579071044922, 23.332897186279297, -21.486007690429688, 6.229173183441162, 15.891777038574219, 16.137710571289062]}],\n",
       "                        {\"autosize\": false, \"height\": 1150, \"template\": {\"data\": {\"bar\": [{\"error_x\": {\"color\": \"#2a3f5f\"}, \"error_y\": {\"color\": \"#2a3f5f\"}, \"marker\": {\"line\": {\"color\": \"#E5ECF6\", \"width\": 0.5}}, \"type\": \"bar\"}], \"barpolar\": [{\"marker\": {\"line\": {\"color\": \"#E5ECF6\", \"width\": 0.5}}, \"type\": \"barpolar\"}], \"carpet\": [{\"aaxis\": {\"endlinecolor\": \"#2a3f5f\", \"gridcolor\": \"white\", \"linecolor\": \"white\", \"minorgridcolor\": \"white\", \"startlinecolor\": \"#2a3f5f\"}, \"baxis\": {\"endlinecolor\": \"#2a3f5f\", \"gridcolor\": \"white\", \"linecolor\": \"white\", \"minorgridcolor\": \"white\", \"startlinecolor\": \"#2a3f5f\"}, \"type\": \"carpet\"}], \"choropleth\": [{\"colorbar\": {\"outlinewidth\": 0, \"ticks\": \"\"}, \"type\": \"choropleth\"}], \"contour\": [{\"colorbar\": {\"outlinewidth\": 0, \"ticks\": \"\"}, \"colorscale\": [[0.0, \"#0d0887\"], [0.1111111111111111, \"#46039f\"], [0.2222222222222222, \"#7201a8\"], [0.3333333333333333, \"#9c179e\"], [0.4444444444444444, \"#bd3786\"], [0.5555555555555556, \"#d8576b\"], [0.6666666666666666, \"#ed7953\"], [0.7777777777777778, \"#fb9f3a\"], [0.8888888888888888, \"#fdca26\"], [1.0, \"#f0f921\"]], \"type\": \"contour\"}], \"contourcarpet\": [{\"colorbar\": {\"outlinewidth\": 0, \"ticks\": \"\"}, \"type\": \"contourcarpet\"}], \"heatmap\": [{\"colorbar\": {\"outlinewidth\": 0, \"ticks\": \"\"}, \"colorscale\": [[0.0, \"#0d0887\"], [0.1111111111111111, \"#46039f\"], [0.2222222222222222, \"#7201a8\"], [0.3333333333333333, \"#9c179e\"], [0.4444444444444444, \"#bd3786\"], [0.5555555555555556, \"#d8576b\"], [0.6666666666666666, \"#ed7953\"], [0.7777777777777778, \"#fb9f3a\"], [0.8888888888888888, \"#fdca26\"], [1.0, \"#f0f921\"]], \"type\": \"heatmap\"}], \"heatmapgl\": [{\"colorbar\": {\"outlinewidth\": 0, \"ticks\": \"\"}, \"colorscale\": [[0.0, \"#0d0887\"], [0.1111111111111111, \"#46039f\"], [0.2222222222222222, \"#7201a8\"], [0.3333333333333333, \"#9c179e\"], [0.4444444444444444, \"#bd3786\"], [0.5555555555555556, \"#d8576b\"], [0.6666666666666666, \"#ed7953\"], [0.7777777777777778, \"#fb9f3a\"], [0.8888888888888888, \"#fdca26\"], [1.0, \"#f0f921\"]], \"type\": \"heatmapgl\"}], \"histogram\": [{\"marker\": {\"colorbar\": {\"outlinewidth\": 0, \"ticks\": \"\"}}, \"type\": \"histogram\"}], \"histogram2d\": [{\"colorbar\": {\"outlinewidth\": 0, \"ticks\": \"\"}, \"colorscale\": [[0.0, \"#0d0887\"], [0.1111111111111111, \"#46039f\"], [0.2222222222222222, \"#7201a8\"], [0.3333333333333333, \"#9c179e\"], [0.4444444444444444, \"#bd3786\"], [0.5555555555555556, \"#d8576b\"], [0.6666666666666666, \"#ed7953\"], [0.7777777777777778, \"#fb9f3a\"], [0.8888888888888888, \"#fdca26\"], [1.0, \"#f0f921\"]], \"type\": \"histogram2d\"}], \"histogram2dcontour\": [{\"colorbar\": {\"outlinewidth\": 0, \"ticks\": \"\"}, \"colorscale\": [[0.0, \"#0d0887\"], [0.1111111111111111, \"#46039f\"], [0.2222222222222222, \"#7201a8\"], [0.3333333333333333, \"#9c179e\"], [0.4444444444444444, \"#bd3786\"], [0.5555555555555556, \"#d8576b\"], [0.6666666666666666, \"#ed7953\"], [0.7777777777777778, \"#fb9f3a\"], [0.8888888888888888, \"#fdca26\"], [1.0, \"#f0f921\"]], \"type\": \"histogram2dcontour\"}], \"mesh3d\": [{\"colorbar\": {\"outlinewidth\": 0, \"ticks\": \"\"}, \"type\": \"mesh3d\"}], \"parcoords\": [{\"line\": {\"colorbar\": {\"outlinewidth\": 0, \"ticks\": \"\"}}, \"type\": \"parcoords\"}], \"pie\": [{\"automargin\": true, \"type\": \"pie\"}], \"scatter\": [{\"marker\": {\"colorbar\": {\"outlinewidth\": 0, \"ticks\": \"\"}}, \"type\": \"scatter\"}], \"scatter3d\": [{\"line\": {\"colorbar\": {\"outlinewidth\": 0, \"ticks\": \"\"}}, \"marker\": {\"colorbar\": {\"outlinewidth\": 0, \"ticks\": \"\"}}, \"type\": \"scatter3d\"}], \"scattercarpet\": [{\"marker\": {\"colorbar\": {\"outlinewidth\": 0, \"ticks\": \"\"}}, \"type\": \"scattercarpet\"}], \"scattergeo\": [{\"marker\": {\"colorbar\": {\"outlinewidth\": 0, \"ticks\": \"\"}}, \"type\": \"scattergeo\"}], \"scattergl\": [{\"marker\": {\"colorbar\": {\"outlinewidth\": 0, \"ticks\": \"\"}}, \"type\": \"scattergl\"}], \"scattermapbox\": [{\"marker\": {\"colorbar\": {\"outlinewidth\": 0, \"ticks\": \"\"}}, \"type\": \"scattermapbox\"}], \"scatterpolar\": [{\"marker\": {\"colorbar\": {\"outlinewidth\": 0, \"ticks\": \"\"}}, \"type\": \"scatterpolar\"}], \"scatterpolargl\": [{\"marker\": {\"colorbar\": {\"outlinewidth\": 0, \"ticks\": \"\"}}, \"type\": \"scatterpolargl\"}], \"scatterternary\": [{\"marker\": {\"colorbar\": {\"outlinewidth\": 0, \"ticks\": \"\"}}, \"type\": \"scatterternary\"}], \"surface\": [{\"colorbar\": {\"outlinewidth\": 0, \"ticks\": \"\"}, \"colorscale\": [[0.0, \"#0d0887\"], [0.1111111111111111, \"#46039f\"], [0.2222222222222222, \"#7201a8\"], [0.3333333333333333, \"#9c179e\"], [0.4444444444444444, \"#bd3786\"], [0.5555555555555556, \"#d8576b\"], [0.6666666666666666, \"#ed7953\"], [0.7777777777777778, \"#fb9f3a\"], [0.8888888888888888, \"#fdca26\"], [1.0, \"#f0f921\"]], \"type\": \"surface\"}], \"table\": [{\"cells\": {\"fill\": {\"color\": \"#EBF0F8\"}, \"line\": {\"color\": \"white\"}}, \"header\": {\"fill\": {\"color\": \"#C8D4E3\"}, \"line\": {\"color\": \"white\"}}, \"type\": \"table\"}]}, \"layout\": {\"annotationdefaults\": {\"arrowcolor\": \"#2a3f5f\", \"arrowhead\": 0, \"arrowwidth\": 1}, \"coloraxis\": {\"colorbar\": {\"outlinewidth\": 0, \"ticks\": \"\"}}, \"colorscale\": {\"diverging\": [[0, \"#8e0152\"], [0.1, \"#c51b7d\"], [0.2, \"#de77ae\"], [0.3, \"#f1b6da\"], [0.4, \"#fde0ef\"], [0.5, \"#f7f7f7\"], [0.6, \"#e6f5d0\"], [0.7, \"#b8e186\"], [0.8, \"#7fbc41\"], [0.9, \"#4d9221\"], [1, \"#276419\"]], \"sequential\": [[0.0, \"#0d0887\"], [0.1111111111111111, \"#46039f\"], [0.2222222222222222, \"#7201a8\"], [0.3333333333333333, \"#9c179e\"], [0.4444444444444444, \"#bd3786\"], [0.5555555555555556, \"#d8576b\"], [0.6666666666666666, \"#ed7953\"], [0.7777777777777778, \"#fb9f3a\"], [0.8888888888888888, \"#fdca26\"], [1.0, \"#f0f921\"]], \"sequentialminus\": [[0.0, \"#0d0887\"], [0.1111111111111111, \"#46039f\"], [0.2222222222222222, \"#7201a8\"], [0.3333333333333333, \"#9c179e\"], [0.4444444444444444, \"#bd3786\"], [0.5555555555555556, \"#d8576b\"], [0.6666666666666666, \"#ed7953\"], [0.7777777777777778, \"#fb9f3a\"], [0.8888888888888888, \"#fdca26\"], [1.0, \"#f0f921\"]]}, \"colorway\": [\"#636efa\", \"#EF553B\", \"#00cc96\", \"#ab63fa\", \"#FFA15A\", \"#19d3f3\", \"#FF6692\", \"#B6E880\", \"#FF97FF\", \"#FECB52\"], \"font\": {\"color\": \"#2a3f5f\"}, \"geo\": {\"bgcolor\": \"white\", \"lakecolor\": \"white\", \"landcolor\": \"#E5ECF6\", \"showlakes\": true, \"showland\": true, \"subunitcolor\": \"white\"}, \"hoverlabel\": {\"align\": \"left\"}, \"hovermode\": \"closest\", \"mapbox\": {\"style\": \"light\"}, \"paper_bgcolor\": \"white\", \"plot_bgcolor\": \"#E5ECF6\", \"polar\": {\"angularaxis\": {\"gridcolor\": \"white\", \"linecolor\": \"white\", \"ticks\": \"\"}, \"bgcolor\": \"#E5ECF6\", \"radialaxis\": {\"gridcolor\": \"white\", \"linecolor\": \"white\", \"ticks\": \"\"}}, \"scene\": {\"xaxis\": {\"backgroundcolor\": \"#E5ECF6\", \"gridcolor\": \"white\", \"gridwidth\": 2, \"linecolor\": \"white\", \"showbackground\": true, \"ticks\": \"\", \"zerolinecolor\": \"white\"}, \"yaxis\": {\"backgroundcolor\": \"#E5ECF6\", \"gridcolor\": \"white\", \"gridwidth\": 2, \"linecolor\": \"white\", \"showbackground\": true, \"ticks\": \"\", \"zerolinecolor\": \"white\"}, \"zaxis\": {\"backgroundcolor\": \"#E5ECF6\", \"gridcolor\": \"white\", \"gridwidth\": 2, \"linecolor\": \"white\", \"showbackground\": true, \"ticks\": \"\", \"zerolinecolor\": \"white\"}}, \"shapedefaults\": {\"line\": {\"color\": \"#2a3f5f\"}}, \"ternary\": {\"aaxis\": {\"gridcolor\": \"white\", \"linecolor\": \"white\", \"ticks\": \"\"}, \"baxis\": {\"gridcolor\": \"white\", \"linecolor\": \"white\", \"ticks\": \"\"}, \"bgcolor\": \"#E5ECF6\", \"caxis\": {\"gridcolor\": \"white\", \"linecolor\": \"white\", \"ticks\": \"\"}}, \"title\": {\"x\": 0.05}, \"xaxis\": {\"automargin\": true, \"gridcolor\": \"white\", \"linecolor\": \"white\", \"ticks\": \"\", \"title\": {\"standoff\": 15}, \"zerolinecolor\": \"white\", \"zerolinewidth\": 2}, \"yaxis\": {\"automargin\": true, \"gridcolor\": \"white\", \"linecolor\": \"white\", \"ticks\": \"\", \"title\": {\"standoff\": 15}, \"zerolinecolor\": \"white\", \"zerolinewidth\": 2}}}, \"title\": {\"font\": {\"size\": 20}, \"text\": \"t-SNE - Fifa Players\"}, \"width\": 1150},\n",
       "                        {\"responsive\": true}\n",
       "                    ).then(function(){\n",
       "                            \n",
       "var gd = document.getElementById('a673b497-a814-48cd-b7a6-907f46765e12');\n",
       "var x = new MutationObserver(function (mutations, observer) {{\n",
       "        var display = window.getComputedStyle(gd).display;\n",
       "        if (!display || display === 'none') {{\n",
       "            console.log([gd, 'removed!']);\n",
       "            Plotly.purge(gd);\n",
       "            observer.disconnect();\n",
       "        }}\n",
       "}});\n",
       "\n",
       "// Listen for the removal of the full notebook cells\n",
       "var notebookContainer = gd.closest('#notebook-container');\n",
       "if (notebookContainer) {{\n",
       "    x.observe(notebookContainer, {childList: true});\n",
       "}}\n",
       "\n",
       "// Listen for the clearing of the current output cell\n",
       "var outputEl = gd.closest('.output');\n",
       "if (outputEl) {{\n",
       "    x.observe(outputEl, {childList: true});\n",
       "}}\n",
       "\n",
       "                        })\n",
       "                };\n",
       "                });\n",
       "            </script>\n",
       "        </div>"
      ]
     },
     "metadata": {},
     "output_type": "display_data"
    }
   ],
   "source": [
    "bool_striker= df_sne[\"Position2\"] == 'Forward'\n",
    "bool_midfielder= df_sne[\"Position2\"] == 'Midfielder'\n",
    "bool_defender= df_sne[\"Position2\"] == 'Defender'\n",
    "bool_gk= df_sne[\"Position2\"] == 'GK'\n",
    "\n",
    "bool_crack=df_sne[\"overall\"] > 85\n",
    "\n",
    "palette=['navy','red','#A2D5F2','orange','green','pink']  \n",
    "data=[]\n",
    "\n",
    "striker =go.Scatter(x=X_tsne[bool_striker,0], y=X_tsne[bool_striker,1],name='Striker',\n",
    "                      text=df_sne.loc[bool_striker,'short_name'],\n",
    "                      opacity=0.9,marker=dict(color=palette[2],size=5),mode='markers')\n",
    "\n",
    "midfielder =go.Scatter(x=X_tsne[bool_midfielder,0], y=X_tsne[bool_midfielder,1],name='Midfielder',\n",
    "                      text=df_sne.loc[bool_midfielder,'short_name'],\n",
    "                      opacity=0.6,marker=dict(color=palette[1],size=5),mode='markers')\n",
    "\n",
    "defender =go.Scatter(x=X_tsne[bool_defender,0], y=X_tsne[bool_defender,1],name='Defender',\n",
    "                      text=df_sne.loc[bool_defender,'short_name'],\n",
    "                      opacity=0.7,marker=dict(color=palette[3],size=5),mode='markers')\n",
    "\n",
    "gk =go.Scatter(x=X_tsne[bool_gk,0], y=X_tsne[bool_gk,1],name='GK',\n",
    "                      text=df_sne.loc[bool_gk,'short_name'],\n",
    "                      opacity=0.4,marker=dict(color=palette[4],size=5),mode='markers')\n",
    "\n",
    "crack =go.Scatter(x=X_tsne[bool_crack,0], y=X_tsne[bool_crack,1],name='Top player',\n",
    "                      text=df_sne.loc[bool_crack,'short_name'],textfont=dict(family='sans serif',color='black',size=16),\n",
    "                      opacity=0.9,mode='text')\n",
    "\n",
    "data=[striker,midfielder,defender,gk,crack]\n",
    "\n",
    "layout = go.Layout(title=\"t-SNE - Fifa Players\",titlefont=dict(size=20),\n",
    "                autosize=False, width=1150,height=1150)\n",
    "\n",
    "fig = go.Figure(data=data, layout=layout)\n",
    "\n",
    "iplot(fig)\n",
    "#plot(fig)"
   ]
  },
  {
   "cell_type": "markdown",
   "metadata": {},
   "source": [
    "# Positioning"
   ]
  },
  {
   "cell_type": "markdown",
   "metadata": {},
   "source": [
    "There are positioning-specific features in the dataset. Also some positioning-related or correleted ones.\n",
    "\n",
    "In particular we have the position features that relate to the following image:"
   ]
  },
  {
   "cell_type": "markdown",
   "metadata": {},
   "source": [
    "<img src=\"https://www.fifauteam.com/wp-content/uploads/2019/10/A1934-1.jpg\"/>"
   ]
  },
  {
   "cell_type": "markdown",
   "metadata": {},
   "source": [
    "Correlated features are, from [an official FIFA2020 guide](https://www.fifauteam.com/choose-players-fifa-20-ultimate-team/):\n",
    "\n",
    "> In general, these are the attributes we value the most according to the positions:\n",
    "> \n",
    "> - GK | Reflexes and Diving\n",
    "> - CB | Defending, Physicality and Pace for at least one of the centre backs\n",
    "> - RB/LB | Defending, Pace and eventually Dribbling for RWB’s and LWB’s\n",
    "> - CDM | Defending, Passing and Physicality\n",
    "> - CM/CAM | Passing and Dribbling\n",
    "> - WINGERS | Pace, Dribbling and Passing\n",
    "> - CF/ST | Shooting, Physicality and Pace"
   ]
  },
  {
   "cell_type": "code",
   "execution_count": 70,
   "metadata": {},
   "outputs": [],
   "source": [
    "gk_features = identifier_features + [\"gk_diving\",\"gk_handling\",\"gk_positioning\",\"gk_reflexes\",\"gk_speed\"]\n",
    "goalkeepers = df[gk_features].dropna(subset=gk_features)"
   ]
  },
  {
   "cell_type": "code",
   "execution_count": 209,
   "metadata": {},
   "outputs": [
    {
     "data": {
      "text/html": [
       "<div>\n",
       "<style scoped>\n",
       "    .dataframe tbody tr th:only-of-type {\n",
       "        vertical-align: middle;\n",
       "    }\n",
       "\n",
       "    .dataframe tbody tr th {\n",
       "        vertical-align: top;\n",
       "    }\n",
       "\n",
       "    .dataframe thead th {\n",
       "        text-align: right;\n",
       "    }\n",
       "</style>\n",
       "<table border=\"1\" class=\"dataframe\">\n",
       "  <thead>\n",
       "    <tr style=\"text-align: right;\">\n",
       "      <th></th>\n",
       "      <th>sofifa_id</th>\n",
       "      <th>player_url</th>\n",
       "      <th>short_name</th>\n",
       "      <th>long_name</th>\n",
       "      <th>age</th>\n",
       "      <th>dob</th>\n",
       "      <th>height_cm</th>\n",
       "      <th>weight_kg</th>\n",
       "      <th>nationality</th>\n",
       "      <th>club</th>\n",
       "      <th>overall</th>\n",
       "      <th>potential</th>\n",
       "      <th>value_eur</th>\n",
       "      <th>wage_eur</th>\n",
       "      <th>player_positions</th>\n",
       "      <th>preferred_foot</th>\n",
       "      <th>international_reputation</th>\n",
       "      <th>weak_foot</th>\n",
       "      <th>skill_moves</th>\n",
       "      <th>work_rate</th>\n",
       "      <th>body_type</th>\n",
       "      <th>real_face</th>\n",
       "      <th>release_clause_eur</th>\n",
       "      <th>player_tags</th>\n",
       "      <th>team_position</th>\n",
       "      <th>team_jersey_number</th>\n",
       "      <th>loaned_from</th>\n",
       "      <th>joined</th>\n",
       "      <th>contract_valid_until</th>\n",
       "      <th>nation_position</th>\n",
       "      <th>nation_jersey_number</th>\n",
       "      <th>pace</th>\n",
       "      <th>shooting</th>\n",
       "      <th>passing</th>\n",
       "      <th>dribbling</th>\n",
       "      <th>defending</th>\n",
       "      <th>physic</th>\n",
       "      <th>gk_kicking</th>\n",
       "      <th>player_traits</th>\n",
       "      <th>attacking_crossing</th>\n",
       "      <th>attacking_finishing</th>\n",
       "      <th>attacking_heading_accuracy</th>\n",
       "      <th>attacking_short_passing</th>\n",
       "      <th>attacking_volleys</th>\n",
       "      <th>skill_dribbling</th>\n",
       "      <th>skill_curve</th>\n",
       "      <th>skill_fk_accuracy</th>\n",
       "      <th>skill_long_passing</th>\n",
       "      <th>skill_ball_control</th>\n",
       "      <th>movement_acceleration</th>\n",
       "      <th>movement_sprint_speed</th>\n",
       "      <th>movement_agility</th>\n",
       "      <th>movement_reactions</th>\n",
       "      <th>movement_balance</th>\n",
       "      <th>power_shot_power</th>\n",
       "      <th>power_jumping</th>\n",
       "      <th>power_stamina</th>\n",
       "      <th>power_strength</th>\n",
       "      <th>power_long_shots</th>\n",
       "      <th>mentality_aggression</th>\n",
       "      <th>mentality_interceptions</th>\n",
       "      <th>mentality_positioning</th>\n",
       "      <th>mentality_vision</th>\n",
       "      <th>mentality_penalties</th>\n",
       "      <th>mentality_composure</th>\n",
       "      <th>defending_marking</th>\n",
       "      <th>defending_standing_tackle</th>\n",
       "      <th>defending_sliding_tackle</th>\n",
       "      <th>goalkeeping_diving</th>\n",
       "      <th>goalkeeping_handling</th>\n",
       "      <th>goalkeeping_kicking</th>\n",
       "      <th>goalkeeping_positioning</th>\n",
       "      <th>goalkeeping_reflexes</th>\n",
       "      <th>ls</th>\n",
       "      <th>st</th>\n",
       "      <th>rs</th>\n",
       "      <th>lw</th>\n",
       "      <th>lf</th>\n",
       "      <th>cf</th>\n",
       "      <th>rf</th>\n",
       "      <th>rw</th>\n",
       "      <th>lam</th>\n",
       "      <th>cam</th>\n",
       "      <th>ram</th>\n",
       "      <th>lm</th>\n",
       "      <th>lcm</th>\n",
       "      <th>cm</th>\n",
       "      <th>rcm</th>\n",
       "      <th>rm</th>\n",
       "      <th>lwb</th>\n",
       "      <th>ldm</th>\n",
       "      <th>cdm</th>\n",
       "      <th>rdm</th>\n",
       "      <th>rwb</th>\n",
       "      <th>lb</th>\n",
       "      <th>lcb</th>\n",
       "      <th>cb</th>\n",
       "      <th>rcb</th>\n",
       "      <th>rb</th>\n",
       "    </tr>\n",
       "  </thead>\n",
       "  <tbody>\n",
       "    <tr>\n",
       "      <th>0</th>\n",
       "      <td>158023</td>\n",
       "      <td>https://sofifa.com/player/158023/lionel-messi/...</td>\n",
       "      <td>L. Messi</td>\n",
       "      <td>Lionel Andrés Messi Cuccittini</td>\n",
       "      <td>32</td>\n",
       "      <td>1987-06-24</td>\n",
       "      <td>170</td>\n",
       "      <td>72</td>\n",
       "      <td>Argentina</td>\n",
       "      <td>FC Barcelona</td>\n",
       "      <td>94</td>\n",
       "      <td>94</td>\n",
       "      <td>95500000</td>\n",
       "      <td>565000</td>\n",
       "      <td>RW, CF, ST</td>\n",
       "      <td>Left</td>\n",
       "      <td>5</td>\n",
       "      <td>4</td>\n",
       "      <td>4</td>\n",
       "      <td>Medium/Low</td>\n",
       "      <td>Messi</td>\n",
       "      <td>Yes</td>\n",
       "      <td>195800000.0</td>\n",
       "      <td>#Dribbler, #Distance Shooter, #Crosser, #FK Sp...</td>\n",
       "      <td>RW</td>\n",
       "      <td>10.0</td>\n",
       "      <td>NaN</td>\n",
       "      <td>2004-07-01</td>\n",
       "      <td>2021.0</td>\n",
       "      <td>NaN</td>\n",
       "      <td>NaN</td>\n",
       "      <td>87.0</td>\n",
       "      <td>92.0</td>\n",
       "      <td>92.0</td>\n",
       "      <td>96.0</td>\n",
       "      <td>39.0</td>\n",
       "      <td>66.0</td>\n",
       "      <td>NaN</td>\n",
       "      <td>Beat Offside Trap, Argues with Officials, Earl...</td>\n",
       "      <td>88</td>\n",
       "      <td>95</td>\n",
       "      <td>70</td>\n",
       "      <td>92</td>\n",
       "      <td>88</td>\n",
       "      <td>97</td>\n",
       "      <td>93</td>\n",
       "      <td>94</td>\n",
       "      <td>92</td>\n",
       "      <td>96</td>\n",
       "      <td>91</td>\n",
       "      <td>84</td>\n",
       "      <td>93</td>\n",
       "      <td>95</td>\n",
       "      <td>95</td>\n",
       "      <td>86</td>\n",
       "      <td>68</td>\n",
       "      <td>75</td>\n",
       "      <td>68</td>\n",
       "      <td>94</td>\n",
       "      <td>48</td>\n",
       "      <td>40</td>\n",
       "      <td>94</td>\n",
       "      <td>94</td>\n",
       "      <td>75</td>\n",
       "      <td>96</td>\n",
       "      <td>33</td>\n",
       "      <td>37</td>\n",
       "      <td>26</td>\n",
       "      <td>6</td>\n",
       "      <td>11</td>\n",
       "      <td>15</td>\n",
       "      <td>14</td>\n",
       "      <td>8</td>\n",
       "      <td>89+2</td>\n",
       "      <td>89+2</td>\n",
       "      <td>89+2</td>\n",
       "      <td>93+2</td>\n",
       "      <td>93+2</td>\n",
       "      <td>93+2</td>\n",
       "      <td>93+2</td>\n",
       "      <td>93+2</td>\n",
       "      <td>93+2</td>\n",
       "      <td>93+2</td>\n",
       "      <td>93+2</td>\n",
       "      <td>92+2</td>\n",
       "      <td>87+2</td>\n",
       "      <td>87+2</td>\n",
       "      <td>87+2</td>\n",
       "      <td>92+2</td>\n",
       "      <td>68+2</td>\n",
       "      <td>66+2</td>\n",
       "      <td>66+2</td>\n",
       "      <td>66+2</td>\n",
       "      <td>68+2</td>\n",
       "      <td>63+2</td>\n",
       "      <td>52+2</td>\n",
       "      <td>52+2</td>\n",
       "      <td>52+2</td>\n",
       "      <td>63+2</td>\n",
       "    </tr>\n",
       "  </tbody>\n",
       "</table>\n",
       "</div>"
      ],
      "text/plain": [
       "   sofifa_id                                         player_url short_name  \\\n",
       "0     158023  https://sofifa.com/player/158023/lionel-messi/...   L. Messi   \n",
       "\n",
       "                        long_name  age         dob  height_cm  weight_kg  \\\n",
       "0  Lionel Andrés Messi Cuccittini   32  1987-06-24        170         72   \n",
       "\n",
       "  nationality          club  overall  potential  value_eur  wage_eur  \\\n",
       "0   Argentina  FC Barcelona       94         94   95500000    565000   \n",
       "\n",
       "  player_positions preferred_foot  international_reputation  weak_foot  \\\n",
       "0       RW, CF, ST           Left                         5          4   \n",
       "\n",
       "   skill_moves   work_rate body_type real_face  release_clause_eur  \\\n",
       "0            4  Medium/Low     Messi       Yes         195800000.0   \n",
       "\n",
       "                                         player_tags team_position  \\\n",
       "0  #Dribbler, #Distance Shooter, #Crosser, #FK Sp...            RW   \n",
       "\n",
       "   team_jersey_number loaned_from      joined  contract_valid_until  \\\n",
       "0                10.0         NaN  2004-07-01                2021.0   \n",
       "\n",
       "  nation_position  nation_jersey_number  pace  shooting  passing  dribbling  \\\n",
       "0             NaN                   NaN  87.0      92.0     92.0       96.0   \n",
       "\n",
       "   defending  physic  gk_kicking  \\\n",
       "0       39.0    66.0         NaN   \n",
       "\n",
       "                                       player_traits  attacking_crossing  \\\n",
       "0  Beat Offside Trap, Argues with Officials, Earl...                  88   \n",
       "\n",
       "   attacking_finishing  attacking_heading_accuracy  attacking_short_passing  \\\n",
       "0                   95                          70                       92   \n",
       "\n",
       "   attacking_volleys  skill_dribbling  skill_curve  skill_fk_accuracy  \\\n",
       "0                 88               97           93                 94   \n",
       "\n",
       "   skill_long_passing  skill_ball_control  movement_acceleration  \\\n",
       "0                  92                  96                     91   \n",
       "\n",
       "   movement_sprint_speed  movement_agility  movement_reactions  \\\n",
       "0                     84                93                  95   \n",
       "\n",
       "   movement_balance  power_shot_power  power_jumping  power_stamina  \\\n",
       "0                95                86             68             75   \n",
       "\n",
       "   power_strength  power_long_shots  mentality_aggression  \\\n",
       "0              68                94                    48   \n",
       "\n",
       "   mentality_interceptions  mentality_positioning  mentality_vision  \\\n",
       "0                       40                     94                94   \n",
       "\n",
       "   mentality_penalties  mentality_composure  defending_marking  \\\n",
       "0                   75                   96                 33   \n",
       "\n",
       "   defending_standing_tackle  defending_sliding_tackle  goalkeeping_diving  \\\n",
       "0                         37                        26                   6   \n",
       "\n",
       "   goalkeeping_handling  goalkeeping_kicking  goalkeeping_positioning  \\\n",
       "0                    11                   15                       14   \n",
       "\n",
       "   goalkeeping_reflexes    ls    st    rs    lw    lf    cf    rf    rw   lam  \\\n",
       "0                     8  89+2  89+2  89+2  93+2  93+2  93+2  93+2  93+2  93+2   \n",
       "\n",
       "    cam   ram    lm   lcm    cm   rcm    rm   lwb   ldm   cdm   rdm   rwb  \\\n",
       "0  93+2  93+2  92+2  87+2  87+2  87+2  92+2  68+2  66+2  66+2  66+2  68+2   \n",
       "\n",
       "     lb   lcb    cb   rcb    rb  \n",
       "0  63+2  52+2  52+2  52+2  63+2  "
      ]
     },
     "execution_count": 209,
     "metadata": {},
     "output_type": "execute_result"
    }
   ],
   "source": [
    "no_goalkeepers = df[np.isnan(df[\"gk_diving\"])]\n",
    "no_goalkeepers = no_goalkeepers.drop([\"gk_diving\",\"gk_handling\",\"gk_positioning\",\"gk_reflexes\",\"gk_speed\"],1)\n",
    "no_goalkeepers.head(1)"
   ]
  },
  {
   "cell_type": "code",
   "execution_count": 76,
   "metadata": {},
   "outputs": [
    {
     "data": {
      "text/html": [
       "<div>\n",
       "<style scoped>\n",
       "    .dataframe tbody tr th:only-of-type {\n",
       "        vertical-align: middle;\n",
       "    }\n",
       "\n",
       "    .dataframe tbody tr th {\n",
       "        vertical-align: top;\n",
       "    }\n",
       "\n",
       "    .dataframe thead th {\n",
       "        text-align: right;\n",
       "    }\n",
       "</style>\n",
       "<table border=\"1\" class=\"dataframe\">\n",
       "  <thead>\n",
       "    <tr style=\"text-align: right;\">\n",
       "      <th></th>\n",
       "      <th>sofifa_id</th>\n",
       "      <th>overall</th>\n",
       "      <th>power_strength</th>\n",
       "      <th>power_stamina</th>\n",
       "      <th>power_jumping</th>\n",
       "      <th>mentality_aggression</th>\n",
       "    </tr>\n",
       "  </thead>\n",
       "  <tbody>\n",
       "    <tr>\n",
       "      <th>count</th>\n",
       "      <td>18278.000000</td>\n",
       "      <td>18278.000000</td>\n",
       "      <td>18278.000000</td>\n",
       "      <td>18278.000000</td>\n",
       "      <td>18278.000000</td>\n",
       "      <td>18278.000000</td>\n",
       "    </tr>\n",
       "    <tr>\n",
       "      <th>mean</th>\n",
       "      <td>219738.864482</td>\n",
       "      <td>66.244994</td>\n",
       "      <td>65.234763</td>\n",
       "      <td>62.889485</td>\n",
       "      <td>64.928165</td>\n",
       "      <td>55.742149</td>\n",
       "    </tr>\n",
       "    <tr>\n",
       "      <th>std</th>\n",
       "      <td>27960.200461</td>\n",
       "      <td>6.949953</td>\n",
       "      <td>12.534811</td>\n",
       "      <td>16.017954</td>\n",
       "      <td>11.934059</td>\n",
       "      <td>17.318157</td>\n",
       "    </tr>\n",
       "    <tr>\n",
       "      <th>min</th>\n",
       "      <td>768.000000</td>\n",
       "      <td>48.000000</td>\n",
       "      <td>20.000000</td>\n",
       "      <td>12.000000</td>\n",
       "      <td>19.000000</td>\n",
       "      <td>9.000000</td>\n",
       "    </tr>\n",
       "    <tr>\n",
       "      <th>25%</th>\n",
       "      <td>204445.500000</td>\n",
       "      <td>62.000000</td>\n",
       "      <td>58.000000</td>\n",
       "      <td>56.000000</td>\n",
       "      <td>58.000000</td>\n",
       "      <td>44.000000</td>\n",
       "    </tr>\n",
       "    <tr>\n",
       "      <th>50%</th>\n",
       "      <td>226165.000000</td>\n",
       "      <td>66.000000</td>\n",
       "      <td>66.000000</td>\n",
       "      <td>66.000000</td>\n",
       "      <td>66.000000</td>\n",
       "      <td>58.000000</td>\n",
       "    </tr>\n",
       "    <tr>\n",
       "      <th>75%</th>\n",
       "      <td>240795.750000</td>\n",
       "      <td>71.000000</td>\n",
       "      <td>74.000000</td>\n",
       "      <td>74.000000</td>\n",
       "      <td>73.000000</td>\n",
       "      <td>69.000000</td>\n",
       "    </tr>\n",
       "    <tr>\n",
       "      <th>max</th>\n",
       "      <td>252905.000000</td>\n",
       "      <td>94.000000</td>\n",
       "      <td>97.000000</td>\n",
       "      <td>97.000000</td>\n",
       "      <td>95.000000</td>\n",
       "      <td>95.000000</td>\n",
       "    </tr>\n",
       "  </tbody>\n",
       "</table>\n",
       "</div>"
      ],
      "text/plain": [
       "           sofifa_id       overall  power_strength  power_stamina  \\\n",
       "count   18278.000000  18278.000000    18278.000000   18278.000000   \n",
       "mean   219738.864482     66.244994       65.234763      62.889485   \n",
       "std     27960.200461      6.949953       12.534811      16.017954   \n",
       "min       768.000000     48.000000       20.000000      12.000000   \n",
       "25%    204445.500000     62.000000       58.000000      56.000000   \n",
       "50%    226165.000000     66.000000       66.000000      66.000000   \n",
       "75%    240795.750000     71.000000       74.000000      74.000000   \n",
       "max    252905.000000     94.000000       97.000000      97.000000   \n",
       "\n",
       "       power_jumping  mentality_aggression  \n",
       "count   18278.000000          18278.000000  \n",
       "mean       64.928165             55.742149  \n",
       "std        11.934059             17.318157  \n",
       "min        19.000000              9.000000  \n",
       "25%        58.000000             44.000000  \n",
       "50%        66.000000             58.000000  \n",
       "75%        73.000000             69.000000  \n",
       "max        95.000000             95.000000  "
      ]
     },
     "execution_count": 76,
     "metadata": {},
     "output_type": "execute_result"
    }
   ],
   "source": [
    "physical_features = identifier_features + [\"power_strength\",\"power_stamina\",\"power_jumping\",\"mentality_aggression\"]\n",
    "physical = df[physical_features]\n",
    "physical.describe()"
   ]
  },
  {
   "cell_type": "code",
   "execution_count": 121,
   "metadata": {},
   "outputs": [
    {
     "data": {
      "text/html": [
       "<div>\n",
       "<style scoped>\n",
       "    .dataframe tbody tr th:only-of-type {\n",
       "        vertical-align: middle;\n",
       "    }\n",
       "\n",
       "    .dataframe tbody tr th {\n",
       "        vertical-align: top;\n",
       "    }\n",
       "\n",
       "    .dataframe thead th {\n",
       "        text-align: right;\n",
       "    }\n",
       "</style>\n",
       "<table border=\"1\" class=\"dataframe\">\n",
       "  <thead>\n",
       "    <tr style=\"text-align: right;\">\n",
       "      <th></th>\n",
       "      <th>sofifa_id</th>\n",
       "      <th>short_name</th>\n",
       "      <th>long_name</th>\n",
       "      <th>overall</th>\n",
       "      <th>defending_standing_tackle</th>\n",
       "      <th>defending_sliding_tackle</th>\n",
       "      <th>attacking_heading_accuracy</th>\n",
       "      <th>mentality_interceptions</th>\n",
       "      <th>defending_marking</th>\n",
       "    </tr>\n",
       "  </thead>\n",
       "  <tbody>\n",
       "    <tr>\n",
       "      <th>0</th>\n",
       "      <td>158023</td>\n",
       "      <td>L. Messi</td>\n",
       "      <td>Lionel Andrés Messi Cuccittini</td>\n",
       "      <td>94</td>\n",
       "      <td>37</td>\n",
       "      <td>26</td>\n",
       "      <td>70</td>\n",
       "      <td>40</td>\n",
       "      <td>33</td>\n",
       "    </tr>\n",
       "  </tbody>\n",
       "</table>\n",
       "</div>"
      ],
      "text/plain": [
       "   sofifa_id short_name                       long_name  overall  \\\n",
       "0     158023   L. Messi  Lionel Andrés Messi Cuccittini       94   \n",
       "\n",
       "   defending_standing_tackle  defending_sliding_tackle  \\\n",
       "0                         37                        26   \n",
       "\n",
       "   attacking_heading_accuracy  mentality_interceptions  defending_marking  \n",
       "0                          70                       40                 33  "
      ]
     },
     "execution_count": 121,
     "metadata": {},
     "output_type": "execute_result"
    }
   ],
   "source": [
    "defending_features = identifier_features + [\"defending_standing_tackle\",\"defending_sliding_tackle\",\"attacking_heading_accuracy\",\"mentality_interceptions\",\"defending_marking\"]\n",
    "defending = df[defending_features]\n",
    "defending.head(1)"
   ]
  },
  {
   "cell_type": "code",
   "execution_count": 242,
   "metadata": {},
   "outputs": [],
   "source": [
    "shooting_features = [\"attacking_finishing\", \"power_long_shots\", \"mentality_penalties\",\n",
    "                    \"mentality_positioning\",\"power_shot_power\",\"attacking_volleys\"]\n"
   ]
  },
  {
   "cell_type": "code",
   "execution_count": 255,
   "metadata": {},
   "outputs": [],
   "source": [
    "pace_features = [\"movement_acceleration\",\"movement_sprint_speed\",\"pace\"]\n"
   ]
  },
  {
   "cell_type": "code",
   "execution_count": 262,
   "metadata": {},
   "outputs": [],
   "source": [
    "dribbling_features=[\"movement_agility\",\"movement_balance\", \"skill_ball_control\"\n",
    "                    \"mentality_composure\",\"skill_dribbling\",\"dribbling\",\"movement_reactions\"]\n"
   ]
  },
  {
   "cell_type": "code",
   "execution_count": 263,
   "metadata": {},
   "outputs": [],
   "source": [
    "passing_features = [\"skill_curve\",\"attacking_crossing\",\"skill_long_passing\",\"attacking_short_passing\",\n",
    "                   \"mentality_vision\",\"\"]\n",
    "#for debug\n",
    "#international_reputation\n",
    "#pd.set_option('display.max_seq_items', None)\n",
    "#[x  for x in df.columns.sort_values() if \"skill\" in x]"
   ]
  }
 ],
 "metadata": {
  "kernelspec": {
   "display_name": "Python 3",
   "language": "python",
   "name": "python3"
  },
  "language_info": {
   "codemirror_mode": {
    "name": "ipython",
    "version": 3
   },
   "file_extension": ".py",
   "mimetype": "text/x-python",
   "name": "python",
   "nbconvert_exporter": "python",
   "pygments_lexer": "ipython3",
   "version": "3.6.9"
  }
 },
 "nbformat": 4,
 "nbformat_minor": 4
}
